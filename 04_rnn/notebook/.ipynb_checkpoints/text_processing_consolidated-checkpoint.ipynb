{
 "cells": [
  {
   "cell_type": "markdown",
   "metadata": {},
   "source": [
    "# Part 1: Basic NN Movie Review Classification"
   ]
  },
  {
   "cell_type": "code",
   "execution_count": 1,
   "metadata": {},
   "outputs": [
    {
     "name": "stderr",
     "output_type": "stream",
     "text": [
      "Using TensorFlow backend.\n"
     ]
    },
    {
     "data": {
      "text/plain": [
       "'2.2.4'"
      ]
     },
     "execution_count": 1,
     "metadata": {},
     "output_type": "execute_result"
    }
   ],
   "source": [
    "import warnings\n",
    "warnings.filterwarnings('ignore')\n",
    "import keras\n",
    "keras.__version__"
   ]
  },
  {
   "cell_type": "markdown",
   "metadata": {},
   "source": [
    "# Classifying movie reviews: a binary classification example\n",
    "----\n",
    "\n",
    "\n",
    "Two-class classification, or binary classification, may be the most widely applied kind of machine learning problem. In this example, we \n",
    "will learn to classify movie reviews into \"positive\" reviews and \"negative\" reviews, just based on the text content of the reviews."
   ]
  },
  {
   "cell_type": "markdown",
   "metadata": {},
   "source": [
    "## The IMDB dataset\n",
    "\n",
    "\n",
    "We'll be working with \"IMDB dataset\", a set of 50,000 highly-polarized reviews from the Internet Movie Database. They are split into 25,000 \n",
    "reviews for training and 25,000 reviews for testing, each set consisting in 50% negative and 50% positive reviews.\n",
    "\n",
    "the IMDB dataset comes packaged with Keras. It has already been preprocessed: the reviews (sequences of words) \n",
    "have been turned into sequences of integers, where each integer stands for a specific word in a dictionary.\n",
    "\n",
    "The following code will load the dataset (when you run it for the first time, about 80MB of data will be downloaded to your machine):"
   ]
  },
  {
   "cell_type": "code",
   "execution_count": 2,
   "metadata": {},
   "outputs": [],
   "source": [
    "from keras.datasets import imdb\n",
    "\n",
    "(train_data, train_labels), (test_data, test_labels) = imdb.load_data(num_words=10000)"
   ]
  },
  {
   "cell_type": "markdown",
   "metadata": {},
   "source": [
    "\n",
    "The argument `num_words=10000` means that we will only keep the top 10,000 most frequently occurring words in the training data. Rare words \n",
    "will be discarded. This allows us to work with vector data of manageable size.\n",
    "\n",
    "The variables `train_data` and `test_data` are lists of reviews, each review being a list of word indices (encoding a sequence of words). \n",
    "`train_labels` and `test_labels` are lists of 0s and 1s, where 0 stands for \"negative\" and 1 stands for \"positive\":"
   ]
  },
  {
   "cell_type": "code",
   "execution_count": 3,
   "metadata": {},
   "outputs": [
    {
     "data": {
      "text/plain": [
       "[1,\n",
       " 14,\n",
       " 22,\n",
       " 16,\n",
       " 43,\n",
       " 530,\n",
       " 973,\n",
       " 1622,\n",
       " 1385,\n",
       " 65,\n",
       " 458,\n",
       " 4468,\n",
       " 66,\n",
       " 3941,\n",
       " 4,\n",
       " 173,\n",
       " 36,\n",
       " 256,\n",
       " 5,\n",
       " 25,\n",
       " 100,\n",
       " 43,\n",
       " 838,\n",
       " 112,\n",
       " 50,\n",
       " 670,\n",
       " 2,\n",
       " 9,\n",
       " 35,\n",
       " 480,\n",
       " 284,\n",
       " 5,\n",
       " 150,\n",
       " 4,\n",
       " 172,\n",
       " 112,\n",
       " 167,\n",
       " 2,\n",
       " 336,\n",
       " 385,\n",
       " 39,\n",
       " 4,\n",
       " 172,\n",
       " 4536,\n",
       " 1111,\n",
       " 17,\n",
       " 546,\n",
       " 38,\n",
       " 13,\n",
       " 447,\n",
       " 4,\n",
       " 192,\n",
       " 50,\n",
       " 16,\n",
       " 6,\n",
       " 147,\n",
       " 2025,\n",
       " 19,\n",
       " 14,\n",
       " 22,\n",
       " 4,\n",
       " 1920,\n",
       " 4613,\n",
       " 469,\n",
       " 4,\n",
       " 22,\n",
       " 71,\n",
       " 87,\n",
       " 12,\n",
       " 16,\n",
       " 43,\n",
       " 530,\n",
       " 38,\n",
       " 76,\n",
       " 15,\n",
       " 13,\n",
       " 1247,\n",
       " 4,\n",
       " 22,\n",
       " 17,\n",
       " 515,\n",
       " 17,\n",
       " 12,\n",
       " 16,\n",
       " 626,\n",
       " 18,\n",
       " 2,\n",
       " 5,\n",
       " 62,\n",
       " 386,\n",
       " 12,\n",
       " 8,\n",
       " 316,\n",
       " 8,\n",
       " 106,\n",
       " 5,\n",
       " 4,\n",
       " 2223,\n",
       " 5244,\n",
       " 16,\n",
       " 480,\n",
       " 66,\n",
       " 3785,\n",
       " 33,\n",
       " 4,\n",
       " 130,\n",
       " 12,\n",
       " 16,\n",
       " 38,\n",
       " 619,\n",
       " 5,\n",
       " 25,\n",
       " 124,\n",
       " 51,\n",
       " 36,\n",
       " 135,\n",
       " 48,\n",
       " 25,\n",
       " 1415,\n",
       " 33,\n",
       " 6,\n",
       " 22,\n",
       " 12,\n",
       " 215,\n",
       " 28,\n",
       " 77,\n",
       " 52,\n",
       " 5,\n",
       " 14,\n",
       " 407,\n",
       " 16,\n",
       " 82,\n",
       " 2,\n",
       " 8,\n",
       " 4,\n",
       " 107,\n",
       " 117,\n",
       " 5952,\n",
       " 15,\n",
       " 256,\n",
       " 4,\n",
       " 2,\n",
       " 7,\n",
       " 3766,\n",
       " 5,\n",
       " 723,\n",
       " 36,\n",
       " 71,\n",
       " 43,\n",
       " 530,\n",
       " 476,\n",
       " 26,\n",
       " 400,\n",
       " 317,\n",
       " 46,\n",
       " 7,\n",
       " 4,\n",
       " 2,\n",
       " 1029,\n",
       " 13,\n",
       " 104,\n",
       " 88,\n",
       " 4,\n",
       " 381,\n",
       " 15,\n",
       " 297,\n",
       " 98,\n",
       " 32,\n",
       " 2071,\n",
       " 56,\n",
       " 26,\n",
       " 141,\n",
       " 6,\n",
       " 194,\n",
       " 7486,\n",
       " 18,\n",
       " 4,\n",
       " 226,\n",
       " 22,\n",
       " 21,\n",
       " 134,\n",
       " 476,\n",
       " 26,\n",
       " 480,\n",
       " 5,\n",
       " 144,\n",
       " 30,\n",
       " 5535,\n",
       " 18,\n",
       " 51,\n",
       " 36,\n",
       " 28,\n",
       " 224,\n",
       " 92,\n",
       " 25,\n",
       " 104,\n",
       " 4,\n",
       " 226,\n",
       " 65,\n",
       " 16,\n",
       " 38,\n",
       " 1334,\n",
       " 88,\n",
       " 12,\n",
       " 16,\n",
       " 283,\n",
       " 5,\n",
       " 16,\n",
       " 4472,\n",
       " 113,\n",
       " 103,\n",
       " 32,\n",
       " 15,\n",
       " 16,\n",
       " 5345,\n",
       " 19,\n",
       " 178,\n",
       " 32]"
      ]
     },
     "execution_count": 3,
     "metadata": {},
     "output_type": "execute_result"
    }
   ],
   "source": [
    "train_data[0]"
   ]
  },
  {
   "cell_type": "code",
   "execution_count": 4,
   "metadata": {},
   "outputs": [
    {
     "data": {
      "text/plain": [
       "1"
      ]
     },
     "execution_count": 4,
     "metadata": {},
     "output_type": "execute_result"
    }
   ],
   "source": [
    "train_labels[0]"
   ]
  },
  {
   "cell_type": "markdown",
   "metadata": {},
   "source": [
    "Since we restricted ourselves to the top 10,000 most frequent words, no word index will exceed 10,000:"
   ]
  },
  {
   "cell_type": "code",
   "execution_count": 5,
   "metadata": {},
   "outputs": [
    {
     "data": {
      "text/plain": [
       "9999"
      ]
     },
     "execution_count": 5,
     "metadata": {},
     "output_type": "execute_result"
    }
   ],
   "source": [
    "max([max(sequence) for sequence in train_data])"
   ]
  },
  {
   "cell_type": "markdown",
   "metadata": {},
   "source": [
    "For kicks, here's how you can quickly decode one of these reviews back to English words:"
   ]
  },
  {
   "cell_type": "code",
   "execution_count": 6,
   "metadata": {},
   "outputs": [],
   "source": [
    "# word_index is a dictionary mapping words to an integer index\n",
    "word_index = imdb.get_word_index()\n",
    "# We reverse it, mapping integer indices to words\n",
    "reverse_word_index = dict([(value, key) for (key, value) in word_index.items()])\n",
    "# We decode the review; note that our indices were offset by 3\n",
    "# because 0, 1 and 2 are reserved indices for \"padding\", \"start of sequence\", and \"unknown\".\n",
    "decoded_review = ' '.join([reverse_word_index.get(i - 3, '?') for i in train_data[0]])"
   ]
  },
  {
   "cell_type": "code",
   "execution_count": 7,
   "metadata": {},
   "outputs": [
    {
     "data": {
      "text/plain": [
       "\"? this film was just brilliant casting location scenery story direction everyone's really suited the part they played and you could just imagine being there robert ? is an amazing actor and now the same being director ? father came from the same scottish island as myself so i loved the fact there was a real connection with this film the witty remarks throughout the film were great it was just brilliant so much that i bought the film as soon as it was released for ? and would recommend it to everyone to watch and the fly fishing was amazing really cried at the end it was so sad and you know what they say if you cry at a film it must have been good and this definitely was also ? to the two little boy's that played the ? of norman and paul they were just brilliant children are often left out of the ? list i think because the stars that play them all grown up are such a big profile for the whole film but these children are amazing and should be praised for what they have done don't you think the whole story was so lovely because it was true and was someone's life after all that was shared with us all\""
      ]
     },
     "execution_count": 7,
     "metadata": {},
     "output_type": "execute_result"
    }
   ],
   "source": [
    "decoded_review"
   ]
  },
  {
   "cell_type": "markdown",
   "metadata": {},
   "source": [
    "## Preparing the data\n",
    "\n",
    "\n",
    "We cannot feed lists of integers into a neural network. We have to turn our lists into tensors. There are two ways we could do that:\n",
    "\n",
    "* We could pad our lists so that they all have the same length, and turn them into an integer tensor of shape `(samples, word_indices)`, \n",
    "then use as first layer in our network a layer capable of handling such integer tensors (the `Embedding` layer, which we will cover in \n",
    "detail later).\n",
    "* We could one-hot-encode our lists to turn them into vectors of 0s and 1s. Concretely, this would mean for instance turning the sequence \n",
    "`[3, 5]` into a 10,000-dimensional vector that would be all-zeros except for indices 3 and 5, which would be ones. Then we could use as \n",
    "first layer in our network a `Dense` layer, capable of handling floating point vector data.\n",
    "\n",
    "We will go with the latter solution. Let's vectorize our data, which we will do manually for maximum clarity:"
   ]
  },
  {
   "cell_type": "code",
   "execution_count": 8,
   "metadata": {},
   "outputs": [],
   "source": [
    "import numpy as np\n",
    "\n",
    "def vectorize_sequences(sequences, dimension=10000):\n",
    "    # Create an all-zero matrix of shape (len(sequences), dimension)\n",
    "    results = np.zeros((len(sequences), dimension))\n",
    "    for i, sequence in enumerate(sequences):\n",
    "        results[i, sequence] = 1.  # set specific indices of results[i] to 1s\n",
    "    return results\n",
    "\n",
    "# Our vectorized training data\n",
    "x_train = vectorize_sequences(train_data)\n",
    "# Our vectorized test data\n",
    "x_test = vectorize_sequences(test_data)"
   ]
  },
  {
   "cell_type": "markdown",
   "metadata": {},
   "source": [
    "Here's what our samples look like now:"
   ]
  },
  {
   "cell_type": "code",
   "execution_count": 9,
   "metadata": {},
   "outputs": [
    {
     "data": {
      "text/plain": [
       "array([0., 1., 1., ..., 0., 0., 0.])"
      ]
     },
     "execution_count": 9,
     "metadata": {},
     "output_type": "execute_result"
    }
   ],
   "source": [
    "x_train[0]"
   ]
  },
  {
   "cell_type": "markdown",
   "metadata": {},
   "source": [
    "We should also vectorize our labels, which is straightforward:"
   ]
  },
  {
   "cell_type": "code",
   "execution_count": 10,
   "metadata": {},
   "outputs": [],
   "source": [
    "# Our vectorized labels\n",
    "y_train = np.asarray(train_labels).astype('float32')\n",
    "y_test = np.asarray(test_labels).astype('float32')"
   ]
  },
  {
   "cell_type": "markdown",
   "metadata": {},
   "source": [
    "Now our data is ready to be fed into a neural network."
   ]
  },
  {
   "cell_type": "markdown",
   "metadata": {},
   "source": [
    "## Building our network\n",
    "\n",
    "\n",
    "Our input data is simply vectors, and our labels are scalars (1s and 0s): this is the easiest setup you will ever encounter. A type of \n",
    "network that performs well on such a problem would be a simple stack of fully-connected (`Dense`) layers with `relu` activations: `Dense(16, \n",
    "activation='relu')`\n",
    "\n",
    "The argument being passed to each `Dense` layer (16) is the number of \"hidden units\" of the layer. \n",
    "\n",
    "`output = relu(dot(W, input) + b)`\n",
    "\n",
    "Having 16 hidden units means that the weight matrix `W` will have shape `(input_dimension, 16)`, i.e. the dot product with `W` will project the \n",
    "input data onto a 16-dimensional representation space (and then we would add the bias vector `b` and apply the `relu` operation). You can \n",
    "intuitively understand the dimensionality of your representation space as \"how much freedom you are allowing the network to have when \n",
    "learning internal representations\". Having more hidden units (a higher-dimensional representation space) allows your network to learn more \n",
    "complex representations, but it makes your network more computationally expensive and may lead to learning unwanted patterns (patterns that \n",
    "will improve performance on the training data but not on the test data).\n",
    "\n",
    "There are two key architecture decisions to be made about such stack of dense layers:\n",
    "\n",
    "* How many layers to use.\n",
    "* How many \"hidden units\" to chose for each layer.\n",
    "\n",
    "The intermediate layers will use `relu` as their \"activation function\", \n",
    "and the final layer will use a sigmoid prediction function so as to output a probability \n",
    "(a score between 0 and 1, indicating how likely the sample is to have the target \"1\", i.e. how likely the review is to be positive). \n",
    "A `relu` (rectified linear unit) is a function meant to zero-out negative values, \n",
    "while a sigmoid \"squashes\" arbitrary values into the `[0, 1]` interval, thus outputting something that can be interpreted as a probability."
   ]
  },
  {
   "cell_type": "markdown",
   "metadata": {},
   "source": [
    "Here's what our network looks like:\n",
    "\n",
    "![3-layer network](https://s3.amazonaws.com/book.keras.io/img/ch3/3_layer_network.png)"
   ]
  },
  {
   "cell_type": "markdown",
   "metadata": {},
   "source": [
    "And here's the Keras implementation, very similar to earlier problems:"
   ]
  },
  {
   "cell_type": "code",
   "execution_count": 11,
   "metadata": {},
   "outputs": [],
   "source": [
    "from keras import models\n",
    "from keras import layers\n",
    "\n",
    "model = models.Sequential()\n",
    "model.add(layers.Dense(16, activation='relu', input_shape=(10000,)))\n",
    "model.add(layers.Dense(16, activation='relu'))\n",
    "model.add(layers.Dense(1, activation='sigmoid'))"
   ]
  },
  {
   "cell_type": "markdown",
   "metadata": {},
   "source": [
    "\n",
    "Lastly, we need to pick a loss function and an optimizer. Since we are facing a binary classification problem and the output of our network \n",
    "is a probability (we end our network with a single-unit layer with a sigmoid activation), is it best to use the `binary_crossentropy` loss. \n",
    "It isn't the only viable choice: you could use, for instance, `mean_squared_error`. But crossentropy is usually the best choice when you \n",
    "are dealing with models that output probabilities. Crossentropy is a quantity from the field of Information Theory, that measures the \"distance\" \n",
    "between probability distributions, or in our case, between the ground-truth distribution and our predictions.\n",
    "\n",
    "Here's the step where we configure our model with the `rmsprop` optimizer and the `binary_crossentropy` loss function. Note that we will \n",
    "also monitor accuracy during training."
   ]
  },
  {
   "cell_type": "code",
   "execution_count": 12,
   "metadata": {},
   "outputs": [],
   "source": [
    "model.compile(optimizer='rmsprop',\n",
    "              loss='binary_crossentropy',\n",
    "              metrics=['accuracy'])"
   ]
  },
  {
   "cell_type": "markdown",
   "metadata": {},
   "source": [
    "We are passing our optimizer, loss function and metrics as strings, which is possible because `rmsprop`, `binary_crossentropy` and \n",
    "`accuracy` are packaged as part of Keras. Sometimes you may want to configure the parameters of your optimizer, or pass a custom loss \n",
    "function or metric function. This former can be done by passing an optimizer class instance as the `optimizer` argument:"
   ]
  },
  {
   "cell_type": "code",
   "execution_count": 13,
   "metadata": {},
   "outputs": [],
   "source": [
    "from keras import optimizers\n",
    "\n",
    "model.compile(optimizer=optimizers.RMSprop(lr=0.001),\n",
    "              loss='binary_crossentropy',\n",
    "              metrics=['accuracy'])"
   ]
  },
  {
   "cell_type": "markdown",
   "metadata": {},
   "source": [
    "The latter can be done by passing function objects as the `loss` or `metrics` arguments:"
   ]
  },
  {
   "cell_type": "code",
   "execution_count": 14,
   "metadata": {},
   "outputs": [],
   "source": [
    "from keras import losses\n",
    "from keras import metrics\n",
    "\n",
    "model.compile(optimizer=optimizers.RMSprop(lr=0.001),\n",
    "              loss=losses.binary_crossentropy,\n",
    "              metrics=[metrics.binary_accuracy])"
   ]
  },
  {
   "cell_type": "markdown",
   "metadata": {},
   "source": [
    "## Validating our approach\n",
    "\n",
    "In order to monitor during training the accuracy of the model on data that it has never seen before, we will create a \"validation set\" by \n",
    "setting apart 10,000 samples from the original training data:"
   ]
  },
  {
   "cell_type": "code",
   "execution_count": 15,
   "metadata": {},
   "outputs": [],
   "source": [
    "x_val = x_train[:10000]\n",
    "partial_x_train = x_train[10000:]\n",
    "\n",
    "y_val = y_train[:10000]\n",
    "partial_y_train = y_train[10000:]"
   ]
  },
  {
   "cell_type": "markdown",
   "metadata": {},
   "source": [
    "We will now train our model for 20 epochs (20 iterations over all samples in the `x_train` and `y_train` tensors), in mini-batches of 512 \n",
    "samples. At this same time we will monitor loss and accuracy on the 10,000 samples that we set apart. This is done by passing the \n",
    "validation data as the `validation_data` argument:"
   ]
  },
  {
   "cell_type": "code",
   "execution_count": 16,
   "metadata": {
    "scrolled": true
   },
   "outputs": [
    {
     "name": "stdout",
     "output_type": "stream",
     "text": [
      "Train on 15000 samples, validate on 10000 samples\n",
      "Epoch 1/20\n",
      "15000/15000 [==============================] - 5s 315us/step - loss: 0.5084 - binary_accuracy: 0.7813 - val_loss: 0.3797 - val_binary_accuracy: 0.8684\n",
      "Epoch 2/20\n",
      "15000/15000 [==============================] - 3s 199us/step - loss: 0.3004 - binary_accuracy: 0.9047 - val_loss: 0.3004 - val_binary_accuracy: 0.8897\n",
      "Epoch 3/20\n",
      "15000/15000 [==============================] - 3s 198us/step - loss: 0.2179 - binary_accuracy: 0.9285 - val_loss: 0.3085 - val_binary_accuracy: 0.8711\n",
      "Epoch 4/20\n",
      "15000/15000 [==============================] - 3s 191us/step - loss: 0.1750 - binary_accuracy: 0.9437 - val_loss: 0.2840 - val_binary_accuracy: 0.8832\n",
      "Epoch 5/20\n",
      "15000/15000 [==============================] - 3s 193us/step - loss: 0.1427 - binary_accuracy: 0.9543 - val_loss: 0.2841 - val_binary_accuracy: 0.8872\n",
      "Epoch 6/20\n",
      "15000/15000 [==============================] - 3s 189us/step - loss: 0.1150 - binary_accuracy: 0.9650 - val_loss: 0.3166 - val_binary_accuracy: 0.8772\n",
      "Epoch 7/20\n",
      "15000/15000 [==============================] - 3s 196us/step - loss: 0.0980 - binary_accuracy: 0.9705 - val_loss: 0.3127 - val_binary_accuracy: 0.8846\n",
      "Epoch 8/20\n",
      "15000/15000 [==============================] - 3s 203us/step - loss: 0.0807 - binary_accuracy: 0.9763 - val_loss: 0.3859 - val_binary_accuracy: 0.8649\n",
      "Epoch 9/20\n",
      "15000/15000 [==============================] - 3s 199us/step - loss: 0.0661 - binary_accuracy: 0.9821 - val_loss: 0.3635 - val_binary_accuracy: 0.8782\n",
      "Epoch 10/20\n",
      "15000/15000 [==============================] - 3s 205us/step - loss: 0.0561 - binary_accuracy: 0.9853 - val_loss: 0.3843 - val_binary_accuracy: 0.8792\n",
      "Epoch 11/20\n",
      "15000/15000 [==============================] - 3s 199us/step - loss: 0.0439 - binary_accuracy: 0.9893 - val_loss: 0.4153 - val_binary_accuracy: 0.8779\n",
      "Epoch 12/20\n",
      "15000/15000 [==============================] - 3s 195us/step - loss: 0.0381 - binary_accuracy: 0.9921 - val_loss: 0.4525 - val_binary_accuracy: 0.8690\n",
      "Epoch 13/20\n",
      "15000/15000 [==============================] - 3s 203us/step - loss: 0.0300 - binary_accuracy: 0.9928 - val_loss: 0.4698 - val_binary_accuracy: 0.8729\n",
      "Epoch 14/20\n",
      "15000/15000 [==============================] - 3s 201us/step - loss: 0.0247 - binary_accuracy: 0.9945 - val_loss: 0.5023 - val_binary_accuracy: 0.8726\n",
      "Epoch 15/20\n",
      "15000/15000 [==============================] - 3s 197us/step - loss: 0.0175 - binary_accuracy: 0.9979 - val_loss: 0.5342 - val_binary_accuracy: 0.8693\n",
      "Epoch 16/20\n",
      "15000/15000 [==============================] - 3s 197us/step - loss: 0.0149 - binary_accuracy: 0.9983 - val_loss: 0.5710 - val_binary_accuracy: 0.8697\n",
      "Epoch 17/20\n",
      "15000/15000 [==============================] - 3s 203us/step - loss: 0.0151 - binary_accuracy: 0.9971 - val_loss: 0.6025 - val_binary_accuracy: 0.8697\n",
      "Epoch 18/20\n",
      "15000/15000 [==============================] - 3s 198us/step - loss: 0.0075 - binary_accuracy: 0.9996 - val_loss: 0.6782 - val_binary_accuracy: 0.8633\n",
      "Epoch 19/20\n",
      "15000/15000 [==============================] - 3s 198us/step - loss: 0.0117 - binary_accuracy: 0.9975 - val_loss: 0.6693 - val_binary_accuracy: 0.8674\n",
      "Epoch 20/20\n",
      "15000/15000 [==============================] - 3s 206us/step - loss: 0.0041 - binary_accuracy: 0.9999 - val_loss: 0.6942 - val_binary_accuracy: 0.8658\n"
     ]
    }
   ],
   "source": [
    "history = model.fit(partial_x_train,\n",
    "                    partial_y_train,\n",
    "                    epochs=20,\n",
    "                    batch_size=512,\n",
    "                    validation_data=(x_val, y_val))"
   ]
  },
  {
   "cell_type": "markdown",
   "metadata": {},
   "source": [
    "On CPU, this will take less than two seconds per epoch -- training is over in 20 seconds. At the end of every epoch, there is a slight pause \n",
    "as the model computes its loss and accuracy on the 10,000 samples of the validation data.\n",
    "\n",
    "Note that the call to `model.fit()` returns a `History` object. This object has a member `history`, which is a dictionary containing data \n",
    "about everything that happened during training. Let's take a look at it:"
   ]
  },
  {
   "cell_type": "code",
   "execution_count": 17,
   "metadata": {},
   "outputs": [
    {
     "data": {
      "text/plain": [
       "dict_keys(['val_loss', 'val_binary_accuracy', 'loss', 'binary_accuracy'])"
      ]
     },
     "execution_count": 17,
     "metadata": {},
     "output_type": "execute_result"
    }
   ],
   "source": [
    "history_dict = history.history\n",
    "history_dict.keys()"
   ]
  },
  {
   "cell_type": "markdown",
   "metadata": {},
   "source": [
    "It contains 4 entries: one per metric that was being monitored, during training and during validation. Let's use Matplotlib to plot the \n",
    "training and validation loss side by side, as well as the training and validation accuracy:"
   ]
  },
  {
   "cell_type": "code",
   "execution_count": 18,
   "metadata": {},
   "outputs": [
    {
     "data": {
      "image/png": "[encoded data removed]",
      "text/plain": [
       "<Figure size 432x288 with 1 Axes>"
      ]
     },
     "metadata": {
      "needs_background": "light"
     },
     "output_type": "display_data"
    }
   ],
   "source": [
    "import matplotlib.pyplot as plt\n",
    "%matplotlib inline\n",
    "\n",
    "acc = history.history['binary_accuracy']\n",
    "val_acc = history.history['val_binary_accuracy']\n",
    "loss = history.history['loss']\n",
    "val_loss = history.history['val_loss']\n",
    "\n",
    "epochs = range(1, len(acc) + 1)\n",
    "\n",
    "# \"bo\" is for \"blue dot\"\n",
    "plt.plot(epochs, loss, 'bo', label='Training loss')\n",
    "# b is for \"solid blue line\"\n",
    "plt.plot(epochs, val_loss, 'b', label='Validation loss')\n",
    "plt.title('Training and validation loss')\n",
    "plt.xlabel('Epochs')\n",
    "plt.ylabel('Loss')\n",
    "plt.legend()\n",
    "\n",
    "plt.show()"
   ]
  },
  {
   "cell_type": "code",
   "execution_count": 19,
   "metadata": {},
   "outputs": [
    {
     "data": {
      "image/png": "[encoded data removed]",
      "text/plain": [
       "<Figure size 432x288 with 1 Axes>"
      ]
     },
     "metadata": {
      "needs_background": "light"
     },
     "output_type": "display_data"
    }
   ],
   "source": [
    "plt.clf()   # clear figure\n",
    "acc_values = history_dict['binary_accuracy']\n",
    "val_acc_values = history_dict['val_binary_accuracy']\n",
    "\n",
    "plt.plot(epochs, acc, 'bo', label='Training acc')\n",
    "plt.plot(epochs, val_acc, 'b', label='Validation acc')\n",
    "plt.title('Training and validation accuracy')\n",
    "plt.xlabel('Epochs')\n",
    "plt.ylabel('Loss')\n",
    "plt.legend()\n",
    "\n",
    "plt.show()"
   ]
  },
  {
   "cell_type": "markdown",
   "metadata": {},
   "source": [
    "\n",
    "The dots are the training loss and accuracy, while the solid lines are the validation loss and accuracy. Note that your own results may vary \n",
    "slightly due to a different random initialization of your network.\n",
    "\n",
    "As you can see, the training loss decreases with every epoch and the training accuracy increases with every epoch. That's what you would \n",
    "expect when running gradient descent optimization -- the quantity you are trying to minimize should get lower with every iteration. But that \n",
    "isn't the case for the validation loss and accuracy: they seem to peak at the fourth epoch. This is an example of what we were warning \n",
    "against earlier: a model that performs better on the training data isn't necessarily a model that will do better on data it has never seen \n",
    "before. In precise terms, what you are seeing is \"overfitting\": after the second epoch, we are over-optimizing on the training data, and we \n",
    "ended up learning representations that are specific to the training data and do not generalize to data outside of the training set.\n",
    "\n",
    "In this case, to prevent overfitting, we could simply stop training after three epochs. In general, there is a range of techniques you can \n",
    "leverage to mitigate overfitting, which we will cover in the next chapter.\n",
    "\n",
    "Let's train a new network from scratch for four epochs, then evaluate it on our test data:"
   ]
  },
  {
   "cell_type": "code",
   "execution_count": 20,
   "metadata": {
    "scrolled": true
   },
   "outputs": [
    {
     "name": "stdout",
     "output_type": "stream",
     "text": [
      "Epoch 1/4\n",
      "25000/25000 [==============================] - 3s 126us/step - loss: 0.4749 - acc: 0.8217\n",
      "Epoch 2/4\n",
      "25000/25000 [==============================] - 3s 113us/step - loss: 0.2658 - acc: 0.9097\n",
      "Epoch 3/4\n",
      "25000/25000 [==============================] - 3s 114us/step - loss: 0.1982 - acc: 0.9299\n",
      "Epoch 4/4\n",
      "25000/25000 [==============================] - 3s 115us/step - loss: 0.1679 - acc: 0.9404\n",
      "25000/25000 [==============================] - 3s 132us/step\n"
     ]
    }
   ],
   "source": [
    "model = models.Sequential()\n",
    "model.add(layers.Dense(16, activation='relu', input_shape=(10000,)))\n",
    "model.add(layers.Dense(16, activation='relu'))\n",
    "model.add(layers.Dense(1, activation='sigmoid'))\n",
    "\n",
    "model.compile(optimizer='rmsprop',\n",
    "              loss='binary_crossentropy',\n",
    "              metrics=['accuracy'])\n",
    "\n",
    "model.fit(x_train, y_train, epochs=4, batch_size=512)\n",
    "results = model.evaluate(x_test, y_test)"
   ]
  },
  {
   "cell_type": "code",
   "execution_count": 21,
   "metadata": {},
   "outputs": [
    {
     "data": {
      "text/plain": [
       "[0.3231546032524109, 0.87348]"
      ]
     },
     "execution_count": 21,
     "metadata": {},
     "output_type": "execute_result"
    }
   ],
   "source": [
    "results"
   ]
  },
  {
   "cell_type": "markdown",
   "metadata": {},
   "source": [
    "Our fairly naive approach achieves an accuracy of 88%. With state-of-the-art approaches, one should be able to get close to 95%."
   ]
  },
  {
   "cell_type": "markdown",
   "metadata": {},
   "source": [
    "## Using a trained network to generate predictions on new data\n",
    "\n",
    "After having trained a network, you will want to use it in a practical setting. You can generate the likelihood of reviews being positive \n",
    "by using the `predict` method:"
   ]
  },
  {
   "cell_type": "code",
   "execution_count": 22,
   "metadata": {},
   "outputs": [
    {
     "data": {
      "text/plain": [
       "array([[0.1402615 ],\n",
       "       [0.9997029 ],\n",
       "       [0.29552552],\n",
       "       ...,\n",
       "       [0.0723498 ],\n",
       "       [0.04342838],\n",
       "       [0.4815339 ]], dtype=float32)"
      ]
     },
     "execution_count": 22,
     "metadata": {},
     "output_type": "execute_result"
    }
   ],
   "source": [
    "model.predict(x_test)"
   ]
  },
  {
   "cell_type": "markdown",
   "metadata": {},
   "source": [
    "As you can see, the network is very confident for some samples (0.99 or more, or 0.01 or less) but less confident for others (0.6, 0.4). \n"
   ]
  },
  {
   "cell_type": "markdown",
   "metadata": {},
   "source": [
    "## Further experiments\n",
    "\n",
    "\n",
    "* We were using 2 hidden layers. Try to use 1 or 3 hidden layers and see how it affects validation and test accuracy.\n",
    "* Try to use layers with more hidden units or less hidden units: 32 units, 64 units...\n",
    "* Try to use the `mse` loss function instead of `binary_crossentropy`.\n",
    "* Try to use the `tanh` activation (an activation that was popular in the early days of neural networks) instead of `relu`.\n",
    "\n",
    "These experiments will help convince you that the architecture choices we have made are all fairly reasonable, although they can still be \n",
    "improved!"
   ]
  },
  {
   "cell_type": "markdown",
   "metadata": {},
   "source": [
    "## Take away\n",
    "\n",
    "\n",
    "Here's what you should take away from this example:\n",
    "\n",
    "* There's usually quite a bit of preprocessing you need to do on your raw data in order to be able to feed it -- as tensors -- into a neural \n",
    "network. In the case of sequences of words, they can be encoded as binary vectors -- but there are other encoding options too.\n",
    "* Stacks of `Dense` layers with `relu` activations can solve a wide range of problems (including sentiment classification), and you will \n",
    "likely use them frequently.\n",
    "* In a binary classification problem (two output classes), your network should end with a `Dense` layer with 1 unit and a `sigmoid` activation, \n",
    "i.e. the output of your network should be a scalar between 0 and 1, encoding a probability.\n",
    "* With such a scalar sigmoid output, on a binary classification problem, the loss function you should use is `binary_crossentropy`.\n",
    "* The `rmsprop` optimizer is generally a good enough choice of optimizer, whatever your problem. That's one less thing for you to worry \n",
    "about.\n",
    "* As they get better on their training data, neural networks eventually start _overfitting_ and end up obtaining increasingly worse results on data \n",
    "never-seen-before. Make sure to always monitor performance on data that is outside of the training set.\n"
   ]
  },
  {
   "cell_type": "markdown",
   "metadata": {},
   "source": [
    "# Part 2: One Hot Encoding of words"
   ]
  },
  {
   "cell_type": "markdown",
   "metadata": {},
   "source": [
    "# One-hot encoding of words or characters\n",
    "\n",
    "\n",
    "----\n",
    "\n",
    "One-hot encoding is the most common, most basic way to turn a token into a vector. You already saw it in action in our IMDB example. It consists in associating a unique integer index to every word, then \n",
    "turning this integer index i into a binary vector of size N, the size of the vocabulary, that would be all-zeros except for the i-th \n",
    "entry, which would be 1.\n",
    "\n",
    "Of course, one-hot encoding can be done at the character level as well. To unambiguously drive home what one-hot encoding is and how to \n",
    "implement it, here are two toy examples of one-hot encoding: one for words, the other for characters.\n",
    "\n"
   ]
  },
  {
   "cell_type": "markdown",
   "metadata": {},
   "source": [
    "Word level one-hot encoding (toy example):"
   ]
  },
  {
   "cell_type": "code",
   "execution_count": 23,
   "metadata": {},
   "outputs": [],
   "source": [
    "import numpy as np\n",
    "\n",
    "# This is our initial data; one entry per \"sample\"\n",
    "# (in this toy example, a \"sample\" is just a sentence, but\n",
    "# it could be an entire document).\n",
    "samples = ['The cat sat on the mat.', 'The dog ate my homework.']\n",
    "\n",
    "# First, build an index of all tokens in the data.\n",
    "token_index = {}\n",
    "for sample in samples:\n",
    "    # We simply tokenize the samples via the `split` method.\n",
    "    # in real life, we would also strip punctuation and special characters\n",
    "    # from the samples.\n",
    "    for word in sample.split():\n",
    "        if word not in token_index:\n",
    "            # Assign a unique index to each unique word\n",
    "            token_index[word] = len(token_index) + 1\n",
    "            # Note that we don't attribute index 0 to anything.\n",
    "\n",
    "# Next, we vectorize our samples.\n",
    "# We will only consider the first `max_length` words in each sample.\n",
    "max_length = 10\n",
    "\n",
    "# This is where we store our results:\n",
    "results = np.zeros((len(samples), max_length, max(token_index.values()) + 1))\n",
    "for i, sample in enumerate(samples):\n",
    "    for j, word in list(enumerate(sample.split()))[:max_length]:\n",
    "        index = token_index.get(word)\n",
    "        results[i, j, index] = 1."
   ]
  },
  {
   "cell_type": "markdown",
   "metadata": {},
   "source": [
    "Character level one-hot encoding (toy example)"
   ]
  },
  {
   "cell_type": "code",
   "execution_count": 24,
   "metadata": {},
   "outputs": [],
   "source": [
    "import string\n",
    "\n",
    "samples = ['The cat sat on the mat.', 'The dog ate my homework.']\n",
    "characters = string.printable  # All printable ASCII characters.\n",
    "token_index = dict(zip(characters, range(1, len(characters) + 1)))\n",
    "\n",
    "max_length = 50\n",
    "results = np.zeros((len(samples), max_length, max(token_index.values()) + 1))\n",
    "for i, sample in enumerate(samples):\n",
    "    for j, character in enumerate(sample[:max_length]):\n",
    "        index = token_index.get(character)\n",
    "        results[i, j, index] = 1."
   ]
  },
  {
   "cell_type": "markdown",
   "metadata": {},
   "source": [
    "Note that Keras has built-in utilities for doing one-hot encoding text at the word level or character level, starting from raw text data. \n",
    "This is what you should actually be using, as it will take care of a number of important features, such as stripping special characters \n",
    "from strings, or only taking into the top N most common words in your dataset (a common restriction to avoid dealing with very large input \n",
    "vector spaces)."
   ]
  },
  {
   "cell_type": "markdown",
   "metadata": {},
   "source": [
    "Using Keras for word-level one-hot encoding:"
   ]
  },
  {
   "cell_type": "code",
   "execution_count": 25,
   "metadata": {},
   "outputs": [
    {
     "name": "stdout",
     "output_type": "stream",
     "text": [
      "Found 9 unique tokens.\n"
     ]
    }
   ],
   "source": [
    "from keras.preprocessing.text import Tokenizer\n",
    "\n",
    "samples = ['The cat sat on the mat.', 'The dog ate my homework.']\n",
    "\n",
    "# We create a tokenizer, configured to only take\n",
    "# into account the top-1000 most common on words\n",
    "tokenizer = Tokenizer(num_words=1000)\n",
    "# This builds the word index\n",
    "tokenizer.fit_on_texts(samples)\n",
    "\n",
    "# This turns strings into lists of integer indices.\n",
    "sequences = tokenizer.texts_to_sequences(samples)\n",
    "\n",
    "# You could also directly get the one-hot binary representations.\n",
    "# Note that other vectorization modes than one-hot encoding are supported!\n",
    "one_hot_results = tokenizer.texts_to_matrix(samples, mode='binary')\n",
    "\n",
    "# This is how you can recover the word index that was computed\n",
    "word_index = tokenizer.word_index\n",
    "print('Found %s unique tokens.' % len(word_index))"
   ]
  },
  {
   "cell_type": "markdown",
   "metadata": {},
   "source": [
    "\n",
    "A variant of one-hot encoding is the so-called \"one-hot hashing trick\", which can be used when the number of unique tokens in your \n",
    "vocabulary is too large to handle explicitly. Instead of explicitly assigning an index to each word and keeping a reference of these \n",
    "indices in a dictionary, one may hash words into vectors of fixed size. This is typically done with a very lightweight hashing function. \n",
    "The main advantage of this method is that it does away with maintaining an explicit word index, which \n",
    "saves memory and allows online encoding of the data (starting to generate token vectors right away, before having seen all of the available \n",
    "data). The one drawback of this method is that it is susceptible to \"hash collisions\": two different words may end up with the same hash, \n",
    "and subsequently any machine learning model looking at these hashes won't be able to tell the difference between these words. The likelihood \n",
    "of hash collisions decreases when the dimensionality of the hashing space is much larger than the total number of unique tokens being hashed."
   ]
  },
  {
   "cell_type": "markdown",
   "metadata": {},
   "source": [
    "Word-level one-hot encoding with hashing trick (toy example):"
   ]
  },
  {
   "cell_type": "code",
   "execution_count": 26,
   "metadata": {},
   "outputs": [],
   "source": [
    "samples = ['The cat sat on the mat.', 'The dog ate my homework.']\n",
    "\n",
    "# We will store our words as vectors of size 1000.\n",
    "# Note that if you have close to 1000 words (or more)\n",
    "# you will start seeing many hash collisions, which\n",
    "# will decrease the accuracy of this encoding method.\n",
    "dimensionality = 1000\n",
    "max_length = 10\n",
    "\n",
    "results = np.zeros((len(samples), max_length, dimensionality))\n",
    "for i, sample in enumerate(samples):\n",
    "    for j, word in list(enumerate(sample.split()))[:max_length]:\n",
    "        # Hash the word into a \"random\" integer index\n",
    "        # that is between 0 and 1000\n",
    "        index = abs(hash(word)) % dimensionality\n",
    "        results[i, j, index] = 1."
   ]
  },
  {
   "cell_type": "markdown",
   "metadata": {},
   "source": [
    "# Part 3: Skip gram Word2vec in Keras"
   ]
  },
  {
   "cell_type": "markdown",
   "metadata": {},
   "source": [
    "# Skip-gram word2vec in Keras\n",
    "\n",
    "This notebook contains the Keras implementation of word2vec algorithm using skip-gram architecture. The goal is to learn about word embedding  for use in natural language processing problems like text classification, translation, NER, etc.\n",
    "\n",
    "## Resources\n",
    "\n",
    "To learn further about word2vec.\n",
    "\n",
    "* [First word2vec paper](https://arxiv.org/pdf/1301.3781.pdf) from Mikolov et al.\n",
    "* [NIPS paper](http://papers.nips.cc/paper/5021-distributed-representations-of-words-and-phrases-and-their-compositionality.pdf) with improvements for word2vec also from Mikolov et al.\n",
    "\n",
    "## Word embeddings\n",
    "\n",
    "When you're dealing with words in text, you end up with tens of thousands of classes to predict, one for each word. Trying to one-hot encode these words is massively inefficient, you'll have one element set to 1 and the other 50,000 set to 0. The matrix multiplication going into the first hidden layer will have almost all of the resulting values be zero. This a huge waste of computation. \n",
    "\n",
    "\n",
    "To solve this problem and greatly increase the efficiency of our networks, we use what are called embeddings. Embeddings are just a fully connected layer like you've seen before. We call this layer the embedding layer and the weights are embedding weights. We skip the multiplication into the embedding layer by instead directly grabbing the hidden layer values from the weight matrix. We can do this because the multiplication of a one-hot encoded vector with a matrix returns the row of the matrix corresponding the index of the \"on\" input unit.\n",
    "\n",
    "\n",
    "Instead of doing the matrix multiplication, we use the weight matrix as a lookup table. We encode the words as integers, for example \"heart\" is encoded as 958, \"mind\" as 18094. Then to get hidden layer values for \"heart\", you just take the 958th row of the embedding matrix. This process is called an **embedding lookup** and the number of hidden units is the **embedding dimension**.\n",
    "\n",
    " \n",
    "There is nothing magical going on here. The embedding lookup table is just a weight matrix. The embedding layer is just a hidden layer. The lookup is just a shortcut for the matrix multiplication. The lookup table is trained just like any weight matrix as well.\n",
    "\n",
    "Embeddings aren't only used for words of course. You can use them for any model where you have a massive number of classes. A particular type of model called **Word2Vec** uses the embedding layer to find vector representations of words that contain semantic meaning.\n",
    "\n"
   ]
  },
  {
   "cell_type": "markdown",
   "metadata": {},
   "source": [
    "<img src=\"../images/word2vec-1.png\" width=\"100%\" />"
   ]
  },
  {
   "cell_type": "markdown",
   "metadata": {},
   "source": [
    "<img src=\"../images/word2vec-2.png\" width=\"100%\" />"
   ]
  },
  {
   "cell_type": "markdown",
   "metadata": {},
   "source": [
    "<img src=\"../images/word2vec-3.png\" width=\"100%\" />"
   ]
  },
  {
   "cell_type": "markdown",
   "metadata": {},
   "source": [
    "<img src=\"../images/word2vec-5.png\" width=\"100%\" />"
   ]
  },
  {
   "cell_type": "markdown",
   "metadata": {},
   "source": [
    "<img src=\"../images/word2vec-6.png\" width=\"100%\" />\n",
    "<img src=\"../images/word2vec-7.png\" width=\"100%\" />\n",
    "<img src=\"../images/word2vec-8.png\" width=\"100%\" />\n",
    "<img src=\"../images/word2vec-9.png\" width=\"100%\" />\n",
    "<img src=\"../images/word2vec-10.png\" width=\"100%\" />\n",
    "<img src=\"../images/word2vec-11.png\" width=\"100%\" />\n",
    "<img src=\"../images/word2vec-13.png\" width=\"100%\" />\n",
    "<img src=\"../images/word2vec-12.png\" width=\"100%\" />\n"
   ]
  },
  {
   "cell_type": "code",
   "execution_count": 27,
   "metadata": {},
   "outputs": [],
   "source": [
    "# standard\n",
    "import urllib\n",
    "import collections\n",
    "import os\n",
    "import zipfile\n",
    "from tempfile import gettempdir\n",
    "import json\n",
    "\n",
    "# 3rd party\n",
    "import numpy as np\n",
    "import tensorflow as tf\n",
    "import pandas as pd\n",
    "\n",
    "#keras\n",
    "from keras.models import Model\n",
    "from keras.layers import Input, Dense, Reshape, merge\n",
    "from keras.layers.embeddings import Embedding\n",
    "from keras.preprocessing.sequence import skipgrams\n",
    "from keras.preprocessing import sequence"
   ]
  },
  {
   "cell_type": "markdown",
   "metadata": {},
   "source": [
    "### Download dataset\n",
    "\n",
    "* The dataset we will be using for this excercise is a dump of curated articles from Wikipedia by Matt Mahoney"
   ]
  },
  {
   "cell_type": "code",
   "execution_count": 28,
   "metadata": {},
   "outputs": [
    {
     "name": "stdout",
     "output_type": "stream",
     "text": [
      "Found and verified text8.zip\n"
     ]
    }
   ],
   "source": [
    "# # Step 1: Download the data.\n",
    "# url = 'http://mattmahoney.net/dc/'\n",
    "\n",
    "# # pylint: disable=redefined-outer-name\n",
    "# def maybe_download(filename, expected_bytes):\n",
    "#     \"\"\"Download a file if not present, and make sure it's the right size.\"\"\"\n",
    "#     local_filename = os.path.join(gettempdir(), filename)\n",
    "#     if not os.path.exists(local_filename):\n",
    "#         local_filename, _ = urllib.request.urlretrieve(url + filename,\n",
    "#                                                        local_filename)\n",
    "#     statinfo = os.stat(local_filename)\n",
    "#     if statinfo.st_size == expected_bytes:\n",
    "#         print('Found and verified', filename)\n",
    "#     else:\n",
    "#         print(statinfo.st_size)\n",
    "#         raise Exception('Failed to verify ' + local_filename +\n",
    "#                         '. Can you get to it with a browser?')\n",
    "#     return local_filename\n",
    "\n",
    "# filename = maybe_download('text8.zip', 31344016)"
   ]
  },
  {
   "cell_type": "code",
   "execution_count": 29,
   "metadata": {},
   "outputs": [
    {
     "name": "stdout",
     "output_type": "stream",
     "text": [
      "Numbder of words 17005207\n",
      "Numbder of unique words 253854\n"
     ]
    }
   ],
   "source": [
    "# Read the data into a list of strings.\n",
    "def read_data(filename):\n",
    "    \"\"\"Extract the first file enclosed in a zip file as a list of words.\"\"\"\n",
    "    with zipfile.ZipFile(filename) as f:\n",
    "        data = tf.compat.as_str(f.read(f.namelist()[0])).split()\n",
    "    return data\n",
    "\n",
    "vocabulary = read_data(filename)\n",
    "print('Numbder of words', len(vocabulary))\n",
    "print('Numbder of unique words', len(set(vocabulary)))"
   ]
  },
  {
   "cell_type": "markdown",
   "metadata": {},
   "source": [
    "### Build the dictionary\n",
    "\n",
    "* Create a dictionary with a vocabulary size of 10k\n",
    "\n",
    "* Replace rare words with UNK token\n",
    "\n",
    "#### Variables:\n",
    "\n",
    "    * data - list of codes (integers from 0 to vocabulary_size-1).\n",
    "    * count - map of words(strings) to count of occurrences\n",
    "    * dictionary - map of words(strings) to their codes(integers)\n",
    "    * reverse_dictionary - maps codes(integers) to words(strings)\n",
    "    "
   ]
  },
  {
   "cell_type": "code",
   "execution_count": 30,
   "metadata": {},
   "outputs": [
    {
     "name": "stdout",
     "output_type": "stream",
     "text": [
      "Most common words (+UNK) [['UNK', 1737307], ('the', 1061396), ('of', 593677), ('and', 416629), ('one', 411764)]\n",
      "Sample data [5234, 3081, 12, 6, 195, 2, 3134, 46, 59, 156] ['anarchism', 'originated', 'as', 'a', 'term', 'of', 'abuse', 'first', 'used', 'against']\n"
     ]
    }
   ],
   "source": [
    "vocabulary_size = 10000\n",
    "\n",
    "def build_dataset(words, n_words):\n",
    "    \"\"\"Process raw inputs into a dataset.\"\"\"\n",
    "    count = [['UNK', -1]]\n",
    "    count.extend(collections.Counter(words).most_common(n_words - 1))\n",
    "    dictionary = dict()\n",
    "    for word, _ in count:\n",
    "        dictionary[word] = len(dictionary)\n",
    "    data = list()\n",
    "    unk_count = 0\n",
    "    for word in words:\n",
    "        index = dictionary.get(word, 0)\n",
    "        if index == 0:  # dictionary['UNK']\n",
    "            unk_count += 1\n",
    "        data.append(index)\n",
    "    count[0][1] = unk_count\n",
    "    reversed_dictionary = dict(zip(dictionary.values(), dictionary.keys()))\n",
    "    return data, count, dictionary, reversed_dictionary\n",
    "\n",
    "\n",
    "data, count, dictionary, reverse_dictionary = build_dataset(vocabulary,\n",
    "                                                            vocabulary_size)\n",
    "del vocabulary  # Hint to reduce memory.\n",
    "print('Most common words (+UNK)', count[:5])\n",
    "print('Sample data', data[:10], [reverse_dictionary[i] for i in data[:10]])\n",
    "\n",
    "data_index = 0\n",
    "with open('dictionary.json', 'w') as f:\n",
    "    json.dump(dictionary, f, indent=2)"
   ]
  },
  {
   "cell_type": "markdown",
   "metadata": {},
   "source": [
    "### Create input data\n",
    "\n",
    "#### Few Concepts\n",
    "\n",
    "##### Context of the word\n",
    "\n",
    "The context of the word is the key measure of meaning that is utilized in Word2Vec.  The context of the word “sat” in the sentence “the cat sat on the mat” is (“the”, “cat”, “on”, “the”, “mat”).  In other words, it is the words which commonly occur around the target word “sat”. Words which have similar contexts share meaning under Word2Vec, and their reduced vector representations will be similar.  In the skip-gram model version of Word2Vec (more on this later), the goal is to take a target word i.e. “sat” and predict the surrounding context words.  This involves an iterative learning process.\n",
    "\n",
    "##### Negative Sampling\n",
    "\n",
    "The problem with using a full softmax output layer is that it is very computationally expensive. During bacpropagation, large numder of weights that need to be updated in any gradient based training of the output layer.  This gets seriously time-consuming and inefficient.\n",
    "\n",
    "The solution to this problem is **negative sampling**, which is described in the original Word2Vec paper by Mikolov et al.  It works by reinforcing the strength of weights which link a target word to its context words, but rather than reducing the value of all those weights which aren’t in the context, it simply samples a small number of them – these are called the “negative samples”.\n",
    "\n",
    "##### Creating the train data\n",
    "\n",
    "To train our data set using negative sampling and the skip-gram method, we need to create data samples for both valid context words and for negative samples. This involves scanning through the data set and picking target words, then randomly selecting context words from within the window of words around the target word (i.e. if the target word is “on” from “the cat sat on the mat”, with a window size of 2 the words “cat”, “sat”, “the”, “mat” could all be randomly selected as valid context words).  It also involves randomly selecting negative samples outside of the selected target word context. Finally, we also need to set a label of 1 or 0, depending on whether the supplied context word is a true context word or a negative sample.\n",
    "\n",
    "The Keras skipgrams function does exactly what we want of it – it returns the word couples in the form of (target, context) and also gives a matching label of 1 or 0 depending on whether context is a true context word or a negative sample. By default, it returns randomly shuffled couples and labels.\n",
    "\n",
    "#### Variables\n",
    "\n",
    "    * couples - list of tuples in the form of (target word, context of word)\n",
    "    * labels - label indicating whether the corresponding couple has true context word or a negative sample"
   ]
  },
  {
   "cell_type": "code",
   "execution_count": 31,
   "metadata": {},
   "outputs": [
    {
     "name": "stdout",
     "output_type": "stream",
     "text": [
      "[[426, 147], [728, 1650], [4596, 7677], [7264, 8653], [98, 23], [8401, 1083], [1243, 107], [21, 3091], [105, 1754], [9637, 512]] [1, 0, 0, 0, 1, 0, 1, 0, 0, 0]\n"
     ]
    }
   ],
   "source": [
    "window_size = 3\n",
    "\n",
    "sampling_table = sequence.make_sampling_table(vocabulary_size)\n",
    "couples, labels = skipgrams(data, vocabulary_size, window_size=window_size, sampling_table=sampling_table)\n",
    "word_target, word_context = zip(*couples)\n",
    "word_target = np.array(word_target, dtype=\"int32\")\n",
    "word_context = np.array(word_context, dtype=\"int32\")\n",
    "\n",
    "print(couples[:10], labels[:10])"
   ]
  },
  {
   "cell_type": "markdown",
   "metadata": {},
   "source": [
    "#### Model Architecture\n",
    "\n",
    "To train the embedding layer using negative samples, we can construct our network in a way that the output layer is a multi-class softmax layer, we can change it into a simple binary classifier.  For words that are in the context of the target word, we want our network to output a 1, and for our negative samples, we want our network to output a 0. Therefore, the output layer of our Word2Vec Keras network is simply a single node with a sigmoid activation function.\n",
    "\n",
    "We also need a way of ensuring that, as the network trains, words which are similar end up having similar embedding vectors.  Therefore, we want to ensure that the trained network will always output a 1 when it is supplied words which are in the same context, but 0 when it is supplied words which are never in the same context. Therefore, we need a vector similarity score supplied to the output sigmoid layer – with similar vectors outputting a high score and un-similar vectors outputting a low score.  The most typical similarity measure used between two vectors is the cosine similarity score:\n",
    "\n",
    "So with all in perspective, our model contains the following layers\n",
    "\n",
    "* An (integer) input of a target word and a real or negative context word\n",
    "* An embedding layer lookup (i.e. looking up the integer index of the word in the embedding matrix to get the word vector)\n",
    "* The application of a dot product operation\n",
    "* The output sigmoid layer\n",
    "\n",
    "\n",
    "Let’s go through this architecture more carefully.  First, each of the words in our vocabulary is assigned an integer index between 0 and the size of our vocabulary (in this case, 10,000).  We pass two words into the network, one the target word and the other either a word from the surrounding context or a negative sample.  We “look up” these indexes as the rows of our embedding layer (10,000 x 128 weight tensor) to retrieve our 128 length word vectors.  We then perform a dot product operation between these vectors to get the similarity.  Finally, we output the similarity to a sigmoid layer to give us a 1 or 0 indicator which we can match with the label given to the Context word (1 for a true context word, 0 for a negative sample).\n",
    "\n",
    "The back-propagation of our errors will work to update the embedding layer to ensure that words which are truly similar to each other (i.e. share contexts) have vectors such that they return high similarity scores."
   ]
  },
  {
   "cell_type": "code",
   "execution_count": 32,
   "metadata": {
    "scrolled": true
   },
   "outputs": [
    {
     "ename": "TypeError",
     "evalue": "'module' object is not callable",
     "output_type": "error",
     "traceback": [
      "\u001b[0;31m---------------------------------------------------------------------------\u001b[0m",
      "\u001b[0;31mTypeError\u001b[0m                                 Traceback (most recent call last)",
      "\u001b[0;32m<ipython-input-32-854825f3017c>\u001b[0m in \u001b[0;36m<module>\u001b[0;34m\u001b[0m\n\u001b[1;32m     17\u001b[0m \u001b[0;34m\u001b[0m\u001b[0m\n\u001b[1;32m     18\u001b[0m \u001b[0;31m# setup a cosine similarity operation which will be output in a secondary model\u001b[0m\u001b[0;34m\u001b[0m\u001b[0;34m\u001b[0m\u001b[0m\n\u001b[0;32m---> 19\u001b[0;31m \u001b[0msimilarity\u001b[0m \u001b[0;34m=\u001b[0m \u001b[0mmerge\u001b[0m\u001b[0;34m(\u001b[0m\u001b[0;34m[\u001b[0m\u001b[0mtarget\u001b[0m\u001b[0;34m,\u001b[0m \u001b[0mcontext\u001b[0m\u001b[0;34m]\u001b[0m\u001b[0;34m,\u001b[0m \u001b[0mmode\u001b[0m\u001b[0;34m=\u001b[0m\u001b[0;34m'cos'\u001b[0m\u001b[0;34m,\u001b[0m \u001b[0mdot_axes\u001b[0m\u001b[0;34m=\u001b[0m\u001b[0;36m0\u001b[0m\u001b[0;34m)\u001b[0m\u001b[0;34m\u001b[0m\u001b[0m\n\u001b[0m\u001b[1;32m     20\u001b[0m \u001b[0;34m\u001b[0m\u001b[0m\n\u001b[1;32m     21\u001b[0m \u001b[0;31m# now perform the dot product operation to get a similarity measure\u001b[0m\u001b[0;34m\u001b[0m\u001b[0;34m\u001b[0m\u001b[0m\n",
      "\u001b[0;31mTypeError\u001b[0m: 'module' object is not callable"
     ]
    }
   ],
   "source": [
    "vector_dim = 128\n",
    "epochs = 10001 #100001\n",
    "\n",
    "valid_size = 16     # Random set of words to evaluate similarity on.\n",
    "valid_window = 100  # Only pick dev samples in the head of the distribution.\n",
    "valid_examples = np.random.choice(valid_window, valid_size, replace=False)\n",
    "\n",
    "# create some input variables\n",
    "input_target = Input((1,))\n",
    "input_context = Input((1,))\n",
    "\n",
    "embedding = Embedding(vocabulary_size, vector_dim, input_length=1, name='embedding')\n",
    "target = embedding(input_target)\n",
    "target = Reshape((vector_dim, 1))(target)\n",
    "context = embedding(input_context)\n",
    "context = Reshape((vector_dim, 1))(context)\n",
    "\n",
    "# setup a cosine similarity operation which will be output in a secondary model\n",
    "similarity = merge([target, context], mode='cos', dot_axes=0)\n",
    "\n",
    "# now perform the dot product operation to get a similarity measure\n",
    "dot_product = merge([target, context], mode='dot', dot_axes=1)\n",
    "dot_product = Reshape((1,))(dot_product)\n",
    "# add the sigmoid output layer\n",
    "output = Dense(1, activation='sigmoid')(dot_product)\n",
    "# create the primary training model\n",
    "model = Model(input=[input_target, input_context], output=output)\n",
    "model.compile(loss='binary_crossentropy', optimizer='rmsprop')\n",
    "\n",
    "# create a secondary validation model to run our similarity checks during training\n",
    "validation_model = Model(input=[input_target, input_context], output=similarity)"
   ]
  },
  {
   "cell_type": "markdown",
   "metadata": {},
   "source": [
    "### Training\n",
    "\n",
    "We train the model for 100k epochs and after every 10k epoch, print the words closer to the words in validation set\n",
    "\n",
    "#### Functions\n",
    "\n",
    "    * get_sim() - Function to retrive topk words that are closer to a given word based on embeddings"
   ]
  },
  {
   "cell_type": "code",
   "execution_count": 33,
   "metadata": {
    "scrolled": true
   },
   "outputs": [
    {
     "ename": "ValueError",
     "evalue": "Error when checking model input: the list of Numpy arrays that you are passing to your model is not the size the model expected. Expected to see 1 array(s), but instead got the following list of 2 arrays: [array([[70.]]), array([[3413.]])]...",
     "output_type": "error",
     "traceback": [
      "\u001b[0;31m---------------------------------------------------------------------------\u001b[0m",
      "\u001b[0;31mValueError\u001b[0m                                Traceback (most recent call last)",
      "\u001b[0;32m<ipython-input-33-86d8d6719647>\u001b[0m in \u001b[0;36m<module>\u001b[0;34m\u001b[0m\n\u001b[1;32m     31\u001b[0m     \u001b[0min_word_context\u001b[0m\u001b[0;34m[\u001b[0m\u001b[0;36m0\u001b[0m\u001b[0;34m,\u001b[0m\u001b[0;34m]\u001b[0m \u001b[0;34m=\u001b[0m \u001b[0mword_context\u001b[0m\u001b[0;34m[\u001b[0m\u001b[0midx\u001b[0m\u001b[0;34m]\u001b[0m\u001b[0;34m\u001b[0m\u001b[0m\n\u001b[1;32m     32\u001b[0m     \u001b[0min_labels\u001b[0m\u001b[0;34m[\u001b[0m\u001b[0;36m0\u001b[0m\u001b[0;34m,\u001b[0m\u001b[0;34m]\u001b[0m \u001b[0;34m=\u001b[0m \u001b[0mlabels\u001b[0m\u001b[0;34m[\u001b[0m\u001b[0midx\u001b[0m\u001b[0;34m]\u001b[0m\u001b[0;34m\u001b[0m\u001b[0m\n\u001b[0;32m---> 33\u001b[0;31m     \u001b[0mloss\u001b[0m \u001b[0;34m=\u001b[0m \u001b[0mmodel\u001b[0m\u001b[0;34m.\u001b[0m\u001b[0mtrain_on_batch\u001b[0m\u001b[0;34m(\u001b[0m\u001b[0;34m[\u001b[0m\u001b[0min_word_target\u001b[0m\u001b[0;34m,\u001b[0m \u001b[0min_word_context\u001b[0m\u001b[0;34m]\u001b[0m\u001b[0;34m,\u001b[0m \u001b[0min_labels\u001b[0m\u001b[0;34m)\u001b[0m\u001b[0;34m\u001b[0m\u001b[0m\n\u001b[0m\u001b[1;32m     34\u001b[0m \u001b[0;34m\u001b[0m\u001b[0m\n\u001b[1;32m     35\u001b[0m     \u001b[0;32mif\u001b[0m \u001b[0mcnt\u001b[0m \u001b[0;34m%\u001b[0m \u001b[0;36m100\u001b[0m \u001b[0;34m==\u001b[0m \u001b[0;36m0\u001b[0m\u001b[0;34m:\u001b[0m\u001b[0;34m\u001b[0m\u001b[0m\n",
      "\u001b[0;32m~/miniconda3/envs/tf36/lib/python3.6/site-packages/keras/engine/training.py\u001b[0m in \u001b[0;36mtrain_on_batch\u001b[0;34m(self, x, y, sample_weight, class_weight)\u001b[0m\n\u001b[1;32m   1209\u001b[0m             \u001b[0mx\u001b[0m\u001b[0;34m,\u001b[0m \u001b[0my\u001b[0m\u001b[0;34m,\u001b[0m\u001b[0;34m\u001b[0m\u001b[0m\n\u001b[1;32m   1210\u001b[0m             \u001b[0msample_weight\u001b[0m\u001b[0;34m=\u001b[0m\u001b[0msample_weight\u001b[0m\u001b[0;34m,\u001b[0m\u001b[0;34m\u001b[0m\u001b[0m\n\u001b[0;32m-> 1211\u001b[0;31m             class_weight=class_weight)\n\u001b[0m\u001b[1;32m   1212\u001b[0m         \u001b[0;32mif\u001b[0m \u001b[0mself\u001b[0m\u001b[0;34m.\u001b[0m\u001b[0m_uses_dynamic_learning_phase\u001b[0m\u001b[0;34m(\u001b[0m\u001b[0;34m)\u001b[0m\u001b[0;34m:\u001b[0m\u001b[0;34m\u001b[0m\u001b[0m\n\u001b[1;32m   1213\u001b[0m             \u001b[0mins\u001b[0m \u001b[0;34m=\u001b[0m \u001b[0mx\u001b[0m \u001b[0;34m+\u001b[0m \u001b[0my\u001b[0m \u001b[0;34m+\u001b[0m \u001b[0msample_weights\u001b[0m \u001b[0;34m+\u001b[0m \u001b[0;34m[\u001b[0m\u001b[0;36m1.\u001b[0m\u001b[0;34m]\u001b[0m\u001b[0;34m\u001b[0m\u001b[0m\n",
      "\u001b[0;32m~/miniconda3/envs/tf36/lib/python3.6/site-packages/keras/engine/training.py\u001b[0m in \u001b[0;36m_standardize_user_data\u001b[0;34m(self, x, y, sample_weight, class_weight, check_array_lengths, batch_size)\u001b[0m\n\u001b[1;32m    749\u001b[0m             \u001b[0mfeed_input_shapes\u001b[0m\u001b[0;34m,\u001b[0m\u001b[0;34m\u001b[0m\u001b[0m\n\u001b[1;32m    750\u001b[0m             \u001b[0mcheck_batch_axis\u001b[0m\u001b[0;34m=\u001b[0m\u001b[0;32mFalse\u001b[0m\u001b[0;34m,\u001b[0m  \u001b[0;31m# Don't enforce the batch size.\u001b[0m\u001b[0;34m\u001b[0m\u001b[0m\n\u001b[0;32m--> 751\u001b[0;31m             exception_prefix='input')\n\u001b[0m\u001b[1;32m    752\u001b[0m \u001b[0;34m\u001b[0m\u001b[0m\n\u001b[1;32m    753\u001b[0m         \u001b[0;32mif\u001b[0m \u001b[0my\u001b[0m \u001b[0;32mis\u001b[0m \u001b[0;32mnot\u001b[0m \u001b[0;32mNone\u001b[0m\u001b[0;34m:\u001b[0m\u001b[0;34m\u001b[0m\u001b[0m\n",
      "\u001b[0;32m~/miniconda3/envs/tf36/lib/python3.6/site-packages/keras/engine/training_utils.py\u001b[0m in \u001b[0;36mstandardize_input_data\u001b[0;34m(data, names, shapes, check_batch_axis, exception_prefix)\u001b[0m\n\u001b[1;32m    100\u001b[0m                 \u001b[0;34m'Expected to see '\u001b[0m \u001b[0;34m+\u001b[0m \u001b[0mstr\u001b[0m\u001b[0;34m(\u001b[0m\u001b[0mlen\u001b[0m\u001b[0;34m(\u001b[0m\u001b[0mnames\u001b[0m\u001b[0;34m)\u001b[0m\u001b[0;34m)\u001b[0m \u001b[0;34m+\u001b[0m \u001b[0;34m' array(s), '\u001b[0m\u001b[0;34m\u001b[0m\u001b[0m\n\u001b[1;32m    101\u001b[0m                 \u001b[0;34m'but instead got the following list of '\u001b[0m \u001b[0;34m+\u001b[0m\u001b[0;34m\u001b[0m\u001b[0m\n\u001b[0;32m--> 102\u001b[0;31m                 str(len(data)) + ' arrays: ' + str(data)[:200] + '...')\n\u001b[0m\u001b[1;32m    103\u001b[0m         \u001b[0;32melif\u001b[0m \u001b[0mlen\u001b[0m\u001b[0;34m(\u001b[0m\u001b[0mnames\u001b[0m\u001b[0;34m)\u001b[0m \u001b[0;34m>\u001b[0m \u001b[0;36m1\u001b[0m\u001b[0;34m:\u001b[0m\u001b[0;34m\u001b[0m\u001b[0m\n\u001b[1;32m    104\u001b[0m             raise ValueError(\n",
      "\u001b[0;31mValueError\u001b[0m: Error when checking model input: the list of Numpy arrays that you are passing to your model is not the size the model expected. Expected to see 1 array(s), but instead got the following list of 2 arrays: [array([[70.]]), array([[3413.]])]..."
     ]
    }
   ],
   "source": [
    "def get_sim():\n",
    "    for i in range(valid_size):\n",
    "        valid_word = reverse_dictionary[valid_examples[i]]\n",
    "        top_k = 8  # number of nearest neighbors\n",
    "        sim = _get_sim(valid_examples[i])\n",
    "        nearest = (-sim).argsort()[1:top_k + 1]\n",
    "        log_str = 'Nearest to %s:' % valid_word\n",
    "        for k in range(top_k):\n",
    "            close_word = reverse_dictionary[nearest[k]]\n",
    "            log_str = '%s %s,' % (log_str, close_word)\n",
    "        print(log_str)\n",
    "\n",
    "def _get_sim(valid_word_idx):\n",
    "    sim = np.zeros((vocabulary_size,))\n",
    "    in_arr1 = np.zeros((1,))\n",
    "    in_arr2 = np.zeros((1,))\n",
    "    in_arr1[0,] = valid_word_idx\n",
    "    for i in range(vocabulary_size):\n",
    "        in_arr2[0,] = i\n",
    "        out = validation_model.predict_on_batch([in_arr1, in_arr2])\n",
    "        sim[i] = out\n",
    "    return sim\n",
    "\n",
    "in_word_target = np.zeros((1,))\n",
    "in_word_context = np.zeros((1,))\n",
    "in_labels = np.zeros((1,))\n",
    "\n",
    "for cnt in range(epochs):\n",
    "    idx = np.random.randint(0, len(labels)-1)\n",
    "    in_word_target[0,] = word_target[idx]\n",
    "    in_word_context[0,] = word_context[idx]\n",
    "    in_labels[0,] = labels[idx]\n",
    "    loss = model.train_on_batch([in_word_target, in_word_context], in_labels)\n",
    "    \n",
    "    if cnt % 100 == 0:\n",
    "        print(\"Iteration {}, loss={}\".format(cnt, loss))\n",
    "    if cnt % 10000 == 0:\n",
    "        get_sim()\n",
    "        \n",
    "model.save('word2vec')"
   ]
  },
  {
   "cell_type": "markdown",
   "metadata": {},
   "source": [
    "### Embeddings\n",
    "\n",
    "* Embeddings can be created by extracting the weight of the emnbedding layer in the trained model"
   ]
  },
  {
   "cell_type": "code",
   "execution_count": 34,
   "metadata": {},
   "outputs": [],
   "source": [
    "embs = model.get_weights()[0]"
   ]
  },
  {
   "cell_type": "markdown",
   "metadata": {},
   "source": [
    "### Interactive Data Visualization\n",
    "\n",
    "Using T-SNE to visualize how our high-dimensional word vectors cluster together. T-SNE is used to project high dimesional vectors into smaller dimensions while preserving local stucture. Check out [this post from Christopher Olah](http://colah.github.io/posts/2014-10-Visualizing-MNIST/) to learn more about T-SNE and other ways to visualize high-dimensional data."
   ]
  },
  {
   "cell_type": "code",
   "execution_count": 35,
   "metadata": {},
   "outputs": [
    {
     "data": {
      "text/html": [
       "\n",
       "    <div class=\"bk-root\">\n",
       "        <a href=\"https://bokeh.pydata.org\" target=\"_blank\" class=\"bk-logo bk-logo-small bk-logo-notebook\"></a>\n",
       "        <span id=\"0161881a-8b06-44ea-8c0b-cad4a0ecae4d\">Loading BokehJS ...</span>\n",
       "    </div>"
      ]
     },
     "metadata": {},
     "output_type": "display_data"
    },
    {
     "data": {
      "application/javascript": [
       "\n",
       "(function(root) {\n",
       "  function now() {\n",
       "    return new Date();\n",
       "  }\n",
       "\n",
       "  var force = true;\n",
       "\n",
       "  if (typeof (root._bokeh_onload_callbacks) === \"undefined\" || force === true) {\n",
       "    root._bokeh_onload_callbacks = [];\n",
       "    root._bokeh_is_loading = undefined;\n",
       "  }\n",
       "\n",
       "  var JS_MIME_TYPE = 'application/javascript';\n",
       "  var HTML_MIME_TYPE = 'text/html';\n",
       "  var EXEC_MIME_TYPE = 'application/vnd.bokehjs_exec.v0+json';\n",
       "  var CLASS_NAME = 'output_bokeh rendered_html';\n",
       "\n",
       "  /**\n",
       "   * Render data to the DOM node\n",
       "   */\n",
       "  function render(props, node) {\n",
       "    var script = document.createElement(\"script\");\n",
       "    node.appendChild(script);\n",
       "  }\n",
       "\n",
       "  /**\n",
       "   * Handle when an output is cleared or removed\n",
       "   */\n",
       "  function handleClearOutput(event, handle) {\n",
       "    var cell = handle.cell;\n",
       "\n",
       "    var id = cell.output_area._bokeh_element_id;\n",
       "    var server_id = cell.output_area._bokeh_server_id;\n",
       "    // Clean up Bokeh references\n",
       "    if (id != null && id in Bokeh.index) {\n",
       "      Bokeh.index[id].model.document.clear();\n",
       "      delete Bokeh.index[id];\n",
       "    }\n",
       "\n",
       "    if (server_id !== undefined) {\n",
       "      // Clean up Bokeh references\n",
       "      var cmd = \"from bokeh.io.state import curstate; print(curstate().uuid_to_server['\" + server_id + \"'].get_sessions()[0].document.roots[0]._id)\";\n",
       "      cell.notebook.kernel.execute(cmd, {\n",
       "        iopub: {\n",
       "          output: function(msg) {\n",
       "            var id = msg.content.text.trim();\n",
       "            if (id in Bokeh.index) {\n",
       "              Bokeh.index[id].model.document.clear();\n",
       "              delete Bokeh.index[id];\n",
       "            }\n",
       "          }\n",
       "        }\n",
       "      });\n",
       "      // Destroy server and session\n",
       "      var cmd = \"import bokeh.io.notebook as ion; ion.destroy_server('\" + server_id + \"')\";\n",
       "      cell.notebook.kernel.execute(cmd);\n",
       "    }\n",
       "  }\n",
       "\n",
       "  /**\n",
       "   * Handle when a new output is added\n",
       "   */\n",
       "  function handleAddOutput(event, handle) {\n",
       "    var output_area = handle.output_area;\n",
       "    var output = handle.output;\n",
       "\n",
       "    // limit handleAddOutput to display_data with EXEC_MIME_TYPE content only\n",
       "    if ((output.output_type != \"display_data\") || (!output.data.hasOwnProperty(EXEC_MIME_TYPE))) {\n",
       "      return\n",
       "    }\n",
       "\n",
       "    var toinsert = output_area.element.find(\".\" + CLASS_NAME.split(' ')[0]);\n",
       "\n",
       "    if (output.metadata[EXEC_MIME_TYPE][\"id\"] !== undefined) {\n",
       "      toinsert[toinsert.length - 1].firstChild.textContent = output.data[JS_MIME_TYPE];\n",
       "      // store reference to embed id on output_area\n",
       "      output_area._bokeh_element_id = output.metadata[EXEC_MIME_TYPE][\"id\"];\n",
       "    }\n",
       "    if (output.metadata[EXEC_MIME_TYPE][\"server_id\"] !== undefined) {\n",
       "      var bk_div = document.createElement(\"div\");\n",
       "      bk_div.innerHTML = output.data[HTML_MIME_TYPE];\n",
       "      var script_attrs = bk_div.children[0].attributes;\n",
       "      for (var i = 0; i < script_attrs.length; i++) {\n",
       "        toinsert[toinsert.length - 1].firstChild.setAttribute(script_attrs[i].name, script_attrs[i].value);\n",
       "      }\n",
       "      // store reference to server id on output_area\n",
       "      output_area._bokeh_server_id = output.metadata[EXEC_MIME_TYPE][\"server_id\"];\n",
       "    }\n",
       "  }\n",
       "\n",
       "  function register_renderer(events, OutputArea) {\n",
       "\n",
       "    function append_mime(data, metadata, element) {\n",
       "      // create a DOM node to render to\n",
       "      var toinsert = this.create_output_subarea(\n",
       "        metadata,\n",
       "        CLASS_NAME,\n",
       "        EXEC_MIME_TYPE\n",
       "      );\n",
       "      this.keyboard_manager.register_events(toinsert);\n",
       "      // Render to node\n",
       "      var props = {data: data, metadata: metadata[EXEC_MIME_TYPE]};\n",
       "      render(props, toinsert[toinsert.length - 1]);\n",
       "      element.append(toinsert);\n",
       "      return toinsert\n",
       "    }\n",
       "\n",
       "    /* Handle when an output is cleared or removed */\n",
       "    events.on('clear_output.CodeCell', handleClearOutput);\n",
       "    events.on('delete.Cell', handleClearOutput);\n",
       "\n",
       "    /* Handle when a new output is added */\n",
       "    events.on('output_added.OutputArea', handleAddOutput);\n",
       "\n",
       "    /**\n",
       "     * Register the mime type and append_mime function with output_area\n",
       "     */\n",
       "    OutputArea.prototype.register_mime_type(EXEC_MIME_TYPE, append_mime, {\n",
       "      /* Is output safe? */\n",
       "      safe: true,\n",
       "      /* Index of renderer in `output_area.display_order` */\n",
       "      index: 0\n",
       "    });\n",
       "  }\n",
       "\n",
       "  // register the mime type if in Jupyter Notebook environment and previously unregistered\n",
       "  if (root.Jupyter !== undefined) {\n",
       "    var events = require('base/js/events');\n",
       "    var OutputArea = require('notebook/js/outputarea').OutputArea;\n",
       "\n",
       "    if (OutputArea.prototype.mime_types().indexOf(EXEC_MIME_TYPE) == -1) {\n",
       "      register_renderer(events, OutputArea);\n",
       "    }\n",
       "  }\n",
       "\n",
       "  \n",
       "  if (typeof (root._bokeh_timeout) === \"undefined\" || force === true) {\n",
       "    root._bokeh_timeout = Date.now() + 5000;\n",
       "    root._bokeh_failed_load = false;\n",
       "  }\n",
       "\n",
       "  var NB_LOAD_WARNING = {'data': {'text/html':\n",
       "     \"<div style='background-color: #fdd'>\\n\"+\n",
       "     \"<p>\\n\"+\n",
       "     \"BokehJS does not appear to have successfully loaded. If loading BokehJS from CDN, this \\n\"+\n",
       "     \"may be due to a slow or bad network connection. Possible fixes:\\n\"+\n",
       "     \"</p>\\n\"+\n",
       "     \"<ul>\\n\"+\n",
       "     \"<li>re-rerun `output_notebook()` to attempt to load from CDN again, or</li>\\n\"+\n",
       "     \"<li>use INLINE resources instead, as so:</li>\\n\"+\n",
       "     \"</ul>\\n\"+\n",
       "     \"<code>\\n\"+\n",
       "     \"from bokeh.resources import INLINE\\n\"+\n",
       "     \"output_notebook(resources=INLINE)\\n\"+\n",
       "     \"</code>\\n\"+\n",
       "     \"</div>\"}};\n",
       "\n",
       "  function display_loaded() {\n",
       "    var el = document.getElementById(\"0161881a-8b06-44ea-8c0b-cad4a0ecae4d\");\n",
       "    if (el != null) {\n",
       "      el.textContent = \"BokehJS is loading...\";\n",
       "    }\n",
       "    if (root.Bokeh !== undefined) {\n",
       "      if (el != null) {\n",
       "        el.textContent = \"BokehJS \" + root.Bokeh.version + \" successfully loaded.\";\n",
       "      }\n",
       "    } else if (Date.now() < root._bokeh_timeout) {\n",
       "      setTimeout(display_loaded, 100)\n",
       "    }\n",
       "  }\n",
       "\n",
       "\n",
       "  function run_callbacks() {\n",
       "    try {\n",
       "      root._bokeh_onload_callbacks.forEach(function(callback) { callback() });\n",
       "    }\n",
       "    finally {\n",
       "      delete root._bokeh_onload_callbacks\n",
       "    }\n",
       "    console.info(\"Bokeh: all callbacks have finished\");\n",
       "  }\n",
       "\n",
       "  function load_libs(js_urls, callback) {\n",
       "    root._bokeh_onload_callbacks.push(callback);\n",
       "    if (root._bokeh_is_loading > 0) {\n",
       "      console.log(\"Bokeh: BokehJS is being loaded, scheduling callback at\", now());\n",
       "      return null;\n",
       "    }\n",
       "    if (js_urls == null || js_urls.length === 0) {\n",
       "      run_callbacks();\n",
       "      return null;\n",
       "    }\n",
       "    console.log(\"Bokeh: BokehJS not loaded, scheduling load and callback at\", now());\n",
       "    root._bokeh_is_loading = js_urls.length;\n",
       "    for (var i = 0; i < js_urls.length; i++) {\n",
       "      var url = js_urls[i];\n",
       "      var s = document.createElement('script');\n",
       "      s.src = url;\n",
       "      s.async = false;\n",
       "      s.onreadystatechange = s.onload = function() {\n",
       "        root._bokeh_is_loading--;\n",
       "        if (root._bokeh_is_loading === 0) {\n",
       "          console.log(\"Bokeh: all BokehJS libraries loaded\");\n",
       "          run_callbacks()\n",
       "        }\n",
       "      };\n",
       "      s.onerror = function() {\n",
       "        console.warn(\"failed to load library \" + url);\n",
       "      };\n",
       "      console.log(\"Bokeh: injecting script tag for BokehJS library: \", url);\n",
       "      document.getElementsByTagName(\"head\")[0].appendChild(s);\n",
       "    }\n",
       "  };var element = document.getElementById(\"0161881a-8b06-44ea-8c0b-cad4a0ecae4d\");\n",
       "  if (element == null) {\n",
       "    console.log(\"Bokeh: ERROR: autoload.js configured with elementid '0161881a-8b06-44ea-8c0b-cad4a0ecae4d' but no matching script tag was found. \")\n",
       "    return false;\n",
       "  }\n",
       "\n",
       "  var js_urls = [\"https://cdn.pydata.org/bokeh/release/bokeh-0.13.0.min.js\", \"https://cdn.pydata.org/bokeh/release/bokeh-widgets-0.13.0.min.js\", \"https://cdn.pydata.org/bokeh/release/bokeh-tables-0.13.0.min.js\", \"https://cdn.pydata.org/bokeh/release/bokeh-gl-0.13.0.min.js\"];\n",
       "\n",
       "  var inline_js = [\n",
       "    function(Bokeh) {\n",
       "      Bokeh.set_log_level(\"info\");\n",
       "    },\n",
       "    \n",
       "    function(Bokeh) {\n",
       "      \n",
       "    },\n",
       "    function(Bokeh) {\n",
       "      console.log(\"Bokeh: injecting CSS: https://cdn.pydata.org/bokeh/release/bokeh-0.13.0.min.css\");\n",
       "      Bokeh.embed.inject_css(\"https://cdn.pydata.org/bokeh/release/bokeh-0.13.0.min.css\");\n",
       "      console.log(\"Bokeh: injecting CSS: https://cdn.pydata.org/bokeh/release/bokeh-widgets-0.13.0.min.css\");\n",
       "      Bokeh.embed.inject_css(\"https://cdn.pydata.org/bokeh/release/bokeh-widgets-0.13.0.min.css\");\n",
       "      console.log(\"Bokeh: injecting CSS: https://cdn.pydata.org/bokeh/release/bokeh-tables-0.13.0.min.css\");\n",
       "      Bokeh.embed.inject_css(\"https://cdn.pydata.org/bokeh/release/bokeh-tables-0.13.0.min.css\");\n",
       "    }\n",
       "  ];\n",
       "\n",
       "  function run_inline_js() {\n",
       "    \n",
       "    if ((root.Bokeh !== undefined) || (force === true)) {\n",
       "      for (var i = 0; i < inline_js.length; i++) {\n",
       "        inline_js[i].call(root, root.Bokeh);\n",
       "      }if (force === true) {\n",
       "        display_loaded();\n",
       "      }} else if (Date.now() < root._bokeh_timeout) {\n",
       "      setTimeout(run_inline_js, 100);\n",
       "    } else if (!root._bokeh_failed_load) {\n",
       "      console.log(\"Bokeh: BokehJS failed to load within specified timeout.\");\n",
       "      root._bokeh_failed_load = true;\n",
       "    } else if (force !== true) {\n",
       "      var cell = $(document.getElementById(\"0161881a-8b06-44ea-8c0b-cad4a0ecae4d\")).parents('.cell').data().cell;\n",
       "      cell.output_area.append_execute_result(NB_LOAD_WARNING)\n",
       "    }\n",
       "\n",
       "  }\n",
       "\n",
       "  if (root._bokeh_is_loading === 0) {\n",
       "    console.log(\"Bokeh: BokehJS loaded, going straight to plotting\");\n",
       "    run_inline_js();\n",
       "  } else {\n",
       "    load_libs(js_urls, function() {\n",
       "      console.log(\"Bokeh: BokehJS plotting callback run at\", now());\n",
       "      run_inline_js();\n",
       "    });\n",
       "  }\n",
       "}(window));"
      ],
      "application/vnd.bokehjs_load.v0+json": "\n(function(root) {\n  function now() {\n    return new Date();\n  }\n\n  var force = true;\n\n  if (typeof (root._bokeh_onload_callbacks) === \"undefined\" || force === true) {\n    root._bokeh_onload_callbacks = [];\n    root._bokeh_is_loading = undefined;\n  }\n\n  \n\n  \n  if (typeof (root._bokeh_timeout) === \"undefined\" || force === true) {\n    root._bokeh_timeout = Date.now() + 5000;\n    root._bokeh_failed_load = false;\n  }\n\n  var NB_LOAD_WARNING = {'data': {'text/html':\n     \"<div style='background-color: #fdd'>\\n\"+\n     \"<p>\\n\"+\n     \"BokehJS does not appear to have successfully loaded. If loading BokehJS from CDN, this \\n\"+\n     \"may be due to a slow or bad network connection. Possible fixes:\\n\"+\n     \"</p>\\n\"+\n     \"<ul>\\n\"+\n     \"<li>re-rerun `output_notebook()` to attempt to load from CDN again, or</li>\\n\"+\n     \"<li>use INLINE resources instead, as so:</li>\\n\"+\n     \"</ul>\\n\"+\n     \"<code>\\n\"+\n     \"from bokeh.resources import INLINE\\n\"+\n     \"output_notebook(resources=INLINE)\\n\"+\n     \"</code>\\n\"+\n     \"</div>\"}};\n\n  function display_loaded() {\n    var el = document.getElementById(\"0161881a-8b06-44ea-8c0b-cad4a0ecae4d\");\n    if (el != null) {\n      el.textContent = \"BokehJS is loading...\";\n    }\n    if (root.Bokeh !== undefined) {\n      if (el != null) {\n        el.textContent = \"BokehJS \" + root.Bokeh.version + \" successfully loaded.\";\n      }\n    } else if (Date.now() < root._bokeh_timeout) {\n      setTimeout(display_loaded, 100)\n    }\n  }\n\n\n  function run_callbacks() {\n    try {\n      root._bokeh_onload_callbacks.forEach(function(callback) { callback() });\n    }\n    finally {\n      delete root._bokeh_onload_callbacks\n    }\n    console.info(\"Bokeh: all callbacks have finished\");\n  }\n\n  function load_libs(js_urls, callback) {\n    root._bokeh_onload_callbacks.push(callback);\n    if (root._bokeh_is_loading > 0) {\n      console.log(\"Bokeh: BokehJS is being loaded, scheduling callback at\", now());\n      return null;\n    }\n    if (js_urls == null || js_urls.length === 0) {\n      run_callbacks();\n      return null;\n    }\n    console.log(\"Bokeh: BokehJS not loaded, scheduling load and callback at\", now());\n    root._bokeh_is_loading = js_urls.length;\n    for (var i = 0; i < js_urls.length; i++) {\n      var url = js_urls[i];\n      var s = document.createElement('script');\n      s.src = url;\n      s.async = false;\n      s.onreadystatechange = s.onload = function() {\n        root._bokeh_is_loading--;\n        if (root._bokeh_is_loading === 0) {\n          console.log(\"Bokeh: all BokehJS libraries loaded\");\n          run_callbacks()\n        }\n      };\n      s.onerror = function() {\n        console.warn(\"failed to load library \" + url);\n      };\n      console.log(\"Bokeh: injecting script tag for BokehJS library: \", url);\n      document.getElementsByTagName(\"head\")[0].appendChild(s);\n    }\n  };var element = document.getElementById(\"0161881a-8b06-44ea-8c0b-cad4a0ecae4d\");\n  if (element == null) {\n    console.log(\"Bokeh: ERROR: autoload.js configured with elementid '0161881a-8b06-44ea-8c0b-cad4a0ecae4d' but no matching script tag was found. \")\n    return false;\n  }\n\n  var js_urls = [\"https://cdn.pydata.org/bokeh/release/bokeh-0.13.0.min.js\", \"https://cdn.pydata.org/bokeh/release/bokeh-widgets-0.13.0.min.js\", \"https://cdn.pydata.org/bokeh/release/bokeh-tables-0.13.0.min.js\", \"https://cdn.pydata.org/bokeh/release/bokeh-gl-0.13.0.min.js\"];\n\n  var inline_js = [\n    function(Bokeh) {\n      Bokeh.set_log_level(\"info\");\n    },\n    \n    function(Bokeh) {\n      \n    },\n    function(Bokeh) {\n      console.log(\"Bokeh: injecting CSS: https://cdn.pydata.org/bokeh/release/bokeh-0.13.0.min.css\");\n      Bokeh.embed.inject_css(\"https://cdn.pydata.org/bokeh/release/bokeh-0.13.0.min.css\");\n      console.log(\"Bokeh: injecting CSS: https://cdn.pydata.org/bokeh/release/bokeh-widgets-0.13.0.min.css\");\n      Bokeh.embed.inject_css(\"https://cdn.pydata.org/bokeh/release/bokeh-widgets-0.13.0.min.css\");\n      console.log(\"Bokeh: injecting CSS: https://cdn.pydata.org/bokeh/release/bokeh-tables-0.13.0.min.css\");\n      Bokeh.embed.inject_css(\"https://cdn.pydata.org/bokeh/release/bokeh-tables-0.13.0.min.css\");\n    }\n  ];\n\n  function run_inline_js() {\n    \n    if ((root.Bokeh !== undefined) || (force === true)) {\n      for (var i = 0; i < inline_js.length; i++) {\n        inline_js[i].call(root, root.Bokeh);\n      }if (force === true) {\n        display_loaded();\n      }} else if (Date.now() < root._bokeh_timeout) {\n      setTimeout(run_inline_js, 100);\n    } else if (!root._bokeh_failed_load) {\n      console.log(\"Bokeh: BokehJS failed to load within specified timeout.\");\n      root._bokeh_failed_load = true;\n    } else if (force !== true) {\n      var cell = $(document.getElementById(\"0161881a-8b06-44ea-8c0b-cad4a0ecae4d\")).parents('.cell').data().cell;\n      cell.output_area.append_execute_result(NB_LOAD_WARNING)\n    }\n\n  }\n\n  if (root._bokeh_is_loading === 0) {\n    console.log(\"Bokeh: BokehJS loaded, going straight to plotting\");\n    run_inline_js();\n  } else {\n    load_libs(js_urls, function() {\n      console.log(\"Bokeh: BokehJS plotting callback run at\", now());\n      run_inline_js();\n    });\n  }\n}(window));"
     },
     "metadata": {},
     "output_type": "display_data"
    },
    {
     "name": "stdout",
     "output_type": "stream",
     "text": [
      "[t-SNE] Computing 91 nearest neighbors...\n",
      "[t-SNE] Indexed 10000 samples in 0.034s...\n",
      "[t-SNE] Computed neighbors for 10000 samples in 2.430s...\n",
      "[t-SNE] Computed conditional probabilities for sample 1000 / 10000\n",
      "[t-SNE] Computed conditional probabilities for sample 2000 / 10000\n",
      "[t-SNE] Computed conditional probabilities for sample 3000 / 10000\n",
      "[t-SNE] Computed conditional probabilities for sample 4000 / 10000\n",
      "[t-SNE] Computed conditional probabilities for sample 5000 / 10000\n",
      "[t-SNE] Computed conditional probabilities for sample 6000 / 10000\n",
      "[t-SNE] Computed conditional probabilities for sample 7000 / 10000\n",
      "[t-SNE] Computed conditional probabilities for sample 8000 / 10000\n",
      "[t-SNE] Computed conditional probabilities for sample 9000 / 10000\n",
      "[t-SNE] Computed conditional probabilities for sample 10000 / 10000\n",
      "[t-SNE] Mean sigma: 0.020068\n",
      "[t-SNE] KL divergence after 250 iterations with early exaggeration: 88.976402\n",
      "[t-SNE] KL divergence after 1000 iterations: 3.010122\n"
     ]
    },
    {
     "data": {
      "text/html": [
       "\n",
       "\n",
       "\n",
       "\n",
       "\n",
       "\n",
       "  <div class=\"bk-root\" id=\"c407415a-f06d-455a-8e7d-c27283dd5862\"></div>\n"
      ]
     },
     "metadata": {},
     "output_type": "display_data"
    },
    {
     "data": {
      "application/javascript": [
       "(function(root) {\n",
       "  function embed_document(root) {\n",
       "    \n",
       "  var docs_json = {\"87d79f7e-7b3b-40db-9bef-0c163ad3e945\":{\"roots\":{\"references\":[{\"attributes\":{},\"id\":\"b91303e7-c956-4a45-99b8-e11db619e8f3\",\"type\":\"WheelZoomTool\"},{\"attributes\":{\"source\":{\"id\":\"5d87be78-f22c-4201-9e99-75e986fde13d\",\"type\":\"ColumnDataSource\"}},\"id\":\"0c6cf592-bb60-4cf1-9a4e-6114b6b0c838\",\"type\":\"CDSView\"},{\"attributes\":{},\"id\":\"2863397b-0c63-404f-96cb-6c646354a1b7\",\"type\":\"ResetTool\"},{\"attributes\":{\"callback\":null,\"renderers\":\"auto\",\"tooltips\":[[\"word\",\"@words\"]]},\"id\":\"cffe1e50-017b-4912-9d7f-b39ce4d78752\",\"type\":\"HoverTool\"},{\"attributes\":{\"callback\":null,\"data\":{\"index\":[0,1,2,3,4,5,6,7,8,9,10,11,12,13,14,15,16,17,18,19,20,21,22,23,24,25,26,27,28,29,30,31,32,33,34,35,36,37,38,39,40,41,42,43,44,45,46,47,48,49,50,51,52,53,54,55,56,57,58,59,60,61,62,63,64,65,66,67,68,69,70,71,72,73,74,75,76,77,78,79,80,81,82,83,84,85,86,87,88,89,90,91,92,93,94,95,96,97,98,99,100,101,102,103,104,105,106,107,108,109,110,111,112,113,114,115,116,117,118,119,120,121,122,123,124,125,126,127,128,129,130,131,132,133,134,135,136,137,138,139,140,141,142,143,144,145,146,147,148,149,150,151,152,153,154,155,156,157,158,159,160,161,162,163,164,165,166,167,168,169,170,171,172,173,174,175,176,177,178,179,180,181,182,183,184,185,186,187,188,189,190,191,192,193,194,195,196,197,198,199,200,201,202,203,204,205,206,207,208,209,210,211,212,213,214,215,216,217,218,219,220,221,222,223,224,225,226,227,228,229,230,231,232,233,234,235,236,237,238,239,240,241,242,243,244,245,246,247,248,249,250,251,252,253,254,255,256,257,258,259,260,261,262,263,264,265,266,267,268,269,270,271,272,273,274,275,276,277,278,279,280,281,282,283,284,285,286,287,288,289,290,291,292,293,294,295,296,297,298,299,300,301,302,303,304,305,306,307,308,309,310,311,312,313,314,315,316,317,318,319,320,321,322,323,324,325,326,327,328,329,330,331,332,333,334,335,336,337,338,339,340,341,342,343,344,345,346,347,348,349,350,351,352,353,354,355,356,357,358,359,360,361,362,363,364,365,366,367,368,369,370,371,372,373,374,375,376,377,378,379,380,381,382,383,384,385,386,387,388,389,390,391,392,393,394,395,396,397,398,399,400,401,402,403,404,405,406,407,408,409,410,411,412,413,414,415,416,417,418,419,420,421,422,423,424,425,426,427,428,429,430,431,432,433,434,435,436,437,438,439,440,441,442,443,444,445,446,447,448,449,450,451,452,453,454,455,456,457,458,459,460,461,462,463,464,465,466,467,468,469,470,471,472,473,474,475,476,477,478,479,480,481,482,483,484,485,486,487,488,489,490,491,492,493,494,495,496,497,498,499,500,501,502,503,504,505,506,507,508,509,510,511,512,513,514,515,516,517,518,519,520,521,522,523,524,525,526,527,528,529,530,531,532,533,534,535,536,537,538,539,540,541,542,543,544,545,546,547,548,549,550,551,552,553,554,555,556,557,558,559,560,561,562,563,564,565,566,567,568,569,570,571,572,573,574,575,576,577,578,579,580,581,582,583,584,585,586,587,588,589,590,591,592,593,594,595,596,597,598,599,600,601,602,603,604,605,606,607,608,609,610,611,612,613,614,615,616,617,618,619,620,621,622,623,624,625,626,627,628,629,630,631,632,633,634,635,636,637,638,639,640,641,642,643,644,645,646,647,648,649,650,651,652,653,654,655,656,657,658,659,660,661,662,663,664,665,666,667,668,669,670,671,672,673,674,675,676,677,678,679,680,681,682,683,684,685,686,687,688,689,690,691,692,693,694,695,696,697,698,699,700,701,702,703,704,705,706,707,708,709,710,711,712,713,714,715,716,717,718,719,720,721,722,723,724,725,726,727,728,729,730,731,732,733,734,735,736,737,738,739,740,741,742,743,744,745,746,747,748,749,750,751,752,753,754,755,756,757,758,759,760,761,762,763,764,765,766,767,768,769,770,771,772,773,774,775,776,777,778,779,780,781,782,783,784,785,786,787,788,789,790,791,792,793,794,795,796,797,798,799,800,801,802,803,804,805,806,807,808,809,810,811,812,813,814,815,816,817,818,819,820,821,822,823,824,825,826,827,828,829,830,831,832,833,834,835,836,837,838,839,840,841,842,843,844,845,846,847,848,849,850,851,852,853,854,855,856,857,858,859,860,861,862,863,864,865,866,867,868,869,870,871,872,873,874,875,876,877,878,879,880,881,882,883,884,885,886,887,888,889,890,891,892,893,894,895,896,897,898,899,900,901,902,903,904,905,906,907,908,909,910,911,912,913,914,915,916,917,918,919,920,921,922,923,924,925,926,927,928,929,930,931,932,933,934,935,936,937,938,939,940,941,942,943,944,945,946,947,948,949,950,951,952,953,954,955,956,957,958,959,960,961,962,963,964,965,966,967,968,969,970,971,972,973,974,975,976,977,978,979,980,981,982,983,984,985,986,987,988,989,990,991,992,993,994,995,996,997,998,999,1000,1001,1002,1003,1004,1005,1006,1007,1008,1009,1010,1011,1012,1013,1014,1015,1016,1017,1018,1019,1020,1021,1022,1023,1024,1025,1026,1027,1028,1029,1030,1031,1032,1033,1034,1035,1036,1037,1038,1039,1040,1041,1042,1043,1044,1045,1046,1047,1048,1049,1050,1051,1052,1053,1054,1055,1056,1057,1058,1059,1060,1061,1062,1063,1064,1065,1066,1067,1068,1069,1070,1071,1072,1073,1074,1075,1076,1077,1078,1079,1080,1081,1082,1083,1084,1085,1086,1087,1088,1089,1090,1091,1092,1093,1094,1095,1096,1097,1098,1099,1100,1101,1102,1103,1104,1105,1106,1107,1108,1109,1110,1111,1112,1113,1114,1115,1116,1117,1118,1119,1120,1121,1122,1123,1124,1125,1126,1127,1128,1129,1130,1131,1132,1133,1134,1135,1136,1137,1138,1139,1140,1141,1142,1143,1144,1145,1146,1147,1148,1149,1150,1151,1152,1153,1154,1155,1156,1157,1158,1159,1160,1161,1162,1163,1164,1165,1166,1167,1168,1169,1170,1171,1172,1173,1174,1175,1176,1177,1178,1179,1180,1181,1182,1183,1184,1185,1186,1187,1188,1189,1190,1191,1192,1193,1194,1195,1196,1197,1198,1199,1200,1201,1202,1203,1204,1205,1206,1207,1208,1209,1210,1211,1212,1213,1214,1215,1216,1217,1218,1219,1220,1221,1222,1223,1224,1225,1226,1227,1228,1229,1230,1231,1232,1233,1234,1235,1236,1237,1238,1239,1240,1241,1242,1243,1244,1245,1246,1247,1248,1249,1250,1251,1252,1253,1254,1255,1256,1257,1258,1259,1260,1261,1262,1263,1264,1265,1266,1267,1268,1269,1270,1271,1272,1273,1274,1275,1276,1277,1278,1279,1280,1281,1282,1283,1284,1285,1286,1287,1288,1289,1290,1291,1292,1293,1294,1295,1296,1297,1298,1299,1300,1301,1302,1303,1304,1305,1306,1307,1308,1309,1310,1311,1312,1313,1314,1315,1316,1317,1318,1319,1320,1321,1322,1323,1324,1325,1326,1327,1328,1329,1330,1331,1332,1333,1334,1335,1336,1337,1338,1339,1340,1341,1342,1343,1344,1345,1346,1347,1348,1349,1350,1351,1352,1353,1354,1355,1356,1357,1358,1359,1360,1361,1362,1363,1364,1365,1366,1367,1368,1369,1370,1371,1372,1373,1374,1375,1376,1377,1378,1379,1380,1381,1382,1383,1384,1385,1386,1387,1388,1389,1390,1391,1392,1393,1394,1395,1396,1397,1398,1399,1400,1401,1402,1403,1404,1405,1406,1407,1408,1409,1410,1411,1412,1413,1414,1415,1416,1417,1418,1419,1420,1421,1422,1423,1424,1425,1426,1427,1428,1429,1430,1431,1432,1433,1434,1435,1436,1437,1438,1439,1440,1441,1442,1443,1444,1445,1446,1447,1448,1449,1450,1451,1452,1453,1454,1455,1456,1457,1458,1459,1460,1461,1462,1463,1464,1465,1466,1467,1468,1469,1470,1471,1472,1473,1474,1475,1476,1477,1478,1479,1480,1481,1482,1483,1484,1485,1486,1487,1488,1489,1490,1491,1492,1493,1494,1495,1496,1497,1498,1499,1500,1501,1502,1503,1504,1505,1506,1507,1508,1509,1510,1511,1512,1513,1514,1515,1516,1517,1518,1519,1520,1521,1522,1523,1524,1525,1526,1527,1528,1529,1530,1531,1532,1533,1534,1535,1536,1537,1538,1539,1540,1541,1542,1543,1544,1545,1546,1547,1548,1549,1550,1551,1552,1553,1554,1555,1556,1557,1558,1559,1560,1561,1562,1563,1564,1565,1566,1567,1568,1569,1570,1571,1572,1573,1574,1575,1576,1577,1578,1579,1580,1581,1582,1583,1584,1585,1586,1587,1588,1589,1590,1591,1592,1593,1594,1595,1596,1597,1598,1599,1600,1601,1602,1603,1604,1605,1606,1607,1608,1609,1610,1611,1612,1613,1614,1615,1616,1617,1618,1619,1620,1621,1622,1623,1624,1625,1626,1627,1628,1629,1630,1631,1632,1633,1634,1635,1636,1637,1638,1639,1640,1641,1642,1643,1644,1645,1646,1647,1648,1649,1650,1651,1652,1653,1654,1655,1656,1657,1658,1659,1660,1661,1662,1663,1664,1665,1666,1667,1668,1669,1670,1671,1672,1673,1674,1675,1676,1677,1678,1679,1680,1681,1682,1683,1684,1685,1686,1687,1688,1689,1690,1691,1692,1693,1694,1695,1696,1697,1698,1699,1700,1701,1702,1703,1704,1705,1706,1707,1708,1709,1710,1711,1712,1713,1714,1715,1716,1717,1718,1719,1720,1721,1722,1723,1724,1725,1726,1727,1728,1729,1730,1731,1732,1733,1734,1735,1736,1737,1738,1739,1740,1741,1742,1743,1744,1745,1746,1747,1748,1749,1750,1751,1752,1753,1754,1755,1756,1757,1758,1759,1760,1761,1762,1763,1764,1765,1766,1767,1768,1769,1770,1771,1772,1773,1774,1775,1776,1777,1778,1779,1780,1781,1782,1783,1784,1785,1786,1787,1788,1789,1790,1791,1792,1793,1794,1795,1796,1797,1798,1799,1800,1801,1802,1803,1804,1805,1806,1807,1808,1809,1810,1811,1812,1813,1814,1815,1816,1817,1818,1819,1820,1821,1822,1823,1824,1825,1826,1827,1828,1829,1830,1831,1832,1833,1834,1835,1836,1837,1838,1839,1840,1841,1842,1843,1844,1845,1846,1847,1848,1849,1850,1851,1852,1853,1854,1855,1856,1857,1858,1859,1860,1861,1862,1863,1864,1865,1866,1867,1868,1869,1870,1871,1872,1873,1874,1875,1876,1877,1878,1879,1880,1881,1882,1883,1884,1885,1886,1887,1888,1889,1890,1891,1892,1893,1894,1895,1896,1897,1898,1899,1900,1901,1902,1903,1904,1905,1906,1907,1908,1909,1910,1911,1912,1913,1914,1915,1916,1917,1918,1919,1920,1921,1922,1923,1924,1925,1926,1927,1928,1929,1930,1931,1932,1933,1934,1935,1936,1937,1938,1939,1940,1941,1942,1943,1944,1945,1946,1947,1948,1949,1950,1951,1952,1953,1954,1955,1956,1957,1958,1959,1960,1961,1962,1963,1964,1965,1966,1967,1968,1969,1970,1971,1972,1973,1974,1975,1976,1977,1978,1979,1980,1981,1982,1983,1984,1985,1986,1987,1988,1989,1990,1991,1992,1993,1994,1995,1996,1997,1998,1999,2000,2001,2002,2003,2004,2005,2006,2007,2008,2009,2010,2011,2012,2013,2014,2015,2016,2017,2018,2019,2020,2021,2022,2023,2024,2025,2026,2027,2028,2029,2030,2031,2032,2033,2034,2035,2036,2037,2038,2039,2040,2041,2042,2043,2044,2045,2046,2047,2048,2049,2050,2051,2052,2053,2054,2055,2056,2057,2058,2059,2060,2061,2062,2063,2064,2065,2066,2067,2068,2069,2070,2071,2072,2073,2074,2075,2076,2077,2078,2079,2080,2081,2082,2083,2084,2085,2086,2087,2088,2089,2090,2091,2092,2093,2094,2095,2096,2097,2098,2099,2100,2101,2102,2103,2104,2105,2106,2107,2108,2109,2110,2111,2112,2113,2114,2115,2116,2117,2118,2119,2120,2121,2122,2123,2124,2125,2126,2127,2128,2129,2130,2131,2132,2133,2134,2135,2136,2137,2138,2139,2140,2141,2142,2143,2144,2145,2146,2147,2148,2149,2150,2151,2152,2153,2154,2155,2156,2157,2158,2159,2160,2161,2162,2163,2164,2165,2166,2167,2168,2169,2170,2171,2172,2173,2174,2175,2176,2177,2178,2179,2180,2181,2182,2183,2184,2185,2186,2187,2188,2189,2190,2191,2192,2193,2194,2195,2196,2197,2198,2199,2200,2201,2202,2203,2204,2205,2206,2207,2208,2209,2210,2211,2212,2213,2214,2215,2216,2217,2218,2219,2220,2221,2222,2223,2224,2225,2226,2227,2228,2229,2230,2231,2232,2233,2234,2235,2236,2237,2238,2239,2240,2241,2242,2243,2244,2245,2246,2247,2248,2249,2250,2251,2252,2253,2254,2255,2256,2257,2258,2259,2260,2261,2262,2263,2264,2265,2266,2267,2268,2269,2270,2271,2272,2273,2274,2275,2276,2277,2278,2279,2280,2281,2282,2283,2284,2285,2286,2287,2288,2289,2290,2291,2292,2293,2294,2295,2296,2297,2298,2299,2300,2301,2302,2303,2304,2305,2306,2307,2308,2309,2310,2311,2312,2313,2314,2315,2316,2317,2318,2319,2320,2321,2322,2323,2324,2325,2326,2327,2328,2329,2330,2331,2332,2333,2334,2335,2336,2337,2338,2339,2340,2341,2342,2343,2344,2345,2346,2347,2348,2349,2350,2351,2352,2353,2354,2355,2356,2357,2358,2359,2360,2361,2362,2363,2364,2365,2366,2367,2368,2369,2370,2371,2372,2373,2374,2375,2376,2377,2378,2379,2380,2381,2382,2383,2384,2385,2386,2387,2388,2389,2390,2391,2392,2393,2394,2395,2396,2397,2398,2399,2400,2401,2402,2403,2404,2405,2406,2407,2408,2409,2410,2411,2412,2413,2414,2415,2416,2417,2418,2419,2420,2421,2422,2423,2424,2425,2426,2427,2428,2429,2430,2431,2432,2433,2434,2435,2436,2437,2438,2439,2440,2441,2442,2443,2444,2445,2446,2447,2448,2449,2450,2451,2452,2453,2454,2455,2456,2457,2458,2459,2460,2461,2462,2463,2464,2465,2466,2467,2468,2469,2470,2471,2472,2473,2474,2475,2476,2477,2478,2479,2480,2481,2482,2483,2484,2485,2486,2487,2488,2489,2490,2491,2492,2493,2494,2495,2496,2497,2498,2499,2500,2501,2502,2503,2504,2505,2506,2507,2508,2509,2510,2511,2512,2513,2514,2515,2516,2517,2518,2519,2520,2521,2522,2523,2524,2525,2526,2527,2528,2529,2530,2531,2532,2533,2534,2535,2536,2537,2538,2539,2540,2541,2542,2543,2544,2545,2546,2547,2548,2549,2550,2551,2552,2553,2554,2555,2556,2557,2558,2559,2560,2561,2562,2563,2564,2565,2566,2567,2568,2569,2570,2571,2572,2573,2574,2575,2576,2577,2578,2579,2580,2581,2582,2583,2584,2585,2586,2587,2588,2589,2590,2591,2592,2593,2594,2595,2596,2597,2598,2599,2600,2601,2602,2603,2604,2605,2606,2607,2608,2609,2610,2611,2612,2613,2614,2615,2616,2617,2618,2619,2620,2621,2622,2623,2624,2625,2626,2627,2628,2629,2630,2631,2632,2633,2634,2635,2636,2637,2638,2639,2640,2641,2642,2643,2644,2645,2646,2647,2648,2649,2650,2651,2652,2653,2654,2655,2656,2657,2658,2659,2660,2661,2662,2663,2664,2665,2666,2667,2668,2669,2670,2671,2672,2673,2674,2675,2676,2677,2678,2679,2680,2681,2682,2683,2684,2685,2686,2687,2688,2689,2690,2691,2692,2693,2694,2695,2696,2697,2698,2699,2700,2701,2702,2703,2704,2705,2706,2707,2708,2709,2710,2711,2712,2713,2714,2715,2716,2717,2718,2719,2720,2721,2722,2723,2724,2725,2726,2727,2728,2729,2730,2731,2732,2733,2734,2735,2736,2737,2738,2739,2740,2741,2742,2743,2744,2745,2746,2747,2748,2749,2750,2751,2752,2753,2754,2755,2756,2757,2758,2759,2760,2761,2762,2763,2764,2765,2766,2767,2768,2769,2770,2771,2772,2773,2774,2775,2776,2777,2778,2779,2780,2781,2782,2783,2784,2785,2786,2787,2788,2789,2790,2791,2792,2793,2794,2795,2796,2797,2798,2799,2800,2801,2802,2803,2804,2805,2806,2807,2808,2809,2810,2811,2812,2813,2814,2815,2816,2817,2818,2819,2820,2821,2822,2823,2824,2825,2826,2827,2828,2829,2830,2831,2832,2833,2834,2835,2836,2837,2838,2839,2840,2841,2842,2843,2844,2845,2846,2847,2848,2849,2850,2851,2852,2853,2854,2855,2856,2857,2858,2859,2860,2861,2862,2863,2864,2865,2866,2867,2868,2869,2870,2871,2872,2873,2874,2875,2876,2877,2878,2879,2880,2881,2882,2883,2884,2885,2886,2887,2888,2889,2890,2891,2892,2893,2894,2895,2896,2897,2898,2899,2900,2901,2902,2903,2904,2905,2906,2907,2908,2909,2910,2911,2912,2913,2914,2915,2916,2917,2918,2919,2920,2921,2922,2923,2924,2925,2926,2927,2928,2929,2930,2931,2932,2933,2934,2935,2936,2937,2938,2939,2940,2941,2942,2943,2944,2945,2946,2947,2948,2949,2950,2951,2952,2953,2954,2955,2956,2957,2958,2959,2960,2961,2962,2963,2964,2965,2966,2967,2968,2969,2970,2971,2972,2973,2974,2975,2976,2977,2978,2979,2980,2981,2982,2983,2984,2985,2986,2987,2988,2989,2990,2991,2992,2993,2994,2995,2996,2997,2998,2999,3000,3001,3002,3003,3004,3005,3006,3007,3008,3009,3010,3011,3012,3013,3014,3015,3016,3017,3018,3019,3020,3021,3022,3023,3024,3025,3026,3027,3028,3029,3030,3031,3032,3033,3034,3035,3036,3037,3038,3039,3040,3041,3042,3043,3044,3045,3046,3047,3048,3049,3050,3051,3052,3053,3054,3055,3056,3057,3058,3059,3060,3061,3062,3063,3064,3065,3066,3067,3068,3069,3070,3071,3072,3073,3074,3075,3076,3077,3078,3079,3080,3081,3082,3083,3084,3085,3086,3087,3088,3089,3090,3091,3092,3093,3094,3095,3096,3097,3098,3099,3100,3101,3102,3103,3104,3105,3106,3107,3108,3109,3110,3111,3112,3113,3114,3115,3116,3117,3118,3119,3120,3121,3122,3123,3124,3125,3126,3127,3128,3129,3130,3131,3132,3133,3134,3135,3136,3137,3138,3139,3140,3141,3142,3143,3144,3145,3146,3147,3148,3149,3150,3151,3152,3153,3154,3155,3156,3157,3158,3159,3160,3161,3162,3163,3164,3165,3166,3167,3168,3169,3170,3171,3172,3173,3174,3175,3176,3177,3178,3179,3180,3181,3182,3183,3184,3185,3186,3187,3188,3189,3190,3191,3192,3193,3194,3195,3196,3197,3198,3199,3200,3201,3202,3203,3204,3205,3206,3207,3208,3209,3210,3211,3212,3213,3214,3215,3216,3217,3218,3219,3220,3221,3222,3223,3224,3225,3226,3227,3228,3229,3230,3231,3232,3233,3234,3235,3236,3237,3238,3239,3240,3241,3242,3243,3244,3245,3246,3247,3248,3249,3250,3251,3252,3253,3254,3255,3256,3257,3258,3259,3260,3261,3262,3263,3264,3265,3266,3267,3268,3269,3270,3271,3272,3273,3274,3275,3276,3277,3278,3279,3280,3281,3282,3283,3284,3285,3286,3287,3288,3289,3290,3291,3292,3293,3294,3295,3296,3297,3298,3299,3300,3301,3302,3303,3304,3305,3306,3307,3308,3309,3310,3311,3312,3313,3314,3315,3316,3317,3318,3319,3320,3321,3322,3323,3324,3325,3326,3327,3328,3329,3330,3331,3332,3333,3334,3335,3336,3337,3338,3339,3340,3341,3342,3343,3344,3345,3346,3347,3348,3349,3350,3351,3352,3353,3354,3355,3356,3357,3358,3359,3360,3361,3362,3363,3364,3365,3366,3367,3368,3369,3370,3371,3372,3373,3374,3375,3376,3377,3378,3379,3380,3381,3382,3383,3384,3385,3386,3387,3388,3389,3390,3391,3392,3393,3394,3395,3396,3397,3398,3399,3400,3401,3402,3403,3404,3405,3406,3407,3408,3409,3410,3411,3412,3413,3414,3415,3416,3417,3418,3419,3420,3421,3422,3423,3424,3425,3426,3427,3428,3429,3430,3431,3432,3433,3434,3435,3436,3437,3438,3439,3440,3441,3442,3443,3444,3445,3446,3447,3448,3449,3450,3451,3452,3453,3454,3455,3456,3457,3458,3459,3460,3461,3462,3463,3464,3465,3466,3467,3468,3469,3470,3471,3472,3473,3474,3475,3476,3477,3478,3479,3480,3481,3482,3483,3484,3485,3486,3487,3488,3489,3490,3491,3492,3493,3494,3495,3496,3497,3498,3499,3500,3501,3502,3503,3504,3505,3506,3507,3508,3509,3510,3511,3512,3513,3514,3515,3516,3517,3518,3519,3520,3521,3522,3523,3524,3525,3526,3527,3528,3529,3530,3531,3532,3533,3534,3535,3536,3537,3538,3539,3540,3541,3542,3543,3544,3545,3546,3547,3548,3549,3550,3551,3552,3553,3554,3555,3556,3557,3558,3559,3560,3561,3562,3563,3564,3565,3566,3567,3568,3569,3570,3571,3572,3573,3574,3575,3576,3577,3578,3579,3580,3581,3582,3583,3584,3585,3586,3587,3588,3589,3590,3591,3592,3593,3594,3595,3596,3597,3598,3599,3600,3601,3602,3603,3604,3605,3606,3607,3608,3609,3610,3611,3612,3613,3614,3615,3616,3617,3618,3619,3620,3621,3622,3623,3624,3625,3626,3627,3628,3629,3630,3631,3632,3633,3634,3635,3636,3637,3638,3639,3640,3641,3642,3643,3644,3645,3646,3647,3648,3649,3650,3651,3652,3653,3654,3655,3656,3657,3658,3659,3660,3661,3662,3663,3664,3665,3666,3667,3668,3669,3670,3671,3672,3673,3674,3675,3676,3677,3678,3679,3680,3681,3682,3683,3684,3685,3686,3687,3688,3689,3690,3691,3692,3693,3694,3695,3696,3697,3698,3699,3700,3701,3702,3703,3704,3705,3706,3707,3708,3709,3710,3711,3712,3713,3714,3715,3716,3717,3718,3719,3720,3721,3722,3723,3724,3725,3726,3727,3728,3729,3730,3731,3732,3733,3734,3735,3736,3737,3738,3739,3740,3741,3742,3743,3744,3745,3746,3747,3748,3749,3750,3751,3752,3753,3754,3755,3756,3757,3758,3759,3760,3761,3762,3763,3764,3765,3766,3767,3768,3769,3770,3771,3772,3773,3774,3775,3776,3777,3778,3779,3780,3781,3782,3783,3784,3785,3786,3787,3788,3789,3790,3791,3792,3793,3794,3795,3796,3797,3798,3799,3800,3801,3802,3803,3804,3805,3806,3807,3808,3809,3810,3811,3812,3813,3814,3815,3816,3817,3818,3819,3820,3821,3822,3823,3824,3825,3826,3827,3828,3829,3830,3831,3832,3833,3834,3835,3836,3837,3838,3839,3840,3841,3842,3843,3844,3845,3846,3847,3848,3849,3850,3851,3852,3853,3854,3855,3856,3857,3858,3859,3860,3861,3862,3863,3864,3865,3866,3867,3868,3869,3870,3871,3872,3873,3874,3875,3876,3877,3878,3879,3880,3881,3882,3883,3884,3885,3886,3887,3888,3889,3890,3891,3892,3893,3894,3895,3896,3897,3898,3899,3900,3901,3902,3903,3904,3905,3906,3907,3908,3909,3910,3911,3912,3913,3914,3915,3916,3917,3918,3919,3920,3921,3922,3923,3924,3925,3926,3927,3928,3929,3930,3931,3932,3933,3934,3935,3936,3937,3938,3939,3940,3941,3942,3943,3944,3945,3946,3947,3948,3949,3950,3951,3952,3953,3954,3955,3956,3957,3958,3959,3960,3961,3962,3963,3964,3965,3966,3967,3968,3969,3970,3971,3972,3973,3974,3975,3976,3977,3978,3979,3980,3981,3982,3983,3984,3985,3986,3987,3988,3989,3990,3991,3992,3993,3994,3995,3996,3997,3998,3999,4000,4001,4002,4003,4004,4005,4006,4007,4008,4009,4010,4011,4012,4013,4014,4015,4016,4017,4018,4019,4020,4021,4022,4023,4024,4025,4026,4027,4028,4029,4030,4031,4032,4033,4034,4035,4036,4037,4038,4039,4040,4041,4042,4043,4044,4045,4046,4047,4048,4049,4050,4051,4052,4053,4054,4055,4056,4057,4058,4059,4060,4061,4062,4063,4064,4065,4066,4067,4068,4069,4070,4071,4072,4073,4074,4075,4076,4077,4078,4079,4080,4081,4082,4083,4084,4085,4086,4087,4088,4089,4090,4091,4092,4093,4094,4095,4096,4097,4098,4099,4100,4101,4102,4103,4104,4105,4106,4107,4108,4109,4110,4111,4112,4113,4114,4115,4116,4117,4118,4119,4120,4121,4122,4123,4124,4125,4126,4127,4128,4129,4130,4131,4132,4133,4134,4135,4136,4137,4138,4139,4140,4141,4142,4143,4144,4145,4146,4147,4148,4149,4150,4151,4152,4153,4154,4155,4156,4157,4158,4159,4160,4161,4162,4163,4164,4165,4166,4167,4168,4169,4170,4171,4172,4173,4174,4175,4176,4177,4178,4179,4180,4181,4182,4183,4184,4185,4186,4187,4188,4189,4190,4191,4192,4193,4194,4195,4196,4197,4198,4199,4200,4201,4202,4203,4204,4205,4206,4207,4208,4209,4210,4211,4212,4213,4214,4215,4216,4217,4218,4219,4220,4221,4222,4223,4224,4225,4226,4227,4228,4229,4230,4231,4232,4233,4234,4235,4236,4237,4238,4239,4240,4241,4242,4243,4244,4245,4246,4247,4248,4249,4250,4251,4252,4253,4254,4255,4256,4257,4258,4259,4260,4261,4262,4263,4264,4265,4266,4267,4268,4269,4270,4271,4272,4273,4274,4275,4276,4277,4278,4279,4280,4281,4282,4283,4284,4285,4286,4287,4288,4289,4290,4291,4292,4293,4294,4295,4296,4297,4298,4299,4300,4301,4302,4303,4304,4305,4306,4307,4308,4309,4310,4311,4312,4313,4314,4315,4316,4317,4318,4319,4320,4321,4322,4323,4324,4325,4326,4327,4328,4329,4330,4331,4332,4333,4334,4335,4336,4337,4338,4339,4340,4341,4342,4343,4344,4345,4346,4347,4348,4349,4350,4351,4352,4353,4354,4355,4356,4357,4358,4359,4360,4361,4362,4363,4364,4365,4366,4367,4368,4369,4370,4371,4372,4373,4374,4375,4376,4377,4378,4379,4380,4381,4382,4383,4384,4385,4386,4387,4388,4389,4390,4391,4392,4393,4394,4395,4396,4397,4398,4399,4400,4401,4402,4403,4404,4405,4406,4407,4408,4409,4410,4411,4412,4413,4414,4415,4416,4417,4418,4419,4420,4421,4422,4423,4424,4425,4426,4427,4428,4429,4430,4431,4432,4433,4434,4435,4436,4437,4438,4439,4440,4441,4442,4443,4444,4445,4446,4447,4448,4449,4450,4451,4452,4453,4454,4455,4456,4457,4458,4459,4460,4461,4462,4463,4464,4465,4466,4467,4468,4469,4470,4471,4472,4473,4474,4475,4476,4477,4478,4479,4480,4481,4482,4483,4484,4485,4486,4487,4488,4489,4490,4491,4492,4493,4494,4495,4496,4497,4498,4499,4500,4501,4502,4503,4504,4505,4506,4507,4508,4509,4510,4511,4512,4513,4514,4515,4516,4517,4518,4519,4520,4521,4522,4523,4524,4525,4526,4527,4528,4529,4530,4531,4532,4533,4534,4535,4536,4537,4538,4539,4540,4541,4542,4543,4544,4545,4546,4547,4548,4549,4550,4551,4552,4553,4554,4555,4556,4557,4558,4559,4560,4561,4562,4563,4564,4565,4566,4567,4568,4569,4570,4571,4572,4573,4574,4575,4576,4577,4578,4579,4580,4581,4582,4583,4584,4585,4586,4587,4588,4589,4590,4591,4592,4593,4594,4595,4596,4597,4598,4599,4600,4601,4602,4603,4604,4605,4606,4607,4608,4609,4610,4611,4612,4613,4614,4615,4616,4617,4618,4619,4620,4621,4622,4623,4624,4625,4626,4627,4628,4629,4630,4631,4632,4633,4634,4635,4636,4637,4638,4639,4640,4641,4642,4643,4644,4645,4646,4647,4648,4649,4650,4651,4652,4653,4654,4655,4656,4657,4658,4659,4660,4661,4662,4663,4664,4665,4666,4667,4668,4669,4670,4671,4672,4673,4674,4675,4676,4677,4678,4679,4680,4681,4682,4683,4684,4685,4686,4687,4688,4689,4690,4691,4692,4693,4694,4695,4696,4697,4698,4699,4700,4701,4702,4703,4704,4705,4706,4707,4708,4709,4710,4711,4712,4713,4714,4715,4716,4717,4718,4719,4720,4721,4722,4723,4724,4725,4726,4727,4728,4729,4730,4731,4732,4733,4734,4735,4736,4737,4738,4739,4740,4741,4742,4743,4744,4745,4746,4747,4748,4749,4750,4751,4752,4753,4754,4755,4756,4757,4758,4759,4760,4761,4762,4763,4764,4765,4766,4767,4768,4769,4770,4771,4772,4773,4774,4775,4776,4777,4778,4779,4780,4781,4782,4783,4784,4785,4786,4787,4788,4789,4790,4791,4792,4793,4794,4795,4796,4797,4798,4799,4800,4801,4802,4803,4804,4805,4806,4807,4808,4809,4810,4811,4812,4813,4814,4815,4816,4817,4818,4819,4820,4821,4822,4823,4824,4825,4826,4827,4828,4829,4830,4831,4832,4833,4834,4835,4836,4837,4838,4839,4840,4841,4842,4843,4844,4845,4846,4847,4848,4849,4850,4851,4852,4853,4854,4855,4856,4857,4858,4859,4860,4861,4862,4863,4864,4865,4866,4867,4868,4869,4870,4871,4872,4873,4874,4875,4876,4877,4878,4879,4880,4881,4882,4883,4884,4885,4886,4887,4888,4889,4890,4891,4892,4893,4894,4895,4896,4897,4898,4899,4900,4901,4902,4903,4904,4905,4906,4907,4908,4909,4910,4911,4912,4913,4914,4915,4916,4917,4918,4919,4920,4921,4922,4923,4924,4925,4926,4927,4928,4929,4930,4931,4932,4933,4934,4935,4936,4937,4938,4939,4940,4941,4942,4943,4944,4945,4946,4947,4948,4949,4950,4951,4952,4953,4954,4955,4956,4957,4958,4959,4960,4961,4962,4963,4964,4965,4966,4967,4968,4969,4970,4971,4972,4973,4974,4975,4976,4977,4978,4979,4980,4981,4982,4983,4984,4985,4986,4987,4988,4989,4990,4991,4992,4993,4994,4995,4996,4997,4998,4999,5000,5001,5002,5003,5004,5005,5006,5007,5008,5009,5010,5011,5012,5013,5014,5015,5016,5017,5018,5019,5020,5021,5022,5023,5024,5025,5026,5027,5028,5029,5030,5031,5032,5033,5034,5035,5036,5037,5038,5039,5040,5041,5042,5043,5044,5045,5046,5047,5048,5049,5050,5051,5052,5053,5054,5055,5056,5057,5058,5059,5060,5061,5062,5063,5064,5065,5066,5067,5068,5069,5070,5071,5072,5073,5074,5075,5076,5077,5078,5079,5080,5081,5082,5083,5084,5085,5086,5087,5088,5089,5090,5091,5092,5093,5094,5095,5096,5097,5098,5099,5100,5101,5102,5103,5104,5105,5106,5107,5108,5109,5110,5111,5112,5113,5114,5115,5116,5117,5118,5119,5120,5121,5122,5123,5124,5125,5126,5127,5128,5129,5130,5131,5132,5133,5134,5135,5136,5137,5138,5139,5140,5141,5142,5143,5144,5145,5146,5147,5148,5149,5150,5151,5152,5153,5154,5155,5156,5157,5158,5159,5160,5161,5162,5163,5164,5165,5166,5167,5168,5169,5170,5171,5172,5173,5174,5175,5176,5177,5178,5179,5180,5181,5182,5183,5184,5185,5186,5187,5188,5189,5190,5191,5192,5193,5194,5195,5196,5197,5198,5199,5200,5201,5202,5203,5204,5205,5206,5207,5208,5209,5210,5211,5212,5213,5214,5215,5216,5217,5218,5219,5220,5221,5222,5223,5224,5225,5226,5227,5228,5229,5230,5231,5232,5233,5234,5235,5236,5237,5238,5239,5240,5241,5242,5243,5244,5245,5246,5247,5248,5249,5250,5251,5252,5253,5254,5255,5256,5257,5258,5259,5260,5261,5262,5263,5264,5265,5266,5267,5268,5269,5270,5271,5272,5273,5274,5275,5276,5277,5278,5279,5280,5281,5282,5283,5284,5285,5286,5287,5288,5289,5290,5291,5292,5293,5294,5295,5296,5297,5298,5299,5300,5301,5302,5303,5304,5305,5306,5307,5308,5309,5310,5311,5312,5313,5314,5315,5316,5317,5318,5319,5320,5321,5322,5323,5324,5325,5326,5327,5328,5329,5330,5331,5332,5333,5334,5335,5336,5337,5338,5339,5340,5341,5342,5343,5344,5345,5346,5347,5348,5349,5350,5351,5352,5353,5354,5355,5356,5357,5358,5359,5360,5361,5362,5363,5364,5365,5366,5367,5368,5369,5370,5371,5372,5373,5374,5375,5376,5377,5378,5379,5380,5381,5382,5383,5384,5385,5386,5387,5388,5389,5390,5391,5392,5393,5394,5395,5396,5397,5398,5399,5400,5401,5402,5403,5404,5405,5406,5407,5408,5409,5410,5411,5412,5413,5414,5415,5416,5417,5418,5419,5420,5421,5422,5423,5424,5425,5426,5427,5428,5429,5430,5431,5432,5433,5434,5435,5436,5437,5438,5439,5440,5441,5442,5443,5444,5445,5446,5447,5448,5449,5450,5451,5452,5453,5454,5455,5456,5457,5458,5459,5460,5461,5462,5463,5464,5465,5466,5467,5468,5469,5470,5471,5472,5473,5474,5475,5476,5477,5478,5479,5480,5481,5482,5483,5484,5485,5486,5487,5488,5489,5490,5491,5492,5493,5494,5495,5496,5497,5498,5499,5500,5501,5502,5503,5504,5505,5506,5507,5508,5509,5510,5511,5512,5513,5514,5515,5516,5517,5518,5519,5520,5521,5522,5523,5524,5525,5526,5527,5528,5529,5530,5531,5532,5533,5534,5535,5536,5537,5538,5539,5540,5541,5542,5543,5544,5545,5546,5547,5548,5549,5550,5551,5552,5553,5554,5555,5556,5557,5558,5559,5560,5561,5562,5563,5564,5565,5566,5567,5568,5569,5570,5571,5572,5573,5574,5575,5576,5577,5578,5579,5580,5581,5582,5583,5584,5585,5586,5587,5588,5589,5590,5591,5592,5593,5594,5595,5596,5597,5598,5599,5600,5601,5602,5603,5604,5605,5606,5607,5608,5609,5610,5611,5612,5613,5614,5615,5616,5617,5618,5619,5620,5621,5622,5623,5624,5625,5626,5627,5628,5629,5630,5631,5632,5633,5634,5635,5636,5637,5638,5639,5640,5641,5642,5643,5644,5645,5646,5647,5648,5649,5650,5651,5652,5653,5654,5655,5656,5657,5658,5659,5660,5661,5662,5663,5664,5665,5666,5667,5668,5669,5670,5671,5672,5673,5674,5675,5676,5677,5678,5679,5680,5681,5682,5683,5684,5685,5686,5687,5688,5689,5690,5691,5692,5693,5694,5695,5696,5697,5698,5699,5700,5701,5702,5703,5704,5705,5706,5707,5708,5709,5710,5711,5712,5713,5714,5715,5716,5717,5718,5719,5720,5721,5722,5723,5724,5725,5726,5727,5728,5729,5730,5731,5732,5733,5734,5735,5736,5737,5738,5739,5740,5741,5742,5743,5744,5745,5746,5747,5748,5749,5750,5751,5752,5753,5754,5755,5756,5757,5758,5759,5760,5761,5762,5763,5764,5765,5766,5767,5768,5769,5770,5771,5772,5773,5774,5775,5776,5777,5778,5779,5780,5781,5782,5783,5784,5785,5786,5787,5788,5789,5790,5791,5792,5793,5794,5795,5796,5797,5798,5799,5800,5801,5802,5803,5804,5805,5806,5807,5808,5809,5810,5811,5812,5813,5814,5815,5816,5817,5818,5819,5820,5821,5822,5823,5824,5825,5826,5827,5828,5829,5830,5831,5832,5833,5834,5835,5836,5837,5838,5839,5840,5841,5842,5843,5844,5845,5846,5847,5848,5849,5850,5851,5852,5853,5854,5855,5856,5857,5858,5859,5860,5861,5862,5863,5864,5865,5866,5867,5868,5869,5870,5871,5872,5873,5874,5875,5876,5877,5878,5879,5880,5881,5882,5883,5884,5885,5886,5887,5888,5889,5890,5891,5892,5893,5894,5895,5896,5897,5898,5899,5900,5901,5902,5903,5904,5905,5906,5907,5908,5909,5910,5911,5912,5913,5914,5915,5916,5917,5918,5919,5920,5921,5922,5923,5924,5925,5926,5927,5928,5929,5930,5931,5932,5933,5934,5935,5936,5937,5938,5939,5940,5941,5942,5943,5944,5945,5946,5947,5948,5949,5950,5951,5952,5953,5954,5955,5956,5957,5958,5959,5960,5961,5962,5963,5964,5965,5966,5967,5968,5969,5970,5971,5972,5973,5974,5975,5976,5977,5978,5979,5980,5981,5982,5983,5984,5985,5986,5987,5988,5989,5990,5991,5992,5993,5994,5995,5996,5997,5998,5999,6000,6001,6002,6003,6004,6005,6006,6007,6008,6009,6010,6011,6012,6013,6014,6015,6016,6017,6018,6019,6020,6021,6022,6023,6024,6025,6026,6027,6028,6029,6030,6031,6032,6033,6034,6035,6036,6037,6038,6039,6040,6041,6042,6043,6044,6045,6046,6047,6048,6049,6050,6051,6052,6053,6054,6055,6056,6057,6058,6059,6060,6061,6062,6063,6064,6065,6066,6067,6068,6069,6070,6071,6072,6073,6074,6075,6076,6077,6078,6079,6080,6081,6082,6083,6084,6085,6086,6087,6088,6089,6090,6091,6092,6093,6094,6095,6096,6097,6098,6099,6100,6101,6102,6103,6104,6105,6106,6107,6108,6109,6110,6111,6112,6113,6114,6115,6116,6117,6118,6119,6120,6121,6122,6123,6124,6125,6126,6127,6128,6129,6130,6131,6132,6133,6134,6135,6136,6137,6138,6139,6140,6141,6142,6143,6144,6145,6146,6147,6148,6149,6150,6151,6152,6153,6154,6155,6156,6157,6158,6159,6160,6161,6162,6163,6164,6165,6166,6167,6168,6169,6170,6171,6172,6173,6174,6175,6176,6177,6178,6179,6180,6181,6182,6183,6184,6185,6186,6187,6188,6189,6190,6191,6192,6193,6194,6195,6196,6197,6198,6199,6200,6201,6202,6203,6204,6205,6206,6207,6208,6209,6210,6211,6212,6213,6214,6215,6216,6217,6218,6219,6220,6221,6222,6223,6224,6225,6226,6227,6228,6229,6230,6231,6232,6233,6234,6235,6236,6237,6238,6239,6240,6241,6242,6243,6244,6245,6246,6247,6248,6249,6250,6251,6252,6253,6254,6255,6256,6257,6258,6259,6260,6261,6262,6263,6264,6265,6266,6267,6268,6269,6270,6271,6272,6273,6274,6275,6276,6277,6278,6279,6280,6281,6282,6283,6284,6285,6286,6287,6288,6289,6290,6291,6292,6293,6294,6295,6296,6297,6298,6299,6300,6301,6302,6303,6304,6305,6306,6307,6308,6309,6310,6311,6312,6313,6314,6315,6316,6317,6318,6319,6320,6321,6322,6323,6324,6325,6326,6327,6328,6329,6330,6331,6332,6333,6334,6335,6336,6337,6338,6339,6340,6341,6342,6343,6344,6345,6346,6347,6348,6349,6350,6351,6352,6353,6354,6355,6356,6357,6358,6359,6360,6361,6362,6363,6364,6365,6366,6367,6368,6369,6370,6371,6372,6373,6374,6375,6376,6377,6378,6379,6380,6381,6382,6383,6384,6385,6386,6387,6388,6389,6390,6391,6392,6393,6394,6395,6396,6397,6398,6399,6400,6401,6402,6403,6404,6405,6406,6407,6408,6409,6410,6411,6412,6413,6414,6415,6416,6417,6418,6419,6420,6421,6422,6423,6424,6425,6426,6427,6428,6429,6430,6431,6432,6433,6434,6435,6436,6437,6438,6439,6440,6441,6442,6443,6444,6445,6446,6447,6448,6449,6450,6451,6452,6453,6454,6455,6456,6457,6458,6459,6460,6461,6462,6463,6464,6465,6466,6467,6468,6469,6470,6471,6472,6473,6474,6475,6476,6477,6478,6479,6480,6481,6482,6483,6484,6485,6486,6487,6488,6489,6490,6491,6492,6493,6494,6495,6496,6497,6498,6499,6500,6501,6502,6503,6504,6505,6506,6507,6508,6509,6510,6511,6512,6513,6514,6515,6516,6517,6518,6519,6520,6521,6522,6523,6524,6525,6526,6527,6528,6529,6530,6531,6532,6533,6534,6535,6536,6537,6538,6539,6540,6541,6542,6543,6544,6545,6546,6547,6548,6549,6550,6551,6552,6553,6554,6555,6556,6557,6558,6559,6560,6561,6562,6563,6564,6565,6566,6567,6568,6569,6570,6571,6572,6573,6574,6575,6576,6577,6578,6579,6580,6581,6582,6583,6584,6585,6586,6587,6588,6589,6590,6591,6592,6593,6594,6595,6596,6597,6598,6599,6600,6601,6602,6603,6604,6605,6606,6607,6608,6609,6610,6611,6612,6613,6614,6615,6616,6617,6618,6619,6620,6621,6622,6623,6624,6625,6626,6627,6628,6629,6630,6631,6632,6633,6634,6635,6636,6637,6638,6639,6640,6641,6642,6643,6644,6645,6646,6647,6648,6649,6650,6651,6652,6653,6654,6655,6656,6657,6658,6659,6660,6661,6662,6663,6664,6665,6666,6667,6668,6669,6670,6671,6672,6673,6674,6675,6676,6677,6678,6679,6680,6681,6682,6683,6684,6685,6686,6687,6688,6689,6690,6691,6692,6693,6694,6695,6696,6697,6698,6699,6700,6701,6702,6703,6704,6705,6706,6707,6708,6709,6710,6711,6712,6713,6714,6715,6716,6717,6718,6719,6720,6721,6722,6723,6724,6725,6726,6727,6728,6729,6730,6731,6732,6733,6734,6735,6736,6737,6738,6739,6740,6741,6742,6743,6744,6745,6746,6747,6748,6749,6750,6751,6752,6753,6754,6755,6756,6757,6758,6759,6760,6761,6762,6763,6764,6765,6766,6767,6768,6769,6770,6771,6772,6773,6774,6775,6776,6777,6778,6779,6780,6781,6782,6783,6784,6785,6786,6787,6788,6789,6790,6791,6792,6793,6794,6795,6796,6797,6798,6799,6800,6801,6802,6803,6804,6805,6806,6807,6808,6809,6810,6811,6812,6813,6814,6815,6816,6817,6818,6819,6820,6821,6822,6823,6824,6825,6826,6827,6828,6829,6830,6831,6832,6833,6834,6835,6836,6837,6838,6839,6840,6841,6842,6843,6844,6845,6846,6847,6848,6849,6850,6851,6852,6853,6854,6855,6856,6857,6858,6859,6860,6861,6862,6863,6864,6865,6866,6867,6868,6869,6870,6871,6872,6873,6874,6875,6876,6877,6878,6879,6880,6881,6882,6883,6884,6885,6886,6887,6888,6889,6890,6891,6892,6893,6894,6895,6896,6897,6898,6899,6900,6901,6902,6903,6904,6905,6906,6907,6908,6909,6910,6911,6912,6913,6914,6915,6916,6917,6918,6919,6920,6921,6922,6923,6924,6925,6926,6927,6928,6929,6930,6931,6932,6933,6934,6935,6936,6937,6938,6939,6940,6941,6942,6943,6944,6945,6946,6947,6948,6949,6950,6951,6952,6953,6954,6955,6956,6957,6958,6959,6960,6961,6962,6963,6964,6965,6966,6967,6968,6969,6970,6971,6972,6973,6974,6975,6976,6977,6978,6979,6980,6981,6982,6983,6984,6985,6986,6987,6988,6989,6990,6991,6992,6993,6994,6995,6996,6997,6998,6999,7000,7001,7002,7003,7004,7005,7006,7007,7008,7009,7010,7011,7012,7013,7014,7015,7016,7017,7018,7019,7020,7021,7022,7023,7024,7025,7026,7027,7028,7029,7030,7031,7032,7033,7034,7035,7036,7037,7038,7039,7040,7041,7042,7043,7044,7045,7046,7047,7048,7049,7050,7051,7052,7053,7054,7055,7056,7057,7058,7059,7060,7061,7062,7063,7064,7065,7066,7067,7068,7069,7070,7071,7072,7073,7074,7075,7076,7077,7078,7079,7080,7081,7082,7083,7084,7085,7086,7087,7088,7089,7090,7091,7092,7093,7094,7095,7096,7097,7098,7099,7100,7101,7102,7103,7104,7105,7106,7107,7108,7109,7110,7111,7112,7113,7114,7115,7116,7117,7118,7119,7120,7121,7122,7123,7124,7125,7126,7127,7128,7129,7130,7131,7132,7133,7134,7135,7136,7137,7138,7139,7140,7141,7142,7143,7144,7145,7146,7147,7148,7149,7150,7151,7152,7153,7154,7155,7156,7157,7158,7159,7160,7161,7162,7163,7164,7165,7166,7167,7168,7169,7170,7171,7172,7173,7174,7175,7176,7177,7178,7179,7180,7181,7182,7183,7184,7185,7186,7187,7188,7189,7190,7191,7192,7193,7194,7195,7196,7197,7198,7199,7200,7201,7202,7203,7204,7205,7206,7207,7208,7209,7210,7211,7212,7213,7214,7215,7216,7217,7218,7219,7220,7221,7222,7223,7224,7225,7226,7227,7228,7229,7230,7231,7232,7233,7234,7235,7236,7237,7238,7239,7240,7241,7242,7243,7244,7245,7246,7247,7248,7249,7250,7251,7252,7253,7254,7255,7256,7257,7258,7259,7260,7261,7262,7263,7264,7265,7266,7267,7268,7269,7270,7271,7272,7273,7274,7275,7276,7277,7278,7279,7280,7281,7282,7283,7284,7285,7286,7287,7288,7289,7290,7291,7292,7293,7294,7295,7296,7297,7298,7299,7300,7301,7302,7303,7304,7305,7306,7307,7308,7309,7310,7311,7312,7313,7314,7315,7316,7317,7318,7319,7320,7321,7322,7323,7324,7325,7326,7327,7328,7329,7330,7331,7332,7333,7334,7335,7336,7337,7338,7339,7340,7341,7342,7343,7344,7345,7346,7347,7348,7349,7350,7351,7352,7353,7354,7355,7356,7357,7358,7359,7360,7361,7362,7363,7364,7365,7366,7367,7368,7369,7370,7371,7372,7373,7374,7375,7376,7377,7378,7379,7380,7381,7382,7383,7384,7385,7386,7387,7388,7389,7390,7391,7392,7393,7394,7395,7396,7397,7398,7399,7400,7401,7402,7403,7404,7405,7406,7407,7408,7409,7410,7411,7412,7413,7414,7415,7416,7417,7418,7419,7420,7421,7422,7423,7424,7425,7426,7427,7428,7429,7430,7431,7432,7433,7434,7435,7436,7437,7438,7439,7440,7441,7442,7443,7444,7445,7446,7447,7448,7449,7450,7451,7452,7453,7454,7455,7456,7457,7458,7459,7460,7461,7462,7463,7464,7465,7466,7467,7468,7469,7470,7471,7472,7473,7474,7475,7476,7477,7478,7479,7480,7481,7482,7483,7484,7485,7486,7487,7488,7489,7490,7491,7492,7493,7494,7495,7496,7497,7498,7499,7500,7501,7502,7503,7504,7505,7506,7507,7508,7509,7510,7511,7512,7513,7514,7515,7516,7517,7518,7519,7520,7521,7522,7523,7524,7525,7526,7527,7528,7529,7530,7531,7532,7533,7534,7535,7536,7537,7538,7539,7540,7541,7542,7543,7544,7545,7546,7547,7548,7549,7550,7551,7552,7553,7554,7555,7556,7557,7558,7559,7560,7561,7562,7563,7564,7565,7566,7567,7568,7569,7570,7571,7572,7573,7574,7575,7576,7577,7578,7579,7580,7581,7582,7583,7584,7585,7586,7587,7588,7589,7590,7591,7592,7593,7594,7595,7596,7597,7598,7599,7600,7601,7602,7603,7604,7605,7606,7607,7608,7609,7610,7611,7612,7613,7614,7615,7616,7617,7618,7619,7620,7621,7622,7623,7624,7625,7626,7627,7628,7629,7630,7631,7632,7633,7634,7635,7636,7637,7638,7639,7640,7641,7642,7643,7644,7645,7646,7647,7648,7649,7650,7651,7652,7653,7654,7655,7656,7657,7658,7659,7660,7661,7662,7663,7664,7665,7666,7667,7668,7669,7670,7671,7672,7673,7674,7675,7676,7677,7678,7679,7680,7681,7682,7683,7684,7685,7686,7687,7688,7689,7690,7691,7692,7693,7694,7695,7696,7697,7698,7699,7700,7701,7702,7703,7704,7705,7706,7707,7708,7709,7710,7711,7712,7713,7714,7715,7716,7717,7718,7719,7720,7721,7722,7723,7724,7725,7726,7727,7728,7729,7730,7731,7732,7733,7734,7735,7736,7737,7738,7739,7740,7741,7742,7743,7744,7745,7746,7747,7748,7749,7750,7751,7752,7753,7754,7755,7756,7757,7758,7759,7760,7761,7762,7763,7764,7765,7766,7767,7768,7769,7770,7771,7772,7773,7774,7775,7776,7777,7778,7779,7780,7781,7782,7783,7784,7785,7786,7787,7788,7789,7790,7791,7792,7793,7794,7795,7796,7797,7798,7799,7800,7801,7802,7803,7804,7805,7806,7807,7808,7809,7810,7811,7812,7813,7814,7815,7816,7817,7818,7819,7820,7821,7822,7823,7824,7825,7826,7827,7828,7829,7830,7831,7832,7833,7834,7835,7836,7837,7838,7839,7840,7841,7842,7843,7844,7845,7846,7847,7848,7849,7850,7851,7852,7853,7854,7855,7856,7857,7858,7859,7860,7861,7862,7863,7864,7865,7866,7867,7868,7869,7870,7871,7872,7873,7874,7875,7876,7877,7878,7879,7880,7881,7882,7883,7884,7885,7886,7887,7888,7889,7890,7891,7892,7893,7894,7895,7896,7897,7898,7899,7900,7901,7902,7903,7904,7905,7906,7907,7908,7909,7910,7911,7912,7913,7914,7915,7916,7917,7918,7919,7920,7921,7922,7923,7924,7925,7926,7927,7928,7929,7930,7931,7932,7933,7934,7935,7936,7937,7938,7939,7940,7941,7942,7943,7944,7945,7946,7947,7948,7949,7950,7951,7952,7953,7954,7955,7956,7957,7958,7959,7960,7961,7962,7963,7964,7965,7966,7967,7968,7969,7970,7971,7972,7973,7974,7975,7976,7977,7978,7979,7980,7981,7982,7983,7984,7985,7986,7987,7988,7989,7990,7991,7992,7993,7994,7995,7996,7997,7998,7999,8000,8001,8002,8003,8004,8005,8006,8007,8008,8009,8010,8011,8012,8013,8014,8015,8016,8017,8018,8019,8020,8021,8022,8023,8024,8025,8026,8027,8028,8029,8030,8031,8032,8033,8034,8035,8036,8037,8038,8039,8040,8041,8042,8043,8044,8045,8046,8047,8048,8049,8050,8051,8052,8053,8054,8055,8056,8057,8058,8059,8060,8061,8062,8063,8064,8065,8066,8067,8068,8069,8070,8071,8072,8073,8074,8075,8076,8077,8078,8079,8080,8081,8082,8083,8084,8085,8086,8087,8088,8089,8090,8091,8092,8093,8094,8095,8096,8097,8098,8099,8100,8101,8102,8103,8104,8105,8106,8107,8108,8109,8110,8111,8112,8113,8114,8115,8116,8117,8118,8119,8120,8121,8122,8123,8124,8125,8126,8127,8128,8129,8130,8131,8132,8133,8134,8135,8136,8137,8138,8139,8140,8141,8142,8143,8144,8145,8146,8147,8148,8149,8150,8151,8152,8153,8154,8155,8156,8157,8158,8159,8160,8161,8162,8163,8164,8165,8166,8167,8168,8169,8170,8171,8172,8173,8174,8175,8176,8177,8178,8179,8180,8181,8182,8183,8184,8185,8186,8187,8188,8189,8190,8191,8192,8193,8194,8195,8196,8197,8198,8199,8200,8201,8202,8203,8204,8205,8206,8207,8208,8209,8210,8211,8212,8213,8214,8215,8216,8217,8218,8219,8220,8221,8222,8223,8224,8225,8226,8227,8228,8229,8230,8231,8232,8233,8234,8235,8236,8237,8238,8239,8240,8241,8242,8243,8244,8245,8246,8247,8248,8249,8250,8251,8252,8253,8254,8255,8256,8257,8258,8259,8260,8261,8262,8263,8264,8265,8266,8267,8268,8269,8270,8271,8272,8273,8274,8275,8276,8277,8278,8279,8280,8281,8282,8283,8284,8285,8286,8287,8288,8289,8290,8291,8292,8293,8294,8295,8296,8297,8298,8299,8300,8301,8302,8303,8304,8305,8306,8307,8308,8309,8310,8311,8312,8313,8314,8315,8316,8317,8318,8319,8320,8321,8322,8323,8324,8325,8326,8327,8328,8329,8330,8331,8332,8333,8334,8335,8336,8337,8338,8339,8340,8341,8342,8343,8344,8345,8346,8347,8348,8349,8350,8351,8352,8353,8354,8355,8356,8357,8358,8359,8360,8361,8362,8363,8364,8365,8366,8367,8368,8369,8370,8371,8372,8373,8374,8375,8376,8377,8378,8379,8380,8381,8382,8383,8384,8385,8386,8387,8388,8389,8390,8391,8392,8393,8394,8395,8396,8397,8398,8399,8400,8401,8402,8403,8404,8405,8406,8407,8408,8409,8410,8411,8412,8413,8414,8415,8416,8417,8418,8419,8420,8421,8422,8423,8424,8425,8426,8427,8428,8429,8430,8431,8432,8433,8434,8435,8436,8437,8438,8439,8440,8441,8442,8443,8444,8445,8446,8447,8448,8449,8450,8451,8452,8453,8454,8455,8456,8457,8458,8459,8460,8461,8462,8463,8464,8465,8466,8467,8468,8469,8470,8471,8472,8473,8474,8475,8476,8477,8478,8479,8480,8481,8482,8483,8484,8485,8486,8487,8488,8489,8490,8491,8492,8493,8494,8495,8496,8497,8498,8499,8500,8501,8502,8503,8504,8505,8506,8507,8508,8509,8510,8511,8512,8513,8514,8515,8516,8517,8518,8519,8520,8521,8522,8523,8524,8525,8526,8527,8528,8529,8530,8531,8532,8533,8534,8535,8536,8537,8538,8539,8540,8541,8542,8543,8544,8545,8546,8547,8548,8549,8550,8551,8552,8553,8554,8555,8556,8557,8558,8559,8560,8561,8562,8563,8564,8565,8566,8567,8568,8569,8570,8571,8572,8573,8574,8575,8576,8577,8578,8579,8580,8581,8582,8583,8584,8585,8586,8587,8588,8589,8590,8591,8592,8593,8594,8595,8596,8597,8598,8599,8600,8601,8602,8603,8604,8605,8606,8607,8608,8609,8610,8611,8612,8613,8614,8615,8616,8617,8618,8619,8620,8621,8622,8623,8624,8625,8626,8627,8628,8629,8630,8631,8632,8633,8634,8635,8636,8637,8638,8639,8640,8641,8642,8643,8644,8645,8646,8647,8648,8649,8650,8651,8652,8653,8654,8655,8656,8657,8658,8659,8660,8661,8662,8663,8664,8665,8666,8667,8668,8669,8670,8671,8672,8673,8674,8675,8676,8677,8678,8679,8680,8681,8682,8683,8684,8685,8686,8687,8688,8689,8690,8691,8692,8693,8694,8695,8696,8697,8698,8699,8700,8701,8702,8703,8704,8705,8706,8707,8708,8709,8710,8711,8712,8713,8714,8715,8716,8717,8718,8719,8720,8721,8722,8723,8724,8725,8726,8727,8728,8729,8730,8731,8732,8733,8734,8735,8736,8737,8738,8739,8740,8741,8742,8743,8744,8745,8746,8747,8748,8749,8750,8751,8752,8753,8754,8755,8756,8757,8758,8759,8760,8761,8762,8763,8764,8765,8766,8767,8768,8769,8770,8771,8772,8773,8774,8775,8776,8777,8778,8779,8780,8781,8782,8783,8784,8785,8786,8787,8788,8789,8790,8791,8792,8793,8794,8795,8796,8797,8798,8799,8800,8801,8802,8803,8804,8805,8806,8807,8808,8809,8810,8811,8812,8813,8814,8815,8816,8817,8818,8819,8820,8821,8822,8823,8824,8825,8826,8827,8828,8829,8830,8831,8832,8833,8834,8835,8836,8837,8838,8839,8840,8841,8842,8843,8844,8845,8846,8847,8848,8849,8850,8851,8852,8853,8854,8855,8856,8857,8858,8859,8860,8861,8862,8863,8864,8865,8866,8867,8868,8869,8870,8871,8872,8873,8874,8875,8876,8877,8878,8879,8880,8881,8882,8883,8884,8885,8886,8887,8888,8889,8890,8891,8892,8893,8894,8895,8896,8897,8898,8899,8900,8901,8902,8903,8904,8905,8906,8907,8908,8909,8910,8911,8912,8913,8914,8915,8916,8917,8918,8919,8920,8921,8922,8923,8924,8925,8926,8927,8928,8929,8930,8931,8932,8933,8934,8935,8936,8937,8938,8939,8940,8941,8942,8943,8944,8945,8946,8947,8948,8949,8950,8951,8952,8953,8954,8955,8956,8957,8958,8959,8960,8961,8962,8963,8964,8965,8966,8967,8968,8969,8970,8971,8972,8973,8974,8975,8976,8977,8978,8979,8980,8981,8982,8983,8984,8985,8986,8987,8988,8989,8990,8991,8992,8993,8994,8995,8996,8997,8998,8999,9000,9001,9002,9003,9004,9005,9006,9007,9008,9009,9010,9011,9012,9013,9014,9015,9016,9017,9018,9019,9020,9021,9022,9023,9024,9025,9026,9027,9028,9029,9030,9031,9032,9033,9034,9035,9036,9037,9038,9039,9040,9041,9042,9043,9044,9045,9046,9047,9048,9049,9050,9051,9052,9053,9054,9055,9056,9057,9058,9059,9060,9061,9062,9063,9064,9065,9066,9067,9068,9069,9070,9071,9072,9073,9074,9075,9076,9077,9078,9079,9080,9081,9082,9083,9084,9085,9086,9087,9088,9089,9090,9091,9092,9093,9094,9095,9096,9097,9098,9099,9100,9101,9102,9103,9104,9105,9106,9107,9108,9109,9110,9111,9112,9113,9114,9115,9116,9117,9118,9119,9120,9121,9122,9123,9124,9125,9126,9127,9128,9129,9130,9131,9132,9133,9134,9135,9136,9137,9138,9139,9140,9141,9142,9143,9144,9145,9146,9147,9148,9149,9150,9151,9152,9153,9154,9155,9156,9157,9158,9159,9160,9161,9162,9163,9164,9165,9166,9167,9168,9169,9170,9171,9172,9173,9174,9175,9176,9177,9178,9179,9180,9181,9182,9183,9184,9185,9186,9187,9188,9189,9190,9191,9192,9193,9194,9195,9196,9197,9198,9199,9200,9201,9202,9203,9204,9205,9206,9207,9208,9209,9210,9211,9212,9213,9214,9215,9216,9217,9218,9219,9220,9221,9222,9223,9224,9225,9226,9227,9228,9229,9230,9231,9232,9233,9234,9235,9236,9237,9238,9239,9240,9241,9242,9243,9244,9245,9246,9247,9248,9249,9250,9251,9252,9253,9254,9255,9256,9257,9258,9259,9260,9261,9262,9263,9264,9265,9266,9267,9268,9269,9270,9271,9272,9273,9274,9275,9276,9277,9278,9279,9280,9281,9282,9283,9284,9285,9286,9287,9288,9289,9290,9291,9292,9293,9294,9295,9296,9297,9298,9299,9300,9301,9302,9303,9304,9305,9306,9307,9308,9309,9310,9311,9312,9313,9314,9315,9316,9317,9318,9319,9320,9321,9322,9323,9324,9325,9326,9327,9328,9329,9330,9331,9332,9333,9334,9335,9336,9337,9338,9339,9340,9341,9342,9343,9344,9345,9346,9347,9348,9349,9350,9351,9352,9353,9354,9355,9356,9357,9358,9359,9360,9361,9362,9363,9364,9365,9366,9367,9368,9369,9370,9371,9372,9373,9374,9375,9376,9377,9378,9379,9380,9381,9382,9383,9384,9385,9386,9387,9388,9389,9390,9391,9392,9393,9394,9395,9396,9397,9398,9399,9400,9401,9402,9403,9404,9405,9406,9407,9408,9409,9410,9411,9412,9413,9414,9415,9416,9417,9418,9419,9420,9421,9422,9423,9424,9425,9426,9427,9428,9429,9430,9431,9432,9433,9434,9435,9436,9437,9438,9439,9440,9441,9442,9443,9444,9445,9446,9447,9448,9449,9450,9451,9452,9453,9454,9455,9456,9457,9458,9459,9460,9461,9462,9463,9464,9465,9466,9467,9468,9469,9470,9471,9472,9473,9474,9475,9476,9477,9478,9479,9480,9481,9482,9483,9484,9485,9486,9487,9488,9489,9490,9491,9492,9493,9494,9495,9496,9497,9498,9499,9500,9501,9502,9503,9504,9505,9506,9507,9508,9509,9510,9511,9512,9513,9514,9515,9516,9517,9518,9519,9520,9521,9522,9523,9524,9525,9526,9527,9528,9529,9530,9531,9532,9533,9534,9535,9536,9537,9538,9539,9540,9541,9542,9543,9544,9545,9546,9547,9548,9549,9550,9551,9552,9553,9554,9555,9556,9557,9558,9559,9560,9561,9562,9563,9564,9565,9566,9567,9568,9569,9570,9571,9572,9573,9574,9575,9576,9577,9578,9579,9580,9581,9582,9583,9584,9585,9586,9587,9588,9589,9590,9591,9592,9593,9594,9595,9596,9597,9598,9599,9600,9601,9602,9603,9604,9605,9606,9607,9608,9609,9610,9611,9612,9613,9614,9615,9616,9617,9618,9619,9620,9621,9622,9623,9624,9625,9626,9627,9628,9629,9630,9631,9632,9633,9634,9635,9636,9637,9638,9639,9640,9641,9642,9643,9644,9645,9646,9647,9648,9649,9650,9651,9652,9653,9654,9655,9656,9657,9658,9659,9660,9661,9662,9663,9664,9665,9666,9667,9668,9669,9670,9671,9672,9673,9674,9675,9676,9677,9678,9679,9680,9681,9682,9683,9684,9685,9686,9687,9688,9689,9690,9691,9692,9693,9694,9695,9696,9697,9698,9699,9700,9701,9702,9703,9704,9705,9706,9707,9708,9709,9710,9711,9712,9713,9714,9715,9716,9717,9718,9719,9720,9721,9722,9723,9724,9725,9726,9727,9728,9729,9730,9731,9732,9733,9734,9735,9736,9737,9738,9739,9740,9741,9742,9743,9744,9745,9746,9747,9748,9749,9750,9751,9752,9753,9754,9755,9756,9757,9758,9759,9760,9761,9762,9763,9764,9765,9766,9767,9768,9769,9770,9771,9772,9773,9774,9775,9776,9777,9778,9779,9780,9781,9782,9783,9784,9785,9786,9787,9788,9789,9790,9791,9792,9793,9794,9795,9796,9797,9798,9799,9800,9801,9802,9803,9804,9805,9806,9807,9808,9809,9810,9811,9812,9813,9814,9815,9816,9817,9818,9819,9820,9821,9822,9823,9824,9825,9826,9827,9828,9829,9830,9831,9832,9833,9834,9835,9836,9837,9838,9839,9840,9841,9842,9843,9844,9845,9846,9847,9848,9849,9850,9851,9852,9853,9854,9855,9856,9857,9858,9859,9860,9861,9862,9863,9864,9865,9866,9867,9868,9869,9870,9871,9872,9873,9874,9875,9876,9877,9878,9879,9880,9881,9882,9883,9884,9885,9886,9887,9888,9889,9890,9891,9892,9893,9894,9895,9896,9897,9898,9899,9900,9901,9902,9903,9904,9905,9906,9907,9908,9909,9910,9911,9912,9913,9914,9915,9916,9917,9918,9919,9920,9921,9922,9923,9924,9925,9926,9927,9928,9929,9930,9931,9932,9933,9934,9935,9936,9937,9938,9939,9940,9941,9942,9943,9944,9945,9946,9947,9948,9949,9950,9951,9952,9953,9954,9955,9956,9957,9958,9959,9960,9961,9962,9963,9964,9965,9966,9967,9968,9969,9970,9971,9972,9973,9974,9975,9976,9977,9978,9979,9980,9981,9982,9983,9984,9985,9986,9987,9988,9989,9990,9991,9992,9993,9994,9995,9996,9997,9998,9999],\"words\":[\"UNK\",\"the\",\"of\",\"and\",\"one\",\"in\",\"a\",\"to\",\"zero\",\"nine\",\"two\",\"is\",\"as\",\"eight\",\"for\",\"s\",\"five\",\"three\",\"was\",\"by\",\"that\",\"four\",\"six\",\"seven\",\"with\",\"on\",\"are\",\"it\",\"from\",\"or\",\"his\",\"an\",\"be\",\"this\",\"which\",\"at\",\"he\",\"also\",\"not\",\"have\",\"were\",\"has\",\"but\",\"other\",\"their\",\"its\",\"first\",\"they\",\"some\",\"had\",\"all\",\"more\",\"most\",\"can\",\"been\",\"such\",\"many\",\"who\",\"new\",\"used\",\"there\",\"after\",\"when\",\"into\",\"american\",\"time\",\"these\",\"only\",\"see\",\"may\",\"than\",\"world\",\"i\",\"b\",\"would\",\"d\",\"no\",\"however\",\"between\",\"about\",\"over\",\"years\",\"states\",\"people\",\"war\",\"during\",\"united\",\"known\",\"if\",\"called\",\"use\",\"th\",\"system\",\"often\",\"state\",\"so\",\"history\",\"will\",\"up\",\"while\",\"where\",\"city\",\"being\",\"english\",\"then\",\"any\",\"both\",\"under\",\"out\",\"made\",\"well\",\"her\",\"e\",\"number\",\"government\",\"them\",\"m\",\"later\",\"since\",\"him\",\"part\",\"name\",\"c\",\"century\",\"through\",\"because\",\"x\",\"university\",\"early\",\"life\",\"british\",\"year\",\"like\",\"same\",\"including\",\"became\",\"example\",\"day\",\"each\",\"even\",\"work\",\"language\",\"although\",\"several\",\"form\",\"john\",\"u\",\"national\",\"very\",\"much\",\"g\",\"french\",\"before\",\"general\",\"what\",\"t\",\"against\",\"n\",\"high\",\"links\",\"could\",\"based\",\"those\",\"now\",\"second\",\"de\",\"music\",\"another\",\"large\",\"she\",\"f\",\"external\",\"german\",\"different\",\"modern\",\"great\",\"do\",\"common\",\"set\",\"list\",\"south\",\"series\",\"major\",\"game\",\"power\",\"long\",\"country\",\"king\",\"law\",\"group\",\"film\",\"still\",\"until\",\"north\",\"international\",\"term\",\"we\",\"end\",\"book\",\"found\",\"own\",\"political\",\"party\",\"order\",\"usually\",\"president\",\"church\",\"you\",\"death\",\"theory\",\"area\",\"around\",\"include\",\"god\",\"ii\",\"way\",\"did\",\"military\",\"population\",\"using\",\"though\",\"small\",\"following\",\"within\",\"non\",\"human\",\"left\",\"main\",\"among\",\"point\",\"r\",\"due\",\"p\",\"considered\",\"public\",\"popular\",\"computer\",\"west\",\"family\",\"east\",\"information\",\"important\",\"european\",\"man\",\"sometimes\",\"right\",\"old\",\"free\",\"word\",\"without\",\"last\",\"us\",\"members\",\"given\",\"times\",\"roman\",\"make\",\"h\",\"age\",\"place\",\"l\",\"thus\",\"science\",\"case\",\"become\",\"systems\",\"union\",\"born\",\"york\",\"line\",\"countries\",\"does\",\"isbn\",\"st\",\"control\",\"various\",\"others\",\"house\",\"article\",\"island\",\"should\",\"led\",\"back\",\"period\",\"player\",\"europe\",\"languages\",\"central\",\"water\",\"few\",\"western\",\"home\",\"began\",\"generally\",\"less\",\"k\",\"similar\",\"written\",\"original\",\"best\",\"must\",\"according\",\"school\",\"france\",\"air\",\"single\",\"force\",\"v\",\"land\",\"groups\",\"down\",\"how\",\"works\",\"development\",\"official\",\"support\",\"england\",\"j\",\"rather\",\"data\",\"space\",\"greek\",\"km\",\"named\",\"germany\",\"just\",\"games\",\"said\",\"version\",\"late\",\"earth\",\"company\",\"every\",\"economic\",\"short\",\"published\",\"black\",\"army\",\"off\",\"london\",\"million\",\"body\",\"field\",\"christian\",\"either\",\"social\",\"empire\",\"o\",\"developed\",\"standard\",\"court\",\"service\",\"kingdom\",\"along\",\"college\",\"republic\",\"sea\",\"america\",\"today\",\"result\",\"held\",\"team\",\"light\",\"means\",\"never\",\"especially\",\"third\",\"further\",\"character\",\"forces\",\"take\",\"men\",\"society\",\"show\",\"open\",\"possible\",\"fact\",\"battle\",\"took\",\"former\",\"books\",\"soviet\",\"river\",\"children\",\"having\",\"good\",\"local\",\"current\",\"son\",\"process\",\"natural\",\"present\",\"himself\",\"islands\",\"total\",\"near\",\"white\",\"days\",\"person\",\"itself\",\"seen\",\"culture\",\"little\",\"above\",\"software\",\"largest\",\"words\",\"upon\",\"level\",\"father\",\"created\",\"side\",\"red\",\"references\",\"press\",\"full\",\"region\",\"almost\",\"image\",\"al\",\"famous\",\"play\",\"came\",\"role\",\"once\",\"certain\",\"league\",\"jewish\",\"james\",\"january\",\"site\",\"again\",\"numbers\",\"art\",\"member\",\"areas\",\"movement\",\"religious\",\"type\",\"march\",\"community\",\"story\",\"played\",\"production\",\"released\",\"center\",\"rights\",\"real\",\"related\",\"foreign\",\"low\",\"ancient\",\"terms\",\"view\",\"source\",\"act\",\"minister\",\"change\",\"energy\",\"produced\",\"research\",\"actor\",\"making\",\"civil\",\"december\",\"women\",\"special\",\"style\",\"william\",\"design\",\"japanese\",\"available\",\"chinese\",\"forms\",\"canada\",\"northern\",\"died\",\"class\",\"living\",\"next\",\"particular\",\"program\",\"council\",\"television\",\"head\",\"david\",\"china\",\"middle\",\"established\",\"hand\",\"bc\",\"far\",\"july\",\"function\",\"position\",\"y\",\"built\",\"george\",\"band\",\"together\",\"w\",\"latin\",\"thought\",\"eastern\",\"charles\",\"parts\",\"instead\",\"study\",\"might\",\"india\",\"code\",\"included\",\"meaning\",\"trade\",\"per\",\"june\",\"least\",\"half\",\"model\",\"economy\",\"prime\",\"traditional\",\"always\",\"capital\",\"range\",\"november\",\"emperor\",\"young\",\"anti\",\"final\",\"text\",\"players\",\"uk\",\"april\",\"run\",\"september\",\"addition\",\"radio\",\"live\",\"august\",\"taken\",\"note\",\"italian\",\"lost\",\"nature\",\"project\",\"technology\",\"spanish\",\"october\",\"recent\",\"rate\",\"won\",\"true\",\"value\",\"uses\",\"russian\",\"est\",\"wrote\",\"effect\",\"album\",\"southern\",\"africa\",\"whose\",\"top\",\"historical\",\"australia\",\"catholic\",\"particularly\",\"self\",\"structure\",\"record\",\"evidence\",\"rule\",\"themselves\",\"influence\",\"cases\",\"subject\",\"referred\",\"continued\",\"nations\",\"below\",\"rock\",\"japan\",\"com\",\"song\",\"throughout\",\"names\",\"female\",\"title\",\"therefore\",\"our\",\"office\",\"star\",\"paul\",\"too\",\"cities\",\"february\",\"independent\",\"author\",\"problem\",\"species\",\"education\",\"done\",\"philosophy\",\"come\",\"higher\",\"originally\",\"market\",\"town\",\"my\",\"season\",\"love\",\"strong\",\"israel\",\"irish\",\"writer\",\"films\",\"elements\",\"robert\",\"whether\",\"despite\",\"eventually\",\"here\",\"football\",\"action\",\"internet\",\"individual\",\"sound\",\"network\",\"described\",\"practice\",\"characters\",\"re\",\"royal\",\"la\",\"events\",\"formed\",\"commonly\",\"base\",\"received\",\"african\",\"problems\",\"food\",\"jews\",\"able\",\"male\",\"typically\",\"mass\",\"complex\",\"lower\",\"includes\",\"outside\",\"legal\",\"complete\",\"significant\",\"parliament\",\"actually\",\"business\",\"fiction\",\"physical\",\"followed\",\"deaths\",\"key\",\"leader\",\"widely\",\"page\",\"basic\",\"types\",\"henry\",\"elected\",\"beginning\",\"fire\",\"building\",\"independence\",\"went\",\"movie\",\"aircraft\",\"ever\",\"canadian\",\"material\",\"births\",\"video\",\"news\",\"future\",\"scientific\",\"simply\",\"go\",\"defined\",\"laws\",\"get\",\"close\",\"industry\",\"specific\",\"examples\",\"believe\",\"services\",\"idea\",\"method\",\"introduced\",\"points\",\"return\",\"cause\",\"indian\",\"britain\",\"features\",\"majority\",\"size\",\"post\",\"lead\",\"organization\",\"cannot\",\"designed\",\"ireland\",\"cross\",\"classical\",\"personal\",\"writing\",\"concept\",\"associated\",\"required\",\"soon\",\"changes\",\"california\",\"located\",\"sense\",\"believed\",\"away\",\"started\",\"co\",\"religion\",\"mother\",\"county\",\"rules\",\"studies\",\"yet\",\"find\",\"knowledge\",\"put\",\"founded\",\"policy\",\"currently\",\"provide\",\"working\",\"media\",\"election\",\"australian\",\"me\",\"thomas\",\"allowed\",\"russia\",\"earlier\",\"greater\",\"limited\",\"object\",\"brought\",\"online\",\"association\",\"lord\",\"mostly\",\"blue\",\"constitution\",\"across\",\"added\",\"interest\",\"things\",\"relations\",\"speed\",\"federal\",\"singer\",\"effects\",\"growth\",\"sources\",\"your\",\"remains\",\"z\",\"probably\",\"gave\",\"simple\",\"attack\",\"longer\",\"reference\",\"saint\",\"success\",\"killed\",\"past\",\"career\",\"need\",\"park\",\"definition\",\"say\",\"etc\",\"give\",\"peace\",\"chief\",\"stories\",\"security\",\"wide\",\"ball\",\"saw\",\"machine\",\"better\",\"cell\",\"leading\",\"becomes\",\"spain\",\"larger\",\"products\",\"parties\",\"night\",\"remained\",\"prize\",\"months\",\"website\",\"big\",\"cultural\",\"money\",\"help\",\"territory\",\"private\",\"moved\",\"letter\",\"wife\",\"politics\",\"lines\",\"largely\",\"contains\",\"companies\",\"lake\",\"perhaps\",\"green\",\"already\",\"dead\",\"iii\",\"library\",\"separate\",\"refer\",\"makes\",\"appeared\",\"dutch\",\"holy\",\"era\",\"novel\",\"successful\",\"italy\",\"letters\",\"results\",\"matter\",\"produce\",\"origin\",\"claim\",\"whole\",\"directly\",\"attempt\",\"actress\",\"surface\",\"revolution\",\"highly\",\"caused\",\"status\",\"musical\",\"richard\",\"commercial\",\"division\",\"color\",\"health\",\"coast\",\"release\",\"latter\",\"authority\",\"treaty\",\"turn\",\"michael\",\"nation\",\"direct\",\"asia\",\"edition\",\"programming\",\"playing\",\"date\",\"mary\",\"native\",\"whom\",\"married\",\"towards\",\"issues\",\"double\",\"primary\",\"basis\",\"allow\",\"enough\",\"memory\",\"reason\",\"web\",\"exist\",\"provided\",\"oil\",\"course\",\"functions\",\"alexander\",\"analysis\",\"chemical\",\"mid\",\"replaced\",\"queen\",\"claims\",\"tv\",\"sun\",\"literature\",\"metal\",\"amount\",\"divided\",\"blood\",\"likely\",\"access\",\"average\",\"length\",\"smaller\",\"medical\",\"property\",\"students\",\"degree\",\"elections\",\"club\",\"claimed\",\"performance\",\"director\",\"digital\",\"front\",\"museum\",\"difficult\",\"tradition\",\"nearly\",\"schools\",\"washington\",\"gas\",\"jesus\",\"map\",\"louis\",\"rome\",\"unit\",\"baseball\",\"mind\",\"peter\",\"mark\",\"collection\",\"product\",\"congress\",\"programs\",\"changed\",\"ideas\",\"moon\",\"entire\",\"user\",\"ground\",\"records\",\"frequently\",\"increase\",\"highest\",\"sent\",\"finally\",\"board\",\"don\",\"notable\",\"read\",\"methods\",\"recently\",\"bit\",\"involved\",\"variety\",\"call\",\"democratic\",\"ten\",\"served\",\"minor\",\"hard\",\"birth\",\"objects\",\"nuclear\",\"increased\",\"section\",\"street\",\"windows\",\"relatively\",\"car\",\"move\",\"create\",\"returned\",\"bank\",\"conditions\",\"operation\",\"adopted\",\"relationship\",\"christ\",\"hall\",\"appear\",\"rest\",\"child\",\"element\",\"appears\",\"takes\",\"fall\",\"bbc\",\"animals\",\"existence\",\"discovered\",\"units\",\"know\",\"heavy\",\"assembly\",\"universe\",\"file\",\"smith\",\"numerous\",\"woman\",\"award\",\"mean\",\"behind\",\"liberal\",\"except\",\"scale\",\"bill\",\"operating\",\"active\",\"construction\",\"institute\",\"taking\",\"pressure\",\"san\",\"experience\",\"account\",\"engine\",\"brother\",\"primarily\",\"recorded\",\"joseph\",\"issue\",\"professional\",\"troops\",\"notes\",\"pope\",\"centre\",\"ice\",\"orthodox\",\"question\",\"something\",\"defense\",\"accepted\",\"grand\",\"mathematics\",\"event\",\"resources\",\"dr\",\"egypt\",\"derived\",\"applied\",\"paris\",\"powers\",\"running\",\"stage\",\"additional\",\"shows\",\"prince\",\"placed\",\"instance\",\"creation\",\"lived\",\"freedom\",\"alternative\",\"http\",\"hit\",\"magazine\",\"nobel\",\"engineering\",\"square\",\"mainly\",\"rise\",\"hold\",\"gold\",\"pre\",\"versions\",\"road\",\"report\",\"test\",\"operations\",\"frac\",\"older\",\"arts\",\"quite\",\"applications\",\"marriage\",\"proposed\",\"channel\",\"shown\",\"consists\",\"bible\",\"governor\",\"police\",\"articles\",\"ocean\",\"cost\",\"writers\",\"volume\",\"previous\",\"race\",\"cells\",\"scotland\",\"levels\",\"regions\",\"quickly\",\"properties\",\"duke\",\"normal\",\"techniques\",\"start\",\"songs\",\"ways\",\"introduction\",\"ability\",\"communist\",\"passed\",\"navy\",\"purpose\",\"approximately\",\"composer\",\"equal\",\"appointed\",\"committee\",\"ed\",\"centuries\",\"table\",\"forced\",\"lack\",\"individuals\",\"places\",\"chicago\",\"belief\",\"consider\",\"hebrew\",\"refers\",\"clear\",\"values\",\"dance\",\"agreement\",\"response\",\"temperature\",\"sexual\",\"comes\",\"faith\",\"environment\",\"paper\",\"climate\",\"carbon\",\"daughter\",\"electric\",\"www\",\"station\",\"ad\",\"speech\",\"sex\",\"ship\",\"evolution\",\"martin\",\"microsoft\",\"noted\",\"usa\",\"supported\",\"via\",\"industrial\",\"border\",\"feature\",\"christianity\",\"treatment\",\"motion\",\"management\",\"computers\",\"performed\",\"summer\",\"necessary\",\"intended\",\"miles\",\"calendar\",\"animal\",\"remain\",\"internal\",\"disease\",\"convention\",\"wars\",\"worked\",\"flight\",\"round\",\"acts\",\"kind\",\"multiple\",\"reading\",\"labour\",\"physics\",\"speaking\",\"users\",\"signed\",\"brown\",\"critical\",\"sir\",\"bridge\",\"mathematical\",\"billion\",\"sets\",\"translation\",\"regarded\",\"branch\",\"beyond\",\"von\",\"medicine\",\"ethnic\",\"polish\",\"write\",\"reached\",\"location\",\"conflict\",\"province\",\"sold\",\"remaining\",\"apple\",\"financial\",\"provides\",\"approach\",\"notably\",\"am\",\"administration\",\"heart\",\"stars\",\"campaign\",\"figure\",\"joined\",\"distribution\",\"theories\",\"port\",\"cut\",\"command\",\"tree\",\"models\",\"influenced\",\"distance\",\"conservative\",\"direction\",\"kings\",\"district\",\"why\",\"intelligence\",\"greece\",\"face\",\"q\",\"leaders\",\"cold\",\"guide\",\"activity\",\"humans\",\"opposition\",\"previously\",\"executive\",\"labor\",\"poor\",\"quality\",\"needed\",\"symbol\",\"logic\",\"extremely\",\"completely\",\"jean\",\"loss\",\"plan\",\"regular\",\"pacific\",\"vote\",\"contemporary\",\"allows\",\"department\",\"advanced\",\"edward\",\"occur\",\"powerful\",\"secret\",\"acid\",\"actual\",\"reported\",\"content\",\"unique\",\"gives\",\"poet\",\"context\",\"iron\",\"stated\",\"cover\",\"becoming\",\"poland\",\"justice\",\"prior\",\"fourth\",\"critics\",\"turned\",\"difference\",\"met\",\"weapons\",\"dark\",\"foundation\",\"na\",\"standards\",\"episode\",\"electronic\",\"address\",\"greatest\",\"musician\",\"usage\",\"fields\",\"featured\",\"training\",\"net\",\"scholars\",\"regional\",\"hours\",\"application\",\"inside\",\"unlike\",\"formal\",\"nd\",\"win\",\"describe\",\"ships\",\"sports\",\"churches\",\"resulting\",\"moving\",\"arabic\",\"et\",\"netherlands\",\"carried\",\"exchange\",\"failed\",\"reasons\",\"brain\",\"month\",\"shot\",\"continue\",\"responsible\",\"nor\",\"going\",\"format\",\"spread\",\"opposed\",\"org\",\"universal\",\"supreme\",\"scottish\",\"mexico\",\"architecture\",\"starting\",\"somewhat\",\"decision\",\"islamic\",\"argument\",\"oxford\",\"berlin\",\"activities\",\"keep\",\"views\",\"materials\",\"spoken\",\"biography\",\"potential\",\"technical\",\"pass\",\"kong\",\"follows\",\"declared\",\"attempts\",\"voice\",\"hands\",\"transport\",\"spirit\",\"indeed\",\"artist\",\"deal\",\"generation\",\"contain\",\"constant\",\"heat\",\"charge\",\"composed\",\"growing\",\"ended\",\"appearance\",\"cambridge\",\"geography\",\"represented\",\"le\",\"flag\",\"encyclopedia\",\"increasing\",\"possibly\",\"families\",\"seems\",\"el\",\"friends\",\"mission\",\"los\",\"dna\",\"upper\",\"look\",\"stations\",\"easily\",\"card\",\"principle\",\"academy\",\"identity\",\"equipment\",\"armed\",\"giving\",\"arab\",\"die\",\"global\",\"master\",\"christians\",\"extended\",\"announced\",\"reform\",\"positive\",\"comic\",\"muslim\",\"causes\",\"compared\",\"income\",\"choice\",\"arthur\",\"technique\",\"golden\",\"string\",\"cup\",\"protection\",\"attacks\",\"decided\",\"plant\",\"serious\",\"sign\",\"prevent\",\"immediately\",\"winter\",\"feet\",\"medieval\",\"fully\",\"efforts\",\"initially\",\"directed\",\"organizations\",\"exists\",\"extensive\",\"traditionally\",\"airport\",\"presence\",\"equivalent\",\"plants\",\"negative\",\"search\",\"argued\",\"deep\",\"fans\",\"austria\",\"link\",\"follow\",\"controlled\",\"alone\",\"valley\",\"combined\",\"signal\",\"occurs\",\"proved\",\"drive\",\"understanding\",\"imperial\",\"linear\",\"bay\",\"differences\",\"student\",\"van\",\"stone\",\"useful\",\"situation\",\"share\",\"serve\",\"distinct\",\"classic\",\"iv\",\"allowing\",\"effective\",\"mentioned\",\"solution\",\"drug\",\"require\",\"measure\",\"expected\",\"boy\",\"urban\",\"device\",\"citizens\",\"initial\",\"classes\",\"debate\",\"guitar\",\"secretary\",\"communities\",\"victory\",\"portuguese\",\"gained\",\"let\",\"nothing\",\"artists\",\"commission\",\"recognized\",\"horse\",\"relative\",\"judaism\",\"ford\",\"bass\",\"entirely\",\"teams\",\"actions\",\"conference\",\"weight\",\"fish\",\"hill\",\"represent\",\"politician\",\"begins\",\"completed\",\"writings\",\"gdp\",\"wing\",\"otherwise\",\"unknown\",\"aid\",\"ruled\",\"sites\",\"journal\",\"audio\",\"finland\",\"cards\",\"domestic\",\"behavior\",\"connected\",\"arms\",\"reaction\",\"earliest\",\"controversy\",\"mountain\",\"suggested\",\"trial\",\"attention\",\"containing\",\"workers\",\"principles\",\"sequence\",\"un\",\"host\",\"jerusalem\",\"literary\",\"cycle\",\"fuel\",\"officially\",\"reduced\",\"scientists\",\"travel\",\"figures\",\"americans\",\"prominent\",\"popularity\",\"fighting\",\"lincoln\",\"scene\",\"instruments\",\"structures\",\"ones\",\"increasingly\",\"frank\",\"iraq\",\"requires\",\"tend\",\"entry\",\"typical\",\"temple\",\"israeli\",\"statement\",\"track\",\"discussion\",\"says\",\"jack\",\"lives\",\"daily\",\"contrast\",\"goal\",\"frequency\",\"specifically\",\"rd\",\"impact\",\"winning\",\"fast\",\"review\",\"atlantic\",\"images\",\"texas\",\"description\",\"depending\",\"senate\",\"dynasty\",\"rich\",\"domain\",\"criticism\",\"islam\",\"importance\",\"inspired\",\"begin\",\"destroyed\",\"price\",\"friend\",\"jones\",\"contact\",\"mm\",\"entered\",\"devices\",\"closely\",\"invasion\",\"texts\",\"background\",\"mountains\",\"toward\",\"closed\",\"corporation\",\"wall\",\"removed\",\"afghanistan\",\"mythology\",\"zealand\",\"killing\",\"rare\",\"apollo\",\"jazz\",\"helped\",\"hong\",\"slightly\",\"quantum\",\"runs\",\"hot\",\"presidential\",\"attempted\",\"boston\",\"asked\",\"kept\",\"fixed\",\"dictionary\",\"agreed\",\"plays\",\"bishop\",\"alphabet\",\"determined\",\"sweden\",\"buildings\",\"traditions\",\"reign\",\"existing\",\"communications\",\"violence\",\"ages\",\"phase\",\"hydrogen\",\"controversial\",\"meant\",\"formation\",\"twenty\",\"thousands\",\"agriculture\",\"resulted\",\"movies\",\"occurred\",\"focus\",\"offered\",\"estimated\",\"heavily\",\"discovery\",\"mi\",\"tour\",\"comics\",\"zone\",\"ring\",\"connection\",\"develop\",\"governments\",\"aspects\",\"argue\",\"damage\",\"austrian\",\"albert\",\"ibm\",\"factors\",\"avoid\",\"combination\",\"combat\",\"pro\",\"affairs\",\"novels\",\"sum\",\"expansion\",\"doctrine\",\"competition\",\"hungary\",\"leadership\",\"category\",\"flow\",\"week\",\"genetic\",\"soldiers\",\"leaving\",\"opened\",\"os\",\"reports\",\"holds\",\"mac\",\"territories\",\"jackson\",\"step\",\"algorithm\",\"stop\",\"truth\",\"reality\",\"theorem\",\"fell\",\"room\",\"origins\",\"bob\",\"effort\",\"care\",\"instrument\",\"crown\",\"defeated\",\"democracy\",\"concepts\",\"hence\",\"picture\",\"permanent\",\"nazi\",\"protocol\",\"gun\",\"wikipedia\",\"tried\",\"fundamental\",\"professor\",\"planet\",\"christmas\",\"communication\",\"told\",\"topics\",\"presented\",\"identified\",\"beliefs\",\"statistics\",\"normally\",\"opening\",\"spent\",\"constitutional\",\"columbia\",\"annual\",\"subsequent\",\"evil\",\"extreme\",\"testament\",\"continues\",\"details\",\"gods\",\"supply\",\"institutions\",\"formula\",\"moral\",\"grew\",\"learning\",\"currency\",\"disk\",\"actors\",\"wanted\",\"fight\",\"defeat\",\"pronounced\",\"creating\",\"subsequently\",\"break\",\"output\",\"marked\",\"goods\",\"leave\",\"hardware\",\"cd\",\"broadcast\",\"bond\",\"thing\",\"environmental\",\"goes\",\"none\",\"decades\",\"forward\",\"expressed\",\"risk\",\"reach\",\"machines\",\"processes\",\"bodies\",\"census\",\"think\",\"lists\",\"glass\",\"organized\",\"pages\",\"murder\",\"vice\",\"angeles\",\"movements\",\"bush\",\"cultures\",\"respect\",\"meeting\",\"roughly\",\"stand\",\"fictional\",\"condition\",\"interpretation\",\"fantasy\",\"historians\",\"policies\",\"questions\",\"display\",\"copyright\",\"founder\",\"maintain\",\"lee\",\"mode\",\"positions\",\"fame\",\"import\",\"carry\",\"chosen\",\"linux\",\"swedish\",\"advantage\",\"raised\",\"observed\",\"receive\",\"formerly\",\"philosopher\",\"atoms\",\"server\",\"jpg\",\"sides\",\"brothers\",\"shortly\",\"resistance\",\"translated\",\"database\",\"super\",\"ch\",\"administrative\",\"message\",\"parents\",\"considerable\",\"shape\",\"target\",\"bad\",\"build\",\"extent\",\"plane\",\"understand\",\"tribes\",\"regarding\",\"mobile\",\"tower\",\"spring\",\"greatly\",\"studied\",\"brazil\",\"tax\",\"transportation\",\"characteristics\",\"wood\",\"railway\",\"screen\",\"needs\",\"equation\",\"piece\",\"chapter\",\"failure\",\"persian\",\"revolutionary\",\"respectively\",\"stock\",\"ordered\",\"pay\",\"chemistry\",\"proper\",\"split\",\"dog\",\"economics\",\"owned\",\"wave\",\"rates\",\"johnson\",\"doctor\",\"projects\",\"iran\",\"pp\",\"peoples\",\"philosophical\",\"match\",\"captain\",\"asian\",\"bring\",\"minutes\",\"symbols\",\"settlement\",\"bar\",\"relation\",\"covered\",\"seats\",\"awarded\",\"launched\",\"representation\",\"neither\",\"crime\",\"percent\",\"refused\",\"naval\",\"sister\",\"gain\",\"describes\",\"whereas\",\"ends\",\"perform\",\"satellite\",\"semi\",\"korea\",\"staff\",\"expression\",\"wild\",\"processing\",\"coming\",\"wales\",\"academic\",\"pieces\",\"comedy\",\"drugs\",\"chain\",\"occasionally\",\"manner\",\"purposes\",\"meet\",\"producer\",\"protestant\",\"mixed\",\"strength\",\"counter\",\"ray\",\"storage\",\"anything\",\"felt\",\"parallel\",\"mental\",\"spiritual\",\"occupied\",\"mr\",\"foot\",\"practical\",\"count\",\"towns\",\"saying\",\"easy\",\"electrical\",\"enemy\",\"speak\",\"inhabitants\",\"plans\",\"medium\",\"courts\",\"quarter\",\"village\",\"persons\",\"layer\",\"factor\",\"degrees\",\"granted\",\"fifth\",\"seat\",\"dialects\",\"sport\",\"pattern\",\"binary\",\"weeks\",\"composition\",\"got\",\"michigan\",\"selected\",\"pop\",\"widespread\",\"algebra\",\"magnetic\",\"blues\",\"alliance\",\"festival\",\"ft\",\"speakers\",\"authors\",\"crew\",\"core\",\"folk\",\"commonwealth\",\"legislative\",\"accept\",\"similarly\",\"divine\",\"achieved\",\"determine\",\"someone\",\"particles\",\"sector\",\"density\",\"influential\",\"dispute\",\"criminal\",\"newspaper\",\"supporters\",\"solar\",\"elizabeth\",\"contract\",\"offer\",\"traffic\",\"orders\",\"houses\",\"rivers\",\"awards\",\"principal\",\"der\",\"worldwide\",\"hitler\",\"files\",\"teaching\",\"apparently\",\"des\",\"gospel\",\"titles\",\"clearly\",\"providing\",\"universities\",\"hungarian\",\"publication\",\"suffered\",\"electricity\",\"camp\",\"cars\",\"doing\",\"crisis\",\"false\",\"issued\",\"perfect\",\"circle\",\"interface\",\"denmark\",\"legend\",\"nfl\",\"nevertheless\",\"ultimately\",\"solid\",\"contained\",\"extra\",\"surrounding\",\"throne\",\"setting\",\"sort\",\"standing\",\"oldest\",\"safety\",\"jordan\",\"measures\",\"plus\",\"danish\",\"agricultural\",\"pictures\",\"practices\",\"showing\",\"commander\",\"strip\",\"block\",\"maps\",\"fan\",\"recording\",\"maximum\",\"gulf\",\"celtic\",\"add\",\"distinction\",\"correct\",\"atomic\",\"reduce\",\"secondary\",\"everything\",\"lies\",\"root\",\"linked\",\"virginia\",\"genre\",\"jr\",\"lands\",\"sons\",\"marine\",\"limit\",\"taught\",\"producing\",\"pure\",\"bwv\",\"huge\",\"engines\",\"sought\",\"shared\",\"agency\",\"steel\",\"cable\",\"mechanics\",\"strongly\",\"accounts\",\"eye\",\"capable\",\"classification\",\"palace\",\"constructed\",\"egyptian\",\"document\",\"religions\",\"resolution\",\"hundred\",\"box\",\"unable\",\"showed\",\"francis\",\"components\",\"muslims\",\"molecules\",\"sciences\",\"radiation\",\"massive\",\"hour\",\"pc\",\"want\",\"ending\",\"mount\",\"judge\",\"opposite\",\"historically\",\"input\",\"continuous\",\"detailed\",\"cast\",\"ministers\",\"shall\",\"vast\",\"alcohol\",\"bus\",\"involves\",\"biology\",\"invented\",\"represents\",\"republican\",\"computing\",\"proof\",\"multi\",\"rejected\",\"succeeded\",\"rarely\",\"expanded\",\"flat\",\"civilization\",\"capacity\",\"documents\",\"impossible\",\"alpha\",\"illinois\",\"lewis\",\"dates\",\"destruction\",\"slow\",\"planned\",\"biological\",\"bottom\",\"championship\",\"theatre\",\"networks\",\"phrase\",\"provinces\",\"francisco\",\"indicate\",\"ratio\",\"molecular\",\"paid\",\"tools\",\"license\",\"route\",\"honor\",\"sub\",\"hollywood\",\"progress\",\"brief\",\"vol\",\"trees\",\"theme\",\"societies\",\"mail\",\"managed\",\"continental\",\"essential\",\"essentially\",\"manager\",\"rail\",\"settled\",\"poetry\",\"turkey\",\"pakistan\",\"viewed\",\"harvard\",\"merely\",\"investment\",\"castle\",\"job\",\"fine\",\"authorities\",\"visit\",\"turkish\",\"understood\",\"ca\",\"eu\",\"captured\",\"fought\",\"severe\",\"transfer\",\"developing\",\"del\",\"colonies\",\"lady\",\"studio\",\"html\",\"depression\",\"kill\",\"gay\",\"wind\",\"caesar\",\"candidate\",\"magic\",\"exports\",\"seem\",\"interests\",\"store\",\"portion\",\"visible\",\"assumed\",\"publishing\",\"editor\",\"exactly\",\"newton\",\"edge\",\"lebanon\",\"weapon\",\"really\",\"directory\",\"fair\",\"dedicated\",\"intellectual\",\"daniel\",\"twelve\",\"significantly\",\"absolute\",\"demand\",\"strategy\",\"obtained\",\"clinton\",\"liquid\",\"florida\",\"plot\",\"java\",\"equations\",\"stadium\",\"desert\",\"artificial\",\"variations\",\"drawn\",\"vector\",\"designs\",\"rose\",\"ran\",\"regard\",\"feel\",\"train\",\"forest\",\"overall\",\"representatives\",\"maintained\",\"bear\",\"arrived\",\"mechanical\",\"jim\",\"philosophers\",\"items\",\"fear\",\"logical\",\"hop\",\"darwin\",\"vary\",\"portugal\",\"guinea\",\"featuring\",\"acting\",\"improved\",\"dominant\",\"causing\",\"modified\",\"bell\",\"dry\",\"enter\",\"cia\",\"officer\",\"path\",\"iso\",\"korean\",\"andrew\",\"tom\",\"minority\",\"occupation\",\"apart\",\"thousand\",\"infinite\",\"oxygen\",\"mathbf\",\"straight\",\"rapidly\",\"revealed\",\"vietnam\",\"heaven\",\"saints\",\"gene\",\"colonial\",\"define\",\"fleet\",\"socialist\",\"kansas\",\"protect\",\"exception\",\"psychology\",\"twice\",\"circuit\",\"cancer\",\"membership\",\"stephen\",\"holding\",\"musicians\",\"soul\",\"index\",\"flying\",\"protein\",\"fashion\",\"exact\",\"indo\",\"recognition\",\"physicist\",\"distributed\",\"listed\",\"apply\",\"ago\",\"virtual\",\"inc\",\"massachusetts\",\"mars\",\"adam\",\"colony\",\"agent\",\"electron\",\"cabinet\",\"extension\",\"separated\",\"coach\",\"forum\",\"coalition\",\"visual\",\"scott\",\"adult\",\"periods\",\"suggests\",\"davis\",\"dominated\",\"employed\",\"hero\",\"reputation\",\"looking\",\"literally\",\"existed\",\"entitled\",\"selection\",\"males\",\"changing\",\"defence\",\"subjects\",\"alfred\",\"grammar\",\"younger\",\"interview\",\"experiment\",\"opinion\",\"howard\",\"jersey\",\"stable\",\"tourism\",\"expensive\",\"publications\",\"finite\",\"radical\",\"audience\",\"pair\",\"decline\",\"mainstream\",\"sky\",\"bits\",\"franklin\",\"bands\",\"necessarily\",\"contributed\",\"effectively\",\"cuba\",\"vi\",\"express\",\"concerning\",\"opera\",\"adams\",\"sounds\",\"choose\",\"broad\",\"historian\",\"signs\",\"mathematician\",\"allied\",\"vehicle\",\"executed\",\"joint\",\"calls\",\"romans\",\"moore\",\"guard\",\"try\",\"affected\",\"eyes\",\"germanic\",\"samuel\",\"atmosphere\",\"yellow\",\"formally\",\"error\",\"vehicles\",\"painter\",\"kennedy\",\"hockey\",\"belgium\",\"albums\",\"hundreds\",\"evolved\",\"philip\",\"trying\",\"husband\",\"compounds\",\"committed\",\"ministry\",\"federation\",\"roots\",\"heard\",\"concerned\",\"coup\",\"temperatures\",\"stands\",\"matters\",\"historic\",\"cape\",\"dvd\",\"underground\",\"attributed\",\"apparent\",\"clock\",\"georgia\",\"officials\",\"instruction\",\"rapid\",\"youth\",\"broken\",\"graphics\",\"carl\",\"broke\",\"prices\",\"treated\",\"residents\",\"nearby\",\"score\",\"kg\",\"else\",\"consciousness\",\"patterns\",\"identical\",\"faster\",\"supporting\",\"gender\",\"relationships\",\"establishment\",\"leads\",\"wealth\",\"learn\",\"chance\",\"grant\",\"join\",\"amounts\",\"renamed\",\"earl\",\"incorporated\",\"fox\",\"serving\",\"silver\",\"warfare\",\"styles\",\"involving\",\"strike\",\"successor\",\"officers\",\"ottoman\",\"beer\",\"russell\",\"banks\",\"lakes\",\"mediterranean\",\"favor\",\"dc\",\"lunar\",\"conventional\",\"height\",\"budget\",\"sales\",\"appeal\",\"regime\",\"decade\",\"poem\",\"disc\",\"leaves\",\"donald\",\"judicial\",\"inner\",\"variable\",\"ordinary\",\"indiana\",\"norway\",\"logo\",\"unusual\",\"costs\",\"biblical\",\"partly\",\"chamber\",\"unless\",\"lie\",\"talk\",\"achieve\",\"episodes\",\"particle\",\"da\",\"trading\",\"declaration\",\"gradually\",\"frame\",\"parliamentary\",\"concentration\",\"fort\",\"legislation\",\"finished\",\"stalin\",\"notion\",\"meters\",\"cult\",\"random\",\"acquired\",\"script\",\"prison\",\"girl\",\"suggest\",\"educational\",\"dialect\",\"comparison\",\"consumption\",\"mike\",\"opponents\",\"distinguished\",\"czech\",\"roll\",\"advance\",\"cat\",\"racing\",\"dangerous\",\"component\",\"joe\",\"byzantine\",\"peninsula\",\"categories\",\"draw\",\"reforms\",\"rural\",\"consisting\",\"anglo\",\"answer\",\"anyone\",\"suicide\",\"substance\",\"finnish\",\"succession\",\"balance\",\"manufacturing\",\"rulers\",\"intelligent\",\"sections\",\"characteristic\",\"successfully\",\"newly\",\"hair\",\"dimensional\",\"mayor\",\"demographics\",\"walls\",\"converted\",\"harry\",\"abandoned\",\"rank\",\"adding\",\"vowel\",\"collected\",\"champion\",\"concerns\",\"fit\",\"branches\",\"codes\",\"selling\",\"theology\",\"birds\",\"prayer\",\"interesting\",\"vs\",\"telephone\",\"drawing\",\"markets\",\"conversion\",\"vision\",\"alternate\",\"notation\",\"knights\",\"phenomenon\",\"williams\",\"learned\",\"stored\",\"indigenous\",\"edited\",\"patients\",\"possibility\",\"heads\",\"onto\",\"steve\",\"threat\",\"escape\",\"boys\",\"accurate\",\"simon\",\"task\",\"swiss\",\"worship\",\"lowest\",\"substantial\",\"bce\",\"superior\",\"hell\",\"einstein\",\"classified\",\"ethics\",\"orbit\",\"divisions\",\"establish\",\"measured\",\"caribbean\",\"olympic\",\"atari\",\"sufficient\",\"intel\",\"allies\",\"conducted\",\"limits\",\"attended\",\"weak\",\"guns\",\"verb\",\"probability\",\"teacher\",\"weather\",\"axis\",\"capture\",\"experienced\",\"struggle\",\"save\",\"passing\",\"hope\",\"offensive\",\"cinema\",\"organisms\",\"operated\",\"emperors\",\"appropriate\",\"di\",\"concert\",\"spectrum\",\"tell\",\"oriented\",\"berkeley\",\"moment\",\"complexity\",\"alan\",\"implementation\",\"lords\",\"holiday\",\"arguments\",\"dollar\",\"violent\",\"copy\",\"genus\",\"interior\",\"compression\",\"geometry\",\"experiments\",\"indonesia\",\"explained\",\"accused\",\"ruth\",\"bomb\",\"corresponding\",\"sin\",\"dependent\",\"painting\",\"mechanism\",\"campus\",\"max\",\"capitalism\",\"minimum\",\"furthermore\",\"giant\",\"calling\",\"walter\",\"functional\",\"label\",\"aids\",\"abraham\",\"industries\",\"inflation\",\"themes\",\"explain\",\"switzerland\",\"strings\",\"charged\",\"lot\",\"alleged\",\"lyrics\",\"karl\",\"infantry\",\"muhammad\",\"priest\",\"perceived\",\"corporate\",\"pennsylvania\",\"instructions\",\"martial\",\"buried\",\"circumstances\",\"brian\",\"proteins\",\"falls\",\"myth\",\"fellow\",\"frequent\",\"cuisine\",\"preferred\",\"scientist\",\"tone\",\"integrated\",\"begun\",\"replace\",\"visited\",\"il\",\"generated\",\"facts\",\"organic\",\"mouse\",\"platform\",\"fairly\",\"approved\",\"assigned\",\"carrier\",\"finding\",\"dropped\",\"wilson\",\"leap\",\"ben\",\"batman\",\"manchester\",\"laureate\",\"desire\",\"launch\",\"amongst\",\"coastal\",\"colleges\",\"bruce\",\"colors\",\"baltic\",\"argentina\",\"douglas\",\"wrong\",\"garden\",\"skills\",\"moves\",\"mississippi\",\"mouth\",\"alexandria\",\"pdf\",\"roles\",\"gnu\",\"forming\",\"greeks\",\"ohio\",\"heritage\",\"diseases\",\"transmission\",\"abstract\",\"chairman\",\"norwegian\",\"statements\",\"retired\",\"request\",\"voting\",\"increases\",\"arm\",\"velocity\",\"illegal\",\"syria\",\"beings\",\"narrow\",\"thinking\",\"influences\",\"moscow\",\"roosevelt\",\"mexican\",\"votes\",\"characterized\",\"missile\",\"founding\",\"spaces\",\"aspect\",\"missouri\",\"memorial\",\"virtually\",\"pilot\",\"profile\",\"du\",\"experimental\",\"soil\",\"bonds\",\"charges\",\"explanation\",\"poems\",\"tracks\",\"ruler\",\"institution\",\"goddess\",\"agents\",\"airlines\",\"assistance\",\"bacteria\",\"chess\",\"researchers\",\"documentary\",\"testing\",\"ip\",\"theoretical\",\"en\",\"ll\",\"aim\",\"hole\",\"gary\",\"supposed\",\"bound\",\"constantine\",\"monster\",\"columbus\",\"delta\",\"definitions\",\"depth\",\"piano\",\"closer\",\"requirements\",\"legacy\",\"hindu\",\"elsewhere\",\"maria\",\"clubs\",\"meat\",\"steps\",\"ensure\",\"depends\",\"preserved\",\"boundaries\",\"spelling\",\"facilities\",\"prove\",\"algorithms\",\"perspective\",\"rising\",\"tropical\",\"northwest\",\"borders\",\"transition\",\"waves\",\"efficient\",\"engineer\",\"door\",\"tool\",\"luther\",\"keyboard\",\"orange\",\"pierre\",\"attached\",\"canal\",\"soft\",\"produces\",\"reserve\",\"coal\",\"signals\",\"electrons\",\"driven\",\"downtown\",\"symptoms\",\"passage\",\"improve\",\"partial\",\"hits\",\"variant\",\"resource\",\"hip\",\"fruit\",\"attacked\",\"imports\",\"metropolitan\",\"node\",\"technologies\",\"entertainment\",\"usual\",\"winner\",\"emerged\",\"additionally\",\"profit\",\"hospital\",\"ideal\",\"salt\",\"shift\",\"sword\",\"laboratory\",\"populations\",\"bird\",\"rice\",\"tests\",\"gravity\",\"consumer\",\"germans\",\"bowl\",\"marx\",\"mainland\",\"opponent\",\"evolutionary\",\"bears\",\"followers\",\"printed\",\"tales\",\"agree\",\"continent\",\"calculus\",\"cpu\",\"emphasis\",\"planning\",\"diamond\",\"frederick\",\"ex\",\"shaped\",\"print\",\"starring\",\"scheme\",\"constantinople\",\"descent\",\"execution\",\"lithuania\",\"boundary\",\"grown\",\"detroit\",\"milk\",\"morning\",\"forth\",\"essay\",\"sugar\",\"peak\",\"basketball\",\"palestinian\",\"napoleon\",\"jurisdiction\",\"laid\",\"hypothesis\",\"dating\",\"chile\",\"certainly\",\"identify\",\"beautiful\",\"keeping\",\"mp\",\"judges\",\"survived\",\"headquarters\",\"concern\",\"channels\",\"skin\",\"bah\",\"snow\",\"decisions\",\"lisp\",\"conquest\",\"kinds\",\"disorder\",\"referring\",\"stay\",\"lay\",\"kilometers\",\"macintosh\",\"longest\",\"residence\",\"integral\",\"acids\",\"driver\",\"motor\",\"prepared\",\"representing\",\"solutions\",\"solo\",\"organisation\",\"responsibility\",\"exile\",\"partially\",\"owner\",\"hiv\",\"bishops\",\"crimes\",\"pronunciation\",\"poverty\",\"athens\",\"districts\",\"filled\",\"variants\",\"diplomatic\",\"patent\",\"benefit\",\"angels\",\"monarchy\",\"meanings\",\"copies\",\"locations\",\"minute\",\"procedure\",\"cited\",\"originated\",\"didn\",\"inducted\",\"matrix\",\"headed\",\"celebrated\",\"naturally\",\"battles\",\"representative\",\"operate\",\"covers\",\"grounds\",\"variation\",\"soldier\",\"knew\",\"protected\",\"medal\",\"relativity\",\"easier\",\"seemed\",\"percentage\",\"cm\",\"wine\",\"roads\",\"unix\",\"rebellion\",\"carrying\",\"incident\",\"roger\",\"sunday\",\"animated\",\"hills\",\"gone\",\"familiar\",\"confused\",\"plain\",\"dylan\",\"ultimate\",\"partner\",\"listing\",\"thirty\",\"directors\",\"composers\",\"getting\",\"angle\",\"briefly\",\"comprehensive\",\"descendants\",\"commentary\",\"varies\",\"seek\",\"knight\",\"holidays\",\"abuse\",\"presidency\",\"extinct\",\"recipient\",\"liberty\",\"armies\",\"victoria\",\"distinguish\",\"dublin\",\"grow\",\"marshall\",\"assassination\",\"landing\",\"papers\",\"overview\",\"ontario\",\"goals\",\"opportunity\",\"defensive\",\"automatic\",\"offers\",\"confirmed\",\"absence\",\"performing\",\"ma\",\"fluid\",\"dos\",\"nasa\",\"sentence\",\"finalist\",\"ports\",\"interpreted\",\"collapse\",\"processor\",\"encouraged\",\"contributions\",\"emergency\",\"fly\",\"remove\",\"bulgaria\",\"register\",\"enemies\",\"vowels\",\"victims\",\"macedonia\",\"png\",\"afterwards\",\"serves\",\"ranked\",\"indicates\",\"difficulty\",\"personality\",\"southeast\",\"floor\",\"credited\",\"renaissance\",\"noun\",\"atom\",\"cathedral\",\"interaction\",\"walk\",\"nato\",\"stages\",\"promote\",\"hamilton\",\"agave\",\"basque\",\"faced\",\"pitch\",\"sacred\",\"unity\",\"tape\",\"eric\",\"bibliography\",\"household\",\"cash\",\"survive\",\"phenomena\",\"colour\",\"forests\",\"drop\",\"obtain\",\"losing\",\"reactions\",\"carter\",\"presidents\",\"boat\",\"vienna\",\"possession\",\"focused\",\"shell\",\"continuing\",\"safe\",\"debt\",\"brand\",\"compact\",\"southwest\",\"substances\",\"titled\",\"passenger\",\"reaching\",\"charter\",\"diverse\",\"discussed\",\"friedrich\",\"funds\",\"highway\",\"tony\",\"credit\",\"transferred\",\"communism\",\"benjamin\",\"happened\",\"monarch\",\"baptism\",\"lesser\",\"challenge\",\"beat\",\"seasons\",\"linguistic\",\"chose\",\"plate\",\"slave\",\"breaking\",\"artistic\",\"engineers\",\"gregorian\",\"beach\",\"crystal\",\"electoral\",\"citizen\",\"carolina\",\"dream\",\"regardless\",\"territorial\",\"clark\",\"mit\",\"journey\",\"dual\",\"everyone\",\"ill\",\"repeated\",\"humanity\",\"twentieth\",\"candidates\",\"christopher\",\"santa\",\"camps\",\"consistent\",\"archive\",\"welsh\",\"copper\",\"bases\",\"gibraltar\",\"jan\",\"survey\",\"ownership\",\"progressive\",\"advertising\",\"worth\",\"immediate\",\"statistical\",\"trained\",\"gallery\",\"commodore\",\"restricted\",\"integer\",\"senior\",\"slaves\",\"operator\",\"horror\",\"client\",\"hotel\",\"corps\",\"disputed\",\"translations\",\"empty\",\"relief\",\"fm\",\"stress\",\"anthony\",\"farm\",\"implemented\",\"involve\",\"keys\",\"sox\",\"esperanto\",\"psychological\",\"canon\",\"restrictions\",\"variables\",\"bureau\",\"criticized\",\"detail\",\"column\",\"uniform\",\"moses\",\"firm\",\"cleveland\",\"virus\",\"specialized\",\"libraries\",\"describing\",\"adapted\",\"drink\",\"outer\",\"ruling\",\"females\",\"offices\",\"send\",\"senator\",\"disney\",\"couple\",\"seconds\",\"reverse\",\"slavery\",\"biggest\",\"verse\",\"inch\",\"depicted\",\"colorado\",\"civilian\",\"conquered\",\"duty\",\"lose\",\"rocks\",\"calvin\",\"contrary\",\"syndrome\",\"situations\",\"ce\",\"array\",\"obvious\",\"compound\",\"architect\",\"streets\",\"rain\",\"engaged\",\"leo\",\"races\",\"varying\",\"ethical\",\"pain\",\"retained\",\"distinctive\",\"isolated\",\"beta\",\"khan\",\"herbert\",\"confusion\",\"fighter\",\"speaker\",\"skill\",\"compatible\",\"herself\",\"morocco\",\"turning\",\"electronics\",\"declined\",\"investigation\",\"precise\",\"dragon\",\"manufacturers\",\"arithmetic\",\"liberation\",\"turns\",\"starts\",\"buddhism\",\"spin\",\"campbell\",\"demonstrated\",\"messages\",\"planets\",\"spacecraft\",\"prophet\",\"reducing\",\"observations\",\"reduction\",\"airports\",\"sovereignty\",\"interested\",\"patient\",\"petroleum\",\"creator\",\"custom\",\"exclusively\",\"neutral\",\"princess\",\"bronze\",\"cyprus\",\"replacement\",\"mining\",\"educated\",\"insurance\",\"differ\",\"animation\",\"camera\",\"scenes\",\"strategic\",\"watch\",\"migration\",\"baby\",\"gate\",\"claiming\",\"tribe\",\"waters\",\"invention\",\"molecule\",\"estate\",\"disaster\",\"te\",\"galaxy\",\"phi\",\"democrats\",\"publicly\",\"arrangement\",\"dramatic\",\"banned\",\"cave\",\"receiving\",\"exclusive\",\"integration\",\"accompanied\",\"lawrence\",\"specified\",\"drew\",\"designated\",\"fund\",\"matthew\",\"regularly\",\"congo\",\"holocaust\",\"owners\",\"behaviour\",\"wear\",\"valid\",\"ve\",\"mile\",\"conspiracy\",\"penalty\",\"sample\",\"genes\",\"geographic\",\"infrastructure\",\"houston\",\"commerce\",\"les\",\"draft\",\"surviving\",\"sam\",\"diet\",\"disambiguation\",\"fled\",\"atlanta\",\"separation\",\"connections\",\"structural\",\"boeing\",\"sixth\",\"gates\",\"missions\",\"strictly\",\"varieties\",\"minnesota\",\"cricket\",\"pollution\",\"isaac\",\"earned\",\"experiences\",\"statue\",\"cooperation\",\"millions\",\"slowly\",\"supports\",\"newspapers\",\"cardinal\",\"benefits\",\"powered\",\"switch\",\"indians\",\"passes\",\"commons\",\"doesn\",\"jet\",\"falling\",\"overseas\",\"montreal\",\"arrested\",\"essays\",\"alaska\",\"plural\",\"purchase\",\"ibn\",\"rational\",\"blind\",\"coffee\",\"dioxide\",\"permitted\",\"estimates\",\"monetary\",\"excellent\",\"bulgarian\",\"prisoners\",\"whatever\",\"doubt\",\"siege\",\"moreover\",\"mixture\",\"personnel\",\"contest\",\"tank\",\"laser\",\"latvia\",\"explorer\",\"gothic\",\"archbishop\",\"tells\",\"jacob\",\"cavalry\",\"anne\",\"considerably\",\"monopoly\",\"confederate\",\"delivered\",\"involvement\",\"marks\",\"taiwan\",\"quantity\",\"teachings\",\"horses\",\"measurement\",\"inventor\",\"cook\",\"torah\",\"lifetime\",\"johann\",\"differential\",\"tale\",\"conclusion\",\"framework\",\"broadcasting\",\"admiral\",\"optical\",\"affect\",\"export\",\"arranged\",\"discipline\",\"whilst\",\"miller\",\"catholics\",\"quebec\",\"yes\",\"consequently\",\"mention\",\"secure\",\"winners\",\"duties\",\"fat\",\"wish\",\"secular\",\"developments\",\"theater\",\"eat\",\"journalist\",\"stability\",\"ethiopia\",\"punishment\",\"sell\",\"row\",\"taylor\",\"allen\",\"disputes\",\"ban\",\"synthesis\",\"racial\",\"temporary\",\"controls\",\"voted\",\"enjoyed\",\"properly\",\"anime\",\"recordings\",\"explicitly\",\"returning\",\"aristotle\",\"isle\",\"footballer\",\"buddhist\",\"pairs\",\"ranges\",\"mystery\",\"blade\",\"curve\",\"seeking\",\"bringing\",\"si\",\"sale\",\"participation\",\"metric\",\"appearances\",\"linguistics\",\"devil\",\"shorter\",\"robinson\",\"politicians\",\"citizenship\",\"volumes\",\"revised\",\"negotiations\",\"dollars\",\"immigration\",\"devoted\",\"immigrants\",\"centers\",\"routes\",\"rival\",\"leg\",\"indicated\",\"approval\",\"suitable\",\"singular\",\"suit\",\"chip\",\"childhood\",\"observation\",\"conduct\",\"purchased\",\"comedian\",\"terminal\",\"iranian\",\"efficiency\",\"missiles\",\"fresh\",\"legendary\",\"abc\",\"establishing\",\"agreements\",\"singing\",\"partners\",\"destroy\",\"implies\",\"fishing\",\"grey\",\"sharp\",\"creative\",\"romania\",\"worst\",\"finance\",\"plastic\",\"restored\",\"orchestra\",\"warm\",\"arizona\",\"covering\",\"wins\",\"termed\",\"tube\",\"consequences\",\"northeast\",\"gets\",\"finds\",\"perception\",\"genesis\",\"hidden\",\"exposed\",\"proposal\",\"metals\",\"drives\",\"guitarist\",\"seeing\",\"vertical\",\"favour\",\"promoted\",\"equally\",\"expedition\",\"photo\",\"superman\",\"concluded\",\"beauty\",\"situated\",\"twin\",\"mounted\",\"theological\",\"caught\",\"scholar\",\"assume\",\"wiki\",\"terminology\",\"gordon\",\"returns\",\"mormon\",\"loop\",\"algebraic\",\"valuable\",\"concentrated\",\"handed\",\"franchise\",\"collective\",\"dave\",\"stopped\",\"ready\",\"concrete\",\"removal\",\"releases\",\"portrait\",\"burning\",\"kuwait\",\"prussia\",\"turing\",\"counties\",\"oral\",\"physician\",\"grain\",\"aware\",\"affair\",\"fusion\",\"fired\",\"maritime\",\"google\",\"nova\",\"gamma\",\"jacques\",\"vii\",\"varied\",\"millennium\",\"width\",\"adjacent\",\"dynamic\",\"margaret\",\"wayne\",\"adventure\",\"singles\",\"difficulties\",\"consequence\",\"funding\",\"jobs\",\"philadelphia\",\"rom\",\"iowa\",\"johnny\",\"voltage\",\"portrayed\",\"recognize\",\"driving\",\"ask\",\"julian\",\"obsolete\",\"flash\",\"circuits\",\"rocket\",\"therapy\",\"astronomy\",\"louisiana\",\"ceremony\",\"trans\",\"collections\",\"housing\",\"recovery\",\"buy\",\"harrison\",\"transformation\",\"revelation\",\"fewer\",\"amateur\",\"fran\",\"virgin\",\"interactive\",\"mix\",\"bach\",\"servers\",\"magnitude\",\"admitted\",\"chancellor\",\"thin\",\"proclaimed\",\"ghost\",\"ne\",\"complicated\",\"rotation\",\"arrival\",\"belong\",\"tourist\",\"gauge\",\"fbi\",\"analog\",\"cognitive\",\"reflected\",\"trust\",\"bernard\",\"capita\",\"editions\",\"bought\",\"phone\",\"tends\",\"storm\",\"crash\",\"thompson\",\"dealing\",\"wings\",\"intervention\",\"employment\",\"mercury\",\"settlements\",\"governing\",\"merged\",\"seventh\",\"muscle\",\"meanwhile\",\"dated\",\"align\",\"ram\",\"kent\",\"handle\",\"topic\",\"railroad\",\"customs\",\"suffering\",\"baroque\",\"median\",\"window\",\"designer\",\"neo\",\"thereby\",\"transform\",\"denied\",\"exceptions\",\"dan\",\"nelson\",\"info\",\"attempting\",\"raise\",\"cellular\",\"romantic\",\"coins\",\"norman\",\"chart\",\"photos\",\"extend\",\"gregory\",\"surrounded\",\"mathematicians\",\"int\",\"entropy\",\"please\",\"murray\",\"augustus\",\"significance\",\"ties\",\"beijing\",\"relevant\",\"summary\",\"advice\",\"tribute\",\"quantities\",\"printing\",\"marketing\",\"buffalo\",\"factory\",\"threatened\",\"belgian\",\"tim\",\"manufactured\",\"accident\",\"reflect\",\"grace\",\"proven\",\"maintains\",\"quick\",\"dimension\",\"alien\",\"pointed\",\"independently\",\"moderate\",\"corruption\",\"option\",\"lenin\",\"hunting\",\"ongoing\",\"refugees\",\"guy\",\"poets\",\"simultaneously\",\"hawaii\",\"jupiter\",\"drum\",\"disorders\",\"participate\",\"accuracy\",\"spot\",\"quoted\",\"operators\",\"anglican\",\"taxes\",\"palestine\",\"liverpool\",\"mood\",\"reader\",\"symbolic\",\"attracted\",\"illness\",\"inches\",\"compare\",\"oscar\",\"performances\",\"noble\",\"eating\",\"malaysia\",\"stores\",\"consonant\",\"adventures\",\"romance\",\"aimed\",\"exercise\",\"strict\",\"wider\",\"alive\",\"minerals\",\"sensitive\",\"stream\",\"tunnel\",\"terrorist\",\"kosovo\",\"stanley\",\"phoenix\",\"log\",\"acceptance\",\"studios\",\"reviews\",\"consist\",\"subset\",\"remainder\",\"gandhi\",\"croatia\",\"extensively\",\"legislature\",\"drama\",\"dick\",\"employees\",\"chemist\",\"euro\",\"session\",\"anderson\",\"assault\",\"baltimore\",\"entity\",\"genres\",\"steam\",\"readers\",\"trivia\",\"happy\",\"struck\",\"luke\",\"blocks\",\"parent\",\"vacuum\",\"agencies\",\"duck\",\"nickname\",\"unions\",\"prefer\",\"se\",\"sphere\",\"unemployment\",\"europeans\",\"versus\",\"resigned\",\"shah\",\"viii\",\"graduate\",\"coined\",\"timeline\",\"wheel\",\"ieee\",\"singapore\",\"hans\",\"approaches\",\"chris\",\"enormous\",\"girls\",\"looks\",\"fallen\",\"clothing\",\"settlers\",\"bone\",\"worlds\",\"narrative\",\"expert\",\"offering\",\"serbia\",\"broadway\",\"monroe\",\"uss\",\"rear\",\"cuban\",\"drinking\",\"sharing\",\"cattle\",\"friendly\",\"toronto\",\"ann\",\"addresses\",\"cartoon\",\"studying\",\"requiring\",\"sovereign\",\"rings\",\"coverage\",\"nationalist\",\"holes\",\"automatically\",\"premier\",\"priests\",\"communists\",\"manual\",\"ph\",\"raw\",\"shock\",\"adoption\",\"marie\",\"geneva\",\"objective\",\"entering\",\"id\",\"trip\",\"conservation\",\"membrane\",\"binding\",\"aka\",\"consensus\",\"injury\",\"rolling\",\"errors\",\"besides\",\"defining\",\"paintings\",\"afc\",\"lasted\",\"arguably\",\"desired\",\"weekly\",\"teach\",\"neck\",\"conventions\",\"angel\",\"faces\",\"brazilian\",\"receives\",\"stones\",\"remote\",\"strange\",\"voters\",\"wire\",\"victor\",\"shares\",\"trains\",\"generations\",\"rfc\",\"larry\",\"observer\",\"aaron\",\"administered\",\"programme\",\"guest\",\"easter\",\"liberalism\",\"sequences\",\"natives\",\"sole\",\"painted\",\"hunt\",\"pan\",\"exposure\",\"autonomous\",\"defend\",\"metres\",\"bull\",\"taste\",\"kingdoms\",\"voyage\",\"championships\",\"exploration\",\"shooting\",\"rifle\",\"diego\",\"colombia\",\"tendency\",\"proportion\",\"elevation\",\"baptist\",\"comments\",\"procedures\",\"momentum\",\"lithuanian\",\"compiler\",\"alongside\",\"argues\",\"cutting\",\"funeral\",\"marvel\",\"generate\",\"schedule\",\"mirror\",\"eve\",\"albania\",\"dogs\",\"underlying\",\"slavic\",\"stronger\",\"semitic\",\"heroes\",\"dimensions\",\"mammals\",\"corner\",\"coat\",\"abolished\",\"truly\",\"revenue\",\"decimal\",\"maryland\",\"eternal\",\"competitive\",\"wilhelm\",\"governed\",\"latest\",\"austin\",\"costa\",\"nationality\",\"bulk\",\"clinical\",\"looked\",\"arc\",\"ascii\",\"grade\",\"jimmy\",\"governors\",\"businesses\",\"lieutenant\",\"shore\",\"formats\",\"dot\",\"trinity\",\"crops\",\"epic\",\"activist\",\"assistant\",\"adaptation\",\"geographical\",\"terrain\",\"saxon\",\"tasks\",\"considering\",\"inspiration\",\"helium\",\"interpretations\",\"hunter\",\"wearing\",\"stood\",\"instrumental\",\"slang\",\"publisher\",\"manga\",\"python\",\"occasions\",\"ac\",\"infection\",\"mickey\",\"franco\",\"electromagnetic\",\"plains\",\"edinburgh\",\"uncle\",\"unfortunately\",\"requirement\",\"libya\",\"supplies\",\"amiga\",\"arose\",\"honour\",\"patrick\",\"ai\",\"installed\",\"replacing\",\"regulations\",\"milan\",\"florence\",\"repeatedly\",\"opposing\",\"mechanisms\",\"sand\",\"politically\",\"bills\",\"trials\",\"tail\",\"scots\",\"hoover\",\"nominated\",\"naming\",\"creates\",\"consonants\",\"unlikely\",\"revival\",\"bombing\",\"applies\",\"ms\",\"intense\",\"battery\",\"protest\",\"seriously\",\"kentucky\",\"purely\",\"jonathan\",\"wright\",\"matches\",\"pioneer\",\"tactics\",\"mineral\",\"manuscript\",\"merchant\",\"hierarchy\",\"liberals\",\"appearing\",\"recommended\",\"entities\",\"centered\",\"babylon\",\"visitors\",\"tables\",\"happen\",\"atlas\",\"ussr\",\"economies\",\"hosts\",\"diamonds\",\"tea\",\"missing\",\"ranging\",\"saudi\",\"deck\",\"serial\",\"belt\",\"jane\",\"silent\",\"creatures\",\"aramaic\",\"philippines\",\"developers\",\"demands\",\"aluminium\",\"consisted\",\"retain\",\"kevin\",\"sydney\",\"cocaine\",\"triple\",\"feast\",\"mao\",\"sees\",\"criteria\",\"identification\",\"arabia\",\"homosexuality\",\"homosexual\",\"invaded\",\"tied\",\"li\",\"cargo\",\"spending\",\"fossil\",\"homer\",\"aside\",\"etymology\",\"derives\",\"reaches\",\"damaged\",\"integers\",\"writes\",\"reject\",\"teachers\",\"amendment\",\"reasoning\",\"feeling\",\"check\",\"abortion\",\"unofficial\",\"transmitted\",\"trotsky\",\"freely\",\"decide\",\"elite\",\"conflicts\",\"vocal\",\"bright\",\"farming\",\"tall\",\"spoke\",\"solve\",\"gravitational\",\"norse\",\"mutual\",\"advocates\",\"proto\",\"explosion\",\"sultan\",\"abroad\",\"evening\",\"coin\",\"warner\",\"juan\",\"jury\",\"bosnia\",\"godzilla\",\"touch\",\"sure\",\"abu\",\"fifty\",\"statesman\",\"pagan\",\"novelist\",\"provincial\",\"massacre\",\"carries\",\"anthropology\",\"physiology\",\"nouns\",\"glucose\",\"hearing\",\"cats\",\"danger\",\"newer\",\"realm\",\"organism\",\"scope\",\"treat\",\"graphic\",\"hash\",\"socialism\",\"defines\",\"genetics\",\"comet\",\"plague\",\"galileo\",\"arbitrary\",\"occasion\",\"ian\",\"aviation\",\"doors\",\"gray\",\"communion\",\"estonia\",\"leibniz\",\"propaganda\",\"reportedly\",\"franz\",\"tennis\",\"tissue\",\"module\",\"item\",\"derivative\",\"diameter\",\"illustrated\",\"losses\",\"facing\",\"speeds\",\"targets\",\"astronomical\",\"judah\",\"sanskrit\",\"manufacturer\",\"graph\",\"wisconsin\",\"unsuccessful\",\"infant\",\"doctors\",\"submarine\",\"quotes\",\"guardian\",\"operates\",\"kernel\",\"warming\",\"survival\",\"thanks\",\"arabs\",\"distant\",\"basin\",\"stanford\",\"trek\",\"consent\",\"sweet\",\"julius\",\"conan\",\"proponents\",\"withdrawal\",\"sight\",\"notice\",\"periodic\",\"likewise\",\"pool\",\"foods\",\"ion\",\"maintaining\",\"yugoslavia\",\"occurring\",\"barry\",\"meetings\",\"chad\",\"vocabulary\",\"alice\",\"artillery\",\"predominantly\",\"modes\",\"estimate\",\"filter\",\"eleven\",\"tennessee\",\"villages\",\"oh\",\"crossing\",\"legs\",\"rabbi\",\"songwriter\",\"nietzsche\",\"chapters\",\"iceland\",\"chemicals\",\"anniversary\",\"wisdom\",\"confidence\",\"serbian\",\"retrieved\",\"hindi\",\"amino\",\"explains\",\"punk\",\"assumption\",\"closest\",\"revolt\",\"unified\",\"stewart\",\"guilty\",\"saved\",\"ritual\",\"archaeological\",\"vessels\",\"runner\",\"permission\",\"trend\",\"practiced\",\"solomon\",\"catholicism\",\"graham\",\"belarus\",\"solely\",\"potentially\",\"noise\",\"sleep\",\"sacrifice\",\"displayed\",\"inhabited\",\"debut\",\"otto\",\"recognised\",\"divide\",\"clean\",\"circles\",\"diagram\",\"jerry\",\"hughes\",\"discrete\",\"enjoy\",\"reliable\",\"deals\",\"masters\",\"ferdinand\",\"tournament\",\"signature\",\"doom\",\"ukraine\",\"hear\",\"imposed\",\"technically\",\"connecticut\",\"regulation\",\"comparative\",\"maintenance\",\"inter\",\"cincinnati\",\"jump\",\"councils\",\"adults\",\"emotional\",\"birthday\",\"automobile\",\"syntax\",\"scored\",\"remarkable\",\"dialogue\",\"updated\",\"canterbury\",\"equipped\",\"constellation\",\"cdot\",\"macau\",\"nonetheless\",\"presents\",\"frontier\",\"pole\",\"shadow\",\"flows\",\"billy\",\"terry\",\"conception\",\"gore\",\"radar\",\"forty\",\"bearing\",\"opens\",\"orientation\",\"junior\",\"morris\",\"examination\",\"civilizations\",\"balls\",\"smooth\",\"explosive\",\"cool\",\"invited\",\"foundations\",\"associate\",\"reed\",\"extends\",\"judgment\",\"watson\",\"desktop\",\"baker\",\"grave\",\"experts\",\"elder\",\"floating\",\"baron\",\"wealthy\",\"salvation\",\"attributes\",\"municipal\",\"creature\",\"catch\",\"insubstantial\",\"mere\",\"primitive\",\"favorite\",\"depend\",\"portions\",\"producers\",\"implement\",\"phrases\",\"corporations\",\"immune\",\"blow\",\"deputy\",\"mbox\",\"claudius\",\"genome\",\"fred\",\"kills\",\"ahead\",\"harbor\",\"elementary\",\"stuart\",\"mhz\",\"horn\",\"vocals\",\"relating\",\"ss\",\"intermediate\",\"ranks\",\"opinions\",\"nucleus\",\"munich\",\"pick\",\"critic\",\"joke\",\"confederation\",\"retirement\",\"namely\",\"scores\",\"allegedly\",\"recovered\",\"capabilities\",\"commands\",\"haiti\",\"organisations\",\"publishers\",\"restoration\",\"nineteenth\",\"correspondence\",\"circular\",\"deeply\",\"courses\",\"homes\",\"smallest\",\"accessed\",\"earthquake\",\"fighters\",\"autonomy\",\"circumcision\",\"landscape\",\"legends\",\"companion\",\"corresponds\",\"masses\",\"bavaria\",\"americas\",\"striking\",\"abilities\",\"directions\",\"stroke\",\"farmers\",\"compiled\",\"generic\",\"facility\",\"diesel\",\"layers\",\"reformation\",\"coding\",\"precisely\",\"specification\",\"believes\",\"antonio\",\"lion\",\"oregon\",\"heir\",\"atheism\",\"milton\",\"elvis\",\"tongue\",\"ross\",\"configuration\",\"sri\",\"salvador\",\"afghan\",\"albanian\",\"qur\",\"console\",\"insulin\",\"decay\",\"hat\",\"surgery\",\"metro\",\"maxwell\",\"respective\",\"bread\",\"expressions\",\"covenant\",\"enlightenment\",\"counts\",\"lebanese\",\"hilbert\",\"buddha\",\"banking\",\"westminster\",\"thereafter\",\"shield\",\"alumni\",\"mine\",\"denominations\",\"tiny\",\"lb\",\"cheese\",\"mtv\",\"railways\",\"monarchs\",\"jamaica\",\"lasting\",\"reconstruction\",\"roy\",\"contribution\",\"frequencies\",\"extinction\",\"cluster\",\"dallas\",\"compete\",\"anthem\",\"realized\",\"fun\",\"avenue\",\"convert\",\"operational\",\"yards\",\"alabama\",\"shakespeare\",\"improvements\",\"campaigns\",\"descriptions\",\"princeton\",\"load\",\"literacy\",\"lights\",\"dancing\",\"legally\",\"madrid\",\"ted\",\"parks\",\"malcolm\",\"everyday\",\"clay\",\"scheduled\",\"hosted\",\"reserves\",\"factbook\",\"victim\",\"duncan\",\"stack\",\"fascist\",\"cotton\",\"bones\",\"arrest\",\"speculation\",\"beam\",\"carriers\",\"astronomer\",\"prose\",\"argentine\",\"luxembourg\",\"forcing\",\"ab\",\"registered\",\"dies\",\"minimal\",\"orbital\",\"tested\",\"autobiography\",\"kazakhstan\",\"uprising\",\"elaborate\",\"convinced\",\"tomb\",\"adopt\",\"symphony\",\"actively\",\"peru\",\"photographs\",\"geometric\",\"plateau\",\"romanian\",\"proportional\",\"pi\",\"anarchist\",\"ideology\",\"rainfall\",\"amazon\",\"preserve\",\"excess\",\"demanded\",\"circa\",\"wooden\",\"volcanic\",\"ali\",\"charts\",\"ira\",\"moldova\",\"poles\",\"tension\",\"diversity\",\"displays\",\"advances\",\"competing\",\"scales\",\"measurements\",\"inuit\",\"collins\",\"stayed\",\"browser\",\"nodes\",\"catherine\",\"finish\",\"harold\",\"rely\",\"editing\",\"interval\",\"completion\",\"humor\",\"accomplished\",\"consecutive\",\"honey\",\"whale\",\"gift\",\"relatives\",\"worn\",\"zeus\",\"stating\",\"thrown\",\"nicholas\",\"entrance\",\"eighth\",\"flowers\",\"backed\",\"nazis\",\"kick\",\"technological\",\"fate\",\"conservatives\",\"supposedly\",\"enterprise\",\"samples\",\"croatian\",\"enabled\",\"lane\",\"organ\",\"computational\",\"golf\",\"egg\",\"oswald\",\"dec\",\"paved\",\"warrior\",\"cousin\",\"signing\",\"ludwig\",\"contents\",\"attitude\",\"cow\",\"package\",\"select\",\"fifteen\",\"expenditures\",\"lambda\",\"kb\",\"omega\",\"advocate\",\"chaos\",\"eugene\",\"globe\",\"bow\",\"cemetery\",\"remembered\",\"intent\",\"morgan\",\"gases\",\"bridges\",\"ipa\",\"persia\",\"dj\",\"capitalist\",\"voices\",\"engage\",\"attorney\",\"burned\",\"precision\",\"productions\",\"waste\",\"encoding\",\"miami\",\"mu\",\"catalan\",\"availability\",\"inherited\",\"transit\",\"crusade\",\"forbidden\",\"brass\",\"dominican\",\"unicode\",\"annually\",\"vital\",\"advent\",\"equilibrium\",\"calculated\",\"surfaces\",\"calculations\",\"adolf\",\"amsterdam\",\"prussian\",\"dune\",\"predicted\",\"horizontal\",\"attend\",\"winds\",\"hinduism\",\"dust\",\"preparation\",\"rough\",\"jurisdictions\",\"tokyo\",\"bed\",\"ronald\",\"jay\",\"homepage\",\"clergy\",\"rendered\",\"embedded\",\"ha\",\"microwave\",\"physically\",\"ken\",\"populated\",\"murdered\",\"differs\",\"feed\",\"nintendo\",\"und\",\"iraqi\",\"altered\",\"till\",\"syrian\",\"scoring\",\"irc\",\"totally\",\"fathers\",\"pascal\",\"archives\",\"environments\",\"crowd\",\"connecting\",\"dubbed\",\"floppy\",\"deemed\",\"manuscripts\",\"instances\",\"locally\",\"telecommunications\",\"olympics\",\"protocols\",\"cameroon\",\"expelled\",\"transformed\",\"comment\",\"spend\",\"peer\",\"wallace\",\"acceptable\",\"remember\",\"suspended\",\"reagan\",\"dealt\",\"discussions\",\"mccarthy\",\"fiscal\",\"observers\",\"documentation\",\"pilots\",\"passengers\",\"tanks\",\"deposits\",\"sheet\",\"weber\",\"honduras\",\"alberta\",\"enforcement\",\"yale\",\"vessel\",\"poe\",\"marxist\",\"explicit\",\"critique\",\"similarities\",\"dramatically\",\"initiated\",\"promised\",\"tense\",\"statute\",\"ions\",\"ba\",\"barrel\",\"galaxies\",\"edgar\",\"tribal\",\"trace\",\"corn\",\"dying\",\"assassinated\",\"wolf\",\"robin\",\"joan\",\"rhythm\",\"lutheran\",\"willing\",\"intention\",\"firing\",\"pleasure\",\"carefully\",\"famously\",\"faculty\",\"paradox\",\"criticisms\",\"nationalism\",\"designation\",\"pushed\",\"myths\",\"thesis\",\"modification\",\"craft\",\"es\",\"hemisphere\",\"boxing\",\"delivery\",\"resident\",\"extending\",\"feminist\",\"verbs\",\"daughters\",\"orleans\",\"lawyer\",\"arkansas\",\"jefferson\",\"legitimate\",\"celebration\",\"brooks\",\"monk\",\"pact\",\"improvement\",\"multiplication\",\"occasional\",\"nobility\",\"prophets\",\"systematic\",\"vegetables\",\"breed\",\"claude\",\"starred\",\"combustion\",\"distances\",\"hubbard\",\"coca\",\"interactions\",\"mild\",\"treaties\",\"killer\",\"hugo\",\"imf\",\"arctic\",\"limitations\",\"bangladesh\",\"coordinates\",\"harmonic\",\"latitude\",\"monastery\",\"monty\",\"removing\",\"descended\",\"push\",\"canonical\",\"manhattan\",\"machinery\",\"processors\",\"semitism\",\"receiver\",\"contribute\",\"ark\",\"babylonian\",\"sending\",\"dawn\",\"cooking\",\"segment\",\"monks\",\"encountered\",\"enhanced\",\"mines\",\"antiquity\",\"presentation\",\"addressed\",\"capability\",\"constantly\",\"rugby\",\"elephant\",\"cornell\",\"continuity\",\"harmony\",\"terrorism\",\"construct\",\"informal\",\"marry\",\"forever\",\"economist\",\"neil\",\"connect\",\"planes\",\"champions\",\"dismissed\",\"restaurants\",\"provisions\",\"liver\",\"midi\",\"participants\",\"steven\",\"charlie\",\"singers\",\"wounded\",\"saturday\",\"edmund\",\"comparable\",\"sectors\",\"landed\",\"municipality\",\"calgary\",\"dice\",\"voiced\",\"equality\",\"indicating\",\"ward\",\"gaining\",\"equatorial\",\"heights\",\"mitchell\",\"traits\",\"happens\",\"uncertain\",\"combinations\",\"bias\",\"jargon\",\"shots\",\"afl\",\"drivers\",\"internationally\",\"arguing\",\"responded\",\"miss\",\"harm\",\"walker\",\"surprise\",\"passages\",\"inverse\",\"denver\",\"gathering\",\"harbour\",\"correctly\",\"proceedings\",\"acted\",\"advantages\",\"cantor\",\"knife\",\"expand\",\"hired\",\"governmental\",\"putting\",\"geology\",\"sophisticated\",\"talks\",\"trademark\",\"documented\",\"substantially\",\"persecution\",\"phases\",\"navigation\",\"mario\",\"licensed\",\"er\",\"adjective\",\"axioms\",\"crucial\",\"kim\",\"convicted\",\"tiger\",\"lighting\",\"organs\",\"chocolate\",\"abbey\",\"cannon\",\"terror\",\"tended\",\"dissolved\",\"virtue\",\"isles\",\"implementations\",\"separately\",\"leaf\",\"au\",\"clusters\",\"exhibit\",\"readily\",\"pocket\",\"surrender\",\"macedonian\",\"essence\",\"sheep\",\"auto\",\"gap\",\"apostles\",\"meter\",\"trigger\",\"eds\",\"ancestors\",\"advocated\",\"magazines\",\"plates\",\"knowing\",\"plato\",\"loyal\",\"witness\",\"ny\",\"constitute\",\"thirteen\",\"ceased\",\"kant\",\"algeria\",\"rays\",\"portal\",\"highways\",\"fires\",\"soccer\",\"travels\",\"fr\",\"anarchism\",\"guided\",\"sitting\",\"sizes\",\"anywhere\",\"numbered\",\"belonging\",\"cycles\",\"default\",\"mortality\",\"fa\",\"trouble\",\"conscious\",\"severely\",\"injured\",\"eggs\",\"ancestry\",\"civilians\",\"chains\",\"genius\",\"helping\",\"bmw\",\"divorce\",\"accounting\",\"raising\",\"extensions\",\"witnesses\",\"parameters\",\"nm\",\"syllable\",\"db\",\"brussels\",\"warning\",\"boats\",\"ride\",\"altitude\",\"prevented\",\"lens\",\"seal\",\"inland\",\"fragments\",\"referendum\",\"condemned\",\"manufacture\",\"powder\",\"genocide\",\"graphical\",\"cambodia\",\"initiative\",\"eliminated\",\"norm\",\"alcoholic\",\"thoughts\",\"welfare\",\"handling\",\"gen\",\"resolved\",\"considers\",\"promoting\",\"hugh\",\"joining\",\"ltd\",\"interference\",\"findings\",\"nitrogen\",\"monitor\",\"controlling\",\"ratified\",\"darkness\",\"soviets\",\"thermal\",\"reasonable\",\"expanding\",\"pound\",\"violin\",\"suspected\",\"determining\",\"assist\",\"coastline\",\"placing\",\"worse\",\"malta\",\"customer\",\"stick\",\"atmospheric\",\"shipping\",\"mice\",\"ada\",\"plasma\",\"greenland\",\"throw\",\"icon\",\"amd\",\"pearl\",\"websites\",\"supplied\",\"trilogy\",\"whenever\",\"monument\",\"insects\",\"meets\",\"wise\",\"rounds\",\"cola\",\"bowie\",\"panel\",\"personally\",\"gps\",\"colonel\",\"folklore\",\"arnold\",\"sessions\",\"coordinate\",\"leagues\",\"rhine\",\"thick\",\"utility\",\"settings\",\"polar\",\"unclear\",\"wake\",\"venice\",\"emerging\",\"aged\",\"universally\",\"pride\",\"spirits\",\"rica\",\"commanded\",\"outcome\",\"puerto\",\"strikes\",\"theologian\",\"guatemala\",\"decrease\",\"suburbs\",\"friendship\",\"wedding\",\"miscellaneous\",\"rio\",\"accessible\",\"georg\",\"rendering\",\"sung\",\"flights\",\"pounds\",\"cosmic\",\"customers\",\"swing\",\"programmers\",\"epistle\",\"ecuador\",\"wasn\",\"bitter\",\"zones\",\"colored\",\"xi\",\"commitment\",\"collaboration\",\"reflects\",\"cf\",\"sized\",\"commissioned\",\"burns\",\"triangle\",\"shop\",\"ois\",\"cornwall\",\"psi\",\"hannibal\",\"robot\",\"burn\",\"successive\",\"nomination\",\"harris\",\"morality\",\"tons\",\"disappeared\",\"chair\",\"mapping\",\"heinrich\",\"lions\",\"ammunition\",\"bicycle\",\"lovecraft\",\"tolkien\",\"ecology\",\"interviews\",\"neighboring\",\"ancestor\",\"crossed\",\"reserved\",\"revenues\",\"portable\",\"rescue\",\"rap\",\"charlemagne\",\"scandal\",\"churchill\",\"behalf\",\"klan\",\"dishes\",\"participated\",\"fascism\",\"rand\",\"awareness\",\"promise\",\"fruits\",\"autumn\",\"archipelago\",\"sa\",\"ninth\",\"entries\",\"bat\",\"viruses\",\"induced\",\"suite\",\"derivatives\",\"joy\",\"absorbed\",\"lighter\",\"denote\",\"economists\",\"summit\",\"volunteers\",\"commercially\",\"synthetic\",\"euclidean\",\"sketch\",\"acceleration\",\"answers\",\"belongs\",\"talking\",\"lectures\",\"dreams\",\"deliberately\",\"wesley\",\"vladimir\",\"options\",\"numerical\",\"departure\",\"gilbert\",\"button\",\"worker\",\"denoted\",\"evident\",\"qualities\",\"delaware\",\"mrs\",\"op\",\"beethoven\",\"communicate\",\"quote\",\"shoot\",\"empirical\",\"utc\",\"melbourne\",\"bytes\",\"monsters\",\"reformed\",\"drums\",\"quest\",\"sicily\",\"lynch\",\"athletic\",\"burial\",\"mentions\",\"encourage\",\"escaped\",\"ignored\",\"scholarship\",\"sk\",\"sodium\",\"papal\",\"dress\",\"suggesting\",\"cap\",\"presumably\",\"ron\",\"breeding\",\"seed\",\"chronicles\",\"fail\",\"respond\",\"uncommon\",\"sing\",\"challenged\",\"bloody\",\"anatomy\",\"discrimination\",\"flower\",\"picked\",\"fill\",\"cryptography\",\"leon\",\"tip\",\"nile\",\"topology\",\"walking\",\"slower\",\"poorly\",\"famine\",\"facto\",\"angles\",\"measuring\",\"cylinder\",\"wage\",\"assets\",\"cache\",\"anarcho\",\"dynamics\",\"preventing\",\"discoveries\",\"hate\",\"assisted\",\"senators\",\"static\",\"detect\",\"hampshire\",\"keith\",\"raymond\",\"discuss\",\"abbreviation\",\"teeth\",\"imported\",\"protests\",\"carlos\",\"suppose\",\"sequel\",\"holland\",\"andr\",\"tie\",\"friction\",\"scripture\",\"knows\",\"waiting\",\"loved\",\"purchasing\",\"hostile\",\"kurt\",\"pen\",\"ghana\",\"episcopal\",\"dean\",\"oliver\",\"evangelical\",\"creed\",\"achievement\",\"borrowed\",\"visiting\",\"compromise\",\"asking\",\"pin\",\"kelly\",\"infrared\",\"wildlife\",\"temples\",\"definite\",\"boom\",\"toxic\",\"buses\",\"parker\",\"demons\",\"opportunities\",\"introducing\",\"publish\",\"contracts\",\"jos\",\"madison\",\"cologne\",\"contexts\",\"finger\",\"giovanni\",\"grandson\",\"seized\",\"mill\",\"conceived\",\"grammatical\",\"las\",\"demon\",\"asimov\",\"patriarch\",\"wireless\",\"ambassador\",\"jokes\",\"armour\",\"jihad\",\"peaceful\",\"dominance\",\"bombs\",\"aa\",\"gross\",\"compositions\",\"barbara\",\"faq\",\"jeff\",\"arch\",\"discover\",\"editors\",\"breaks\",\"gear\",\"thailand\",\"instant\",\"ethanol\",\"computation\",\"cartridge\",\"sh\",\"yahweh\",\"disks\",\"pursued\",\"scholarly\",\"hume\",\"fertility\",\"inheritance\",\"ranking\",\"dam\",\"maine\",\"sp\",\"rocky\",\"topological\",\"crick\",\"doctrines\",\"accurately\",\"feedback\",\"asteroid\",\"odd\",\"drummer\",\"gardens\",\"speaks\",\"municipalities\",\"gathered\",\"strips\",\"sit\",\"cream\",\"fed\",\"axiom\",\"jason\",\"arise\",\"helen\",\"audiences\",\"treatise\",\"assuming\",\"lacking\",\"annexed\",\"possess\",\"ernst\",\"competitions\",\"commodities\",\"destination\",\"armenian\",\"aftermath\",\"geological\",\"radioactive\",\"meditation\",\"mar\",\"victorian\",\"dracula\",\"voluntary\",\"focuses\",\"revision\",\"suddenly\",\"julia\",\"passive\",\"riding\",\"seeds\",\"renowned\",\"traced\",\"simplest\",\"wait\",\"angola\",\"arena\",\"households\",\"predecessor\",\"clarke\",\"saxony\",\"observances\",\"yankees\",\"playoffs\",\"evaluation\",\"digits\",\"armor\",\"guerrilla\",\"ernest\",\"festivals\",\"kenneth\",\"censorship\",\"fiber\",\"beatles\",\"hegel\",\"resurrection\",\"turks\",\"accordingly\",\"duration\",\"hoped\",\"vincent\",\"bang\",\"commissioner\",\"talent\",\"incomplete\",\"withdrew\",\"encounter\",\"danube\",\"informed\",\"gains\",\"hearts\",\"acknowledged\",\"embassy\",\"filmed\",\"restaurant\",\"dennis\",\"flags\",\"giants\",\"fugue\",\"expense\",\"barcelona\",\"applying\",\"funded\",\"consistently\",\"digit\",\"youngest\",\"favored\",\"mankind\",\"demonstrate\",\"prohibited\",\"adelaide\",\"necessity\",\"fuller\",\"travelling\",\"respected\",\"copenhagen\",\"resembles\",\"prefix\",\"sided\",\"barrier\",\"lying\",\"loose\",\"lecture\",\"testimony\",\"yield\",\"princes\",\"counting\",\"lessons\",\"excessive\",\"ace\",\"columns\",\"acute\",\"lock\",\"aberdeen\",\"purple\",\"flood\",\"hms\",\"nowadays\",\"enzymes\",\"parody\",\"brandenburg\",\"fraction\",\"creek\",\"mad\",\"extraordinary\",\"proprietary\",\"suffer\",\"hamburg\",\"calcium\",\"amber\",\"traveled\",\"reproduction\",\"borough\",\"restore\",\"gr\",\"eclipse\",\"bobby\",\"cornish\",\"accordance\",\"activists\",\"factions\",\"cooling\",\"implied\",\"prisoner\",\"retreat\",\"henri\",\"chips\",\"deity\",\"thirds\",\"rogers\",\"feared\",\"credits\",\"simpler\",\"detected\",\"calculation\",\"paint\",\"hamlet\",\"ix\",\"associations\",\"helps\",\"requests\",\"telephones\",\"maurice\",\"excluded\",\"accent\",\"crowned\",\"anna\",\"gm\",\"scattered\",\"indonesian\",\"patents\",\"clown\",\"consumers\",\"organised\",\"imprisoned\",\"boards\",\"garfield\",\"militia\",\"marble\",\"prototype\",\"strongest\",\"gaelic\",\"frames\",\"nfc\",\"pm\",\"infinity\",\"russians\",\"bars\",\"ipv\",\"warren\",\"rooms\",\"managers\",\"compilation\",\"damascus\",\"timber\",\"preceding\",\"sufficiently\",\"layout\",\"kenya\",\"eritrea\",\"wimbledon\",\"ar\",\"harp\",\"diagnosis\",\"sudden\",\"deities\",\"permanently\",\"cooper\",\"practically\",\"mussolini\",\"disciplines\",\"stem\",\"airline\",\"antarctic\",\"chiefs\",\"architectural\",\"rod\",\"transactions\",\"travelled\",\"gpl\",\"mpeg\",\"preservation\",\"professionals\",\"abbreviated\",\"hereditary\",\"arrow\",\"armstrong\",\"improving\",\"chiefly\",\"revived\",\"fortune\",\"shifted\",\"merchants\",\"boxer\",\"outstanding\",\"correspond\",\"springs\",\"cubic\",\"britannica\",\"legion\",\"introduce\",\"bohemia\",\"feelings\",\"arrangements\",\"implications\",\"trail\",\"reduces\",\"wheat\",\"augustine\",\"consideration\",\"comprised\",\"utah\",\"loaded\",\"ease\",\"shopping\",\"sentences\",\"switching\",\"sisters\",\"clause\",\"chromosomes\",\"dancer\",\"peirce\",\"eventual\",\"neighborhood\",\"matt\",\"practitioners\",\"presley\",\"emergence\",\"injuries\",\"missionary\",\"fatal\",\"submitted\",\"icons\",\"merger\",\"frankfurt\",\"packet\",\"eta\",\"lesbian\",\"saga\",\"chromosome\",\"bipolar\",\"imply\",\"differently\",\"pointing\",\"collecting\",\"brunswick\",\"wells\",\"leather\",\"healthy\",\"walt\",\"defendant\",\"lift\",\"determination\",\"drake\",\"carnegie\",\"pitcher\",\"grid\",\"bengal\",\"delay\",\"sponsored\",\"methodist\",\"sudan\",\"attacking\",\"ironically\",\"marcus\",\"bacon\",\"obviously\",\"ni\",\"micro\",\"squadron\",\"byte\",\"settle\",\"centres\",\"indies\",\"solving\",\"jedi\",\"hendrix\",\"dancers\",\"rejection\",\"enters\",\"joshua\",\"glory\",\"wet\",\"classics\",\"designers\",\"foster\",\"departments\",\"beneath\",\"aims\",\"hurricane\",\"liberia\",\"highlands\",\"lit\",\"eagle\",\"flew\",\"interstate\",\"scotia\",\"occurrence\",\"isn\",\"videos\",\"chapel\",\"spelled\",\"brooklyn\",\"platforms\",\"butler\",\"ralph\",\"definitive\",\"grandfather\",\"grass\",\"attendance\",\"clement\",\"paradise\",\"rubber\",\"innovation\",\"intensity\",\"bin\",\"denotes\",\"offense\",\"competitors\",\"powell\",\"chronicle\",\"concentrations\",\"combining\",\"jerome\",\"nixon\",\"flame\",\"ge\",\"conductor\",\"pursuit\",\"iq\",\"cancelled\",\"democrat\",\"incorrect\",\"profound\",\"tobacco\",\"ra\",\"htm\",\"appeals\",\"collect\",\"lithium\",\"conjunction\",\"kashmir\",\"tuning\",\"ethernet\",\"monaco\",\"alfonso\",\"clients\",\"libertarian\",\"rifles\",\"senses\",\"dense\",\"kilometres\",\"rebel\",\"ear\",\"sexuality\",\"colours\",\"lloyd\",\"tries\",\"oxide\",\"shapes\",\"funk\",\"onwards\",\"loosely\",\"equivalence\",\"switched\",\"firearms\",\"talmud\",\"regulated\",\"profits\",\"whereby\",\"attraction\",\"saturn\",\"temporarily\",\"filed\",\"renewed\",\"mozambique\",\"forgotten\",\"traveling\",\"eisenhower\",\"lsd\",\"simplified\",\"mongol\",\"soundtrack\",\"specifications\",\"thatcher\",\"nervous\",\"resort\",\"telling\",\"forums\",\"provisional\",\"revenge\",\"avoided\",\"counted\",\"combine\",\"pink\",\"approached\",\"allah\",\"addiction\",\"registers\",\"feminism\",\"altogether\",\"coupled\",\"skilled\",\"hopes\",\"attractive\",\"museums\",\"concerto\",\"neighbouring\",\"tours\",\"chi\",\"poll\",\"alex\",\"tune\",\"download\",\"orbits\",\"cs\",\"appointment\",\"pack\",\"dinosaurs\",\"chronic\",\"semiconductor\",\"flemish\",\"duchy\",\"believing\",\"inherent\",\"expect\",\"strategies\",\"choosing\",\"rating\",\"preference\",\"wwii\",\"harvey\",\"frankenstein\",\"permit\",\"ng\",\"partnership\",\"programmer\",\"sharon\",\"harsh\",\"mandate\",\"mt\",\"rebels\",\"defended\",\"possessed\",\"gutenberg\",\"pull\",\"boas\",\"franc\",\"graduated\",\"guards\",\"battalion\",\"collectively\",\"streams\",\"honorary\",\"estonian\",\"mali\",\"protestants\",\"malay\",\"andy\",\"telescope\",\"celestial\",\"broadly\",\"hp\",\"mb\",\"mandarin\",\"peasants\",\"seeks\",\"seattle\",\"aggressive\",\"speeches\",\"requested\",\"dartmouth\",\"rush\",\"ally\",\"endangered\",\"pittsburgh\",\"emissions\",\"solved\",\"herzegovina\",\"hemingway\",\"assert\",\"diving\",\"photography\",\"achilles\",\"refuge\",\"vatican\",\"explored\",\"sculpture\",\"valued\",\"owing\",\"employ\",\"contributing\",\"ore\",\"tensions\",\"climbing\",\"hybrid\",\"deployed\",\"successes\",\"fleming\",\"tourists\",\"expectancy\",\"impressive\",\"bore\",\"guitars\",\"fiji\",\"achievements\",\"derive\",\"verses\",\"elect\",\"investigations\",\"magical\",\"merit\",\"prague\",\"continuously\",\"kabul\",\"shi\",\"silicon\",\"ceo\",\"nobles\",\"dances\",\"eliminate\",\"cease\",\"conversation\",\"infected\",\"odyssey\",\"assembled\",\"bullet\",\"passion\",\"payment\",\"isotopes\",\"suited\",\"heating\",\"icelandic\",\"chicken\",\"breton\",\"debated\",\"stops\",\"idaho\",\"dictator\",\"minds\",\"prevention\",\"orthodoxy\",\"gif\",\"prophecy\",\"patron\",\"attractions\",\"czechoslovakia\",\"promotion\",\"penguin\",\"montenegro\",\"openly\",\"ruins\",\"detective\",\"heresy\",\"bnp\",\"wishes\",\"imaginary\",\"attribute\",\"vulnerable\",\"apartment\",\"loyalty\",\"alter\",\"realism\",\"cole\",\"alps\",\"marshal\",\"parity\",\"resemble\",\"leto\",\"woods\",\"threats\",\"ecclesiastical\",\"motorola\",\"euler\",\"satan\",\"acoustic\",\"isaiah\",\"theorists\",\"wants\",\"lifestyle\",\"validity\",\"steady\",\"hub\",\"analogous\",\"humorous\",\"malawi\",\"fur\",\"dolphins\",\"lightning\",\"declares\",\"horizon\",\"hawaiian\",\"trends\",\"heroin\",\"guam\",\"enigma\",\"venus\",\"destroying\",\"metaphor\",\"hopkins\",\"warriors\",\"generals\",\"everywhere\",\"charity\",\"ridge\",\"inquiry\",\"asks\",\"paperback\",\"fossils\",\"discourse\",\"heated\",\"johannes\",\"republics\",\"aided\",\"vietnamese\",\"mathrm\",\"allegations\",\"violation\",\"abundant\",\"enzyme\",\"br\",\"ash\",\"controller\",\"hammer\",\"touring\",\"mongolia\",\"praise\",\"flexible\",\"celebrate\",\"hitchcock\",\"messiah\",\"gram\",\"challenges\",\"seas\",\"corpus\",\"ski\",\"intervals\",\"hudson\",\"sinatra\",\"harder\",\"flesh\",\"fantastic\",\"mandatory\",\"usd\",\"posts\",\"throwing\",\"pace\",\"monday\",\"perfectly\",\"overcome\",\"pa\",\"disciples\",\"domination\",\"prepare\",\"antarctica\",\"arsenal\",\"suffix\",\"outbreak\",\"celebrity\",\"provision\",\"astrology\",\"habsburg\",\"arabian\",\"networking\",\"bubble\",\"manpower\",\"hollow\",\"emission\",\"approximate\",\"bj\",\"smoke\",\"victories\",\"dependence\",\"bachelor\",\"nick\",\"makers\",\"comprises\",\"memories\",\"linguists\",\"qaeda\",\"gaming\",\"numerals\",\"fingers\",\"monthly\",\"equator\",\"exodus\",\"modulation\",\"undergraduate\",\"mg\",\"assessment\",\"motivated\",\"morse\",\"composite\",\"tight\",\"ka\",\"addressing\",\"adds\",\"fastest\",\"albeit\",\"attract\",\"surname\",\"jew\",\"decisive\",\"queens\",\"anonymous\",\"performers\",\"encryption\",\"phonetic\",\"neighbors\",\"oak\",\"draws\",\"justification\",\"effectiveness\",\"enterprises\",\"fails\",\"archaeology\",\"morrison\",\"prix\",\"economically\",\"pr\",\"inclusion\",\"silence\",\"absorption\",\"dish\",\"clan\",\"minorities\",\"ashes\",\"tamil\",\"hello\",\"lennon\",\"differing\",\"alternatively\",\"oklahoma\",\"ingredients\",\"inserted\",\"occupy\",\"recurring\",\"detection\",\"similarity\",\"athlete\",\"nose\",\"fi\",\"hamas\",\"xp\",\"providers\",\"ivan\",\"cloud\",\"indirect\",\"emphasized\",\"saving\",\"lawyers\",\"pursue\",\"friday\",\"acquisition\",\"mysterious\",\"limestone\",\"runways\",\"erosion\",\"byron\",\"exiled\",\"believers\",\"focusing\",\"cipher\",\"arrive\",\"tactical\",\"erected\",\"span\",\"impression\",\"debates\",\"spite\",\"prompted\",\"ammonia\",\"prey\",\"sects\",\"wore\",\"pet\",\"hermann\",\"gambling\",\"symmetry\",\"metallica\",\"faction\",\"prevalent\",\"predict\",\"np\",\"leonard\",\"nicknamed\",\"failing\",\"naked\",\"mosque\",\"susan\",\"reich\",\"nigeria\",\"kid\",\"bet\",\"nominal\",\"irregular\",\"feudal\",\"twins\",\"quad\",\"minneapolis\",\"friedman\",\"anchor\",\"priority\",\"determines\",\"rises\",\"motors\",\"reporting\",\"wittgenstein\",\"flute\",\"prosecution\",\"reversed\",\"demonstration\",\"cookies\",\"peaks\",\"fever\",\"fees\",\"oriental\",\"manuel\",\"caves\",\"xiv\",\"literal\",\"marking\",\"heracles\",\"asserted\",\"widow\",\"exercised\",\"careful\",\"eddie\",\"veterans\",\"reveal\",\"crop\",\"continuation\",\"finals\",\"convenient\",\"parish\",\"sentenced\",\"casualties\",\"mature\",\"pressures\",\"manage\",\"precipitation\",\"radius\",\"supernatural\",\"montgomery\",\"warsaw\",\"hardly\",\"grouped\",\"odds\",\"traces\",\"healing\",\"michel\",\"stance\",\"histories\",\"gnostic\",\"segments\",\"firms\",\"elevated\",\"tsar\",\"gaza\",\"excluding\",\"shuttle\",\"angular\",\"brunei\",\"regiment\",\"chord\",\"ta\",\"prohibition\",\"circus\",\"antony\",\"auxiliary\",\"daleks\",\"handled\",\"establishments\",\"fortress\",\"contemporaries\",\"winters\",\"succeed\",\"relay\",\"decreased\",\"declare\",\"itu\",\"exhibition\",\"notorious\",\"paying\",\"sends\",\"trick\",\"vectors\",\"metre\",\"poetic\",\"discography\",\"playwright\",\"attitudes\",\"oppose\",\"induction\",\"venture\",\"innovations\",\"obscure\",\"chambers\",\"haydn\",\"comprising\",\"traded\",\"keyboards\",\"defending\",\"uranium\",\"specially\",\"licensing\",\"feminine\",\"bolivia\",\"timing\",\"oath\",\"duplicate\",\"kryptonite\",\"nt\",\"shut\",\"imprisonment\",\"innocent\",\"dominate\",\"versa\",\"vikings\",\"kinetic\",\"angry\",\"proposals\",\"temperate\",\"schemes\",\"mauritius\",\"playoff\",\"prosperity\",\"boiling\",\"acronym\",\"somewhere\",\"luthor\",\"eleanor\",\"sins\",\"calculate\",\"coronation\",\"saul\",\"comprise\",\"palm\",\"acres\",\"insisted\",\"artifacts\",\"tenth\",\"justified\",\"realistic\",\"dominion\",\"rotating\",\"painters\",\"confined\",\"cheap\",\"luck\",\"searching\",\"snake\",\"chilean\",\"theatrical\",\"suspension\",\"rna\",\"dukes\",\"rebuilt\",\"cardinals\",\"kde\",\"slight\",\"adequate\",\"functioning\",\"troy\",\"phil\",\"telegraph\",\"eldest\",\"metaphysics\",\"explanations\",\"acclaimed\",\"carthage\",\"closing\",\"mini\",\"isolation\",\"kit\",\"eg\",\"venezuela\",\"consumed\",\"armenia\",\"balkan\",\"allegiance\",\"modifications\",\"ff\",\"motorcycle\",\"rangle\",\"genuine\",\"anxiety\",\"labeled\",\"reprinted\",\"mask\",\"prone\",\"resolve\",\"domains\",\"macdonald\",\"questioned\",\"toll\",\"physicists\",\"cartoons\",\"freight\",\"ferry\",\"unrelated\",\"tribunal\",\"gorbachev\",\"cypriot\",\"scriptures\",\"viking\",\"ithaca\",\"sabbath\",\"compatibility\",\"profession\",\"attending\",\"masculine\",\"associates\",\"nerve\",\"beads\",\"optional\",\"cuts\",\"gibson\",\"conrad\",\"approximation\",\"polynomial\",\"wavelength\",\"armoured\",\"nice\",\"marxism\",\"couples\",\"motto\",\"probe\",\"devised\",\"fertile\",\"deliver\",\"zappa\",\"structured\",\"ecological\",\"fu\",\"carved\",\"architects\",\"strait\",\"dozen\",\"brigade\",\"scandinavian\",\"gospels\",\"lanka\",\"bankruptcy\",\"rite\",\"schwarzenegger\",\"elimination\",\"capitol\",\"colonization\",\"circulation\",\"aligned\",\"empires\",\"astronomers\",\"sierra\",\"arrows\",\"kyoto\",\"resignation\",\"tolerance\",\"wives\",\"aegean\",\"drove\",\"eaten\",\"yard\",\"responses\",\"towers\",\"cairo\",\"manifold\",\"intercourse\",\"dodgers\",\"distributions\",\"mikhail\",\"currents\",\"brick\",\"das\",\"rivals\",\"secured\",\"farms\",\"cosmology\",\"discusses\",\"journals\",\"sexually\",\"lab\",\"acquire\",\"ink\",\"possessions\",\"khmer\",\"handbook\",\"eden\",\"welcome\",\"wheels\",\"hacker\",\"mk\",\"manifesto\",\"taxation\",\"formulation\",\"quiet\",\"reflecting\",\"diary\",\"drag\",\"dante\",\"booth\",\"congressional\",\"seemingly\",\"accession\",\"sahara\",\"loan\",\"conversely\",\"agenda\",\"constitutes\",\"intensive\",\"geoffrey\",\"incorporate\",\"brings\",\"puts\",\"viewers\",\"cruise\",\"malaria\",\"bowling\",\"quarterback\",\"planetary\",\"dickens\",\"chiang\",\"criticised\",\"broader\",\"hart\",\"republicans\",\"illustration\",\"sick\",\"dictionaries\",\"boxes\",\"esoteric\",\"theologians\",\"guidance\",\"algae\",\"pete\",\"browns\",\"fraud\",\"deposed\",\"valve\",\"fitzgerald\",\"unesco\",\"marilyn\",\"conscription\",\"wages\",\"bomber\",\"empress\",\"tin\",\"gnome\",\"suppressed\",\"alternatives\",\"linking\",\"peers\",\"freed\",\"substitute\",\"nephew\",\"successors\",\"reflection\",\"vegetation\",\"timor\",\"prominence\",\"buffer\",\"innovative\",\"xavier\",\"ukrainian\",\"sixteen\",\"tubes\",\"spiral\",\"crystals\",\"octave\",\"explosives\",\"microprocessor\",\"theft\",\"paths\",\"repeat\",\"din\",\"basically\",\"evans\",\"commentators\",\"unstable\",\"potter\",\"franks\",\"jon\",\"eiffel\",\"ticket\",\"drinks\",\"thai\",\"parade\",\"hitting\",\"sony\",\"possibilities\",\"lucas\",\"crete\",\"bombers\",\"fitted\",\"retail\",\"macbeth\",\"bluetooth\",\"congregation\",\"fourier\",\"mumbai\",\"coercion\",\"clouds\",\"cp\",\"protective\",\"pulled\",\"sarah\",\"bind\",\"releasing\",\"stamp\",\"dictatorship\",\"spy\",\"dee\",\"gabriel\",\"calculator\",\"hi\",\"israelites\",\"incidents\",\"inferior\",\"registration\",\"bsd\",\"castile\",\"harmonica\",\"licenses\",\"blackadder\",\"reads\",\"delayed\",\"greenhouse\",\"allan\",\"diffusion\",\"coptic\",\"observe\",\"slovenia\",\"flowing\",\"faithful\",\"scripts\",\"arises\",\"honored\",\"han\",\"regent\",\"carey\",\"resist\",\"thinkers\",\"sometime\",\"mud\",\"treasury\",\"grants\",\"sat\",\"qualified\",\"enforce\",\"compulsory\",\"adaptations\",\"developer\",\"correction\",\"decree\",\"enable\",\"leipzig\",\"gerald\",\"shops\",\"summers\",\"azerbaijan\",\"carroll\",\"invisible\",\"elevator\",\"sail\",\"fee\",\"dissolution\",\"elephants\",\"latvian\",\"cricketer\",\"riots\",\"choices\",\"anger\",\"montana\",\"authorized\",\"analytic\",\"aesthetic\",\"mixing\",\"dwarf\",\"torture\",\"crude\",\"inquisition\",\"judgement\",\"sporting\",\"shells\",\"processed\",\"luis\",\"soap\",\"souls\",\"unification\",\"drawings\",\"tommy\",\"valleys\",\"relates\",\"constituent\",\"undergo\",\"spider\",\"cube\",\"heavier\",\"footage\",\"esa\",\"moments\",\"lung\",\"bug\",\"maker\",\"scandinavia\",\"slot\",\"meme\",\"weakened\",\"imperialism\",\"pipe\",\"chronology\",\"mason\",\"projection\",\"sur\",\"resistant\",\"ren\",\"converts\",\"iec\",\"retains\",\"exploitation\",\"preceded\",\"flip\",\"formulated\",\"quarters\",\"founders\",\"kepler\",\"customary\",\"roof\",\"unpaved\",\"container\",\"transcription\",\"cr\",\"nba\",\"interact\",\"subjective\",\"publicity\",\"mountainous\",\"fragment\",\"cbs\",\"vancouver\",\"brilliant\",\"weakness\",\"syllables\",\"prehistoric\",\"earthquakes\",\"township\",\"fourteen\",\"ears\",\"reporter\",\"nights\",\"copied\",\"targeted\",\"conditional\",\"antioch\",\"gehrig\",\"bandwidth\",\"grail\",\"airways\",\"dns\",\"popularized\",\"counterparts\",\"battlefield\",\"proclamation\",\"accepting\",\"petersburg\",\"crater\",\"popularly\",\"melody\",\"ambitious\",\"judiciary\",\"aboard\",\"squares\",\"muscles\",\"bigger\",\"partition\",\"gifts\",\"thrust\",\"lou\",\"pianist\",\"curves\",\"tigers\",\"anarchists\",\"finest\",\"conclusions\",\"tag\",\"badly\",\"chase\",\"enacted\",\"herman\",\"haven\",\"motivation\",\"obligations\",\"collapsed\",\"descendant\",\"servant\",\"merge\",\"connects\",\"cdots\",\"formations\",\"protecting\",\"viewing\",\"exit\",\"southwestern\",\"boot\",\"alike\",\"gang\",\"yahoo\",\"interim\",\"lateral\",\"aol\",\"swords\",\"clarinet\",\"armored\",\"deny\",\"cent\",\"costume\",\"performs\",\"affiliated\",\"pat\",\"infamous\",\"wholly\",\"palestinians\",\"junction\",\"wa\",\"apostolic\",\"dianetics\",\"sqrt\",\"amplifier\",\"beans\",\"hypnosis\",\"enforced\",\"triumph\",\"assumes\",\"aired\",\"tragedy\",\"coral\",\"suffrage\",\"roberts\",\"aerial\",\"displaced\",\"atoll\",\"printer\",\"airplane\",\"madagascar\",\"admission\",\"affects\",\"soup\",\"pierce\",\"dewey\",\"defeats\",\"oz\",\"diplomat\",\"beverages\",\"inability\",\"md\",\"commit\",\"hood\",\"principally\",\"visits\",\"analogy\",\"bid\",\"punch\",\"pyramid\",\"recreational\",\"generalized\",\"numbering\",\"click\",\"pg\",\"meal\",\"pregnancy\",\"skating\",\"baghdad\",\"joyce\",\"shortened\",\"charlotte\",\"cobain\",\"holder\",\"controversies\",\"backing\",\"sustained\",\"postal\",\"archaic\",\"blacks\",\"terrestrial\",\"volunteer\",\"productive\",\"dose\",\"neumann\",\"reveals\",\"speculated\",\"pot\",\"swimming\",\"jungle\",\"subgroup\",\"ceremonial\",\"privileges\",\"dressed\",\"oxidation\",\"nbc\",\"kurdish\",\"landmark\",\"hobbes\",\"sanctions\",\"theodore\",\"cartoonist\",\"survivors\",\"rick\",\"precursor\",\"ideological\",\"rudolf\",\"subtle\",\"discussing\",\"bold\",\"edwin\",\"sake\",\"zinc\",\"representations\",\"cloth\",\"cheaper\",\"metabolism\",\"manned\",\"gateway\",\"sect\",\"platinum\",\"leonardo\",\"lex\",\"cue\",\"bb\",\"birmingham\",\"phones\",\"afterlife\",\"guinness\",\"lacked\",\"standardized\",\"continuum\",\"photograph\",\"rev\",\"suggestion\",\"bounded\",\"deficit\",\"concerts\",\"programmes\",\"extract\",\"chaucer\",\"journalism\",\"fda\",\"shannon\",\"expectations\",\"peel\",\"prayers\",\"repair\",\"bogart\",\"lodge\",\"labels\",\"lover\",\"probable\",\"skull\",\"chest\",\"relied\",\"absent\",\"dozens\",\"hank\",\"cultivation\",\"relies\",\"analytical\",\"dairy\",\"collision\",\"rivalry\",\"remarks\",\"strain\",\"inscription\",\"fallacy\",\"whales\",\"milwaukee\",\"assumptions\",\"cameo\",\"hausdorff\",\"pirates\",\"eminem\",\"update\",\"residential\",\"ruby\",\"hal\",\"cervantes\",\"masturbation\",\"creationism\",\"spencer\",\"ambiguous\",\"interpret\",\"guidelines\",\"newfoundland\",\"alchemy\",\"continents\",\"mystical\",\"mozart\",\"ivory\",\"balanced\",\"southeastern\",\"poison\",\"slope\",\"tech\",\"sunni\",\"guyana\",\"squad\",\"citing\",\"albanians\",\"comets\",\"nov\",\"absolutely\",\"murders\",\"mercedes\",\"interfaces\",\"coloured\",\"rachel\",\"apostle\",\"eusebius\",\"mips\",\"overthrow\",\"adherents\",\"bahrain\",\"rites\",\"businessman\",\"burton\",\"midnight\",\"beast\",\"counterpart\",\"dinosaur\",\"originating\",\"prevents\",\"meta\",\"botswana\",\"treatments\",\"ie\",\"lawsuit\",\"metallic\",\"avoiding\",\"diaspora\",\"dots\",\"benz\",\"disco\",\"cpus\",\"abbot\",\"privately\",\"socially\",\"proposition\",\"nebraska\",\"beating\",\"committees\",\"homo\",\"grip\",\"limiting\",\"pressed\",\"noting\",\"imaging\",\"insight\",\"clone\",\"stolen\",\"shipped\",\"habitat\",\"anchorage\",\"jumping\",\"breakdown\",\"northwestern\",\"feeding\",\"fencing\",\"risks\",\"cauchy\",\"highland\",\"colleagues\",\"closure\",\"canadians\",\"rows\",\"favourite\",\"gaul\",\"denomination\",\"cleese\",\"rituals\",\"theoretically\",\"wonder\",\"grains\",\"bruno\",\"negotiated\",\"keeps\",\"obligation\",\"accusations\",\"proceeds\",\"sr\",\"shaw\",\"pregnant\",\"homeland\",\"yields\",\"lengthy\",\"beef\",\"indirectly\",\"sullivan\",\"jesuit\",\"shoes\",\"ratings\",\"tuned\",\"owen\",\"execute\",\"apparatus\",\"blog\",\"deeper\",\"administrator\",\"doubles\",\"livestock\",\"rolls\",\"complaints\",\"methane\",\"lang\",\"devon\",\"taliban\",\"delhi\",\"eugenics\",\"memoirs\",\"mutations\",\"boss\",\"cowboys\",\"burroughs\",\"barbados\",\"nehru\",\"proceeded\",\"explaining\",\"integrity\",\"harmful\",\"ideals\",\"defenders\",\"dividing\",\"benedict\",\"seasonal\",\"unlimited\",\"unpopular\",\"breast\",\"reply\",\"min\",\"binomial\",\"regards\",\"freedoms\",\"gem\",\"marketed\",\"habits\",\"codex\",\"belize\",\"hezbollah\",\"expressing\",\"affecting\",\"xml\",\"ordering\",\"obtaining\",\"sorts\",\"temporal\",\"extant\",\"completing\",\"fernando\",\"grows\",\"investors\",\"explore\",\"swept\",\"thumb\",\"infections\",\"colspan\",\"ptolemy\",\"lisbon\",\"ioc\",\"furniture\",\"eligible\",\"gradual\",\"solids\",\"hazards\",\"mafia\",\"rouge\",\"edges\",\"rope\",\"braves\",\"nicaragua\",\"cello\",\"beneficial\",\"clothes\",\"rainbow\",\"nationalists\",\"wished\",\"bottle\",\"harper\",\"cicero\",\"hurt\",\"identifying\",\"arrays\",\"null\",\"violations\",\"generating\",\"terrorists\",\"lp\",\"crescent\",\"constraints\",\"lengths\",\"eva\",\"bare\",\"prc\",\"microscope\",\"helsinki\",\"inca\",\"karate\",\"mod\",\"abd\",\"cubs\",\"blamed\",\"northeastern\",\"verbal\",\"dome\",\"importantly\",\"dakota\",\"contested\",\"locke\",\"proximity\",\"frozen\",\"barely\",\"prolific\",\"messenger\",\"lowlands\",\"recover\",\"exotic\",\"worms\",\"marriages\",\"filming\",\"offspring\",\"theta\",\"ko\",\"witch\",\"frankish\",\"hull\",\"ferrari\",\"interrupt\",\"receptor\",\"overwhelming\",\"fuels\",\"inscriptions\",\"xii\",\"belonged\",\"farmer\",\"irving\",\"comparing\",\"predominant\",\"nautical\",\"slovakia\",\"tertiary\",\"ethiopian\",\"djibouti\",\"mate\",\"announces\",\"bristol\",\"modify\",\"braille\",\"cone\",\"shoulder\",\"mesopotamia\",\"asylum\",\"packages\",\"meaningful\",\"hide\",\"chapman\",\"ep\",\"annexation\",\"leeds\",\"dharma\",\"beck\",\"authoritarian\",\"justify\",\"spreading\",\"emotion\",\"satellites\",\"indication\",\"depicting\",\"confederacy\",\"destructive\",\"laos\",\"blessed\",\"raid\",\"tallest\",\"breathing\",\"payments\",\"atheists\",\"undertaken\",\"berber\",\"proceed\",\"burden\",\"den\",\"treating\",\"dame\",\"africans\",\"complementary\",\"smoking\",\"imdb\",\"spatial\",\"bonding\",\"judged\",\"exponential\",\"treason\",\"bride\",\"carol\",\"lucy\",\"seldom\",\"sociology\",\"hera\",\"considerations\",\"garrison\",\"surrendered\",\"ought\",\"shelter\",\"tens\",\"amnesty\",\"guarantee\",\"functionality\",\"gustav\",\"header\",\"combines\",\"truck\",\"backwards\",\"panama\",\"georges\",\"deputies\",\"silk\",\"flavor\",\"pump\",\"arcade\",\"satisfy\",\"compilers\",\"infty\",\"spears\",\"cure\",\"preparing\",\"marginal\",\"margin\",\"compensation\",\"participating\",\"habit\",\"rider\",\"perceive\",\"atheist\",\"fierce\",\"hadrian\",\"nomenclature\",\"butt\",\"reception\",\"deliberate\",\"arable\",\"crashes\",\"fatty\",\"listen\",\"dover\",\"selective\",\"vampire\",\"wellington\",\"responsibilities\",\"compressed\",\"generator\",\"tiles\",\"honda\",\"usenet\",\"authentic\",\"priesthood\",\"amos\",\"loch\",\"autism\",\"pitched\",\"refined\",\"steadily\",\"replied\",\"happiness\",\"advised\",\"imagery\",\"mistake\",\"recall\",\"kabbalah\",\"egyptians\",\"managing\",\"traders\",\"gasoline\",\"inertial\",\"diffraction\",\"venues\",\"fe\",\"demonstrations\",\"chuck\",\"locomotives\",\"flanders\",\"criminals\",\"graffiti\",\"estates\",\"stake\",\"battleships\",\"bengals\",\"bertrand\",\"referenced\",\"facilitate\",\"spontaneous\",\"iliad\",\"sympathetic\",\"trapped\",\"connor\",\"specialist\",\"immense\",\"nationwide\",\"edu\",\"examined\",\"descriptive\",\"mythological\",\"ads\",\"gabon\",\"amazing\",\"glacier\",\"longitude\",\"maize\",\"slide\",\"modest\",\"objectives\",\"eighteen\",\"symmetric\",\"divorced\",\"aryan\",\"automated\",\"specify\",\"knock\",\"audi\",\"rally\",\"mph\",\"tcp\",\"merlin\",\"math\",\"cos\",\"assyrian\",\"rover\",\"kerala\",\"biochemistry\",\"derivation\",\"wound\",\"oracle\",\"lovers\",\"deceased\",\"watching\",\"banner\",\"imagination\",\"dried\",\"ellis\",\"falkland\",\"outdoor\",\"transparent\",\"pbs\",\"trophy\",\"equals\",\"indoor\",\"ordained\",\"accelerated\",\"sailing\",\"crosses\",\"pit\",\"receptors\",\"spectral\",\"im\",\"temperament\",\"boolean\",\"sigma\",\"congregations\",\"mazda\",\"casino\",\"abolition\",\"emphasize\",\"beloved\",\"aphrodite\",\"secretly\",\"pedro\",\"remnants\",\"mutually\",\"notions\",\"supplement\",\"permits\",\"privy\",\"zimbabwe\",\"vegas\",\"conferences\",\"rounded\",\"winston\",\"blades\",\"proving\",\"granting\",\"calculating\",\"multimedia\",\"morphology\",\"commanders\",\"bacterial\",\"planck\",\"balkans\",\"sixty\",\"thames\",\"rightarrow\",\"erie\",\"earnhardt\",\"krak\",\"cantonese\",\"replication\",\"dalek\",\"crushed\",\"persistent\",\"supporter\",\"defeating\",\"continually\",\"accepts\",\"pioneers\",\"baldwin\",\"conviction\",\"exercises\",\"staged\",\"bantu\",\"col\",\"colin\",\"kids\",\"myanmar\",\"tenure\",\"zoo\",\"missed\",\"hellenistic\",\"playstation\",\"holmes\",\"goths\",\"ratios\",\"castro\",\"orchestral\",\"formulas\",\"mps\",\"spherical\",\"clapton\",\"piercing\",\"fortran\",\"fifa\",\"aggression\",\"granite\",\"emotions\",\"bloc\",\"lineage\",\"surveillance\",\"enabling\",\"transported\",\"divides\",\"manitoba\",\"handful\",\"lots\",\"subjected\",\"simplicity\",\"georgian\",\"curtis\",\"trio\",\"marc\",\"danny\",\"sterling\",\"kart\",\"norton\",\"lds\",\"elves\",\"biafra\",\"factories\",\"withdraw\",\"promising\",\"reviewed\",\"wherein\",\"employee\",\"viewpoint\",\"observatory\",\"queensland\",\"greg\",\"fermentation\",\"stems\",\"sculptor\",\"performer\",\"yourself\",\"render\",\"rigid\",\"isotope\",\"inference\",\"yeltsin\",\"elijah\",\"beowulf\",\"lindy\",\"riel\",\"desirable\",\"transitional\",\"praised\",\"witnessed\",\"birthplace\",\"rhetoric\",\"contradiction\",\"omitted\",\"depicts\",\"humanitarian\",\"ceremonies\",\"emerge\",\"ahmed\",\"extraction\",\"organize\",\"anton\",\"monuments\",\"prestige\",\"aliens\",\"encoded\",\"elector\",\"databases\",\"tissues\",\"catalyst\",\"injection\",\"genera\",\"glasgow\",\"regimes\",\"basil\",\"burnt\",\"coefficient\",\"berry\",\"naples\",\"ham\",\"baptized\",\"elf\",\"grenada\",\"predictions\",\"genetically\",\"chat\",\"refuse\",\"truman\",\"translates\",\"relate\",\"resumed\",\"exploring\",\"buying\",\"depiction\",\"sheets\",\"spectacular\",\"yugoslav\",\"garbage\",\"guaranteed\",\"intersection\",\"socialists\",\"warhol\",\"incest\",\"browsers\",\"dealer\",\"wonderful\",\"smart\",\"patch\",\"associative\",\"hindus\",\"bo\",\"ecumenical\",\"interpreter\",\"consoles\",\"tr\",\"bath\",\"altar\",\"nevada\",\"urged\",\"ambrose\",\"surprisingly\",\"intentionally\",\"ir\",\"loses\",\"reluctant\",\"brands\",\"employs\",\"immigrant\",\"investigate\",\"cloning\",\"mach\",\"sailed\",\"realize\",\"humanist\",\"shallow\",\"salts\",\"astronaut\",\"maybe\",\"aw\",\"pearson\",\"patrol\",\"reliability\",\"kiss\",\"jets\",\"rabbis\",\"caffeine\",\"lois\",\"javascript\",\"pinochet\",\"daredevil\",\"suppression\",\"developmental\",\"overlap\",\"offset\",\"cameras\",\"paramount\",\"discharge\",\"manipulation\",\"laden\",\"lacks\",\"collector\",\"mills\",\"somehow\",\"achieving\",\"farther\",\"civic\",\"melting\",\"liechtenstein\",\"sq\",\"nationals\",\"instituted\",\"hanging\",\"atp\",\"perry\",\"unrest\",\"blocked\",\"joel\",\"volcano\",\"boroughs\",\"hispanic\",\"mann\",\"bi\",\"bent\",\"invaders\",\"rk\",\"arbor\",\"crusades\",\"latex\",\"abba\",\"noir\",\"bassist\",\"likelihood\",\"infinitive\",\"discs\",\"karaoke\",\"lego\",\"predecessors\",\"develops\",\"toy\",\"asteroids\",\"makeup\",\"athena\",\"noticed\",\"ballot\",\"accord\",\"lt\",\"fix\",\"mercy\",\"dorothy\",\"kai\",\"outline\",\"nearest\",\"gnosticism\",\"explorers\",\"reef\",\"glaciers\",\"fungi\",\"lesotho\",\"hatred\",\"insect\",\"fraser\",\"cl\",\"bag\",\"filters\",\"orthography\",\"hotels\",\"extremes\",\"cartridges\",\"authorship\",\"ahmad\",\"threatening\",\"mysteries\",\"gauss\",\"recalled\",\"craig\",\"betting\",\"yeast\",\"battleship\",\"shaft\",\"oct\",\"aclu\",\"bt\",\"faroese\",\"methodology\",\"demanding\",\"ajax\",\"richmond\",\"answered\",\"guests\",\"evolve\",\"diminished\",\"countryside\",\"receivers\",\"recipients\",\"paradigm\",\"tracking\",\"hayek\",\"marines\",\"fao\",\"damages\",\"neighborhoods\",\"sandy\",\"maldives\",\"discontinued\",\"commented\",\"cathode\",\"font\",\"batteries\",\"slogan\",\"isomorphism\",\"intake\",\"crowley\",\"carson\",\"governance\",\"anthropologists\",\"aerospace\",\"wartime\",\"observing\",\"engagement\",\"triggered\",\"progression\",\"applicable\",\"turner\",\"underwent\",\"locomotive\",\"pub\",\"gunpowder\",\"potassium\",\"reinforced\",\"erasmus\",\"tough\",\"sits\",\"ozone\",\"lisa\",\"potatoes\",\"extracted\",\"cowboy\",\"worm\",\"pl\",\"buttons\",\"neutron\",\"teutonic\",\"gwh\",\"bats\",\"pirate\",\"editorial\",\"uncertainty\",\"broadcasts\",\"culturally\",\"organizing\",\"popper\",\"boost\",\"parameter\",\"divinity\",\"stressed\",\"disastrous\",\"timothy\",\"anticipated\",\"gda\",\"ultra\",\"dolphin\",\"attained\",\"flee\",\"beats\",\"rapper\",\"kane\",\"celts\",\"napoleonic\",\"sailors\",\"chaplin\",\"visions\",\"exploited\",\"physicians\",\"synonymous\",\"suburban\",\"oakland\",\"heroic\",\"threw\",\"loans\",\"mongols\",\"bilateral\",\"backward\",\"astronauts\",\"goat\",\"beaches\",\"helmet\",\"rico\",\"goddesses\",\"missionaries\",\"cc\",\"accompanying\",\"purity\",\"debian\",\"basel\",\"dominica\",\"emma\",\"peasant\",\"biodiversity\",\"todd\",\"tremendous\",\"blair\",\"capitals\",\"pushing\",\"presenting\",\"vegetable\",\"consul\",\"ballet\",\"verde\",\"couldn\",\"rape\",\"reconciliation\",\"neolithic\",\"bees\",\"phantom\",\"journalists\",\"swift\",\"ants\",\"encounters\",\"indus\",\"dia\",\"subsidiary\",\"complement\",\"aging\",\"nuclei\",\"ye\",\"sue\",\"babe\",\"serbs\",\"manx\",\"denounced\",\"wrestler\",\"phillips\",\"wilderness\",\"biographies\",\"clocks\",\"nashville\",\"kirby\",\"oceans\",\"herald\",\"fried\",\"veteran\",\"cohen\",\"fears\",\"constants\",\"constellations\",\"borges\",\"felix\",\"raids\",\"dirty\",\"declining\",\"caligula\",\"safely\",\"weekend\",\"percussion\",\"em\",\"impose\",\"trap\",\"freeman\",\"stomach\",\"pioneered\",\"mythical\",\"prominently\",\"tract\",\"resemblance\",\"jo\",\"ibid\",\"persians\",\"singh\",\"euclid\",\"sean\",\"ladies\",\"bronx\",\"simpson\",\"spots\",\"theorems\",\"posted\",\"fritz\",\"hanover\",\"chrysler\",\"hormones\",\"dx\",\"favoured\",\"beginnings\",\"catalonia\",\"routine\",\"mutation\",\"terrible\",\"laura\",\"gather\",\"transmit\",\"fault\",\"illusion\",\"assignment\",\"atta\",\"burst\",\"corrupt\",\"eighty\",\"storms\",\"frost\",\"jointly\",\"robots\",\"monkey\",\"abdul\",\"vendors\",\"arrives\",\"adrian\",\"hd\",\"void\",\"chopin\",\"monastic\",\"metadata\",\"ezra\",\"surnames\",\"dayton\",\"batter\",\"jumps\",\"cayman\",\"militant\",\"illegitimate\",\"incompatible\",\"preserving\",\"cyrillic\",\"desk\",\"materialism\",\"francesco\",\"parallels\",\"surplus\",\"resign\",\"storyline\",\"automobiles\",\"creators\",\"glenn\",\"variously\",\"converting\",\"jose\",\"delphi\",\"proton\",\"nickel\",\"billboard\",\"intelsat\",\"spell\",\"memorable\",\"juice\",\"delegates\",\"impressed\",\"lamp\",\"feb\",\"translate\",\"tanakh\",\"disasters\",\"ryan\",\"ml\",\"gui\",\"duo\",\"nuremberg\",\"coke\",\"inventory\",\"petition\",\"knives\",\"eucharist\",\"pseudonym\",\"cruiser\",\"currencies\",\"mahjong\",\"conclude\",\"arbitration\",\"accidentally\",\"secrets\",\"thou\",\"fundamentally\",\"algebras\",\"foreigners\",\"contacts\",\"extraterrestrial\",\"regulatory\",\"wrestling\",\"ivoire\",\"curse\",\"satire\",\"precious\",\"dental\",\"exceptional\",\"lotus\",\"alternating\",\"breeds\",\"servants\",\"routledge\",\"culminating\",\"frisian\",\"cartesian\",\"universidad\",\"sacrament\",\"perl\",\"cookie\",\"gin\",\"disagreement\",\"embraced\",\"pseudo\",\"outright\",\"sharply\",\"coordination\",\"casting\",\"drafted\",\"appoint\",\"exchanged\",\"exposition\",\"weights\",\"problematic\",\"decides\",\"ti\",\"freud\",\"treasure\",\"wolfgang\",\"photographer\",\"sinai\",\"quit\",\"devastating\",\"nordic\",\"lm\",\"propulsion\",\"distinctions\",\"hypothetical\",\"cyberpunk\",\"dom\",\"ak\",\"hale\",\"libyan\",\"hercules\",\"additions\",\"coil\",\"damaging\",\"fellowship\",\"hipparchus\",\"barnabas\",\"accords\",\"sauce\",\"fc\",\"bolshevik\",\"defunct\",\"nomadic\",\"calendars\",\"identifies\",\"destroyer\",\"prediction\",\"blank\",\"imagine\",\"reproduce\",\"promises\",\"moroccan\",\"personalities\",\"simulation\",\"peculiar\",\"wagner\",\"recipes\",\"hospitals\",\"instability\",\"stretch\",\"bonaparte\",\"restrict\",\"reproductive\",\"trivial\",\"lifted\",\"listening\",\"interestingly\",\"lynx\",\"flies\",\"sketches\",\"mayo\",\"gb\",\"drunk\",\"magnesium\",\"elliptic\",\"ensemble\",\"protestantism\",\"presumed\",\"pixel\",\"texture\",\"cyril\",\"react\",\"celebrities\",\"retaining\",\"offshore\",\"sentiment\",\"commentaries\",\"mighty\",\"fisher\",\"irrational\",\"certified\",\"unto\",\"reward\",\"exploit\",\"superiority\",\"protagonist\",\"trips\",\"alt\",\"approaching\",\"artemis\",\"mothers\",\"ribbentrop\",\"favorable\",\"ant\",\"accidents\",\"rob\",\"artwork\",\"josephus\",\"lim\",\"memphis\",\"afford\",\"biographical\",\"sensitivity\",\"mythos\",\"della\",\"kasparov\",\"cliff\",\"cryptanalysis\",\"mozilla\",\"roma\",\"burke\",\"enron\",\"rousseau\",\"symbolism\",\"bios\",\"psychiatric\",\"palmer\",\"xiii\",\"holders\",\"asserts\",\"afternoon\",\"reliance\",\"encouraging\",\"humanism\",\"subordinate\",\"hymn\",\"boris\",\"accommodate\",\"diabetes\",\"weaker\",\"spectroscopy\",\"flooding\",\"constituted\",\"barrels\",\"klein\",\"mughal\",\"catalogue\",\"privacy\",\"apocalypse\",\"helicopter\",\"subsets\",\"incarnation\",\"engaging\",\"finishing\",\"yoga\",\"saxons\",\"innings\",\"batting\",\"epoch\",\"terminals\",\"hormone\",\"bene\",\"struggles\",\"announcement\",\"zeppelin\",\"declaring\",\"sealed\",\"porter\",\"firearm\",\"nominee\",\"spike\",\"mauritania\",\"prestigious\",\"activated\",\"presently\",\"translator\",\"strauss\",\"authoritative\",\"graves\",\"fl\",\"afrikaans\",\"readings\",\"miracle\",\"letterman\",\"email\",\"opium\",\"installation\",\"sleeping\",\"inadequate\",\"ceded\",\"celebrations\",\"coaches\",\"shirt\",\"nobody\",\"sc\",\"concorde\",\"transaction\",\"midway\",\"abundance\",\"philosophies\",\"rumors\",\"inherently\",\"sensory\",\"unusually\",\"underworld\",\"brutal\",\"exeter\",\"poisoning\",\"athenian\",\"tat\",\"portrayal\",\"switches\",\"investments\",\"monitoring\",\"printers\",\"burkina\",\"bee\",\"jeffrey\",\"conceptual\",\"consolidated\",\"lenses\",\"filmography\",\"pale\",\"caucasus\",\"informally\",\"jaguar\",\"troll\",\"mcgill\",\"marched\",\"gameplay\",\"sworn\",\"monasteries\",\"sagan\",\"ulrich\",\"mirrors\",\"reds\",\"deployment\",\"canton\",\"costello\",\"blast\",\"gsm\",\"pdp\",\"rejects\",\"investigated\",\"numeral\",\"conducting\",\"walks\",\"firmly\",\"guilt\",\"dropping\",\"casual\",\"raiders\",\"transformations\",\"ansi\",\"spheres\",\"curling\",\"loving\",\"pretty\",\"tomorrow\",\"stockholm\",\"counsel\",\"anthology\",\"harvest\",\"luxury\",\"sensation\",\"hamster\",\"prescribed\",\"gardner\",\"druze\",\"jackie\",\"raf\",\"arising\",\"contra\",\"maimonides\",\"rabbinic\",\"auckland\",\"bigfoot\",\"resisted\",\"mediation\",\"upset\",\"occupying\",\"trojan\",\"gettysburg\",\"justin\",\"barriers\",\"fabric\",\"arid\",\"confirm\",\"prolonged\",\"villain\",\"constituencies\",\"enhance\",\"conditioning\",\"arriving\",\"akin\",\"ionic\",\"bike\",\"internally\",\"indianapolis\",\"uniforms\",\"ku\",\"edit\",\"rs\",\"kitchen\",\"liturgy\",\"nicene\",\"denis\",\"fy\",\"freeway\",\"modules\",\"freemasonry\",\"rhythmic\",\"rookie\",\"emacs\",\"deconstruction\",\"labelled\",\"whites\",\"etruscan\",\"mortal\",\"po\",\"spare\",\"appreciation\",\"qualify\",\"perspectives\",\"individually\",\"racism\",\"sebastian\",\"surprising\",\"fauna\",\"samoa\",\"illicit\",\"chloride\",\"bavarian\",\"schr\",\"persuaded\",\"afro\",\"pigs\",\"inaugurated\",\"unprecedented\",\"reactive\",\"incorrectly\",\"sunset\",\"herodotus\",\"deforestation\",\"exhibited\",\"recreation\",\"guild\",\"conquer\",\"doses\",\"expresses\",\"plots\",\"willie\",\"deng\",\"coefficients\",\"resembling\",\"seminary\",\"icc\",\"centauri\",\"esther\",\"benzene\",\"premise\",\"tones\",\"rests\",\"immortal\",\"hades\",\"reprint\",\"assertion\",\"comparisons\",\"radios\",\"abandon\",\"inventors\",\"sampling\",\"collectors\",\"wizard\",\"migrated\",\"saddam\",\"embrace\",\"antoine\",\"viable\",\"captivity\",\"aloe\",\"turkic\",\"unfinished\",\"possesses\",\"enables\",\"flexibility\",\"unexpected\",\"decorated\",\"displacement\",\"superhero\",\"steep\",\"cider\",\"prelude\",\"reactor\",\"auschwitz\",\"jail\",\"strand\",\"hebrews\",\"dragons\",\"loading\",\"afonso\",\"characterised\",\"victorious\",\"inevitable\",\"suspect\",\"behaviors\",\"mentally\",\"speculative\",\"mathbb\",\"dale\",\"liberties\",\"punished\",\"hastings\",\"decreasing\",\"sartre\",\"laying\",\"suburb\",\"advancing\",\"diocese\",\"matching\",\"teaches\",\"commandments\",\"curriculum\",\"owns\",\"designing\",\"freezing\",\"substitution\",\"clerk\",\"reynolds\",\"placement\",\"suits\",\"hbo\",\"encyclop\",\"semantics\",\"synonym\",\"grande\",\"jam\",\"banach\",\"competitor\",\"distortion\",\"ulster\",\"cgi\",\"gel\",\"dipole\",\"rahman\",\"hypoglycemia\",\"scrooge\",\"mandelbrot\",\"bolsheviks\",\"intentions\",\"withdrawn\",\"destiny\",\"refusal\",\"richardson\",\"skeptical\",\"academics\",\"biologists\",\"wool\",\"flora\",\"inequality\",\"halt\",\"optics\",\"coded\",\"embryo\",\"neutrality\",\"remarkably\",\"separating\",\"deadly\",\"wouldn\",\"mint\",\"advisor\",\"insufficient\",\"simultaneous\",\"pointer\",\"penalties\",\"upcoming\",\"hadith\",\"webster\",\"poster\",\"espionage\",\"carlo\",\"bismarck\",\"critically\",\"tu\",\"lasers\",\"josef\",\"usaf\",\"quixote\",\"onset\",\"unchanged\",\"interrupted\",\"statues\",\"preliminary\",\"uniquely\",\"submit\",\"overhead\",\"psychologists\",\"exceed\",\"niger\",\"populous\",\"saharan\",\"mohammed\",\"reconstructed\",\"con\",\"respects\",\"checking\",\"coasts\",\"comoros\",\"blake\",\"hussein\",\"distinguishing\",\"prefixes\",\"tightly\",\"designations\",\"kyrgyzstan\",\"prevailing\",\"spawned\",\"fundamentalist\",\"greenwich\",\"su\",\"synod\",\"voiceless\",\"dangers\",\"canals\",\"bicycles\",\"risc\",\"quotations\",\"eliminating\",\"atm\",\"puzzle\",\"maya\",\"algol\",\"essex\",\"tel\",\"descartes\",\"hook\",\"beavis\",\"mcduck\",\"fredericton\",\"objections\",\"supervision\",\"negotiate\",\"polk\",\"fights\",\"departed\",\"abstraction\",\"horns\",\"stretched\",\"seventeen\",\"confusing\",\"dependency\",\"reasonably\",\"noticeable\",\"colts\",\"bradley\",\"orwell\",\"expulsion\",\"kidney\",\"viewer\",\"px\",\"chances\",\"bremen\",\"portland\",\"mistaken\",\"levy\",\"intellectuals\",\"invasions\",\"ki\",\"insert\",\"enthusiasts\",\"postwar\",\"bisexual\",\"enclosed\",\"alloys\",\"aragon\",\"apache\",\"ivy\",\"capacitor\",\"spam\",\"shooter\",\"kissinger\",\"capoeira\",\"unnecessary\",\"legitimacy\",\"privilege\",\"pine\",\"busy\",\"acre\",\"johnston\",\"contrasted\",\"behave\",\"huxley\",\"encompasses\",\"imperfect\",\"allocated\",\"peacekeeping\",\"thread\",\"earn\",\"surprised\",\"projected\",\"crosby\",\"researcher\",\"counterpoint\",\"disabled\",\"immunity\",\"clockwise\",\"modernism\",\"ida\",\"semantic\",\"confirmation\",\"hesse\",\"cdu\",\"doubled\",\"somerset\",\"reigned\",\"nl\",\"piston\",\"funny\",\"jules\",\"rn\",\"routing\",\"ching\",\"crimson\",\"inning\",\"conservatism\",\"grammy\",\"watt\",\"copyleft\",\"textiles\",\"baba\",\"sonata\",\"fractal\",\"myself\",\"conscience\",\"behavioral\",\"indicator\",\"enjoys\",\"emancipation\",\"vermont\",\"metaphysical\",\"illustrations\",\"novelists\",\"ensuing\",\"pursuing\",\"worthy\",\"brave\",\"disagree\",\"genealogy\",\"diagrams\",\"tricks\",\"landlocked\",\"berg\",\"bulletin\",\"pressing\",\"faso\",\"helena\",\"simpsons\",\"tibetan\",\"misleading\",\"allocation\",\"stretching\",\"protons\",\"slopes\",\"hz\",\"peripheral\",\"echo\",\"glacial\",\"martha\",\"questionable\",\"troubles\",\"buddy\",\"companions\",\"confession\",\"murphy\",\"tunes\",\"coleman\",\"ido\",\"excel\",\"ddt\",\"confucius\",\"comfort\",\"professors\",\"wired\",\"advocacy\",\"drainage\",\"incorporating\",\"intact\",\"savage\",\"drift\",\"concludes\",\"inventions\",\"liked\",\"truths\",\"satirical\",\"implementing\",\"emblem\",\"substrate\",\"stationed\",\"pig\",\"santiago\",\"sued\",\"bermuda\",\"gt\",\"mos\",\"pakistani\",\"glossary\",\"preferences\",\"comparatively\",\"centralized\",\"complications\",\"rectangular\",\"recursive\",\"cds\",\"isomorphic\",\"eurovision\",\"normandy\",\"commodity\",\"chelsea\",\"tuberculosis\",\"villa\",\"manson\",\"beers\",\"disadvantages\",\"dyson\",\"harpsichord\",\"consistency\",\"proud\",\"darker\",\"ipcc\",\"humid\",\"flourished\",\"tactic\",\"tide\",\"borne\",\"idle\",\"pistol\",\"griffith\",\"vols\",\"deeds\",\"convince\",\"advancement\",\"colonists\",\"dynasties\",\"nominally\",\"contracted\",\"hellenic\",\"acupuncture\",\"tournaments\",\"famed\",\"recommendation\",\"geographically\",\"abuses\",\"cults\",\"kgb\",\"crazy\",\"blindness\",\"resonance\",\"perpendicular\",\"ah\",\"constitutions\",\"khazar\",\"belfast\",\"denial\",\"televisions\",\"roland\",\"foul\",\"screens\",\"babbage\",\"barbarian\",\"ballad\",\"api\",\"cocoa\",\"talents\",\"synthesized\",\"charlton\",\"fibonacci\",\"ori\",\"miguel\",\"pitching\",\"organizational\",\"reminiscent\",\"sunlight\",\"energies\",\"defects\",\"curious\",\"helpful\",\"par\",\"feels\",\"thoroughly\",\"aboriginal\",\"deciding\",\"modeling\",\"rex\",\"tis\",\"subdivisions\",\"macro\",\"anal\",\"melodic\",\"vedic\",\"adobe\",\"rainy\",\"failures\",\"equinox\",\"impulse\",\"catalog\",\"beirut\",\"tunnels\",\"reservoir\",\"styled\",\"conjecture\",\"parsons\",\"apartheid\",\"ds\",\"chords\",\"brahms\",\"ghosts\",\"andrews\",\"hierarchical\",\"breath\",\"trumpet\",\"hoping\",\"cox\",\"directing\",\"periodically\",\"inn\",\"norms\",\"cyclic\",\"exported\",\"neighbours\",\"originate\",\"bodily\",\"heading\",\"phillip\",\"criterion\",\"ambiguity\",\"cruz\",\"principality\",\"orbitals\",\"proportions\",\"mel\",\"mobility\",\"cosmological\",\"subspecies\",\"occupies\",\"privatization\",\"aug\",\"mc\",\"incorporates\",\"efficiently\",\"curved\",\"drops\",\"lowered\",\"dynamical\",\"motorcycles\",\"utilized\",\"posthumously\",\"spells\",\"venue\",\"zen\",\"rho\",\"aurangzeb\",\"qquad\",\"gotham\",\"attachment\",\"licence\",\"invitation\",\"pork\",\"classify\",\"statutes\",\"fulfilled\",\"diablo\",\"govern\",\"amendments\",\"invading\",\"upright\",\"emigrated\",\"thermodynamics\",\"launching\",\"concentrate\",\"lib\",\"qu\",\"tributaries\",\"amplitude\",\"impacts\",\"aires\",\"focal\",\"invade\",\"exploits\",\"epilepsy\",\"helix\",\"clash\",\"cruel\",\"upgraded\",\"inexpensive\",\"ftp\",\"feudalism\",\"brewers\",\"luftwaffe\",\"quartet\",\"compliance\",\"mishnah\",\"mainz\",\"medication\",\"obey\",\"coherent\",\"accounted\",\"deaf\",\"tips\",\"absorb\",\"nutrition\",\"assassin\",\"publishes\",\"pays\",\"schism\",\"cement\",\"demographic\",\"ambient\",\"nero\",\"hermes\",\"deserts\",\"slam\",\"sorting\",\"practicing\",\"lungs\",\"expertise\",\"skiing\",\"useless\",\"cavity\",\"outward\",\"muscular\",\"guiana\",\"mo\",\"prevalence\",\"prefecture\",\"centred\",\"mercenaries\",\"recommendations\",\"lattice\",\"predicate\",\"nash\",\"jamal\",\"convex\",\"wikisource\",\"chrono\",\"tendencies\",\"generates\",\"propose\",\"edwards\",\"diplomacy\",\"refusing\",\"expenses\",\"salmon\",\"jeremiah\",\"regained\",\"stuck\",\"breach\",\"optimal\",\"pioneering\",\"productivity\",\"profitable\",\"tunisia\",\"caste\",\"allegory\",\"adverse\",\"nanotechnology\",\"dunes\",\"registry\",\"suez\",\"diana\",\"shanghai\",\"bart\",\"dinner\",\"waterways\",\"schumacher\",\"recognizes\",\"straits\",\"weimar\",\"hoc\",\"hydraulic\",\"tyler\",\"deposition\",\"syriac\",\"contend\",\"adjustment\",\"scrimmage\",\"twelfth\",\"mainframe\",\"upgrade\",\"introductory\",\"langle\",\"honolulu\",\"joey\",\"logos\",\"dundee\",\"livingstone\",\"microprocessors\",\"countless\",\"remarked\",\"pinyin\",\"drought\",\"pottery\",\"elderly\",\"illustrate\",\"earning\",\"rooted\",\"examine\",\"resolutions\",\"subdivided\",\"burundi\",\"establishes\",\"compelled\",\"blame\",\"homage\",\"mart\",\"macmillan\",\"babylonia\",\"cam\",\"codified\",\"taxonomy\",\"manganese\",\"navigable\",\"stationary\",\"survives\",\"az\",\"buenos\",\"subway\",\"rosa\",\"seventy\",\"sang\",\"laurent\",\"powerpc\",\"mob\",\"samurai\",\"restriction\",\"bros\",\"recruited\",\"ness\",\"guernsey\",\"cruisers\",\"absinthe\",\"cryonics\",\"exhibits\",\"affinity\",\"wto\",\"mistakes\",\"negro\",\"psychologist\",\"justinian\",\"admit\",\"hostility\",\"helicopters\",\"textbook\",\"packed\",\"ancestral\",\"eighteenth\",\"ignorance\",\"magnus\",\"noteworthy\",\"elemental\",\"influx\",\"whitlam\",\"bean\",\"anyway\",\"bend\",\"emitted\",\"ber\",\"pepper\",\"attain\",\"photographic\",\"mare\",\"var\",\"convergence\",\"harbors\",\"tanker\",\"andes\",\"junta\",\"linda\",\"maternal\",\"viral\",\"loud\",\"clones\",\"grouping\",\"ether\",\"ec\",\"careers\",\"obedience\",\"menu\",\"implicit\",\"crust\",\"interstellar\",\"disneyland\",\"pius\",\"windsor\",\"specimen\",\"abelian\",\"heterosexual\",\"jehovah\",\"septuagint\",\"latino\",\"chandler\",\"leet\",\"strands\",\"oneself\",\"gov\",\"footnotes\",\"bounds\",\"intimate\",\"admired\",\"pupil\",\"neighbor\",\"entrepreneur\",\"bureaucracy\",\"bordered\",\"ethnicity\",\"introduces\",\"wavelengths\",\"tao\",\"holdings\",\"metropolis\",\"tito\",\"infectious\",\"scenario\",\"annotated\",\"emigration\",\"subcontinent\",\"modeled\",\"bolt\",\"guides\",\"walked\",\"monica\",\"crack\",\"triangular\",\"shortwave\",\"grt\",\"springer\",\"painful\",\"therapeutic\",\"giuseppe\",\"neural\",\"gundam\",\"candy\",\"lineup\",\"sci\",\"alcoholism\",\"cromwell\",\"chromatic\",\"addison\",\"grammars\",\"pradesh\",\"mrna\",\"racist\",\"adjectives\",\"stamps\",\"balloon\",\"nancy\",\"buchanan\",\"theaters\",\"prizes\",\"aesthetics\",\"memes\",\"staying\",\"camouflage\",\"leslie\",\"examining\",\"derby\",\"nicolas\",\"utilize\",\"leopold\",\"desertification\",\"cows\",\"guru\",\"costly\",\"brigades\",\"adopting\",\"biologist\",\"wax\",\"cables\",\"flown\",\"rated\",\"italians\",\"caspian\",\"geologic\",\"cooled\",\"stretches\",\"lethal\",\"rat\",\"refugee\",\"mosques\",\"potato\",\"maltese\",\"landmarks\",\"celebrating\",\"strengthened\",\"pmid\",\"buckingham\",\"broadcaster\",\"riemann\",\"ezekiel\",\"valves\",\"gradient\",\"mecca\",\"aztec\",\"crashed\",\"cpc\",\"invariant\",\"tucker\",\"regulate\",\"athletics\",\"exaggerated\",\"crowds\",\"shortest\",\"minded\",\"laboratories\",\"rabbit\",\"rebuilding\",\"covert\",\"stan\",\"sulfur\",\"monarchies\",\"colombian\",\"sacrifices\",\"enlarged\",\"garcia\",\"attested\",\"conjugation\",\"adaptive\",\"vastly\",\"dietary\",\"chlorine\",\"sink\",\"recognizable\",\"crews\",\"orbiting\",\"lucid\",\"filmmakers\",\"patented\",\"debts\",\"submarines\",\"unconscious\",\"werner\",\"leisure\",\"imperative\",\"operas\",\"ur\",\"satie\",\"mus\",\"archer\",\"spellings\",\"involuntary\",\"kiribati\",\"eichmann\",\"quasi\",\"homomorphism\",\"doubtful\",\"karachi\",\"asbestos\",\"divisional\",\"revolutions\",\"outlined\",\"feminists\",\"bullets\",\"diagnostic\",\"differentiate\",\"earnings\",\"warned\",\"sunk\",\"wounds\",\"kirk\",\"hunters\",\"screenplay\",\"inconsistent\",\"rigorous\",\"planted\",\"indicative\",\"austro\",\"prophetic\",\"blown\",\"hung\",\"breakthrough\",\"baptists\",\"propelled\",\"membranes\",\"trinidad\",\"majesty\",\"foremost\",\"consortium\",\"migrant\",\"moisture\",\"shelf\",\"contributors\",\"chaotic\",\"superseded\",\"consult\",\"demonstrating\",\"cleaning\",\"authored\",\"jeremy\",\"flux\",\"proofs\",\"idealism\",\"housed\",\"cyanide\",\"programmable\",\"boron\",\"presided\",\"advisory\",\"nirvana\",\"cameron\",\"logarithm\",\"invoked\",\"unite\",\"culminated\",\"desires\",\"literate\",\"lowercase\",\"worshipped\",\"martyr\",\"mall\",\"bust\",\"cite\",\"pulitzer\",\"narrowly\",\"burma\",\"alloy\",\"encourages\",\"enduring\",\"alphabetical\",\"inputs\",\"distillation\",\"flowering\",\"markup\",\"somalia\",\"ensuring\",\"banning\",\"anatolia\",\"alkanes\",\"penis\",\"yearly\",\"memoir\",\"seals\",\"crystalline\",\"stopping\",\"glorious\",\"observable\",\"pulling\",\"disadvantage\",\"bahamas\",\"peters\",\"bennett\",\"accents\",\"monte\",\"distribute\",\"condoms\",\"handheld\",\"tablets\",\"kate\",\"dolly\",\"rent\",\"val\",\"papacy\",\"diatonic\",\"abbreviations\",\"gis\",\"relational\",\"downward\",\"moby\",\"graphite\",\"homogeneous\",\"bud\",\"eastenders\",\"siberia\",\"pleasant\",\"defender\",\"sparked\",\"shifting\",\"panic\",\"quarterly\",\"prosperous\",\"cry\",\"compute\",\"struggled\",\"lucky\",\"discarded\",\"reside\",\"wherever\",\"blend\",\"invariably\",\"ottawa\",\"invested\",\"wu\",\"troubled\",\"beside\",\"doug\",\"shepherd\",\"cord\",\"jonah\",\"carbonate\",\"metabolic\",\"ic\",\"knee\",\"maiden\",\"correlation\",\"ncaa\",\"desperate\",\"offence\",\"liturgical\",\"insane\",\"grandmother\",\"janet\",\"supremacy\",\"goth\",\"financing\",\"cites\",\"djs\",\"spice\",\"cholesterol\",\"ciphers\",\"checks\",\"fluids\",\"dive\",\"marlowe\",\"dodo\",\"jain\",\"epsilon\",\"overthrown\",\"chomsky\",\"riot\",\"trucks\",\"presbyterian\",\"sanctuary\",\"colleague\",\"lifelong\",\"keen\",\"accidental\",\"vita\",\"irrelevant\",\"discovering\",\"irrigation\",\"occult\",\"shelley\",\"vernacular\",\"canary\",\"ascension\",\"catcher\",\"amended\",\"jesse\",\"manages\",\"sums\",\"smell\",\"genitive\",\"preparations\",\"griffin\",\"yorkshire\",\"interpol\",\"doctorate\",\"synagogue\",\"honors\",\"strengthen\",\"regain\",\"hobby\",\"backs\",\"fairy\",\"unitary\",\"additive\",\"chorus\",\"panels\",\"mailing\",\"diodes\",\"pilgrimage\",\"fide\",\"amplifiers\",\"caliph\",\"jakarta\",\"pronouns\",\"ddr\",\"finns\",\"emphasizes\",\"seminal\",\"weird\",\"stripped\",\"inform\",\"horace\",\"interfere\",\"endless\",\"steal\",\"exclusion\",\"marker\",\"institutional\",\"visitor\",\"obliged\",\"physiological\",\"australians\",\"leone\",\"assign\",\"bissau\",\"stepped\",\"blocking\",\"complaint\",\"cleared\",\"dial\",\"spinal\",\"yang\",\"creole\",\"rift\",\"surroundings\",\"faiths\",\"aromatic\",\"climb\",\"electorate\",\"judo\",\"liability\",\"salary\",\"octavian\",\"emulation\",\"marco\",\"ignatius\",\"honours\",\"percy\",\"kubrick\",\"neurons\",\"connotations\",\"hiding\",\"soprano\",\"vested\",\"cannibalism\",\"cheers\",\"fricative\",\"dada\",\"inclined\",\"diagnosed\",\"dressing\",\"inaugural\",\"instantly\",\"precedent\",\"tribune\",\"seizures\",\"barnes\",\"seated\",\"ballistic\",\"heretics\",\"prejudice\",\"dogma\",\"heirs\",\"creations\",\"decoration\",\"appendix\",\"flaws\",\"posthumous\",\"obstacles\",\"locks\",\"marvin\",\"labyrinth\",\"susceptible\",\"navigator\",\"robust\",\"acknowledge\",\"mascot\",\"cnn\",\"electors\",\"hosting\",\"donated\",\"violated\",\"adapt\",\"convenience\",\"sticks\",\"mega\",\"modular\",\"reconnaissance\",\"mcluhan\",\"nest\",\"shores\",\"contrasts\",\"inaccurate\",\"seventeenth\",\"locked\",\"christine\",\"aikido\",\"throws\",\"checked\",\"beaten\",\"shrine\",\"pharaoh\",\"hazardous\",\"snyder\",\"scientology\",\"proliferation\",\"tudor\",\"identities\",\"tutorial\",\"karma\",\"acclaim\",\"knots\",\"bugs\",\"blizzard\",\"tile\",\"chiropractic\",\"beckham\",\"recognise\"],\"x\":{\"__ndarray__\":\"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\",\"dtype\":\"float32\",\"shape\":[10000]},\"y\":{\"__ndarray__\":\"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\",\"dtype\":\"float32\",\"shape\":[10000]}},\"selected\":{\"id\":\"a2c8efa2-eb21-4f51-80b9-1c4ba236ec2e\",\"type\":\"Selection\"},\"selection_policy\":{\"id\":\"f12e4621-eb1e-4f0d-b1e5-48e771c0dfe4\",\"type\":\"UnionRenderers\"}},\"id\":\"5d87be78-f22c-4201-9e99-75e986fde13d\",\"type\":\"ColumnDataSource\"},{\"attributes\":{},\"id\":\"2c6b4705-89f1-4ab8-b64f-13e06a832fa4\",\"type\":\"SaveTool\"},{\"attributes\":{\"callback\":null},\"id\":\"24c02406-ec06-407e-a8b7-d986d50283af\",\"type\":\"DataRange1d\"},{\"attributes\":{},\"id\":\"f12e4621-eb1e-4f0d-b1e5-48e771c0dfe4\",\"type\":\"UnionRenderers\"},{\"attributes\":{\"active_drag\":\"auto\",\"active_inspect\":\"auto\",\"active_multi\":null,\"active_scroll\":\"auto\",\"active_tap\":\"auto\",\"tools\":[{\"id\":\"ce37a03b-3d89-4007-a984-ba730fca9c28\",\"type\":\"PanTool\"},{\"id\":\"b91303e7-c956-4a45-99b8-e11db619e8f3\",\"type\":\"WheelZoomTool\"},{\"id\":\"9dbed3d6-8274-4b8d-82fe-c337c0cb47fe\",\"type\":\"BoxZoomTool\"},{\"id\":\"2863397b-0c63-404f-96cb-6c646354a1b7\",\"type\":\"ResetTool\"},{\"id\":\"cffe1e50-017b-4912-9d7f-b39ce4d78752\",\"type\":\"HoverTool\"},{\"id\":\"2c6b4705-89f1-4ab8-b64f-13e06a832fa4\",\"type\":\"SaveTool\"}]},\"id\":\"1975e97a-af99-46fb-a4ee-04dbc525f09d\",\"type\":\"Toolbar\"},{\"attributes\":{\"fill_color\":{\"value\":\"#1f77b4\"},\"line_color\":{\"value\":\"#1f77b4\"},\"x\":{\"field\":\"x\"},\"y\":{\"field\":\"y\"}},\"id\":\"351db4c2-f8ae-45cb-9a4e-7093d730585d\",\"type\":\"Circle\"},{\"attributes\":{\"data_source\":{\"id\":\"5d87be78-f22c-4201-9e99-75e986fde13d\",\"type\":\"ColumnDataSource\"},\"glyph\":{\"id\":\"351db4c2-f8ae-45cb-9a4e-7093d730585d\",\"type\":\"Circle\"},\"hover_glyph\":null,\"muted_glyph\":null,\"nonselection_glyph\":{\"id\":\"65372036-2e21-4e3a-b7de-c0f8b4f5870a\",\"type\":\"Circle\"},\"selection_glyph\":null,\"view\":{\"id\":\"0c6cf592-bb60-4cf1-9a4e-6114b6b0c838\",\"type\":\"CDSView\"}},\"id\":\"91deb7bb-de8f-4b49-ae9b-5c9252fa1b46\",\"type\":\"GlyphRenderer\"},{\"attributes\":{},\"id\":\"93ff6130-7ea0-4b60-8f69-7cbd42024edf\",\"type\":\"LinearScale\"},{\"attributes\":{\"callback\":null},\"id\":\"fcbce0fe-42c7-4a8b-93c5-e2049eced6dd\",\"type\":\"DataRange1d\"},{\"attributes\":{},\"id\":\"096bbc28-ce76-4c60-a6ac-33face081b4d\",\"type\":\"LinearScale\"},{\"attributes\":{\"overlay\":{\"id\":\"afb9f3a6-5b71-475f-8724-b690fa84310b\",\"type\":\"BoxAnnotation\"}},\"id\":\"9dbed3d6-8274-4b8d-82fe-c337c0cb47fe\",\"type\":\"BoxZoomTool\"},{\"attributes\":{},\"id\":\"ce37a03b-3d89-4007-a984-ba730fca9c28\",\"type\":\"PanTool\"},{\"attributes\":{\"fill_alpha\":{\"value\":0.1},\"fill_color\":{\"value\":\"#1f77b4\"},\"line_alpha\":{\"value\":0.1},\"line_color\":{\"value\":\"#1f77b4\"},\"x\":{\"field\":\"x\"},\"y\":{\"field\":\"y\"}},\"id\":\"65372036-2e21-4e3a-b7de-c0f8b4f5870a\",\"type\":\"Circle\"},{\"attributes\":{},\"id\":\"a2c8efa2-eb21-4f51-80b9-1c4ba236ec2e\",\"type\":\"Selection\"},{\"attributes\":{\"min_border\":1,\"plot_width\":700,\"renderers\":[{\"id\":\"afb9f3a6-5b71-475f-8724-b690fa84310b\",\"type\":\"BoxAnnotation\"},{\"id\":\"91deb7bb-de8f-4b49-ae9b-5c9252fa1b46\",\"type\":\"GlyphRenderer\"}],\"title\":{\"id\":\"88f427f0-a714-402e-9782-c86a0d5b5c8e\",\"type\":\"Title\"},\"toolbar\":{\"id\":\"1975e97a-af99-46fb-a4ee-04dbc525f09d\",\"type\":\"Toolbar\"},\"x_range\":{\"id\":\"24c02406-ec06-407e-a8b7-d986d50283af\",\"type\":\"DataRange1d\"},\"x_scale\":{\"id\":\"93ff6130-7ea0-4b60-8f69-7cbd42024edf\",\"type\":\"LinearScale\"},\"y_range\":{\"id\":\"fcbce0fe-42c7-4a8b-93c5-e2049eced6dd\",\"type\":\"DataRange1d\"},\"y_scale\":{\"id\":\"096bbc28-ce76-4c60-a6ac-33face081b4d\",\"type\":\"LinearScale\"}},\"id\":\"d3904d98-46e8-49e6-90fa-c2ae28916675\",\"subtype\":\"Figure\",\"type\":\"Plot\"},{\"attributes\":{\"bottom_units\":\"screen\",\"fill_alpha\":{\"value\":0.5},\"fill_color\":{\"value\":\"lightgrey\"},\"left_units\":\"screen\",\"level\":\"overlay\",\"line_alpha\":{\"value\":1.0},\"line_color\":{\"value\":\"black\"},\"line_dash\":[4,4],\"line_width\":{\"value\":2},\"plot\":null,\"render_mode\":\"css\",\"right_units\":\"screen\",\"top_units\":\"screen\"},\"id\":\"afb9f3a6-5b71-475f-8724-b690fa84310b\",\"type\":\"BoxAnnotation\"},{\"attributes\":{\"plot\":null,\"text\":\"A map of 10000 word vectors\"},\"id\":\"88f427f0-a714-402e-9782-c86a0d5b5c8e\",\"type\":\"Title\"}],\"root_ids\":[\"d3904d98-46e8-49e6-90fa-c2ae28916675\"]},\"title\":\"Bokeh Application\",\"version\":\"0.13.0\"}};\n",
       "  var render_items = [{\"docid\":\"87d79f7e-7b3b-40db-9bef-0c163ad3e945\",\"roots\":{\"d3904d98-46e8-49e6-90fa-c2ae28916675\":\"c407415a-f06d-455a-8e7d-c27283dd5862\"}}];\n",
       "  root.Bokeh.embed.embed_items_notebook(docs_json, render_items);\n",
       "\n",
       "  }\n",
       "  if (root.Bokeh !== undefined) {\n",
       "    embed_document(root);\n",
       "  } else {\n",
       "    var attempts = 0;\n",
       "    var timer = setInterval(function(root) {\n",
       "      if (root.Bokeh !== undefined) {\n",
       "        embed_document(root);\n",
       "        clearInterval(timer);\n",
       "      }\n",
       "      attempts++;\n",
       "      if (attempts > 100) {\n",
       "        console.log(\"Bokeh: ERROR: Unable to run BokehJS code because BokehJS library is missing\")\n",
       "        clearInterval(timer);\n",
       "      }\n",
       "    }, 10, root)\n",
       "  }\n",
       "})(window);"
      ],
      "application/vnd.bokehjs_exec.v0+json": ""
     },
     "metadata": {
      "application/vnd.bokehjs_exec.v0+json": {
       "id": "d3904d98-46e8-49e6-90fa-c2ae28916675"
      }
     },
     "output_type": "display_data"
    }
   ],
   "source": [
    "import bokeh.plotting as bp\n",
    "from bokeh.models import HoverTool, BoxSelectTool\n",
    "from bokeh.plotting import figure, show, output_notebook\n",
    "\n",
    "# defining the chart\n",
    "output_notebook()\n",
    "plot_w2v = bp.figure(plot_width=700, plot_height=600, title=\"A map of 10000 word vectors\",\n",
    "    tools=\"pan,wheel_zoom,box_zoom,reset,hover,previewsave\",\n",
    "    x_axis_type=None, y_axis_type=None, min_border=1)\n",
    "\n",
    "# dimensionality reduction. converting the vectors to 2d vectors\n",
    "from sklearn.manifold import TSNE\n",
    "tsne_model = TSNE(n_components=2, verbose=1, random_state=0)\n",
    "tsne_w2v = tsne_model.fit_transform(embs)\n",
    "\n",
    "# putting everything in a dataframe\n",
    "tsne_df = pd.DataFrame(tsne_w2v, columns=['x', 'y'])\n",
    "tsne_df['words'] = [reverse_dictionary[i] for i in range(embs.shape[0])]\n",
    "\n",
    "# plotting. the corresponding word appears when you hover on the data point.\n",
    "plot_w2v.scatter(x='x', y='y', source=tsne_df)\n",
    "hover = plot_w2v.select(dict(type=HoverTool))\n",
    "hover.tooltips={\"word\": \"@words\"}\n",
    "show(plot_w2v)"
   ]
  },
  {
   "cell_type": "markdown",
   "metadata": {},
   "source": [
    "# Part 4: Movie review classification using word2vec"
   ]
  },
  {
   "cell_type": "markdown",
   "metadata": {},
   "source": [
    "# Using word embeddings\n",
    "\n",
    "\n",
    "---\n",
    "\n",
    "\n",
    "We learned that a popular and powerful way to associate a vector with a word is the use of dense \"word vectors\", also called \"word embeddings\". \n",
    "While the vectors obtained through one-hot encoding are binary, sparse (mostly made of zeros) and very high-dimensional (same dimensionality as the \n",
    "number of words in the vocabulary), \"word embeddings\" are low-dimensional floating point vectors \n",
    "(i.e. \"dense\" vectors, as opposed to sparse vectors). \n",
    "Unlike word vectors obtained via one-hot encoding, word embeddings are learned from data. \n",
    "It is common to see word embeddings that are 256-dimensional, 512-dimensional, or 1024-dimensional when dealing with very large vocabularies. \n",
    "On the other hand, one-hot encoding words generally leads to vectors that are 20,000-dimensional or higher (capturing a vocabulary of 20,000 \n",
    "token in this case). So, word embeddings pack more information into far fewer dimensions. "
   ]
  },
  {
   "cell_type": "markdown",
   "metadata": {},
   "source": [
    "![word embeddings vs. one hot encoding](https://s3.amazonaws.com/book.keras.io/img/ch6/word_embeddings.png)"
   ]
  },
  {
   "cell_type": "markdown",
   "metadata": {},
   "source": [
    "There are two ways to obtain word embeddings:\n",
    "\n",
    "* Learn word embeddings jointly with the main task you care about (e.g. document classification or sentiment prediction). \n",
    "In this setup, you would start with random word vectors, then learn your word vectors in the same way that you learn the weights of a neural network.\n",
    "* Load into your model word embeddings that were pre-computed using a different machine learning task than the one you are trying to solve. \n",
    "These are called \"pre-trained word embeddings\". \n",
    "\n",
    "Let's take a look at both.`"
   ]
  },
  {
   "cell_type": "markdown",
   "metadata": {},
   "source": [
    "## Learning word embeddings with the `Embedding` layer\n",
    "\n",
    "\n",
    "The simplest way to associate a dense vector to a word would be to pick the vector at random. The problem with this approach is that the \n",
    "resulting embedding space would have no structure: for instance, the words \"accurate\" and \"exact\" may end up with completely different \n",
    "embeddings, even though they are interchangeable in most sentences. It would be very difficult for a deep neural network to make sense of \n",
    "such a noisy, unstructured embedding space. \n",
    "\n",
    "To get a bit more abstract: the geometric relationships between word vectors should reflect the semantic relationships between these words. \n",
    "Word embeddings are meant to map human language into a geometric space. For instance, in a reasonable embedding space, we would expect \n",
    "synonyms to be embedded into similar word vectors, and in general we would expect the geometric distance (e.g. L2 distance) between any two \n",
    "word vectors to relate to the semantic distance of the associated words (words meaning very different things would be embedded to points \n",
    "far away from each other, while related words would be closer). Even beyond mere distance, we may want specific __directions__ in the \n",
    "embedding space to be meaningful. \n",
    "\n",
    "[...]\n",
    "\n",
    "\n",
    "In real-world word embedding spaces, common examples of meaningful geometric transformations are \"gender vectors\" and \"plural vector\". For \n",
    "instance, by adding a \"female vector\" to the vector \"king\", one obtain the vector \"queen\". By adding a \"plural vector\", one obtain \"kings\". \n",
    "Word embedding spaces typically feature thousands of such interpretable and potentially useful vectors.\n",
    "\n",
    "Is there some \"ideal\" word embedding space that would perfectly map human language and could be used for any natural language processing \n",
    "task? Possibly, but in any case, we have yet to compute anything of the sort. Also, there isn't such a thing as \"human language\", there are \n",
    "many different languages and they are not isomorphic, as a language is the reflection of a specific culture and a specific context. But more \n",
    "pragmatically, what makes a good word embedding space depends heavily on your task: the perfect word embedding space for an \n",
    "English-language movie review sentiment analysis model may look very different from the perfect embedding space for an English-language \n",
    "legal document classification model, because the importance of certain semantic relationships varies from task to task.\n",
    "\n",
    "It is thus reasonable to __learn__ a new embedding space with every new task. Thankfully, backpropagation makes this really easy, and Keras makes it \n",
    "even easier. It's just about learning the weights of a layer: the `Embedding` layer."
   ]
  },
  {
   "cell_type": "code",
   "execution_count": 28,
   "metadata": {},
   "outputs": [],
   "source": [
    "from keras.layers import Embedding\n",
    "\n",
    "# The Embedding layer takes at least two arguments:\n",
    "# the number of possible tokens, here 1000 (1 + maximum word index),\n",
    "# and the dimensionality of the embeddings, here 64.\n",
    "embedding_layer = Embedding(1000, 64)"
   ]
  },
  {
   "cell_type": "markdown",
   "metadata": {},
   "source": [
    "\n",
    "The `Embedding` layer is best understood as a dictionary mapping integer indices (which stand for specific words) to dense vectors. It takes \n",
    "as input integers, it looks up these integers into an internal dictionary, and it returns the associated vectors. It's effectively a dictionary lookup."
   ]
  },
  {
   "cell_type": "markdown",
   "metadata": {},
   "source": [
    "\n",
    "The `Embedding` layer takes as input a 2D tensor of integers, of shape `(samples, sequence_length)`, where each entry is a sequence of \n",
    "integers. It can embed sequences of variable lengths, so for instance we could feed into our embedding layer above batches that could have \n",
    "shapes `(32, 10)` (batch of 32 sequences of length 10) or `(64, 15)` (batch of 64 sequences of length 15). All sequences in a batch must \n",
    "have the same length, though (since we need to pack them into a single tensor), so sequences that are shorter than others should be padded \n",
    "with zeros, and sequences that are longer should be truncated.\n",
    "\n",
    "\n",
    "When you instantiate an `Embedding` layer, its weights (its internal dictionary of token vectors) are initially random, just like with any \n",
    "other layer. During training, these word vectors will be gradually adjusted via backpropagation, structuring the space into something that the \n",
    "downstream model can exploit. Once fully trained, your embedding space will show a lot of structure -- a kind of structure specialized for \n",
    "the specific problem you were training your model for.\n",
    "\n",
    "Let's apply this idea to the IMDB movie review sentiment prediction task that you are already familiar with. Let's quickly prepare \n",
    "the data. We will restrict the movie reviews to the top 10,000 most common words (like we did the first time we worked with this dataset), \n",
    "and cut the reviews after only 20 words. Our network will simply learn 8-dimensional embeddings for each of the 10,000 words, turn the \n",
    "input integer sequences (2D integer tensor) into embedded sequences (3D float tensor), flatten the tensor to 2D, and train a single `Dense` \n",
    "layer on top for classification."
   ]
  },
  {
   "cell_type": "code",
   "execution_count": 29,
   "metadata": {},
   "outputs": [],
   "source": [
    "from keras.datasets import imdb\n",
    "from keras import preprocessing\n",
    "\n",
    "# Number of words to consider as features\n",
    "max_features = 10000\n",
    "\n",
    "# Cut texts after this number of words \n",
    "# (among top max_features most common words)\n",
    "maxlen = 20\n",
    "\n",
    "# Load the data as lists of integers.\n",
    "(x_train, y_train), (x_test, y_test) = imdb.load_data(num_words=max_features)\n",
    "\n",
    "# This turns our lists of integers\n",
    "# into a 2D integer tensor of shape `(samples, maxlen)`\n",
    "x_train = preprocessing.sequence.pad_sequences(x_train, maxlen=maxlen)\n",
    "x_test = preprocessing.sequence.pad_sequences(x_test, maxlen=maxlen)"
   ]
  },
  {
   "cell_type": "markdown",
   "metadata": {},
   "source": [
    "## Network architecture\n",
    "\n",
    "<img src=\"../images/word2vec-sim.png\" width=\"70%\" />"
   ]
  },
  {
   "cell_type": "code",
   "execution_count": 30,
   "metadata": {},
   "outputs": [
    {
     "name": "stdout",
     "output_type": "stream",
     "text": [
      "_________________________________________________________________\n",
      "Layer (type)                 Output Shape              Param #   \n",
      "=================================================================\n",
      "embedding_2 (Embedding)      (None, 20, 8)             80000     \n",
      "_________________________________________________________________\n",
      "flatten_1 (Flatten)          (None, 160)               0         \n",
      "_________________________________________________________________\n",
      "dense_7 (Dense)              (None, 1)                 161       \n",
      "=================================================================\n",
      "Total params: 80,161\n",
      "Trainable params: 80,161\n",
      "Non-trainable params: 0\n",
      "_________________________________________________________________\n",
      "Train on 20000 samples, validate on 5000 samples\n",
      "Epoch 1/10\n",
      "20000/20000 [==============================] - 3s 175us/step - loss: 0.6759 - acc: 0.6050 - val_loss: 0.6398 - val_acc: 0.6814\n",
      "Epoch 2/10\n",
      "20000/20000 [==============================] - 3s 156us/step - loss: 0.5657 - acc: 0.7427 - val_loss: 0.5467 - val_acc: 0.7206\n",
      "Epoch 3/10\n",
      "20000/20000 [==============================] - 3s 157us/step - loss: 0.4752 - acc: 0.7808 - val_loss: 0.5113 - val_acc: 0.7384\n",
      "Epoch 4/10\n",
      "20000/20000 [==============================] - 3s 148us/step - loss: 0.4263 - acc: 0.8077 - val_loss: 0.5008 - val_acc: 0.7452\n",
      "Epoch 5/10\n",
      "20000/20000 [==============================] - 3s 150us/step - loss: 0.3930 - acc: 0.8258 - val_loss: 0.4981 - val_acc: 0.7538\n",
      "Epoch 6/10\n",
      "20000/20000 [==============================] - 3s 160us/step - loss: 0.3668 - acc: 0.8395 - val_loss: 0.5014 - val_acc: 0.7530\n",
      "Epoch 7/10\n",
      "20000/20000 [==============================] - 3s 147us/step - loss: 0.3435 - acc: 0.8533 - val_loss: 0.5052 - val_acc: 0.7520\n",
      "Epoch 8/10\n",
      "20000/20000 [==============================] - 3s 146us/step - loss: 0.3223 - acc: 0.8657 - val_loss: 0.5132 - val_acc: 0.7486\n",
      "Epoch 9/10\n",
      "20000/20000 [==============================] - 3s 151us/step - loss: 0.3022 - acc: 0.8766 - val_loss: 0.5213 - val_acc: 0.7490\n",
      "Epoch 10/10\n",
      "20000/20000 [==============================] - 3s 147us/step - loss: 0.2839 - acc: 0.8860 - val_loss: 0.5303 - val_acc: 0.7466\n"
     ]
    }
   ],
   "source": [
    "from keras.models import Sequential\n",
    "from keras.layers import Flatten, Dense\n",
    "\n",
    "model = Sequential()\n",
    "# We specify the maximum input length to our Embedding layer\n",
    "# so we can later flatten the embedded inputs\n",
    "model.add(Embedding(10000, 8, input_length=maxlen))\n",
    "# After the Embedding layer, \n",
    "# our activations have shape `(samples, maxlen, 8)`.\n",
    "\n",
    "# We flatten the 3D tensor of embeddings \n",
    "# into a 2D tensor of shape `(samples, maxlen * 8)`\n",
    "model.add(Flatten())\n",
    "\n",
    "# We add the classifier on top\n",
    "model.add(Dense(1, activation='sigmoid'))\n",
    "model.compile(optimizer='rmsprop', loss='binary_crossentropy', metrics=['acc'])\n",
    "model.summary()\n",
    "\n",
    "history = model.fit(x_train, y_train,\n",
    "                    epochs=10,\n",
    "                    batch_size=32,\n",
    "                    validation_split=0.2)"
   ]
  },
  {
   "cell_type": "markdown",
   "metadata": {},
   "source": [
    "We get to a validation accuracy of ~76%, which is pretty good considering that we only look at the first 20 words in every review. But \n",
    "note that merely flattening the embedded sequences and training a single `Dense` layer on top leads to a model that treats each word in the \n",
    "input sequence separately, without considering inter-word relationships and structure sentence (e.g. it would likely treat both _\"this movie \n",
    "is heck\"_ and _\"this movie is one heck of a ride\"_ as being negative \"reviews\"). \n",
    "\n",
    "It would be much better to add recurrent layers or 1D convolutional \n",
    "layers on top of the embedded sequences to learn features that take into account each sequence as a whole. That's what we will focus on in \n",
    "the next few sections."
   ]
  },
  {
   "cell_type": "markdown",
   "metadata": {},
   "source": [
    "## Using pre-trained word embeddings\n",
    "\n",
    "\n",
    "Sometimes, you have so little training data available that could never use your data alone to learn an appropriate task-specific embedding \n",
    "of your vocabulary. What to do then?\n",
    "\n",
    "Instead of learning word embeddings jointly with the problem you want to solve, you could be loading embedding vectors from a pre-computed \n",
    "embedding space known to be highly structured and to exhibit useful properties -- that captures generic aspects of language structure. The \n",
    "rationale behind using pre-trained word embeddings in natural language processing is very much the same as for using pre-trained convnets \n",
    "in image classification: we don't have enough data available to learn truly powerful features on our own, but we expect the features that \n",
    "we need to be fairly generic, i.e. common visual features or semantic features. In this case it makes sense to reuse features learned on a \n",
    "different problem.\n",
    "\n",
    "Such word embeddings are generally computed using word occurrence statistics (observations about what words co-occur in sentences or \n",
    "documents), using a variety of techniques, some involving neural networks, others not. The idea of a dense, low-dimensional embedding space \n",
    "for words, computed in an unsupervised way, was initially explored by Bengio et al. in the early 2000s, but it only started really taking \n",
    "off in research and industry applications after the release of one of the most famous and successful word embedding scheme: the Word2Vec \n",
    "algorithm, developed by Mikolov at Google in 2013. Word2Vec dimensions capture specific semantic properties, e.g. gender.\n",
    "\n",
    "There are various pre-computed databases of word embeddings that can download and start using in a Keras `Embedding` layer. Word2Vec is one \n",
    "of them. Another popular one is called \"GloVe\", developed by Stanford researchers in 2014. It stands for \"Global Vectors for Word \n",
    "Representation\", and it is an embedding technique based on factorizing a matrix of word co-occurrence statistics. Its developers have made \n",
    "available pre-computed embeddings for millions of English tokens, obtained from Wikipedia data or from Common Crawl data.\n",
    "\n",
    "Let's take a look at how you can get started using GloVe embeddings in a Keras model. The same method will of course be valid for Word2Vec \n",
    "embeddings or any other word embedding database that you can download. We will also use this example to refresh the text tokenization \n",
    "techniques we introduced a few paragraphs ago: we will start from raw text, and work our way up."
   ]
  },
  {
   "cell_type": "markdown",
   "metadata": {},
   "source": [
    "## Putting it all together: from raw text to word embeddings\n",
    "\n",
    "\n",
    "We will be using a model similar to the one we just went over -- embedding sentences in sequences of vectors, flattening them and training a \n",
    "`Dense` layer on top. But we will do it using pre-trained word embeddings, and instead of using the pre-tokenized IMDB data packaged in \n",
    "Keras, we will start from scratch, by downloading the original text data."
   ]
  },
  {
   "cell_type": "markdown",
   "metadata": {},
   "source": [
    "### Download the IMDB data as raw text\n",
    "\n",
    "\n",
    "First, head to `http://ai.stanford.edu/~amaas/data/sentiment/` and download the raw IMDB dataset (if the URL isn't working anymore, just \n",
    "Google \"IMDB dataset\"). Uncompress it.\n",
    "\n",
    "Now let's collect the individual training reviews into a list of strings, one string per review, and let's also collect the review labels \n",
    "(positive / negative) into a `labels` list:"
   ]
  },
  {
   "cell_type": "code",
   "execution_count": 31,
   "metadata": {},
   "outputs": [
    {
     "data": {
      "text/plain": [
       "'/home/bick23/Desktop/deep_learning_bootcamp/04_rnn/notebook'"
      ]
     },
     "execution_count": 31,
     "metadata": {},
     "output_type": "execute_result"
    }
   ],
   "source": [
    "import os\n",
    "os.getcwd()"
   ]
  },
  {
   "cell_type": "code",
   "execution_count": 33,
   "metadata": {},
   "outputs": [],
   "source": [
    "import os\n",
    "\n",
    "# imdb_dir = '/home/bick23/Desktop/deep_learning_bootcamp/data/data_text_processing/aclImdb'\n",
    "imdb_dir = '/home/data/data_text_processing/aclImdb'\n",
    "train_dir = os.path.join(imdb_dir, 'train')\n",
    "\n",
    "labels = []\n",
    "texts = []\n",
    "\n",
    "for label_type in ['neg', 'pos']:\n",
    "    dir_name = os.path.join(train_dir, label_type)\n",
    "    for fname in os.listdir(dir_name):\n",
    "        if fname[-4:] == '.txt':\n",
    "            f = open(os.path.join(dir_name, fname))\n",
    "            texts.append(f.read())\n",
    "            f.close()\n",
    "            if label_type == 'neg':\n",
    "                labels.append(0)\n",
    "            else:\n",
    "                labels.append(1)"
   ]
  },
  {
   "cell_type": "markdown",
   "metadata": {},
   "source": [
    "### Tokenize the data\n",
    "\n",
    "\n",
    "Let's vectorize the texts we collected, and prepare a training and validation split.\n",
    "We will merely be using the concepts we introduced earlier in this section.\n",
    "\n",
    "Because pre-trained word embeddings are meant to be particularly useful on problems where little training data is available (otherwise, \n",
    "task-specific embeddings are likely to outperform them), we will add the following twist: we restrict the training data to its first 200 \n",
    "samples. So we will be learning to classify movie reviews after looking at just 200 examples...\n"
   ]
  },
  {
   "cell_type": "code",
   "execution_count": 37,
   "metadata": {},
   "outputs": [
    {
     "name": "stdout",
     "output_type": "stream",
     "text": [
      "Found 88582 unique tokens.\n",
      "Shape of data tensor: (25000, 100)\n",
      "Shape of label tensor: (25000,)\n"
     ]
    }
   ],
   "source": [
    "from keras.preprocessing.text import Tokenizer\n",
    "from keras.preprocessing.sequence import pad_sequences\n",
    "import numpy as np\n",
    "\n",
    "maxlen = 100  # We will cut reviews after 100 words\n",
    "training_samples = 200  # We will be training on 200 samples\n",
    "validation_samples = 10000  # We will be validating on 10000 samples\n",
    "max_words = 10000  # We will only consider the top 10,000 words in the dataset\n",
    "\n",
    "tokenizer = Tokenizer(num_words=max_words)\n",
    "tokenizer.fit_on_texts(texts)\n",
    "sequences = tokenizer.texts_to_sequences(texts)\n",
    "\n",
    "word_index = tokenizer.word_index\n",
    "print('Found %s unique tokens.' % len(word_index))\n",
    "\n",
    "data = pad_sequences(sequences, maxlen=maxlen)\n",
    "\n",
    "labels = np.asarray(labels)\n",
    "print('Shape of data tensor:', data.shape)\n",
    "print('Shape of label tensor:', labels.shape)\n",
    "\n",
    "# Split the data into a training set and a validation set\n",
    "# But first, shuffle the data, since we started from data\n",
    "# where sample are ordered (all negative first, then all positive).\n",
    "indices = np.arange(data.shape[0])\n",
    "np.random.shuffle(indices)\n",
    "data = data[indices]\n",
    "labels = labels[indices]\n",
    "\n",
    "x_train = data[:training_samples]\n",
    "y_train = labels[:training_samples]\n",
    "x_val = data[training_samples: training_samples + validation_samples]\n",
    "y_val = labels[training_samples: training_samples + validation_samples]"
   ]
  },
  {
   "cell_type": "markdown",
   "metadata": {},
   "source": [
    "### Download the GloVe word embeddings\n",
    "\n",
    "\n",
    "Head to `https://nlp.stanford.edu/projects/glove/` (where you can learn more about the GloVe algorithm), and download the pre-computed \n",
    "embeddings from 2014 English Wikipedia. It's a 822MB zip file named `glove.6B.zip`, containing 100-dimensional embedding vectors for \n",
    "400,000 words (or non-word tokens). Un-zip it."
   ]
  },
  {
   "cell_type": "markdown",
   "metadata": {},
   "source": [
    "### Pre-process the embeddings\n",
    "\n",
    "\n",
    "Let's parse the un-zipped file (it's a `txt` file) to build an index mapping words (as strings) to their vector representation (as number \n",
    "vectors)."
   ]
  },
  {
   "cell_type": "code",
   "execution_count": 35,
   "metadata": {},
   "outputs": [
    {
     "name": "stdout",
     "output_type": "stream",
     "text": [
      "Found 400000 word vectors.\n"
     ]
    }
   ],
   "source": [
    "# glove_dir = '/home/bick23/Desktop/deep_learning_bootcamp/data/data_text_processing/'\n",
    "glove_dir = '/home/data/data_text_processing'\n",
    "\n",
    "embeddings_index = {}\n",
    "f = open(os.path.join(glove_dir, 'glove.6B.100d.txt'))\n",
    "for line in f:\n",
    "    values = line.split()\n",
    "    word = values[0]\n",
    "    coefs = np.asarray(values[1:], dtype='float32')\n",
    "    embeddings_index[word] = coefs\n",
    "f.close()\n",
    "\n",
    "print('Found %s word vectors.' % len(embeddings_index))"
   ]
  },
  {
   "cell_type": "markdown",
   "metadata": {},
   "source": [
    "\n",
    "Now let's build an embedding matrix that we will be able to load into an `Embedding` layer. It must be a matrix of shape `(max_words, \n",
    "embedding_dim)`, where each entry `i` contains the `embedding_dim`-dimensional vector for the word of index `i` in our reference word index \n",
    "(built during tokenization). Note that the index `0` is not supposed to stand for any word or token -- it's a placeholder."
   ]
  },
  {
   "cell_type": "code",
   "execution_count": 38,
   "metadata": {},
   "outputs": [],
   "source": [
    "embedding_dim = 100\n",
    "\n",
    "embedding_matrix = np.zeros((max_words, embedding_dim))\n",
    "for word, i in word_index.items():\n",
    "    embedding_vector = embeddings_index.get(word)\n",
    "    if i < max_words:\n",
    "        if embedding_vector is not None:\n",
    "            # Words not found in embedding index will be all-zeros.\n",
    "            embedding_matrix[i] = embedding_vector"
   ]
  },
  {
   "cell_type": "markdown",
   "metadata": {},
   "source": [
    "### Define a model\n",
    "\n",
    "We will be using the same model architecture as before:"
   ]
  },
  {
   "cell_type": "code",
   "execution_count": 39,
   "metadata": {},
   "outputs": [
    {
     "name": "stdout",
     "output_type": "stream",
     "text": [
      "_________________________________________________________________\n",
      "Layer (type)                 Output Shape              Param #   \n",
      "=================================================================\n",
      "embedding_3 (Embedding)      (None, 100, 100)          1000000   \n",
      "_________________________________________________________________\n",
      "flatten_2 (Flatten)          (None, 10000)             0         \n",
      "_________________________________________________________________\n",
      "dense_8 (Dense)              (None, 32)                320032    \n",
      "_________________________________________________________________\n",
      "dense_9 (Dense)              (None, 1)                 33        \n",
      "=================================================================\n",
      "Total params: 1,320,065\n",
      "Trainable params: 1,320,065\n",
      "Non-trainable params: 0\n",
      "_________________________________________________________________\n"
     ]
    }
   ],
   "source": [
    "from keras.models import Sequential\n",
    "from keras.layers import Embedding, Flatten, Dense\n",
    "\n",
    "model = Sequential()\n",
    "model.add(Embedding(max_words, embedding_dim, input_length=maxlen))\n",
    "model.add(Flatten())\n",
    "model.add(Dense(32, activation='relu'))\n",
    "model.add(Dense(1, activation='sigmoid'))\n",
    "model.summary()"
   ]
  },
  {
   "cell_type": "markdown",
   "metadata": {},
   "source": [
    "### Load the GloVe embeddings in the model\n",
    "\n",
    "\n",
    "The `Embedding` layer has a single weight matrix: a 2D float matrix where each entry `i` is the word vector meant to be associated with \n",
    "index `i`. Simple enough. Let's just load the GloVe matrix we prepared into our `Embedding` layer, the first layer in our model:"
   ]
  },
  {
   "cell_type": "code",
   "execution_count": 45,
   "metadata": {},
   "outputs": [],
   "source": [
    "model.layers[0].set_weights([embedding_matrix])\n",
    "model.layers[0].trainable = False"
   ]
  },
  {
   "cell_type": "markdown",
   "metadata": {},
   "source": [
    "\n",
    "Additionally, we freeze the embedding layer (we set its `trainable` attribute to `False`), following the same rationale as what you are \n",
    "already familiar with in the context of pre-trained convnet features: when parts of a model are pre-trained (like our `Embedding` layer), \n",
    "and parts are randomly initialized (like our classifier), the pre-trained parts should not be updated during training to avoid forgetting \n",
    "what they already know. The large gradient updated triggered by the randomly initialized layers would be very disruptive to the already \n",
    "learned features."
   ]
  },
  {
   "cell_type": "markdown",
   "metadata": {},
   "source": [
    "### Train and evaluate\n",
    "\n",
    "Let's compile our model and train it:"
   ]
  },
  {
   "cell_type": "code",
   "execution_count": 46,
   "metadata": {},
   "outputs": [
    {
     "name": "stdout",
     "output_type": "stream",
     "text": [
      "Train on 200 samples, validate on 10000 samples\n",
      "Epoch 1/10\n",
      "200/200 [==============================] - 1s 3ms/step - loss: 1.5906 - acc: 0.5250 - val_loss: 0.6906 - val_acc: 0.5257\n",
      "Epoch 2/10\n",
      "200/200 [==============================] - 0s 2ms/step - loss: 0.5604 - acc: 0.7300 - val_loss: 0.7278 - val_acc: 0.5120\n",
      "Epoch 3/10\n",
      "200/200 [==============================] - 0s 2ms/step - loss: 0.3920 - acc: 0.8600 - val_loss: 0.6835 - val_acc: 0.5669\n",
      "Epoch 4/10\n",
      "200/200 [==============================] - 0s 2ms/step - loss: 0.3568 - acc: 0.8350 - val_loss: 0.8339 - val_acc: 0.5151\n",
      "Epoch 5/10\n",
      "200/200 [==============================] - 0s 2ms/step - loss: 0.3011 - acc: 0.8650 - val_loss: 0.6787 - val_acc: 0.5845\n",
      "Epoch 6/10\n",
      "200/200 [==============================] - 0s 2ms/step - loss: 0.1717 - acc: 0.9900 - val_loss: 0.7116 - val_acc: 0.5753\n",
      "Epoch 7/10\n",
      "200/200 [==============================] - 0s 2ms/step - loss: 0.1225 - acc: 0.9900 - val_loss: 1.6686 - val_acc: 0.4937\n",
      "Epoch 8/10\n",
      "200/200 [==============================] - 0s 2ms/step - loss: 0.2118 - acc: 0.8950 - val_loss: 0.6986 - val_acc: 0.5919\n",
      "Epoch 9/10\n",
      "200/200 [==============================] - 0s 2ms/step - loss: 0.0577 - acc: 1.0000 - val_loss: 0.7410 - val_acc: 0.5840\n",
      "Epoch 10/10\n",
      "200/200 [==============================] - 0s 2ms/step - loss: 0.0531 - acc: 1.0000 - val_loss: 0.8404 - val_acc: 0.5523\n"
     ]
    }
   ],
   "source": [
    "model.compile(optimizer='rmsprop',\n",
    "              loss='binary_crossentropy',\n",
    "              metrics=['acc'])\n",
    "history = model.fit(x_train, y_train,\n",
    "                    epochs=10,\n",
    "                    batch_size=32,\n",
    "                    validation_data=(x_val, y_val))\n",
    "model.save_weights('pre_trained_glove_model.h5')"
   ]
  },
  {
   "cell_type": "markdown",
   "metadata": {},
   "source": [
    "Let's plot its performance over time:"
   ]
  },
  {
   "cell_type": "code",
   "execution_count": 47,
   "metadata": {},
   "outputs": [
    {
     "data": {
      "image/png": "[encoded data removed]",
      "text/plain": [
       "<Figure size 432x288 with 1 Axes>"
      ]
     },
     "metadata": {
      "needs_background": "light"
     },
     "output_type": "display_data"
    },
    {
     "data": {
      "image/png": "[encoded data removed]",
      "text/plain": [
       "<Figure size 432x288 with 1 Axes>"
      ]
     },
     "metadata": {
      "needs_background": "light"
     },
     "output_type": "display_data"
    }
   ],
   "source": [
    "import matplotlib.pyplot as plt\n",
    "\n",
    "acc = history.history['acc']\n",
    "val_acc = history.history['val_acc']\n",
    "loss = history.history['loss']\n",
    "val_loss = history.history['val_loss']\n",
    "\n",
    "epochs = range(1, len(acc) + 1)\n",
    "\n",
    "plt.plot(epochs, acc, 'bo', label='Training acc')\n",
    "plt.plot(epochs, val_acc, 'b', label='Validation acc')\n",
    "plt.title('Training and validation accuracy')\n",
    "plt.legend()\n",
    "\n",
    "plt.figure()\n",
    "\n",
    "plt.plot(epochs, loss, 'bo', label='Training loss')\n",
    "plt.plot(epochs, val_loss, 'b', label='Validation loss')\n",
    "plt.title('Training and validation loss')\n",
    "plt.legend()\n",
    "\n",
    "plt.show()"
   ]
  },
  {
   "cell_type": "markdown",
   "metadata": {},
   "source": [
    "\n",
    "The model quickly starts overfitting, unsurprisingly given the small number of training samples. Validation accuracy has high variance for \n",
    "the same reason, but seems to reach high 50s.\n",
    "\n",
    "Note that your mileage may vary: since we have so few training samples, performance is heavily dependent on which exact 200 samples we \n",
    "picked, and we picked them at random. If it worked really poorly for you, try picking a different random set of 200 samples, just for the \n",
    "sake of the exercise (in real life you don't get to pick your training data).\n",
    "\n",
    "We can also try to train the same model without loading the pre-trained word embeddings and without freezing the embedding layer. In that \n",
    "case, we would be learning a task-specific embedding of our input tokens, which is generally more powerful than pre-trained word embeddings \n",
    "when lots of data is available. However, in our case, we have only 200 training samples. Let's try it:"
   ]
  },
  {
   "cell_type": "code",
   "execution_count": 48,
   "metadata": {},
   "outputs": [
    {
     "name": "stdout",
     "output_type": "stream",
     "text": [
      "_________________________________________________________________\n",
      "Layer (type)                 Output Shape              Param #   \n",
      "=================================================================\n",
      "embedding_4 (Embedding)      (None, 100, 100)          1000000   \n",
      "_________________________________________________________________\n",
      "flatten_3 (Flatten)          (None, 10000)             0         \n",
      "_________________________________________________________________\n",
      "dense_10 (Dense)             (None, 32)                320032    \n",
      "_________________________________________________________________\n",
      "dense_11 (Dense)             (None, 1)                 33        \n",
      "=================================================================\n",
      "Total params: 1,320,065\n",
      "Trainable params: 1,320,065\n",
      "Non-trainable params: 0\n",
      "_________________________________________________________________\n",
      "Train on 200 samples, validate on 10000 samples\n",
      "Epoch 1/10\n",
      "200/200 [==============================] - 1s 3ms/step - loss: 0.6915 - acc: 0.5200 - val_loss: 0.6957 - val_acc: 0.5141\n",
      "Epoch 2/10\n",
      "200/200 [==============================] - 0s 2ms/step - loss: 0.4840 - acc: 0.9650 - val_loss: 0.6970 - val_acc: 0.5102\n",
      "Epoch 3/10\n",
      "200/200 [==============================] - 0s 2ms/step - loss: 0.2596 - acc: 1.0000 - val_loss: 0.7071 - val_acc: 0.5107\n",
      "Epoch 4/10\n",
      "200/200 [==============================] - 0s 2ms/step - loss: 0.1098 - acc: 1.0000 - val_loss: 0.7150 - val_acc: 0.5106\n",
      "Epoch 5/10\n",
      "200/200 [==============================] - 1s 3ms/step - loss: 0.0498 - acc: 1.0000 - val_loss: 0.7249 - val_acc: 0.5099\n",
      "Epoch 6/10\n",
      "200/200 [==============================] - 0s 2ms/step - loss: 0.0255 - acc: 1.0000 - val_loss: 0.7469 - val_acc: 0.5085\n",
      "Epoch 7/10\n",
      "200/200 [==============================] - 0s 2ms/step - loss: 0.0141 - acc: 1.0000 - val_loss: 0.7429 - val_acc: 0.5133\n",
      "Epoch 8/10\n",
      "200/200 [==============================] - 0s 2ms/step - loss: 0.0081 - acc: 1.0000 - val_loss: 0.7359 - val_acc: 0.5111\n",
      "Epoch 9/10\n",
      "200/200 [==============================] - 1s 3ms/step - loss: 0.0048 - acc: 1.0000 - val_loss: 0.7457 - val_acc: 0.5127\n",
      "Epoch 10/10\n",
      "200/200 [==============================] - 1s 3ms/step - loss: 0.0029 - acc: 1.0000 - val_loss: 0.7623 - val_acc: 0.5124\n"
     ]
    }
   ],
   "source": [
    "from keras.models import Sequential\n",
    "from keras.layers import Embedding, Flatten, Dense\n",
    "\n",
    "model = Sequential()\n",
    "model.add(Embedding(max_words, embedding_dim, input_length=maxlen))\n",
    "model.add(Flatten())\n",
    "model.add(Dense(32, activation='relu'))\n",
    "model.add(Dense(1, activation='sigmoid'))\n",
    "model.summary()\n",
    "\n",
    "model.compile(optimizer='rmsprop',\n",
    "              loss='binary_crossentropy',\n",
    "              metrics=['acc'])\n",
    "history = model.fit(x_train, y_train,\n",
    "                    epochs=10,\n",
    "                    batch_size=32,\n",
    "                    validation_data=(x_val, y_val))"
   ]
  },
  {
   "cell_type": "code",
   "execution_count": 49,
   "metadata": {},
   "outputs": [
    {
     "data": {
      "image/png": "[encoded data removed]",
      "text/plain": [
       "<Figure size 432x288 with 1 Axes>"
      ]
     },
     "metadata": {
      "needs_background": "light"
     },
     "output_type": "display_data"
    },
    {
     "data": {
      "image/png": "[encoded data removed]",
      "text/plain": [
       "<Figure size 432x288 with 1 Axes>"
      ]
     },
     "metadata": {
      "needs_background": "light"
     },
     "output_type": "display_data"
    }
   ],
   "source": [
    "acc = history.history['acc']\n",
    "val_acc = history.history['val_acc']\n",
    "loss = history.history['loss']\n",
    "val_loss = history.history['val_loss']\n",
    "\n",
    "epochs = range(1, len(acc) + 1)\n",
    "\n",
    "plt.plot(epochs, acc, 'bo', label='Training acc')\n",
    "plt.plot(epochs, val_acc, 'b', label='Validation acc')\n",
    "plt.title('Training and validation accuracy')\n",
    "plt.legend()\n",
    "\n",
    "plt.figure()\n",
    "\n",
    "plt.plot(epochs, loss, 'bo', label='Training loss')\n",
    "plt.plot(epochs, val_loss, 'b', label='Validation loss')\n",
    "plt.title('Training and validation loss')\n",
    "plt.legend()\n",
    "\n",
    "plt.show()"
   ]
  },
  {
   "cell_type": "markdown",
   "metadata": {},
   "source": [
    "\n",
    "Validation accuracy stalls in the low 50s. So in our case, pre-trained word embeddings does outperform jointly learned embeddings. If you \n",
    "increase the number of training samples, this will quickly stop being the case -- try it as an exercise.\n",
    "\n",
    "Finally, let's evaluate the model on the test data. First, we will need to tokenize the test data:"
   ]
  },
  {
   "cell_type": "code",
   "execution_count": 50,
   "metadata": {},
   "outputs": [],
   "source": [
    "test_dir = os.path.join(imdb_dir, 'test')\n",
    "\n",
    "labels = []\n",
    "texts = []\n",
    "\n",
    "for label_type in ['neg', 'pos']:\n",
    "    dir_name = os.path.join(test_dir, label_type)\n",
    "    for fname in sorted(os.listdir(dir_name)):\n",
    "        if fname[-4:] == '.txt':\n",
    "            f = open(os.path.join(dir_name, fname))\n",
    "            texts.append(f.read())\n",
    "            f.close()\n",
    "            if label_type == 'neg':\n",
    "                labels.append(0)\n",
    "            else:\n",
    "                labels.append(1)\n",
    "\n",
    "sequences = tokenizer.texts_to_sequences(texts)\n",
    "x_test = pad_sequences(sequences, maxlen=maxlen)\n",
    "y_test = np.asarray(labels)"
   ]
  },
  {
   "cell_type": "markdown",
   "metadata": {},
   "source": [
    "And let's load and evaluate the first model:"
   ]
  },
  {
   "cell_type": "code",
   "execution_count": 51,
   "metadata": {},
   "outputs": [
    {
     "name": "stdout",
     "output_type": "stream",
     "text": [
      "25000/25000 [==============================] - 1s 38us/step\n"
     ]
    },
    {
     "data": {
      "text/plain": [
       "[0.860870813293457, 0.55]"
      ]
     },
     "execution_count": 51,
     "metadata": {},
     "output_type": "execute_result"
    }
   ],
   "source": [
    "model.load_weights('pre_trained_glove_model.h5')\n",
    "model.evaluate(x_test, y_test)"
   ]
  },
  {
   "cell_type": "markdown",
   "metadata": {},
   "source": [
    "We get an appalling test accuracy of 54%. Working with just a handful of training samples is hard!"
   ]
  },
  {
   "cell_type": "markdown",
   "metadata": {},
   "source": [
    "# Understanding recurrent neural networks\n",
    "\n",
    "<img src=\"../images/rnn-1.png\" width=\"100%\" />\n",
    "<img src=\"../images/rnn-2.png\" width=\"100%\" />\n",
    "<img src=\"../images/rnn-3.png\" width=\"100%\" />\n",
    "<img src=\"../images/rnn-4.png\" width=\"100%\" />\n",
    "<img src=\"../images/rnn-5.png\" width=\"100%\" />"
   ]
  },
  {
   "cell_type": "markdown",
   "metadata": {},
   "source": [
    "# Understanding encoder-decoder frameworks\n",
    "\n",
    "<img src=\"../images/bot-1.png\" width=\"100%\" />\n",
    "<img src=\"../images/bot-2.png\" width=\"100%\" />\n",
    "<img src=\"../images/bot-3.png\" width=\"100%\" />\n",
    "<img src=\"../images/bot-4.png\" width=\"100%\" />\n",
    "<img src=\"../images/bot-5.png\" width=\"100%\" />\n",
    "<img src=\"../images/bot-6.png\" width=\"100%\" />\n",
    "<img src=\"../images/bot-7.png\" width=\"100%\" />\n",
    "<img src=\"../images/bot-8.png\" width=\"100%\" />\n",
    "<img src=\"../images/bot-9.png\" width=\"100%\" />\n",
    "<img src=\"../images/bot-10.png\" width=\"100%\" />"
   ]
  },
  {
   "cell_type": "code",
   "execution_count": 52,
   "metadata": {},
   "outputs": [],
   "source": [
    "from keras.layers import SimpleRNN"
   ]
  },
  {
   "cell_type": "markdown",
   "metadata": {},
   "source": [
    "`SimpleRNN` processes batches of sequences.This means that it takes inputs of shape `(batch_size, timesteps, input_features)`, rather than `(timesteps, \n",
    "input_features)`.\n",
    "\n",
    "`SimpleRNN` can be run in two different modes: it can return either the full sequences of successive \n",
    "outputs for each timestep (a 3D tensor of shape `(batch_size, timesteps, output_features)`), or it can return only the last output for each \n",
    "input sequence (a 2D tensor of shape `(batch_size, output_features)`). These two modes are controlled by the `return_sequences` constructor \n",
    "argument. Let's take a look at an example:"
   ]
  },
  {
   "cell_type": "code",
   "execution_count": 53,
   "metadata": {},
   "outputs": [
    {
     "name": "stdout",
     "output_type": "stream",
     "text": [
      "_________________________________________________________________\n",
      "Layer (type)                 Output Shape              Param #   \n",
      "=================================================================\n",
      "embedding_5 (Embedding)      (None, None, 32)          320000    \n",
      "_________________________________________________________________\n",
      "simple_rnn_1 (SimpleRNN)     (None, 32)                2080      \n",
      "=================================================================\n",
      "Total params: 322,080\n",
      "Trainable params: 322,080\n",
      "Non-trainable params: 0\n",
      "_________________________________________________________________\n"
     ]
    }
   ],
   "source": [
    "from keras.models import Sequential\n",
    "from keras.layers import Embedding, SimpleRNN\n",
    "\n",
    "model = Sequential()\n",
    "model.add(Embedding(10000, 32))\n",
    "model.add(SimpleRNN(32))\n",
    "model.summary()"
   ]
  },
  {
   "cell_type": "code",
   "execution_count": 54,
   "metadata": {},
   "outputs": [
    {
     "name": "stdout",
     "output_type": "stream",
     "text": [
      "_________________________________________________________________\n",
      "Layer (type)                 Output Shape              Param #   \n",
      "=================================================================\n",
      "embedding_6 (Embedding)      (None, None, 32)          320000    \n",
      "_________________________________________________________________\n",
      "simple_rnn_2 (SimpleRNN)     (None, None, 32)          2080      \n",
      "=================================================================\n",
      "Total params: 322,080\n",
      "Trainable params: 322,080\n",
      "Non-trainable params: 0\n",
      "_________________________________________________________________\n"
     ]
    }
   ],
   "source": [
    "model = Sequential()\n",
    "model.add(Embedding(10000, 32))\n",
    "model.add(SimpleRNN(32, return_sequences=True))\n",
    "model.summary()"
   ]
  },
  {
   "cell_type": "markdown",
   "metadata": {},
   "source": [
    "It is sometimes useful to stack several recurrent layers one after the other in order to increase the representational power of a network. \n",
    "In such a setup, you have to get all intermediate layers to return full sequences:"
   ]
  },
  {
   "cell_type": "code",
   "execution_count": 55,
   "metadata": {},
   "outputs": [
    {
     "name": "stdout",
     "output_type": "stream",
     "text": [
      "_________________________________________________________________\n",
      "Layer (type)                 Output Shape              Param #   \n",
      "=================================================================\n",
      "embedding_7 (Embedding)      (None, None, 32)          320000    \n",
      "_________________________________________________________________\n",
      "simple_rnn_3 (SimpleRNN)     (None, None, 32)          2080      \n",
      "_________________________________________________________________\n",
      "simple_rnn_4 (SimpleRNN)     (None, None, 32)          2080      \n",
      "_________________________________________________________________\n",
      "simple_rnn_5 (SimpleRNN)     (None, None, 32)          2080      \n",
      "_________________________________________________________________\n",
      "simple_rnn_6 (SimpleRNN)     (None, 32)                2080      \n",
      "=================================================================\n",
      "Total params: 328,320\n",
      "Trainable params: 328,320\n",
      "Non-trainable params: 0\n",
      "_________________________________________________________________\n"
     ]
    }
   ],
   "source": [
    "model = Sequential()\n",
    "model.add(Embedding(10000, 32))\n",
    "model.add(SimpleRNN(32, return_sequences=True))\n",
    "model.add(SimpleRNN(32, return_sequences=True))\n",
    "model.add(SimpleRNN(32, return_sequences=True))\n",
    "model.add(SimpleRNN(32))  # This last layer only returns the last outputs.\n",
    "model.summary()"
   ]
  },
  {
   "cell_type": "markdown",
   "metadata": {},
   "source": [
    "Now let's try to use such a model on the IMDB movie review classification problem. First, let's preprocess the data:"
   ]
  },
  {
   "cell_type": "code",
   "execution_count": 56,
   "metadata": {},
   "outputs": [
    {
     "name": "stdout",
     "output_type": "stream",
     "text": [
      "Loading data...\n",
      "25000 train sequences\n",
      "25000 test sequences\n",
      "Pad sequences (samples x time)\n",
      "input_train shape: (25000, 500)\n",
      "input_test shape: (25000, 500)\n"
     ]
    }
   ],
   "source": [
    "from keras.datasets import imdb\n",
    "from keras.preprocessing import sequence\n",
    "\n",
    "max_features = 10000  # number of words to consider as features\n",
    "maxlen = 500  # cut texts after this number of words (among top max_features most common words)\n",
    "batch_size = 32\n",
    "\n",
    "print('Loading data...')\n",
    "(input_train, y_train), (input_test, y_test) = imdb.load_data(num_words=max_features)\n",
    "print(len(input_train), 'train sequences')\n",
    "print(len(input_test), 'test sequences')\n",
    "\n",
    "print('Pad sequences (samples x time)')\n",
    "input_train = sequence.pad_sequences(input_train, maxlen=maxlen)\n",
    "input_test = sequence.pad_sequences(input_test, maxlen=maxlen)\n",
    "print('input_train shape:', input_train.shape)\n",
    "print('input_test shape:', input_test.shape)"
   ]
  },
  {
   "cell_type": "markdown",
   "metadata": {},
   "source": [
    "Let's train a simple recurrent network using an `Embedding` layer and a `SimpleRNN` layer:"
   ]
  },
  {
   "cell_type": "code",
   "execution_count": 57,
   "metadata": {},
   "outputs": [
    {
     "name": "stdout",
     "output_type": "stream",
     "text": [
      "Train on 20000 samples, validate on 5000 samples\n",
      "Epoch 1/10\n",
      "20000/20000 [==============================] - 33s 2ms/step - loss: 0.6464 - acc: 0.6085 - val_loss: 0.5118 - val_acc: 0.7662\n",
      "Epoch 2/10\n",
      "20000/20000 [==============================] - 34s 2ms/step - loss: 0.4366 - acc: 0.8091 - val_loss: 0.4766 - val_acc: 0.7770\n",
      "Epoch 3/10\n",
      "20000/20000 [==============================] - 37s 2ms/step - loss: 0.3165 - acc: 0.8713 - val_loss: 0.3828 - val_acc: 0.8352\n",
      "Epoch 4/10\n",
      "20000/20000 [==============================] - 37s 2ms/step - loss: 0.2442 - acc: 0.9050 - val_loss: 0.3474 - val_acc: 0.8666\n",
      "Epoch 5/10\n",
      "20000/20000 [==============================] - 37s 2ms/step - loss: 0.1786 - acc: 0.9351 - val_loss: 0.4333 - val_acc: 0.8212\n",
      "Epoch 6/10\n",
      "20000/20000 [==============================] - 37s 2ms/step - loss: 0.1286 - acc: 0.9550 - val_loss: 0.3847 - val_acc: 0.8574\n",
      "Epoch 7/10\n",
      "20000/20000 [==============================] - 37s 2ms/step - loss: 0.0809 - acc: 0.9733 - val_loss: 0.4931 - val_acc: 0.8256\n",
      "Epoch 8/10\n",
      "20000/20000 [==============================] - 36s 2ms/step - loss: 0.0599 - acc: 0.9816 - val_loss: 0.5505 - val_acc: 0.8026\n",
      "Epoch 9/10\n",
      "20000/20000 [==============================] - 37s 2ms/step - loss: 0.0323 - acc: 0.9909 - val_loss: 0.6052 - val_acc: 0.8206\n",
      "Epoch 10/10\n",
      "20000/20000 [==============================] - 37s 2ms/step - loss: 0.0218 - acc: 0.9934 - val_loss: 0.7104 - val_acc: 0.7862\n"
     ]
    }
   ],
   "source": [
    "from keras.layers import Dense\n",
    "\n",
    "model = Sequential()\n",
    "model.add(Embedding(max_features, 32))\n",
    "model.add(SimpleRNN(32))\n",
    "model.add(Dense(1, activation='sigmoid'))\n",
    "\n",
    "model.compile(optimizer='rmsprop', loss='binary_crossentropy', metrics=['acc'])\n",
    "history = model.fit(input_train, y_train,\n",
    "                    epochs=10,\n",
    "                    batch_size=128,\n",
    "                    validation_split=0.2)"
   ]
  },
  {
   "cell_type": "markdown",
   "metadata": {},
   "source": [
    "Let's display the training and validation loss and accuracy:"
   ]
  },
  {
   "cell_type": "code",
   "execution_count": 58,
   "metadata": {},
   "outputs": [
    {
     "data": {
      "image/png": "[encoded data removed]",
      "text/plain": [
       "<Figure size 432x288 with 1 Axes>"
      ]
     },
     "metadata": {
      "needs_background": "light"
     },
     "output_type": "display_data"
    },
    {
     "data": {
      "image/png": "[encoded data removed]",
      "text/plain": [
       "<Figure size 432x288 with 1 Axes>"
      ]
     },
     "metadata": {
      "needs_background": "light"
     },
     "output_type": "display_data"
    }
   ],
   "source": [
    "import matplotlib.pyplot as plt\n",
    "%matplotlib inline\n",
    "acc = history.history['acc']\n",
    "val_acc = history.history['val_acc']\n",
    "loss = history.history['loss']\n",
    "val_loss = history.history['val_loss']\n",
    "\n",
    "epochs = range(len(acc))\n",
    "\n",
    "plt.plot(epochs, acc, 'bo', label='Training acc')\n",
    "plt.plot(epochs, val_acc, 'b', label='Validation acc')\n",
    "plt.title('Training and validation accuracy')\n",
    "plt.legend()\n",
    "\n",
    "plt.figure()\n",
    "\n",
    "plt.plot(epochs, loss, 'bo', label='Training loss')\n",
    "plt.plot(epochs, val_loss, 'b', label='Validation loss')\n",
    "plt.title('Training and validation loss')\n",
    "plt.legend()\n",
    "\n",
    "plt.show()"
   ]
  },
  {
   "cell_type": "markdown",
   "metadata": {},
   "source": [
    "As a reminder, in chapter 3, our very first naive approach to this very dataset got us to 88% test accuracy. Unfortunately, our small \n",
    "recurrent network doesn't perform very well at all compared to this baseline (only up to 85% validation accuracy). Part of the problem is \n",
    "that our inputs only consider the first 500 words rather the full sequences -- \n",
    "hence our RNN has access to less information than our earlier baseline model. The remainder of the problem is simply that `SimpleRNN` isn't very good at processing long sequences, like text. Other types of recurrent layers perform much better. Let's take a look at some \n",
    "more advanced layers."
   ]
  },
  {
   "cell_type": "markdown",
   "metadata": {},
   "source": [
    "## RNN Vs LSTM\n",
    "\n",
    "<img src=\"../images/vanishing-gradient-1.png\" width=\"100%\" />\n",
    "<img src=\"../images/vanishing-gradient-2.png\" width=\"100%\" />\n",
    "<img src=\"../images/vanishing-gradient-3.png\" width=\"100%\" />\n",
    "<img src=\"../images/vanishing-gradient-4.png\" width=\"100%\" />\n",
    "<img src=\"../images/vanishing-gradient-5.png\" width=\"100%\" />\n",
    "<img src=\"../images/vanishing-gradient-6.png\" width=\"100%\" />\n",
    "<img src=\"../images/vanishing-gradient-7.png\" width=\"100%\" />\n",
    "<img src=\"../images/vanishing-gradient-8.png\" width=\"100%\" />\n",
    "<img src=\"../images/vanishing-gradient-9.png\" width=\"100%\" />\n",
    "<img src=\"../images/vanishing-gradient-10.png\" width=\"100%\" />\n",
    "<img src=\"../images/vanishing-gradient-11.png\" width=\"100%\" />\n",
    "<img src=\"../images/vanishing-gradient-12.png\" width=\"100%\" />\n",
    "<img src=\"../images/vanishing-gradient-13.png\" width=\"100%\" />"
   ]
  },
  {
   "cell_type": "markdown",
   "metadata": {},
   "source": [
    "[...]\n",
    "\n",
    "## A concrete LSTM example in Keras\n",
    "\n",
    "Now let's switch to more practical concerns: we will set up a model using a LSTM layer and train it on the IMDB data. Here's the network, \n",
    "similar to the one with `SimpleRNN` that we just presented. We only specify the output dimensionality of the LSTM layer, and leave every \n",
    "other argument (there are lots) to the Keras defaults. Keras has good defaults, and things will almost always \"just work\" without you \n",
    "having to spend time tuning parameters by hand."
   ]
  },
  {
   "cell_type": "code",
   "execution_count": 59,
   "metadata": {},
   "outputs": [
    {
     "name": "stdout",
     "output_type": "stream",
     "text": [
      "Train on 20000 samples, validate on 5000 samples\n",
      "Epoch 1/10\n",
      "20000/20000 [==============================] - 159s 8ms/step - loss: 0.5091 - acc: 0.7616 - val_loss: 0.4493 - val_acc: 0.7948\n",
      "Epoch 2/10\n",
      "20000/20000 [==============================] - 163s 8ms/step - loss: 0.2912 - acc: 0.8860 - val_loss: 0.3069 - val_acc: 0.8766\n",
      "Epoch 3/10\n",
      "20000/20000 [==============================] - 155s 8ms/step - loss: 0.2329 - acc: 0.9109 - val_loss: 0.2992 - val_acc: 0.8828\n",
      "Epoch 4/10\n",
      "20000/20000 [==============================] - 157s 8ms/step - loss: 0.1936 - acc: 0.9286 - val_loss: 0.2811 - val_acc: 0.8896\n",
      "Epoch 5/10\n",
      "20000/20000 [==============================] - 153s 8ms/step - loss: 0.1731 - acc: 0.9354 - val_loss: 0.3055 - val_acc: 0.8858\n",
      "Epoch 6/10\n",
      "20000/20000 [==============================] - 154s 8ms/step - loss: 0.1548 - acc: 0.9440 - val_loss: 0.3976 - val_acc: 0.8714\n",
      "Epoch 7/10\n",
      "20000/20000 [==============================] - 152s 8ms/step - loss: 0.1385 - acc: 0.9510 - val_loss: 0.4972 - val_acc: 0.8666\n",
      "Epoch 8/10\n",
      "20000/20000 [==============================] - 153s 8ms/step - loss: 0.1314 - acc: 0.9530 - val_loss: 0.3300 - val_acc: 0.8830\n",
      "Epoch 9/10\n",
      "20000/20000 [==============================] - 150s 7ms/step - loss: 0.1196 - acc: 0.9583 - val_loss: 0.3382 - val_acc: 0.8796\n",
      "Epoch 10/10\n",
      "20000/20000 [==============================] - 153s 8ms/step - loss: 0.1120 - acc: 0.9621 - val_loss: 0.4175 - val_acc: 0.8756\n"
     ]
    }
   ],
   "source": [
    "from keras.layers import LSTM\n",
    "\n",
    "model = Sequential()\n",
    "model.add(Embedding(max_features, 32))\n",
    "model.add(LSTM(32))\n",
    "model.add(Dense(1, activation='sigmoid'))\n",
    "\n",
    "model.compile(optimizer='rmsprop',\n",
    "              loss='binary_crossentropy',\n",
    "              metrics=['acc'])\n",
    "history = model.fit(input_train, y_train,\n",
    "                    epochs=10,\n",
    "                    batch_size=128,\n",
    "                    validation_split=0.2)"
   ]
  },
  {
   "cell_type": "code",
   "execution_count": 60,
   "metadata": {},
   "outputs": [
    {
     "data": {
      "image/png": "[encoded data removed]",
      "text/plain": [
       "<Figure size 432x288 with 1 Axes>"
      ]
     },
     "metadata": {
      "needs_background": "light"
     },
     "output_type": "display_data"
    },
    {
     "data": {
      "image/png": "[encoded data removed]",
      "text/plain": [
       "<Figure size 432x288 with 1 Axes>"
      ]
     },
     "metadata": {
      "needs_background": "light"
     },
     "output_type": "display_data"
    }
   ],
   "source": [
    "acc = history.history['acc']\n",
    "val_acc = history.history['val_acc']\n",
    "loss = history.history['loss']\n",
    "val_loss = history.history['val_loss']\n",
    "\n",
    "epochs = range(len(acc))\n",
    "\n",
    "plt.plot(epochs, acc, 'bo', label='Training acc')\n",
    "plt.plot(epochs, val_acc, 'b', label='Validation acc')\n",
    "plt.title('Training and validation accuracy')\n",
    "plt.legend()\n",
    "\n",
    "plt.figure()\n",
    "\n",
    "plt.plot(epochs, loss, 'bo', label='Training loss')\n",
    "plt.plot(epochs, val_loss, 'b', label='Validation loss')\n",
    "plt.title('Training and validation loss')\n",
    "plt.legend()\n",
    "\n",
    "plt.show()"
   ]
  },
  {
   "cell_type": "markdown",
   "metadata": {},
   "source": [
    "# Combining CNN - RNN for image captioning\n",
    "\n",
    "<img src=\"../images/image-captioning.png\" width=\"100%\" />\n",
    "<img src=\"../images/image-captioning-2.png\" width=\"100%\" />\n",
    "<img src=\"../images/image-captioning-3.png\" width=\"100%\" />\n",
    "<img src=\"../images/image-captioning-4.png\" width=\"100%\" />"
   ]
  },
  {
   "cell_type": "markdown",
   "metadata": {},
   "source": [
    "# Part 6: Advanced Neural Networks"
   ]
  },
  {
   "cell_type": "markdown",
   "metadata": {},
   "source": [
    "# Advanced usage of recurrent neural networks\n",
    "\n",
    "---\n",
    "\n",
    "In this section, we will review three advanced techniques for improving the performance and generalization power of recurrent neural \n",
    "networks. By the end of the section, you will know most of what there is to know about using recurrent networks with Keras. We will \n",
    "demonstrate all three concepts on a weather forecasting problem, where we have access to a timeseries of data points coming from sensors \n",
    "installed on the roof of a building, such as temperature, air pressure, and humidity, which we use to predict what the temperature will be \n",
    "24 hours after the last data point collected. This is a fairly challenging problem that exemplifies many common difficulties encountered \n",
    "when working with timeseries.\n",
    "\n",
    "We will cover the following techniques:\n",
    "\n",
    "* *Recurrent dropout*, a specific, built-in way to use dropout to fight overfitting in recurrent layers.\n",
    "* *Stacking recurrent layers*, to increase the representational power of the network (at the cost of higher computational loads).\n",
    "* *Bidirectional recurrent layers*, which presents the same information to a recurrent network in different ways, increasing accuracy and \n",
    "mitigating forgetting issues."
   ]
  },
  {
   "cell_type": "markdown",
   "metadata": {},
   "source": [
    "## A temperature forecasting problem\n",
    "\n",
    "Until now, the only sequence data we have covered has been text data, for instance the IMDB dataset. But sequence \n",
    "data is found in many more problems than just language processing. In all of our examples in this section, we will be playing with a weather \n",
    "timeseries dataset recorded at the Weather Station at the Max-Planck-Institute for Biogeochemistry in Jena, Germany: http://www.bgc-jena.mpg.de/wetter/.\n",
    "\n",
    "In this dataset, fourteen different quantities (such air temperature, atmospheric pressure, humidity, wind direction, etc.) are recorded \n",
    "every ten minutes, over several years. The original data goes back to 2003, but we limit ourselves to data from 2009-2016. This dataset is \n",
    "perfect for learning to work with numerical timeseries. We will use it to build a model that takes as input some data from the recent past (a \n",
    "few days worth of data points) and predicts the air temperature 24 hours in the future."
   ]
  },
  {
   "cell_type": "markdown",
   "metadata": {},
   "source": [
    "Let's take a look at the data:"
   ]
  },
  {
   "cell_type": "code",
   "execution_count": 40,
   "metadata": {},
   "outputs": [
    {
     "name": "stdout",
     "output_type": "stream",
     "text": [
      "['\"Date Time\"', '\"p (mbar)\"', '\"T (degC)\"', '\"Tpot (K)\"', '\"Tdew (degC)\"', '\"rh (%)\"', '\"VPmax (mbar)\"', '\"VPact (mbar)\"', '\"VPdef (mbar)\"', '\"sh (g/kg)\"', '\"H2OC (mmol/mol)\"', '\"rho (g/m**3)\"', '\"wv (m/s)\"', '\"max. wv (m/s)\"', '\"wd (deg)\"']\n",
      "420551\n"
     ]
    }
   ],
   "source": [
    "import os\n",
    "\n",
    "# data_dir = '../../data/data_text_processing'\n",
    "data_dir = '../../../data/data_text_processing'\n",
    "fname = os.path.join(data_dir, 'jena_climate_2009_2016.csv')\n",
    "\n",
    "f = open(fname)\n",
    "data = f.read()\n",
    "f.close()\n",
    "\n",
    "lines = data.split('\\n')\n",
    "header = lines[0].split(',')\n",
    "lines = lines[1:]\n",
    "\n",
    "print(header)\n",
    "print(len(lines))"
   ]
  },
  {
   "cell_type": "markdown",
   "metadata": {},
   "source": [
    "Let's convert all of these 420,551 lines of data into a Numpy array:"
   ]
  },
  {
   "cell_type": "code",
   "execution_count": null,
   "metadata": {},
   "outputs": [],
   "source": [
    "import numpy as np\n",
    "\n",
    "float_data = np.zeros((len(lines), len(header) - 1))\n",
    "for i, line in enumerate(lines):\n",
    "    values = [float(x) for x in line.split(',')[1:]]\n",
    "    float_data[i, :] = values"
   ]
  },
  {
   "cell_type": "markdown",
   "metadata": {},
   "source": [
    "For instance, here is the plot of temperature (in degrees Celsius) over time:"
   ]
  },
  {
   "cell_type": "code",
   "execution_count": null,
   "metadata": {},
   "outputs": [],
   "source": [
    "from matplotlib import pyplot as plt\n",
    "%matplotlib inline\n",
    "temp = float_data[:, 1]  # temperature (in degrees Celsius)\n",
    "plt.plot(range(len(temp)), temp)\n",
    "plt.show()"
   ]
  },
  {
   "cell_type": "markdown",
   "metadata": {},
   "source": [
    "\n",
    "On this plot, you can clearly see the yearly periodicity of temperature.\n",
    "\n",
    "Here is a more narrow plot of the first ten days of temperature data (since the data is recorded every ten minutes, we get 144 data points \n",
    "per day):"
   ]
  },
  {
   "cell_type": "code",
   "execution_count": null,
   "metadata": {},
   "outputs": [],
   "source": [
    "plt.plot(range(1440), temp[:1440])\n",
    "plt.show()"
   ]
  },
  {
   "cell_type": "markdown",
   "metadata": {},
   "source": [
    "\n",
    "On this plot, you can see daily periodicity, especially evident for the last 4 days. We can also note that this ten-days period must be \n",
    "coming from a fairly cold winter month.\n",
    "\n",
    "If we were trying to predict average temperature for the next month given a few month of past data, the problem would be easy, due to the \n",
    "reliable year-scale periodicity of the data. But looking at the data over a scale of days, the temperature looks a lot more chaotic. So is \n",
    "this timeseries predictable at a daily scale? Let's find out."
   ]
  },
  {
   "cell_type": "markdown",
   "metadata": {},
   "source": [
    "## Preparing the data\n",
    "\n",
    "\n",
    "The exact formulation of our problem will be the following: given data going as far back as `lookback` timesteps (a timestep is 10 minutes) \n",
    "and sampled every `steps` timesteps, can we predict the temperature in `delay` timesteps?\n",
    "\n",
    "We will use the following parameter values:\n",
    "\n",
    "* `lookback = 720`, i.e. our observations will go back 5 days.\n",
    "* `steps = 6`, i.e. our observations will be sampled at one data point per hour.\n",
    "* `delay = 144`, i.e. our targets will be 24 hours in the future.\n",
    "\n",
    "To get started, we need to do two things:\n",
    "\n",
    "* Preprocess the data to a format a neural network can ingest. This is easy: the data is already numerical, so we don't need to do any \n",
    "vectorization. However each timeseries in the data is on a different scale (e.g. temperature is typically between -20 and +30, but \n",
    "pressure, measured in mbar, is around 1000). So we will normalize each timeseries independently so that they all take small values on a \n",
    "similar scale.\n",
    "* Write a Python generator that takes our current array of float data and yields batches of data from the recent past, alongside with a \n",
    "target temperature in the future. Since the samples in our dataset are highly redundant (e.g. sample `N` and sample `N + 1` will have most \n",
    "of their timesteps in common), it would be very wasteful to explicitly allocate every sample. Instead, we will generate the samples on the \n",
    "fly using the original data.\n",
    "\n",
    "We preprocess the data by subtracting the mean of each timeseries and dividing by the standard deviation. We plan on using the first \n",
    "200,000 timesteps as training data, so we compute the mean and standard deviation only on this fraction of the data:"
   ]
  },
  {
   "cell_type": "code",
   "execution_count": null,
   "metadata": {},
   "outputs": [],
   "source": [
    "mean = float_data[:200000].mean(axis=0)\n",
    "float_data -= mean\n",
    "std = float_data[:200000].std(axis=0)\n",
    "float_data /= std"
   ]
  },
  {
   "cell_type": "markdown",
   "metadata": {},
   "source": [
    "\n",
    "Now here is the data generator that we will use. It yields a tuple `(samples, targets)` where `samples` is one batch of input data and \n",
    "`targets` is the corresponding array of target temperatures. It takes the following arguments:\n",
    "\n",
    "* `data`: The original array of floating point data, which we just normalized in the code snippet above.\n",
    "* `lookback`: How many timesteps back should our input data go.\n",
    "* `delay`: How many timesteps in the future should our target be.\n",
    "* `min_index` and `max_index`: Indices in the `data` array that delimit which timesteps to draw from. This is useful for keeping a segment \n",
    "of the data for validation and another one for testing.\n",
    "* `shuffle`: Whether to shuffle our samples or draw them in chronological order.\n",
    "* `batch_size`: The number of samples per batch.\n",
    "* `step`: The period, in timesteps, at which we sample data. We will set it 6 in order to draw one data point every hour."
   ]
  },
  {
   "cell_type": "code",
   "execution_count": null,
   "metadata": {},
   "outputs": [],
   "source": [
    "def generator(data, lookback, delay, min_index, max_index,\n",
    "              shuffle=False, batch_size=128, step=6):\n",
    "    if max_index is None:\n",
    "        max_index = len(data) - delay - 1\n",
    "    i = min_index + lookback\n",
    "    while 1:\n",
    "        if shuffle:\n",
    "            rows = np.random.randint(\n",
    "                min_index + lookback, max_index, size=batch_size)\n",
    "        else:\n",
    "            if i + batch_size >= max_index:\n",
    "                i = min_index + lookback\n",
    "            rows = np.arange(i, min(i + batch_size, max_index))\n",
    "            i += len(rows)\n",
    "\n",
    "        samples = np.zeros((len(rows),\n",
    "                           lookback // step,\n",
    "                           data.shape[-1]))\n",
    "        targets = np.zeros((len(rows),))\n",
    "        for j, row in enumerate(rows):\n",
    "            indices = range(rows[j] - lookback, rows[j], step)\n",
    "            samples[j] = data[indices]\n",
    "            targets[j] = data[rows[j] + delay][1]\n",
    "        yield samples, targets"
   ]
  },
  {
   "cell_type": "markdown",
   "metadata": {},
   "source": [
    "\n",
    "Now let's use our abstract generator function to instantiate three generators, one for training, one for validation and one for testing. \n",
    "Each will look at different temporal segments of the original data: the training generator looks at the first 200,000 timesteps, the \n",
    "validation generator looks at the following 100,000, and the test generator looks at the remainder."
   ]
  },
  {
   "cell_type": "code",
   "execution_count": null,
   "metadata": {},
   "outputs": [],
   "source": [
    "lookback = 1440\n",
    "step = 6\n",
    "delay = 144\n",
    "batch_size = 128\n",
    "\n",
    "train_gen = generator(float_data,\n",
    "                      lookback=lookback,\n",
    "                      delay=delay,\n",
    "                      min_index=0,\n",
    "                      max_index=200000,\n",
    "                      shuffle=True,\n",
    "                      step=step, \n",
    "                      batch_size=batch_size)\n",
    "val_gen = generator(float_data,\n",
    "                    lookback=lookback,\n",
    "                    delay=delay,\n",
    "                    min_index=200001,\n",
    "                    max_index=300000,\n",
    "                    step=step,\n",
    "                    batch_size=batch_size)\n",
    "test_gen = generator(float_data,\n",
    "                     lookback=lookback,\n",
    "                     delay=delay,\n",
    "                     min_index=300001,\n",
    "                     max_index=None,\n",
    "                     step=step,\n",
    "                     batch_size=batch_size)\n",
    "\n",
    "# This is how many steps to draw from `val_gen`\n",
    "# in order to see the whole validation set:\n",
    "val_steps = (300000 - 200001 - lookback) // batch_size\n",
    "\n",
    "# This is how many steps to draw from `test_gen`\n",
    "# in order to see the whole test set:\n",
    "test_steps = (len(float_data) - 300001 - lookback) // batch_size"
   ]
  },
  {
   "cell_type": "markdown",
   "metadata": {},
   "source": [
    "## A common sense, non-machine learning baseline\n",
    "\n",
    "\n",
    "Before we start leveraging black-box deep learning models to solve our temperature prediction problem, let's try out a simple common-sense \n",
    "approach. It will serve as a sanity check, and it will establish a baseline that we will have to beat in order to demonstrate the \n",
    "usefulness of more advanced machine learning models. Such common-sense baselines can be very useful when approaching a new problem for \n",
    "which there is no known solution (yet). A classic example is that of unbalanced classification tasks, where some classes can be much more \n",
    "common than others. If your dataset contains 90% of instances of class A and 10% of instances of class B, then a common sense approach to \n",
    "the classification task would be to always predict \"A\" when presented with a new sample. Such a classifier would be 90% accurate overall, \n",
    "and any learning-based approach should therefore beat this 90% score in order to demonstrate usefulness. Sometimes such elementary \n",
    "baseline can prove surprisingly hard to beat.\n",
    "\n",
    "In our case, the temperature timeseries can safely be assumed to be continuous (the temperatures tomorrow are likely to be close to the \n",
    "temperatures today) as well as periodical with a daily period. Thus a common sense approach would be to always predict that the temperature \n",
    "24 hours from now will be equal to the temperature right now. Let's evaluate this approach, using the Mean Absolute Error metric (MAE). \n",
    "Mean Absolute Error is simply equal to:"
   ]
  },
  {
   "cell_type": "markdown",
   "metadata": {},
   "source": [
    "Here's our evaluation loop:"
   ]
  },
  {
   "cell_type": "code",
   "execution_count": null,
   "metadata": {},
   "outputs": [],
   "source": [
    "def evaluate_naive_method():\n",
    "    batch_maes = []\n",
    "    for step in range(val_steps):\n",
    "        samples, targets = next(val_gen)\n",
    "        preds = samples[:, -1, 1]\n",
    "        mae = np.mean(np.abs(preds - targets))\n",
    "        batch_maes.append(mae)\n",
    "    print(np.mean(batch_maes))\n",
    "    \n",
    "evaluate_naive_method()"
   ]
  },
  {
   "cell_type": "markdown",
   "metadata": {},
   "source": [
    "It yields a MAE of 0.29. Since our temperature data has been normalized to be centered on 0 and have a standard deviation of one, this \n",
    "number is not immediately interpretable. It translates to an average absolute error of `0.29 * temperature_std` degrees Celsius, i.e. \n",
    "2.57˚C. That's a fairly large average absolute error -- now the game is to leverage our knowledge of deep learning to do better. "
   ]
  },
  {
   "cell_type": "markdown",
   "metadata": {},
   "source": [
    "## A basic machine learning approach\n",
    "\n",
    "In the same way that it is useful to establish a common sense baseline before trying machine learning approaches, it is useful to try \n",
    "simple and cheap machine learning models (such as small densely-connected networks) before looking into complicated and computationally \n",
    "expensive models such as RNNs. This is the best way to make sure that any further complexity we throw at the problem later on is legitimate \n",
    "and delivers real benefits.\n",
    "\n",
    "Here is a simply fully-connected model in which we start by flattening the data, then run it through two `Dense` layers. Note the lack of \n",
    "activation function on the last `Dense` layer, which is typical for a regression problem. We use MAE as the loss. Since we are evaluating \n",
    "on the exact same data and with the exact same metric as with our common sense approach, the results will be directly comparable."
   ]
  },
  {
   "cell_type": "code",
   "execution_count": null,
   "metadata": {},
   "outputs": [],
   "source": [
    "from keras.models import Sequential\n",
    "from keras import layers\n",
    "from keras.optimizers import RMSprop\n",
    "\n",
    "model = Sequential()\n",
    "model.add(layers.Flatten(input_shape=(lookback // step, float_data.shape[-1])))\n",
    "model.add(layers.Dense(32, activation='relu'))\n",
    "model.add(layers.Dense(1))\n",
    "\n",
    "model.compile(optimizer=RMSprop(), loss='mae')\n",
    "history = model.fit_generator(train_gen,\n",
    "                              steps_per_epoch=500,\n",
    "                              epochs=20,\n",
    "                              validation_data=val_gen,\n",
    "                              validation_steps=val_steps)"
   ]
  },
  {
   "cell_type": "markdown",
   "metadata": {},
   "source": [
    "Let's display the loss curves for validation and training:"
   ]
  },
  {
   "cell_type": "code",
   "execution_count": null,
   "metadata": {},
   "outputs": [],
   "source": [
    "import matplotlib.pyplot as plt\n",
    "%matplotlib inline\n",
    "loss = history.history['loss']\n",
    "val_loss = history.history['val_loss']\n",
    "\n",
    "epochs = range(len(loss))\n",
    "\n",
    "plt.figure()\n",
    "\n",
    "plt.plot(epochs, loss, 'bo', label='Training loss')\n",
    "plt.plot(epochs, val_loss, 'b', label='Validation loss')\n",
    "plt.title('Training and validation loss')\n",
    "plt.legend()\n",
    "\n",
    "plt.show()"
   ]
  },
  {
   "cell_type": "markdown",
   "metadata": {},
   "source": [
    "\n",
    "Some of our validation losses get close to the no-learning baseline, but not very reliably. This goes to show the merit of having had this baseline in the first place: it turns out not to be so easy to outperform. Our \n",
    "common sense contains already a lot of valuable information that a machine learning model does not have access to.\n",
    "\n",
    "You may ask, if there exists a simple, well-performing model to go from the data to the targets (our common sense baseline), why doesn't \n",
    "the model we are training find it and improve on it? Simply put: because this simple solution is not what our training setup is looking \n",
    "for. The space of models in which we are searching for a solution, i.e. our hypothesis space, is the space of all possible 2-layer networks \n",
    "with the configuration that we defined. These networks are already fairly complicated. When looking for a solution with a space of \n",
    "complicated models, the simple well-performing baseline might be unlearnable, even if it's technically part of the hypothesis space. That \n",
    "is a pretty significant limitation of machine learning in general: unless the learning algorithm is hard-coded to look for a specific kind \n",
    "of simple model, parameter learning can sometimes fail to find a simple solution to a simple problem."
   ]
  },
  {
   "cell_type": "markdown",
   "metadata": {},
   "source": [
    "## A first recurrent baseline\n",
    "\n",
    "\n",
    "Our first fully-connected approach didn't do so well, but that doesn't mean machine learning is not applicable to our problem. The approach \n",
    "above consisted in first flattening the timeseries, which removed the notion of time from the input data. Let us instead look at our data \n",
    "as what it is: a sequence, where causality and order matter. We will try a recurrent sequence processing model -- it should be the perfect \n",
    "fit for such sequence data, precisely because it does exploit the temporal ordering of data points, unlike our first approach.\n",
    "\n",
    "Instead of the `LSTM` layer introduced in the previous section, we will use the `GRU` layer, developed by Cho et al. in 2014. `GRU` layers \n",
    "(which stands for \"gated recurrent unit\") work by leveraging the same principle as LSTM, but they are somewhat streamlined and thus cheaper \n",
    "to run, albeit they may not have quite as much representational power as LSTM. This trade-off between computational expensiveness and \n",
    "representational power is seen everywhere in machine learning."
   ]
  },
  {
   "cell_type": "code",
   "execution_count": null,
   "metadata": {},
   "outputs": [],
   "source": [
    "from keras.models import Sequential\n",
    "from keras import layers\n",
    "from keras.optimizers import RMSprop\n",
    "\n",
    "model = Sequential()\n",
    "model.add(layers.GRU(32, input_shape=(None, float_data.shape[-1])))\n",
    "model.add(layers.Dense(1))\n",
    "\n",
    "model.compile(optimizer=RMSprop(), loss='mae')\n",
    "history = model.fit_generator(train_gen,\n",
    "                              steps_per_epoch=500,\n",
    "                              epochs=20,\n",
    "                              validation_data=val_gen,\n",
    "                              validation_steps=val_steps)"
   ]
  },
  {
   "cell_type": "markdown",
   "metadata": {},
   "source": [
    "Let look at our results:"
   ]
  },
  {
   "cell_type": "code",
   "execution_count": null,
   "metadata": {},
   "outputs": [],
   "source": [
    "loss = history.history['loss']\n",
    "val_loss = history.history['val_loss']\n",
    "\n",
    "epochs = range(len(loss))\n",
    "\n",
    "plt.figure()\n",
    "\n",
    "plt.plot(epochs, loss, 'bo', label='Training loss')\n",
    "plt.plot(epochs, val_loss, 'b', label='Validation loss')\n",
    "plt.title('Training and validation loss')\n",
    "plt.legend()\n",
    "\n",
    "plt.show()"
   ]
  },
  {
   "cell_type": "markdown",
   "metadata": {},
   "source": [
    "\n",
    "Much better! We are able to significantly beat the common sense baseline, such demonstrating the value of machine learning here, as well as \n",
    "the superiority of recurrent networks compared to sequence-flattening dense networks on this type of task.\n",
    "\n",
    "Our new validation MAE of ~0.265 (before we start significantly overfitting) translates to a mean absolute error of 2.35˚C after \n",
    "de-normalization. That's a solid gain on our initial error of 2.57˚C, but we probably still have a bit of margin for improvement."
   ]
  },
  {
   "cell_type": "markdown",
   "metadata": {},
   "source": [
    "## Using recurrent dropout to fight overfitting\n",
    "\n",
    "\n",
    "It is evident from our training and validation curves that our model is overfitting: the training and validation losses start diverging \n",
    "considerably after a few epochs. You are already familiar with a classic technique for fighting this phenomenon: dropout, consisting in \n",
    "randomly zeroing-out input units of a layer in order to break happenstance correlations in the training data that the layer is exposed to. \n",
    "How to correctly apply dropout in recurrent networks, however, is not a trivial question. It has long been known that applying dropout \n",
    "before a recurrent layer hinders learning rather than helping with regularization. In 2015, Yarin Gal, as part of his Ph.D. thesis on \n",
    "Bayesian deep learning, determined the proper way to use dropout with a recurrent network: the same dropout mask (the same pattern of \n",
    "dropped units) should be applied at every timestep, instead of a dropout mask that would vary randomly from timestep to timestep. What's \n",
    "more: in order to regularize the representations formed by the recurrent gates of layers such as GRU and LSTM, a temporally constant \n",
    "dropout mask should be applied to the inner recurrent activations of the layer (a \"recurrent\" dropout mask). Using the same dropout mask at \n",
    "every timestep allows the network to properly propagate its learning error through time; a temporally random dropout mask would instead \n",
    "disrupt this error signal and be harmful to the learning process.\n",
    "\n",
    "Yarin Gal did his research using Keras and helped build this mechanism directly into Keras recurrent layers. Every recurrent layer in Keras \n",
    "has two dropout-related arguments: `dropout`, a float specifying the dropout rate for input units of the layer, and `recurrent_dropout`, \n",
    "specifying the dropout rate of the recurrent units. Let's add dropout and recurrent dropout to our GRU layer and see how it impacts \n",
    "overfitting. Because networks being regularized with dropout always take longer to fully converge, we train our network for twice as many \n",
    "epochs."
   ]
  },
  {
   "cell_type": "code",
   "execution_count": null,
   "metadata": {},
   "outputs": [],
   "source": [
    "from keras.models import Sequential\n",
    "from keras import layers\n",
    "from keras.optimizers import RMSprop\n",
    "\n",
    "model = Sequential()\n",
    "model.add(layers.GRU(32,\n",
    "                     dropout=0.2,\n",
    "                     recurrent_dropout=0.2,\n",
    "                     input_shape=(None, float_data.shape[-1])))\n",
    "model.add(layers.Dense(1))\n",
    "\n",
    "model.compile(optimizer=RMSprop(), loss='mae')\n",
    "history = model.fit_generator(train_gen,\n",
    "                              steps_per_epoch=500,\n",
    "                              epochs=40,\n",
    "                              validation_data=val_gen,\n",
    "                              validation_steps=val_steps)"
   ]
  },
  {
   "cell_type": "code",
   "execution_count": null,
   "metadata": {},
   "outputs": [],
   "source": [
    "loss = history.history['loss']\n",
    "val_loss = history.history['val_loss']\n",
    "\n",
    "epochs = range(len(loss))\n",
    "\n",
    "plt.figure()\n",
    "\n",
    "plt.plot(epochs, loss, 'bo', label='Training loss')\n",
    "plt.plot(epochs, val_loss, 'b', label='Validation loss')\n",
    "plt.title('Training and validation loss')\n",
    "plt.legend()\n",
    "\n",
    "plt.show()"
   ]
  },
  {
   "cell_type": "markdown",
   "metadata": {},
   "source": [
    "Great success; we are no longer overfitting during the first 30 epochs. However, while we have more stable evaluation scores, our best \n",
    "scores are not much lower than they were previously."
   ]
  },
  {
   "cell_type": "markdown",
   "metadata": {},
   "source": [
    "## Stacking recurrent layers\n",
    "\n",
    "Since we are no longer overfitting yet we seem to have hit a performance bottleneck, we should start considering increasing the capacity of \n",
    "our network. If you remember our description of the \"universal machine learning workflow\": it is a generally a good idea to increase the \n",
    "capacity of your network until overfitting becomes your primary obstacle (assuming that you are already taking basic steps to mitigate \n",
    "overfitting, such as using dropout). As long as you are not overfitting too badly, then you are likely under-capacity.\n",
    "\n",
    "Increasing network capacity is typically done by increasing the number of units in the layers, or adding more layers. Recurrent layer \n",
    "stacking is a classic way to build more powerful recurrent networks: for instance, what currently powers the Google translate algorithm is \n",
    "a stack of seven large LSTM layers -- that's huge.\n",
    "\n",
    "To stack recurrent layers on top of each other in Keras, all intermediate layers should return their full sequence of outputs (a 3D tensor) \n",
    "rather than their output at the last timestep. This is done by specifying `return_sequences=True`: "
   ]
  },
  {
   "cell_type": "code",
   "execution_count": null,
   "metadata": {},
   "outputs": [],
   "source": [
    "from keras.models import Sequential\n",
    "from keras import layers\n",
    "from keras.optimizers import RMSprop\n",
    "\n",
    "model = Sequential()\n",
    "model.add(layers.GRU(32,\n",
    "                     dropout=0.1,\n",
    "                     recurrent_dropout=0.5,\n",
    "                     return_sequences=True,\n",
    "                     input_shape=(None, float_data.shape[-1])))\n",
    "model.add(layers.GRU(64, activation='relu',\n",
    "                     dropout=0.1, \n",
    "                     recurrent_dropout=0.5))\n",
    "model.add(layers.Dense(1))\n",
    "\n",
    "model.compile(optimizer=RMSprop(), loss='mae')\n",
    "history = model.fit_generator(train_gen,\n",
    "                              steps_per_epoch=500,\n",
    "                              epochs=40,\n",
    "                              validation_data=val_gen,\n",
    "                              validation_steps=val_steps)"
   ]
  },
  {
   "cell_type": "markdown",
   "metadata": {},
   "source": [
    "Let's take a look at our results:"
   ]
  },
  {
   "cell_type": "code",
   "execution_count": null,
   "metadata": {},
   "outputs": [],
   "source": [
    "loss = history.history['loss']\n",
    "val_loss = history.history['val_loss']\n",
    "\n",
    "epochs = range(len(loss))\n",
    "\n",
    "plt.figure()\n",
    "\n",
    "plt.plot(epochs, loss, 'bo', label='Training loss')\n",
    "plt.plot(epochs, val_loss, 'b', label='Validation loss')\n",
    "plt.title('Training and validation loss')\n",
    "plt.legend()\n",
    "\n",
    "plt.show()"
   ]
  },
  {
   "cell_type": "markdown",
   "metadata": {},
   "source": [
    "We can see that the added layers does improve ours results by a bit, albeit not very significantly. We can draw two conclusions:\n",
    "\n",
    "* Since we are still not overfitting too badly, we could safely increase the size of our layers, in quest for a bit of validation loss \n",
    "improvement. This does have a non-negligible computational cost, though. \n",
    "* Since adding a layer did not help us by a significant factor, we may be seeing diminishing returns to increasing network capacity at this \n",
    "point."
   ]
  },
  {
   "cell_type": "markdown",
   "metadata": {},
   "source": [
    "## Using bidirectional RNNs\n",
    "\n",
    "\n",
    "The last technique that we will introduce in this section is called \"bidirectional RNNs\". A bidirectional RNN is common RNN variant which \n",
    "can offer higher performance than a regular RNN on certain tasks. It is frequently used in natural language processing -- you could call it \n",
    "the Swiss army knife of deep learning for NLP.\n",
    "\n",
    "RNNs are notably order-dependent, or time-dependent: they process the timesteps of their input sequences in order, and shuffling or \n",
    "reversing the timesteps can completely change the representations that the RNN will extract from the sequence. This is precisely the reason \n",
    "why they perform well on problems where order is meaningful, such as our temperature forecasting problem. A bidirectional RNN exploits \n",
    "the order-sensitivity of RNNs: it simply consists of two regular RNNs, such as the GRU or LSTM layers that you are already familiar with, \n",
    "each processing input sequence in one direction (chronologically and antichronologically), then merging their representations. By \n",
    "processing a sequence both way, a bidirectional RNN is able to catch patterns that may have been overlooked by a one-direction RNN.\n",
    "\n",
    "Remarkably, the fact that the RNN layers in this section have so far processed sequences in chronological order (older timesteps first) may \n",
    "have been an arbitrary decision. At least, it's a decision we made no attempt at questioning so far. Could it be that our RNNs could have \n",
    "performed well enough if it were processing input sequences in antichronological order, for instance (newer timesteps first)? Let's try \n",
    "this in practice and see what we get. All we need to do is write a variant of our data generator, where the input sequences get reverted \n",
    "along the time dimension (replace the last line with `yield samples[:, ::-1, :], targets`). Training the same one-GRU-layer network as we \n",
    "used in the first experiment in this section, we get the following results:"
   ]
  },
  {
   "cell_type": "code",
   "execution_count": null,
   "metadata": {},
   "outputs": [],
   "source": [
    "def reverse_order_generator(data, lookback, delay, min_index, max_index,\n",
    "                            shuffle=False, batch_size=128, step=6):\n",
    "    if max_index is None:\n",
    "        max_index = len(data) - delay - 1\n",
    "    i = min_index + lookback\n",
    "    while 1:\n",
    "        if shuffle:\n",
    "            rows = np.random.randint(\n",
    "                min_index + lookback, max_index, size=batch_size)\n",
    "        else:\n",
    "            if i + batch_size >= max_index:\n",
    "                i = min_index + lookback\n",
    "            rows = np.arange(i, min(i + batch_size, max_index))\n",
    "            i += len(rows)\n",
    "\n",
    "        samples = np.zeros((len(rows),\n",
    "                           lookback // step,\n",
    "                           data.shape[-1]))\n",
    "        targets = np.zeros((len(rows),))\n",
    "        for j, row in enumerate(rows):\n",
    "            indices = range(rows[j] - lookback, rows[j], step)\n",
    "            samples[j] = data[indices]\n",
    "            targets[j] = data[rows[j] + delay][1]\n",
    "        yield samples[:, ::-1, :], targets\n",
    "        \n",
    "train_gen_reverse = reverse_order_generator(\n",
    "    float_data,\n",
    "    lookback=lookback,\n",
    "    delay=delay,\n",
    "    min_index=0,\n",
    "    max_index=200000,\n",
    "    shuffle=True,\n",
    "    step=step, \n",
    "    batch_size=batch_size)\n",
    "val_gen_reverse = reverse_order_generator(\n",
    "    float_data,\n",
    "    lookback=lookback,\n",
    "    delay=delay,\n",
    "    min_index=200001,\n",
    "    max_index=300000,\n",
    "    step=step,\n",
    "    batch_size=batch_size)"
   ]
  },
  {
   "cell_type": "code",
   "execution_count": null,
   "metadata": {},
   "outputs": [],
   "source": [
    "model = Sequential()\n",
    "model.add(layers.GRU(32, input_shape=(None, float_data.shape[-1])))\n",
    "model.add(layers.Dense(1))\n",
    "\n",
    "model.compile(optimizer=RMSprop(), loss='mae')\n",
    "history = model.fit_generator(train_gen_reverse,\n",
    "                              steps_per_epoch=500,\n",
    "                              epochs=20,\n",
    "                              validation_data=val_gen_reverse,\n",
    "                              validation_steps=val_steps)"
   ]
  },
  {
   "cell_type": "code",
   "execution_count": null,
   "metadata": {},
   "outputs": [],
   "source": [
    "loss = history.history['loss']\n",
    "val_loss = history.history['val_loss']\n",
    "\n",
    "epochs = range(len(loss))\n",
    "\n",
    "plt.figure()\n",
    "\n",
    "plt.plot(epochs, loss, 'bo', label='Training loss')\n",
    "plt.plot(epochs, val_loss, 'b', label='Validation loss')\n",
    "plt.title('Training and validation loss')\n",
    "plt.legend()\n",
    "\n",
    "plt.show()"
   ]
  },
  {
   "cell_type": "markdown",
   "metadata": {},
   "source": [
    "\n",
    "So the reversed-order GRU strongly underperforms even the common-sense baseline, indicating that the in our case chronological processing is very \n",
    "important to the success of our approach. This makes perfect sense: the underlying GRU layer will typically be better at remembering the \n",
    "recent past than the distant past, and naturally the more recent weather data points are more predictive than older data points in our \n",
    "problem (that's precisely what makes the common-sense baseline a fairly strong baseline). Thus the chronological version of the layer is \n",
    "bound to outperform the reversed-order version. Importantly, this is generally not true for many other problems, including natural \n",
    "language: intuitively, the importance of a word in understanding a sentence is not usually dependent on its position in the sentence. Let's \n",
    "try the same trick on the LSTM IMDB example from the previous section:"
   ]
  },
  {
   "cell_type": "code",
   "execution_count": null,
   "metadata": {},
   "outputs": [],
   "source": [
    "from keras.datasets import imdb\n",
    "from keras.preprocessing import sequence\n",
    "from keras import layers\n",
    "from keras.models import Sequential\n",
    "\n",
    "# Number of words to consider as features\n",
    "max_features = 10000\n",
    "# Cut texts after this number of words (among top max_features most common words)\n",
    "maxlen = 500\n",
    "\n",
    "# Load data\n",
    "(x_train, y_train), (x_test, y_test) = imdb.load_data(num_words=max_features)\n",
    "\n",
    "# Reverse sequences\n",
    "x_train = [x[::-1] for x in x_train]\n",
    "x_test = [x[::-1] for x in x_test]\n",
    "\n",
    "# Pad sequences\n",
    "x_train = sequence.pad_sequences(x_train, maxlen=maxlen)\n",
    "x_test = sequence.pad_sequences(x_test, maxlen=maxlen)\n",
    "\n",
    "model = Sequential()\n",
    "model.add(layers.Embedding(max_features, 128))\n",
    "model.add(layers.LSTM(32))\n",
    "model.add(layers.Dense(1, activation='sigmoid'))\n",
    "\n",
    "model.compile(optimizer='rmsprop',\n",
    "              loss='binary_crossentropy',\n",
    "              metrics=['acc'])\n",
    "history = model.fit(x_train, y_train,\n",
    "                    epochs=10,\n",
    "                    batch_size=128,\n",
    "                    validation_split=0.2)"
   ]
  },
  {
   "cell_type": "markdown",
   "metadata": {},
   "source": [
    "\n",
    "We get near-identical performance as the chronological-order LSTM we tried in the previous section.\n",
    "\n",
    "Thus, remarkably, on such a text dataset, reversed-order processing works just as well as chronological processing, confirming our \n",
    "hypothesis that, albeit word order *does* matter in understanding language, *which* order you use isn't crucial. Importantly, a RNN trained \n",
    "on reversed sequences will learn different representations than one trained on the original sequences, in much the same way that you would \n",
    "have quite different mental models if time flowed backwards in the real world -- if you lived a life where you died on your first day and \n",
    "you were born on your last day. In machine learning, representations that are *different* yet *useful* are always worth exploiting, and the \n",
    "more they differ the better: they offer a new angle from which to look at your data, capturing aspects of the data that were missed by other \n",
    "approaches, and thus they can allow to boost performance on a task. This is the intuition behind \"ensembling\", a concept that we will \n",
    "introduce in the next chapter.\n",
    "\n",
    "A bidirectional RNN exploits this idea to improve upon the performance of chronological-order RNNs: it looks at its inputs sequence both \n",
    "ways, obtaining potentially richer representations and capturing patterns that may have been missed by the chronological-order version alone."
   ]
  },
  {
   "cell_type": "markdown",
   "metadata": {},
   "source": [
    "![bidirectional rnn](https://s3.amazonaws.com/book.keras.io/img/ch6/bidirectional_rnn.png)"
   ]
  },
  {
   "cell_type": "markdown",
   "metadata": {},
   "source": [
    "To instantiate a bidirectional RNN in Keras, one would use the `Bidirectional` layer, which takes as first argument a recurrent layer \n",
    "instance. `Bidirectional` will create a second, separate instance of this recurrent layer, and will use one instance for processing the \n",
    "input sequences in chronological order and the other instance for processing the input sequences in reversed order. Let's try it on the \n",
    "IMDB sentiment analysis task:"
   ]
  },
  {
   "cell_type": "code",
   "execution_count": null,
   "metadata": {},
   "outputs": [],
   "source": [
    "from keras import backend as K\n",
    "K.clear_session()"
   ]
  },
  {
   "cell_type": "code",
   "execution_count": null,
   "metadata": {},
   "outputs": [],
   "source": [
    "model = Sequential()\n",
    "model.add(layers.Embedding(max_features, 32))\n",
    "model.add(layers.Bidirectional(layers.LSTM(32)))\n",
    "model.add(layers.Dense(1, activation='sigmoid'))\n",
    "\n",
    "model.compile(optimizer='rmsprop', loss='binary_crossentropy', metrics=['acc'])\n",
    "history = model.fit(x_train, y_train, epochs=10, batch_size=128, validation_split=0.2)"
   ]
  },
  {
   "cell_type": "markdown",
   "metadata": {},
   "source": [
    "It performs slightly better than the regular LSTM we tried in the previous section, going above 88% validation accuracy. It also seems to \n",
    "overfit faster, which is unsurprising since a bidirectional layer has twice more parameters than a chronological LSTM. With some \n",
    "regularization, the bidirectional approach would likely be a strong performer on this task.\n",
    "\n",
    "Now let's try the same approach on the weather prediction task:"
   ]
  },
  {
   "cell_type": "code",
   "execution_count": null,
   "metadata": {},
   "outputs": [],
   "source": [
    "from keras.models import Sequential\n",
    "from keras import layers\n",
    "from keras.optimizers import RMSprop\n",
    "\n",
    "model = Sequential()\n",
    "model.add(layers.Bidirectional(\n",
    "    layers.GRU(32), input_shape=(None, float_data.shape[-1])))\n",
    "model.add(layers.Dense(1))\n",
    "\n",
    "model.compile(optimizer=RMSprop(), loss='mae')\n",
    "history = model.fit_generator(train_gen,\n",
    "                              steps_per_epoch=500,\n",
    "                              epochs=40,\n",
    "                              validation_data=val_gen,\n",
    "                              validation_steps=val_steps)"
   ]
  },
  {
   "cell_type": "markdown",
   "metadata": {},
   "source": [
    "\n",
    "It performs about as well as the regular GRU layer. It's easy to understand why: all of the predictive capacity must be coming from the \n",
    "chronological half of the network, since the anti-chronological half is known to be severely underperforming on this task (again, because \n",
    "the recent past matters much more than the distant past in this case)."
   ]
  },
  {
   "cell_type": "markdown",
   "metadata": {},
   "source": [
    "\n",
    "## Going even further\n",
    "\n",
    "At this stage, there are still many other things you could try in order to improve performance on our weather forecasting problem:\n",
    "\n",
    "* Adjust the number of units in each recurrent layer in the stacked setup. Our current choices are largely arbitrary and thus likely \n",
    "suboptimal.\n",
    "* Adjust the learning rate used by our `RMSprop` optimizer.\n",
    "* Try using `LSTM` layers instead of `GRU` layers.\n",
    "* Try using a bigger densely-connected regressor on top of the recurrent layers, i.e. a bigger `Dense` layer or even a stack of `Dense` \n",
    "layers.\n",
    "* Don't forget to eventually run the best performing models (in terms of validation MAE) on the test set! Least you start developing \n",
    "architectures that are overfitting to the validation set.   \n",
    "\n",
    "As usual: deep learning is more an art than a science, and while we can provide guidelines as to what is likely to work or not work on a \n",
    "given problem, ultimately every problem is unique and you will have to try and evaluate different strategies empirically. There is \n",
    "currently no theory that will tell you in advance precisely what you should do to optimally solve a problem. You must try and iterate.\n",
    "\n",
    "\n",
    "## Wrapping up\n",
    "\n",
    "Here's what you should take away from this section:\n",
    "\n",
    "* When approaching a new problem, \n",
    "it is good to first establish common sense baselines for your metric of choice. If you don't have a \n",
    "baseline to beat, you can't tell if you are making any real progress.\n",
    "* Try simple models before expensive ones, to justify the additional expense. Sometimes a simple model will turn out to be your best option.\n",
    "* On data where temporal ordering matters, recurrent networks are a great fit and easily outperform models that first flatten the temporal \n",
    "data.\n",
    "* To use dropout with recurrent networks, one should use a time-constant dropout mask and recurrent dropout mask. This is built into Keras \n",
    "recurrent layers, so all you have to do is use the `dropout` and `recurrent_dropout` arguments of recurrent layers.\n",
    "* Stacked RNNs provide more representational power than a single RNN layer. They are also much more expensive, and thus not always worth it. \n",
    "While they offer clear gains on complex problems (e.g. machine translation), they might not always be relevant to smaller, simpler problems.\n",
    "* Bidirectional RNNs, which look at a sequence both ways, are very useful on natural language processing problems. However, they will not \n",
    "be strong performers on sequence data where the recent past is much more informative than the beginning of the sequence.\n",
    "\n",
    "Note there are two important concepts that we will not cover in detail here: recurrent \"attention\", and sequence masking. Both tend to be \n",
    "especially relevant for natural language processing, and are not particularly applicable to our temperature forecasting problem. We will \n",
    "leave them for future study outside of this book."
   ]
  },
  {
   "cell_type": "code",
   "execution_count": null,
   "metadata": {},
   "outputs": [],
   "source": []
  }
 ],
 "metadata": {
  "kernelspec": {
   "display_name": "Python 3",
   "language": "python",
   "name": "python3"
  },
  "language_info": {
   "codemirror_mode": {
    "name": "ipython",
    "version": 3
   },
   "file_extension": ".py",
   "mimetype": "text/x-python",
   "name": "python",
   "nbconvert_exporter": "python",
   "pygments_lexer": "ipython3",
   "version": "3.6.6"
  }
 },
 "nbformat": 4,
 "nbformat_minor": 2
}
